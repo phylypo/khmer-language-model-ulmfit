{
  "nbformat": 4,
  "nbformat_minor": 0,
  "metadata": {
    "kernelspec": {
      "name": "python3",
      "display_name": "Python 3"
    },
    "language_info": {
      "codemirror_mode": {
        "name": "ipython",
        "version": 3
      },
      "file_extension": ".py",
      "mimetype": "text/x-python",
      "name": "python",
      "nbconvert_exporter": "python",
      "pygments_lexer": "ipython3",
      "version": "3.7.1"
    },
    "colab": {
      "name": "ULMFiT for Khmer.ipynb",
      "provenance": [],
      "collapsed_sections": [
        "iAHJ9EKnofXo",
        "HeEV7mTOvky6",
        "EsvF1u7TxhbO",
        "zR-BusKhZ5ad"
      ],
      "toc_visible": true,
      "include_colab_link": true
    },
    "accelerator": "GPU"
  },
  "cells": [
    {
      "cell_type": "markdown",
      "metadata": {
        "id": "view-in-github",
        "colab_type": "text"
      },
      "source": [
        "<a href=\"https://colab.research.google.com/github/phylypo/khmer-language-model-ulmfit/blob/master/ULMFiT_for_Khmer.ipynb\" target=\"_parent\"><img src=\"https://colab.research.google.com/assets/colab-badge.svg\" alt=\"Open In Colab\"/></a>"
      ]
    },
    {
      "cell_type": "markdown",
      "metadata": {
        "id": "cJWnfd4jrhs3",
        "colab_type": "text"
      },
      "source": [
        "## ULMFiT from scratch"
      ]
    },
    {
      "cell_type": "markdown",
      "metadata": {
        "id": "XKgknG8mJzKW",
        "colab_type": "text"
      },
      "source": [
        "### Setup"
      ]
    },
    {
      "cell_type": "code",
      "metadata": {
        "colab_type": "code",
        "outputId": "6a2aff00-2e15-49ac-bb1d-6fdc0c7d1408",
        "id": "q8TK_EQAq41p",
        "colab": {
          "base_uri": "https://localhost:8080/",
          "height": 34
        }
      },
      "source": [
        "# mount google drive, zip up the data and copy over\n",
        "from google.colab import drive\n",
        "drive.mount('/content/drive')"
      ],
      "execution_count": 2,
      "outputs": [
        {
          "output_type": "stream",
          "text": [
            "Drive already mounted at /content/drive; to attempt to forcibly remount, call drive.mount(\"/content/drive\", force_remount=True).\n"
          ],
          "name": "stdout"
        }
      ]
    },
    {
      "cell_type": "code",
      "metadata": {
        "id": "9zY672rVrhs5",
        "colab_type": "code",
        "colab": {}
      },
      "source": [
        "%reload_ext autoreload\n",
        "%autoreload 2\n",
        "%matplotlib inline\n",
        "\n",
        "from fastai import *\n",
        "from fastai.text import *"
      ],
      "execution_count": 0,
      "outputs": []
    },
    {
      "cell_type": "code",
      "metadata": {
        "id": "HugBzShyrhs8",
        "colab_type": "code",
        "colab": {}
      },
      "source": [
        "bs=48\n",
        "# bs=24"
      ],
      "execution_count": 0,
      "outputs": []
    },
    {
      "cell_type": "code",
      "metadata": {
        "id": "nZ35DIUArhtK",
        "colab_type": "code",
        "colab": {}
      },
      "source": [
        "torch.cuda.set_device(0)"
      ],
      "execution_count": 0,
      "outputs": []
    },
    {
      "cell_type": "code",
      "metadata": {
        "id": "atv9OI0mrhtM",
        "colab_type": "code",
        "colab": {}
      },
      "source": [
        "data_path = Config.data_path()"
      ],
      "execution_count": 0,
      "outputs": []
    },
    {
      "cell_type": "code",
      "metadata": {
        "id": "XGlEPqn3rhtP",
        "colab_type": "code",
        "colab": {}
      },
      "source": [
        "# km wikipedia has 7600 articles --only got 2487\n",
        "lang = 'km'"
      ],
      "execution_count": 0,
      "outputs": []
    },
    {
      "cell_type": "code",
      "metadata": {
        "id": "PrYc5mxwrhtR",
        "colab_type": "code",
        "colab": {}
      },
      "source": [
        "name = f'{lang}wiki'\n",
        "path = data_path/name\n",
        "path.mkdir(exist_ok=True, parents=True)\n",
        "lm_fns = [f'{lang}_wt', f'{lang}_wt_vocab']"
      ],
      "execution_count": 0,
      "outputs": []
    },
    {
      "cell_type": "code",
      "metadata": {
        "id": "O2jQg_Lctn40",
        "colab_type": "code",
        "outputId": "91ff3b01-7ca9-4499-99ab-20adba9eb3d0",
        "colab": {
          "base_uri": "https://localhost:8080/",
          "height": 52
        }
      },
      "source": [
        "import urllib.request\n",
        "url = \"https://raw.githubusercontent.com/fastai/course-nlp/master/nlputils.py\"\n",
        "print(\"Downloading from:\", url)\n",
        "urllib.request.urlretrieve(url, \"nlputils.py\")"
      ],
      "execution_count": 18,
      "outputs": [
        {
          "output_type": "stream",
          "text": [
            "Downloading from: https://raw.githubusercontent.com/fastai/course-nlp/master/nlputils.py\n"
          ],
          "name": "stdout"
        },
        {
          "output_type": "execute_result",
          "data": {
            "text/plain": [
              "('nlputils.py', <http.client.HTTPMessage at 0x7fe19a6b55c0>)"
            ]
          },
          "metadata": {
            "tags": []
          },
          "execution_count": 18
        }
      ]
    },
    {
      "cell_type": "markdown",
      "metadata": {
        "id": "iAHJ9EKnofXo",
        "colab_type": "text"
      },
      "source": [
        "### Install CRF"
      ]
    },
    {
      "cell_type": "code",
      "metadata": {
        "id": "TvJzcqdIvuK5",
        "colab_type": "code",
        "outputId": "1214f6af-467b-4406-ac05-812c59f2e4af",
        "colab": {
          "base_uri": "https://localhost:8080/"
        }
      },
      "source": [
        "# Character `!` in the beginning of the line indicates a shell command\n",
        "!pip install sklearn_crfsuite\n",
        "\n",
        "# import of the crf library\n",
        "import sklearn_crfsuite\n",
        "from sklearn_crfsuite import scorers\n",
        "from sklearn_crfsuite import metrics"
      ],
      "execution_count": 0,
      "outputs": [
        {
          "output_type": "stream",
          "text": [
            "Collecting sklearn_crfsuite\n",
            "  Downloading https://files.pythonhosted.org/packages/25/74/5b7befa513482e6dee1f3dd68171a6c9dfc14c0eaa00f885ffeba54fe9b0/sklearn_crfsuite-0.3.6-py2.py3-none-any.whl\n",
            "Collecting python-crfsuite>=0.8.3\n",
            "\u001b[?25l  Downloading https://files.pythonhosted.org/packages/2f/86/cfcd71edca9d25d3d331209a20f6314b6f3f134c29478f90559cee9ce091/python_crfsuite-0.9.6-cp36-cp36m-manylinux1_x86_64.whl (754kB)\n",
            "\u001b[K     |████████████████████████████████| 757kB 7.2MB/s \n",
            "\u001b[?25hRequirement already satisfied: tqdm>=2.0 in /usr/local/lib/python3.6/dist-packages (from sklearn_crfsuite) (4.28.1)\n",
            "Requirement already satisfied: tabulate in /usr/local/lib/python3.6/dist-packages (from sklearn_crfsuite) (0.8.6)\n",
            "Requirement already satisfied: six in /usr/local/lib/python3.6/dist-packages (from sklearn_crfsuite) (1.12.0)\n",
            "Installing collected packages: python-crfsuite, sklearn-crfsuite\n",
            "Successfully installed python-crfsuite-0.9.6 sklearn-crfsuite-0.3.6\n"
          ],
          "name": "stdout"
        }
      ]
    },
    {
      "cell_type": "code",
      "metadata": {
        "id": "KhXsJjJdvv7U",
        "colab_type": "code",
        "outputId": "04465df9-ab19-4530-b019-fa29d864f608",
        "colab": {
          "base_uri": "https://localhost:8080/"
        }
      },
      "source": [
        "import urllib.request\n",
        "file = 'sklearn_crf_model_90k-100i.sav'\n",
        "url = 'https://github.com/phylypo/segmentation-crf-khmer/blob/master/models/sklearn_crf_model_90k-100i.sav?raw=true'\n",
        "#file = 'sklearn_crf_model_100-100i.sav'\n",
        "#url = 'https://github.com/phylypo/segmentation-crf-khmer/blob/master/models/sklearn_crf_model_100-100i.sav?raw=true'\n",
        "print(\"new url\", url)\n",
        "urllib.request.urlretrieve(url, file)"
      ],
      "execution_count": 0,
      "outputs": [
        {
          "output_type": "stream",
          "text": [
            "new url https://github.com/phylypo/segmentation-crf-khmer/blob/master/models/sklearn_crf_model_90k-100i.sav?raw=true\n"
          ],
          "name": "stdout"
        },
        {
          "output_type": "execute_result",
          "data": {
            "text/plain": [
              "('sklearn_crf_model_90k-100i.sav', <http.client.HTTPMessage at 0x7ff42ad584a8>)"
            ]
          },
          "metadata": {
            "tags": []
          },
          "execution_count": 10
        }
      ]
    },
    {
      "cell_type": "markdown",
      "metadata": {
        "id": "TW0un2XbDJs2",
        "colab_type": "text"
      },
      "source": [
        "### CRF Setup"
      ]
    },
    {
      "cell_type": "code",
      "metadata": {
        "id": "lNT53zfoDa6S",
        "colab_type": "code",
        "cellView": "form",
        "outputId": "e7a1c1d4-6047-47a6-fe29-11b4e9a07f14",
        "colab": {
          "base_uri": "https://localhost:8080/",
          "height": 54
        }
      },
      "source": [
        "#@title Define KCC and feature generation\n",
        "# consonant and independent vowels\n",
        "KHCONST = set(u'កខគឃងចឆជឈញដឋឌឍណតថទធនបផពភមយរលវឝឞសហឡអឣឤឥឦឧឨឩឪឫឬឭឮឯឰឱឲឳ')\n",
        "KHVOWEL = set(u'឴឵ាិីឹឺុូួើឿៀេែៃោៅ\\u17c6\\u17c7\\u17c8')\n",
        "# subscript, diacritics\n",
        "KHSUB = set(u'្')\n",
        "KHDIAC = set(u\"\\u17c9\\u17ca\\u17cb\\u17cc\\u17cd\\u17ce\\u17cf\\u17d0\") #MUUSIKATOAN, TRIISAP, BANTOC,ROBAT,\n",
        "KHSYM = set('៕។៛ៗ៚៙៘')\n",
        "KHNUMBER = set(u'០១២៣៤៥៦៧៨៩0123456789') # remove 0123456789\n",
        "# lunar date:  U+19E0 to U+19FF ᧠...᧿\n",
        "KHLUNAR = set('᧠᧡᧢᧣᧤᧥᧦᧧᧨᧩᧪᧫᧬᧭᧮᧯᧰᧱᧲᧳᧴᧵᧶᧷᧸᧹᧺᧻᧼᧽᧾᧿')\n",
        "\n",
        "def is_khmer_char(ch):\n",
        "  if (ch >= '\\u1780') and (ch <= '\\u17ff'): return True\n",
        "  if ch in KHLUNAR: return True\n",
        "  return False\n",
        "\n",
        "def is_start_of_kcc(ch):\n",
        "  if is_khmer_char(ch):\n",
        "    if ch in KHCONST: return True\n",
        "    if ch in KHSYM: return True\n",
        "    if ch in KHNUMBER: return True\n",
        "    if ch in KHLUNAR: return True\n",
        "    return False\n",
        "  return True\n",
        "\n",
        "# kcc base\n",
        "def seg_kcc(str_sentence):\n",
        "    str_sentence = str_sentence.replace(u'\\u200b','')\n",
        "    segs = []\n",
        "    cur = \"\"\n",
        "    for phr in str_sentence.split(' '):\n",
        "        #print(\"PHR:[%s] len:%d\" %(phr, len(phr)))\n",
        "        for i,c in enumerate(phr):\n",
        "            #print(i,\" c:\", c)\n",
        "            cur += c\n",
        "            nextchar = phr[i+1] if (i+1 < len(phr)) else \"\"\n",
        "            \n",
        "            # cluster non-khmer chars together\n",
        "            if not is_khmer_char(c) and nextchar != \"\" and not is_khmer_char(nextchar): continue\n",
        "            # cluster number together\n",
        "            if c in KHNUMBER and nextchar in KHNUMBER: continue\n",
        "              \n",
        "            # cluster non-khmer together\n",
        "            # non-khmer character has no cluster\n",
        "            if not is_khmer_char(c) or nextchar==\"\":\n",
        "                segs.append(cur)\n",
        "                cur=\"\"\n",
        "            elif is_start_of_kcc(nextchar) and not (c in KHSUB):\n",
        "                segs.append(cur)\n",
        "                cur=\"\"          \n",
        "    return segs\n",
        "\n",
        "# testing some text\n",
        "t1 = \"យោងតាមប្រភពព័ត៌មានបានឱ្យដឹងថា កាលពីពេលថ្មីៗនេះក្រុមចក្រភពអង់គ្លេស Royal Marines ដែលមានមូលដ្ឋាននៅ Gibraltar បានរឹបអូសយកនាវាដឹកប្រេងឆៅរបស់អ៊ីរ៉ង់ដែលធ្វើដំណើរទៅកាន់រោងចក្រចម្រាញ់ប្រេងនៅក្នុងប្រទេសស៊ីរី ដោយក្រុងឡុងដ៍អះអាងថា ការរឹបអូសត្រូវបានគេសំដៅអនុវត្ត៕\"\n",
        "t2 = \"This is a test.\"\n",
        "t3 = \"នៅរសៀលថ្ងៃទី២២ ខែ កក្កដា ឆ្នាំ២០១៩ ឯកឧត្តម គួច ចំរើន អភិបាលខេត្តព្រះសីហនុ\"\n",
        "print(\"kcc:\", seg_kcc(t1))"
      ],
      "execution_count": 0,
      "outputs": [
        {
          "output_type": "stream",
          "text": [
            "kcc: ['យោ', 'ង', 'តា', 'ម', 'ប្រ', 'ភ', 'ព', 'ព័', 'ត៌', 'មា', 'ន', 'បា', 'ន', 'ឱ្យ', 'ដឹ', 'ង', 'ថា', 'កា', 'ល', 'ពី', 'ពេ', 'ល', 'ថ្មី', 'ៗ', 'នេះ', 'ក្រុ', 'ម', 'ច', 'ក្រ', 'ភ', 'ព', 'អ', 'ង់', 'គ្លេ', 'ស', 'Royal', 'Marines', 'ដែ', 'ល', 'មា', 'ន', 'មូ', 'ល', 'ដ្ឋា', 'ន', 'នៅ', 'Gibraltar', 'បា', 'ន', 'រឹ', 'ប', 'អូ', 'ស', 'យ', 'ក', 'នា', 'វា', 'ដឹ', 'ក', 'ប្រេ', 'ង', 'ឆៅ', 'រ', 'ប', 'ស់', 'អ៊ី', 'រ៉', 'ង់', 'ដែ', 'ល', 'ធ្វើ', 'ដំ', 'ណើ', 'រ', 'ទៅ', 'កា', 'ន់', 'រោ', 'ង', 'ច', 'ក្រ', 'ច', 'ម្រា', 'ញ់', 'ប្រេ', 'ង', 'នៅ', 'ក្នុ', 'ង', 'ប្រ', 'ទេ', 'ស', 'ស៊ី', 'រី', 'ដោ', 'យ', 'ក្រុ', 'ង', 'ឡុ', 'ង', 'ដ៍', 'អះ', 'អា', 'ង', 'ថា', 'កា', 'រ', 'រឹ', 'ប', 'អូ', 'ស', 'ត្រូ', 'វ', 'បា', 'ន', 'គេ', 'សំ', 'ដៅ', 'អ', 'នុ', 'វ', 'ត្ត', '៕']\n"
          ],
          "name": "stdout"
        }
      ]
    },
    {
      "cell_type": "code",
      "metadata": {
        "id": "dB1acBk4DMYC",
        "colab_type": "code",
        "outputId": "fbb83957-937c-4c07-eebb-c9037e8d4b58",
        "colab": {
          "base_uri": "https://localhost:8080/",
          "height": 71
        }
      },
      "source": [
        "# generate list of (word, label), not splitting into phrases, just remove spaces\n",
        "def gen_kcc_with_label(sentence):\n",
        "    words = sentence.split()\n",
        "    final_kccs = []\n",
        "    for word in words:\n",
        "        kccs = seg_kcc(word)\n",
        "        labels = [1 if (i==0) else 0 for i, k in enumerate(kccs)]\n",
        "        final_kccs.extend(list(zip(kccs,labels)))\n",
        "    return final_kccs\n",
        "\n",
        "# test label\n",
        "ts = \"This is a test\"\n",
        "ts = \"នៅ រសៀល ថ្ងៃ ទី ២២ ខែ កក្កដា ឆ្នាំ ២០១៩ ។\"\n",
        "kccs = seg_kcc(ts)\n",
        "kl = gen_kcc_with_label(ts)\n",
        "print(\"len of kcc:\", len(kccs), \" data:\", kccs)\n",
        "print(\"kcc with label len:\", len(kl), \" data:\", kl)"
      ],
      "execution_count": 0,
      "outputs": [
        {
          "output_type": "stream",
          "text": [
            "len of kcc: 14  data: ['នៅ', 'រ', 'សៀ', 'ល', 'ថ្ងៃ', 'ទី', '២២', 'ខែ', 'ក', 'ក្ក', 'ដា', 'ឆ្នាំ', '២០១៩', '។']\n",
            "kcc with label len: 14  data: [('នៅ', 1), ('រ', 1), ('សៀ', 0), ('ល', 0), ('ថ្ងៃ', 1), ('ទី', 1), ('២២', 1), ('ខែ', 1), ('ក', 1), ('ក្ក', 0), ('ដា', 0), ('ឆ្នាំ', 1), ('២០១៩', 1), ('។', 1)]\n"
          ],
          "name": "stdout"
        }
      ]
    },
    {
      "cell_type": "code",
      "metadata": {
        "id": "wU70MHajDogW",
        "colab_type": "code",
        "cellView": "form",
        "outputId": "613fc461-2828-444d-900b-8901eb22566c",
        "colab": {
          "base_uri": "https://localhost:8080/",
          "height": 119
        }
      },
      "source": [
        "#@title Define char type\n",
        "\n",
        "EN = set(u'abcdefghijklmnopqrstuvwxyz0123456789')\n",
        "\n",
        "# E=English, C=Consonant, W=wowel, N=number, O=Other, S=subcript, D=Diacritic, NS=no_space\n",
        "# roll up to: NS, C, W, S, D\n",
        "NS = 'NS'\n",
        "def get_type(chr):\n",
        "  if chr.lower() in EN: return \"NS\"\n",
        "  if chr in KHCONST: return \"C\"\n",
        "  if chr in KHVOWEL: return \"W\"\n",
        "  if chr in KHNUMBER: return \"NS\"\n",
        "  if chr in KHSUB: return \"S\"\n",
        "  if chr in KHDIAC: return \"D\"\n",
        "  return \"NS\" #not U - same as N\n",
        "\n",
        "# non-khmer character that we should not separate like number\n",
        "# multiple characters are false\n",
        "def is_no_space(k):\n",
        "  if len(k) > 1: return False\n",
        "  if get_type(k)==NS: return True\n",
        "  return False\n",
        "\n",
        "def kcc_type(k):\n",
        "  if len(k)==1: return get_type(k)\n",
        "  else: return \"K\" + str(len(k))\n",
        "\n",
        "print(\"kcc_type for u'\\u17cb'\", kcc_type(u'\\u17cb'))\n",
        "print(\"kcc_type for u'A'\", kcc_type('A'))\n",
        "print(\"kcc_type for u'២'\", kcc_type('២'))\n",
        "print(\"kcc_type for 'ថ្ងៃ'\", kcc_type('ថ្ងៃ'))\n",
        "print(\"is NS for 'A':\", is_no_space(\"A\"))\n",
        "print(\"is NS for 'ថ្ងៃ':\", is_no_space('ថ្ងៃ'))"
      ],
      "execution_count": 0,
      "outputs": [
        {
          "output_type": "stream",
          "text": [
            "kcc_type for u'់' D\n",
            "kcc_type for u'A' NS\n",
            "kcc_type for u'២' NS\n",
            "kcc_type for 'ថ្ងៃ' K4\n",
            "is NS for 'A': True\n",
            "is NS for 'ថ្ងៃ': False\n"
          ],
          "name": "stdout"
        }
      ]
    },
    {
      "cell_type": "code",
      "metadata": {
        "id": "_thMAaf-Dueb",
        "colab_type": "code",
        "cellView": "form",
        "outputId": "c3b79989-ded0-463a-f276-d70d49737e73",
        "colab": {
          "base_uri": "https://localhost:8080/",
          "height": 105
        }
      },
      "source": [
        "#@title Define CRF features\n",
        "# only pass in kccs list (without labels)\n",
        "def kcc_to_features(kccs, i):\n",
        "    maxi = len(kccs)\n",
        "    kcc = kccs[i]\n",
        "\n",
        "    features = {\n",
        "        #'bias': 1.0,\n",
        "        'kcc': kcc,\n",
        "        't': kcc_type(kcc),\n",
        "        'ns': is_no_space(kcc)\n",
        "    }\n",
        "    if i >= 1:\n",
        "        features.update({\n",
        "            'kcc[-1]'  : kccs[i-1],\n",
        "            'kcc[-1]t' : kcc_type(kccs[i-1]),\n",
        "            'kcc[-1:0]': kccs[i-1] + kccs[i],\n",
        "            'ns-1' : is_no_space(kccs[i-1])\n",
        "        })\n",
        "    else:\n",
        "        features['BOS'] = True\n",
        "\n",
        "    if i >= 2:\n",
        "        features.update({\n",
        "            'kcc[-2]'   : kccs[i-2],\n",
        "            'kcc[-2]t'  : kcc_type(kccs[i-2]),\n",
        "            'kcc[-2:-1]': kccs[i-2] + kccs[i-1],\n",
        "            'kcc[-2:0]' : kccs[i-2] + kccs[i-1] + kccs[i],\n",
        "        })\n",
        "    if i >= 3:\n",
        "        features.update({\n",
        "            'kcc[-3]'   : kccs[i-3],\n",
        "            'kcc[-3]t'  : kcc_type(kccs[i-3]),\n",
        "            'kcc[-3:0]' : kccs[i-3] + kccs[i-2] + kccs[i-1] + kccs[i],\n",
        "            'kcc[-3:-1]': kccs[i-3] + kccs[i-2] + kccs[i-1],\n",
        "            'kcc[-3:-2]': kccs[i-3] + kccs[i-2],\n",
        "        })\n",
        "\n",
        "    if i < maxi-1:\n",
        "        features.update({\n",
        "            'kcc[+1]'  : kccs[i+1],\n",
        "            'kcc[+1]t'  : kcc_type(kccs[i+1]),\n",
        "            'kcc[+1:0]': kccs[i] + kccs[i+1],\n",
        "            'ns+1' : is_no_space(kccs[i+1])\n",
        "\n",
        "        })\n",
        "    else:\n",
        "        features['EOS'] = True\n",
        "\n",
        "    if i < maxi-2:\n",
        "        features.update({\n",
        "            'kcc[+2]'   : kccs[i+2],\n",
        "            'kcc[+2]t'   : kcc_type(kccs[i+2]),\n",
        "            'kcc[+1:+2]': kccs[i+1] + kccs[i+2],\n",
        "            'kcc[0:+2]' : kccs[i+0] + kccs[i+1] + kccs[i+2],\n",
        "            'ns+2' : is_no_space(kccs[i+2])\n",
        "        })\n",
        "    if i < maxi-3:\n",
        "        features.update({\n",
        "            'kcc[+3]'   : kccs[i+3],\n",
        "            'kcc[+3]t'   : kcc_type(kccs[i+3]),\n",
        "            'kcc[+2:+3]': kccs[i+2] + kccs[i+3],\n",
        "            'kcc[+1:+3]': kccs[i+1] + kccs[i+2] + kccs[i+3],\n",
        "            'kcc[0:+3]' : kccs[i+0] + kccs[i+1] + kccs[i+2] + kccs[i+3],\n",
        "        })\n",
        "\n",
        "    return features\n",
        "\n",
        "def generate_kccs_label_per_phrase(sentence):\n",
        "    phrases = sentence.split()\n",
        "    print(\"prep_kcc_labels -- number of phrases:\", len(phrases))\n",
        "    final_kccs = []\n",
        "    for phrase in phrases:\n",
        "        kccs = seg_kcc(phrase)\n",
        "        labels = [1 if (i==0) else 0 for i, k in enumerate(kccs)]\n",
        "        final_kccs.extend(list(zip(kccs,labels)))\n",
        "    return final_kccs\n",
        "\n",
        "def create_kcc_features(kccs):\n",
        "    return [kcc_to_features(kccs, i) for i in range(len(kccs))]\n",
        "\n",
        "# take label in second element from kcc with label\n",
        "def create_labels_from_kccs(kccs_label):\n",
        "    return [str(part[1]) for part in kccs_label]\n",
        "\n",
        "# test\n",
        "ts = \"នៅ រសៀល ថ្ងៃ ទី ២២ ខែ កក្កដា ឆ្នាំ ២០១៩ ។\"\n",
        "kccs = seg_kcc(ts)\n",
        "kccs_label = gen_kcc_with_label(ts) # only need for training\n",
        "print(\"kcc with label:\", kccs_label )\n",
        "print(\"format features:\", create_kcc_features(kccs))\n",
        "print(\"create labels:\", create_labels_from_kccs(kccs_label))\n",
        "print(\"create labels:\", create_kcc_features(seg_kcc(\"NS123\")))"
      ],
      "execution_count": 0,
      "outputs": [
        {
          "output_type": "stream",
          "text": [
            "kcc with label: [('នៅ', 1), ('រ', 1), ('សៀ', 0), ('ល', 0), ('ថ្ងៃ', 1), ('ទី', 1), ('២២', 1), ('ខែ', 1), ('ក', 1), ('ក្ក', 0), ('ដា', 0), ('ឆ្នាំ', 1), ('២០១៩', 1), ('។', 1)]\n",
            "format features: [{'kcc': 'នៅ', 't': 'K2', 'ns': False, 'BOS': True, 'kcc[+1]': 'រ', 'kcc[+1]t': 'C', 'kcc[+1:0]': 'នៅរ', 'ns+1': False, 'kcc[+2]': 'សៀ', 'kcc[+2]t': 'K2', 'kcc[+1:+2]': 'រសៀ', 'kcc[0:+2]': 'នៅរសៀ', 'ns+2': False, 'kcc[+3]': 'ល', 'kcc[+3]t': 'C', 'kcc[+2:+3]': 'សៀល', 'kcc[+1:+3]': 'រសៀល', 'kcc[0:+3]': 'នៅរសៀល'}, {'kcc': 'រ', 't': 'C', 'ns': False, 'kcc[-1]': 'នៅ', 'kcc[-1]t': 'K2', 'kcc[-1:0]': 'នៅរ', 'ns-1': False, 'kcc[+1]': 'សៀ', 'kcc[+1]t': 'K2', 'kcc[+1:0]': 'រសៀ', 'ns+1': False, 'kcc[+2]': 'ល', 'kcc[+2]t': 'C', 'kcc[+1:+2]': 'សៀល', 'kcc[0:+2]': 'រសៀល', 'ns+2': False, 'kcc[+3]': 'ថ្ងៃ', 'kcc[+3]t': 'K4', 'kcc[+2:+3]': 'លថ្ងៃ', 'kcc[+1:+3]': 'សៀលថ្ងៃ', 'kcc[0:+3]': 'រសៀលថ្ងៃ'}, {'kcc': 'សៀ', 't': 'K2', 'ns': False, 'kcc[-1]': 'រ', 'kcc[-1]t': 'C', 'kcc[-1:0]': 'រសៀ', 'ns-1': False, 'kcc[-2]': 'នៅ', 'kcc[-2]t': 'K2', 'kcc[-2:-1]': 'នៅរ', 'kcc[-2:0]': 'នៅរសៀ', 'kcc[+1]': 'ល', 'kcc[+1]t': 'C', 'kcc[+1:0]': 'សៀល', 'ns+1': False, 'kcc[+2]': 'ថ្ងៃ', 'kcc[+2]t': 'K4', 'kcc[+1:+2]': 'លថ្ងៃ', 'kcc[0:+2]': 'សៀលថ្ងៃ', 'ns+2': False, 'kcc[+3]': 'ទី', 'kcc[+3]t': 'K2', 'kcc[+2:+3]': 'ថ្ងៃទី', 'kcc[+1:+3]': 'លថ្ងៃទី', 'kcc[0:+3]': 'សៀលថ្ងៃទី'}, {'kcc': 'ល', 't': 'C', 'ns': False, 'kcc[-1]': 'សៀ', 'kcc[-1]t': 'K2', 'kcc[-1:0]': 'សៀល', 'ns-1': False, 'kcc[-2]': 'រ', 'kcc[-2]t': 'C', 'kcc[-2:-1]': 'រសៀ', 'kcc[-2:0]': 'រសៀល', 'kcc[-3]': 'នៅ', 'kcc[-3]t': 'K2', 'kcc[-3:0]': 'នៅរសៀល', 'kcc[-3:-1]': 'នៅរសៀ', 'kcc[-3:-2]': 'នៅរ', 'kcc[+1]': 'ថ្ងៃ', 'kcc[+1]t': 'K4', 'kcc[+1:0]': 'លថ្ងៃ', 'ns+1': False, 'kcc[+2]': 'ទី', 'kcc[+2]t': 'K2', 'kcc[+1:+2]': 'ថ្ងៃទី', 'kcc[0:+2]': 'លថ្ងៃទី', 'ns+2': False, 'kcc[+3]': '២២', 'kcc[+3]t': 'K2', 'kcc[+2:+3]': 'ទី២២', 'kcc[+1:+3]': 'ថ្ងៃទី២២', 'kcc[0:+3]': 'លថ្ងៃទី២២'}, {'kcc': 'ថ្ងៃ', 't': 'K4', 'ns': False, 'kcc[-1]': 'ល', 'kcc[-1]t': 'C', 'kcc[-1:0]': 'លថ្ងៃ', 'ns-1': False, 'kcc[-2]': 'សៀ', 'kcc[-2]t': 'K2', 'kcc[-2:-1]': 'សៀល', 'kcc[-2:0]': 'សៀលថ្ងៃ', 'kcc[-3]': 'រ', 'kcc[-3]t': 'C', 'kcc[-3:0]': 'រសៀលថ្ងៃ', 'kcc[-3:-1]': 'រសៀល', 'kcc[-3:-2]': 'រសៀ', 'kcc[+1]': 'ទី', 'kcc[+1]t': 'K2', 'kcc[+1:0]': 'ថ្ងៃទី', 'ns+1': False, 'kcc[+2]': '២២', 'kcc[+2]t': 'K2', 'kcc[+1:+2]': 'ទី២២', 'kcc[0:+2]': 'ថ្ងៃទី២២', 'ns+2': False, 'kcc[+3]': 'ខែ', 'kcc[+3]t': 'K2', 'kcc[+2:+3]': '២២ខែ', 'kcc[+1:+3]': 'ទី២២ខែ', 'kcc[0:+3]': 'ថ្ងៃទី២២ខែ'}, {'kcc': 'ទី', 't': 'K2', 'ns': False, 'kcc[-1]': 'ថ្ងៃ', 'kcc[-1]t': 'K4', 'kcc[-1:0]': 'ថ្ងៃទី', 'ns-1': False, 'kcc[-2]': 'ល', 'kcc[-2]t': 'C', 'kcc[-2:-1]': 'លថ្ងៃ', 'kcc[-2:0]': 'លថ្ងៃទី', 'kcc[-3]': 'សៀ', 'kcc[-3]t': 'K2', 'kcc[-3:0]': 'សៀលថ្ងៃទី', 'kcc[-3:-1]': 'សៀលថ្ងៃ', 'kcc[-3:-2]': 'សៀល', 'kcc[+1]': '២២', 'kcc[+1]t': 'K2', 'kcc[+1:0]': 'ទី២២', 'ns+1': False, 'kcc[+2]': 'ខែ', 'kcc[+2]t': 'K2', 'kcc[+1:+2]': '២២ខែ', 'kcc[0:+2]': 'ទី២២ខែ', 'ns+2': False, 'kcc[+3]': 'ក', 'kcc[+3]t': 'C', 'kcc[+2:+3]': 'ខែក', 'kcc[+1:+3]': '២២ខែក', 'kcc[0:+3]': 'ទី២២ខែក'}, {'kcc': '២២', 't': 'K2', 'ns': False, 'kcc[-1]': 'ទី', 'kcc[-1]t': 'K2', 'kcc[-1:0]': 'ទី២២', 'ns-1': False, 'kcc[-2]': 'ថ្ងៃ', 'kcc[-2]t': 'K4', 'kcc[-2:-1]': 'ថ្ងៃទី', 'kcc[-2:0]': 'ថ្ងៃទី២២', 'kcc[-3]': 'ល', 'kcc[-3]t': 'C', 'kcc[-3:0]': 'លថ្ងៃទី២២', 'kcc[-3:-1]': 'លថ្ងៃទី', 'kcc[-3:-2]': 'លថ្ងៃ', 'kcc[+1]': 'ខែ', 'kcc[+1]t': 'K2', 'kcc[+1:0]': '២២ខែ', 'ns+1': False, 'kcc[+2]': 'ក', 'kcc[+2]t': 'C', 'kcc[+1:+2]': 'ខែក', 'kcc[0:+2]': '២២ខែក', 'ns+2': False, 'kcc[+3]': 'ក្ក', 'kcc[+3]t': 'K3', 'kcc[+2:+3]': 'កក្ក', 'kcc[+1:+3]': 'ខែកក្ក', 'kcc[0:+3]': '២២ខែកក្ក'}, {'kcc': 'ខែ', 't': 'K2', 'ns': False, 'kcc[-1]': '២២', 'kcc[-1]t': 'K2', 'kcc[-1:0]': '២២ខែ', 'ns-1': False, 'kcc[-2]': 'ទី', 'kcc[-2]t': 'K2', 'kcc[-2:-1]': 'ទី២២', 'kcc[-2:0]': 'ទី២២ខែ', 'kcc[-3]': 'ថ្ងៃ', 'kcc[-3]t': 'K4', 'kcc[-3:0]': 'ថ្ងៃទី២២ខែ', 'kcc[-3:-1]': 'ថ្ងៃទី២២', 'kcc[-3:-2]': 'ថ្ងៃទី', 'kcc[+1]': 'ក', 'kcc[+1]t': 'C', 'kcc[+1:0]': 'ខែក', 'ns+1': False, 'kcc[+2]': 'ក្ក', 'kcc[+2]t': 'K3', 'kcc[+1:+2]': 'កក្ក', 'kcc[0:+2]': 'ខែកក្ក', 'ns+2': False, 'kcc[+3]': 'ដា', 'kcc[+3]t': 'K2', 'kcc[+2:+3]': 'ក្កដា', 'kcc[+1:+3]': 'កក្កដា', 'kcc[0:+3]': 'ខែកក្កដា'}, {'kcc': 'ក', 't': 'C', 'ns': False, 'kcc[-1]': 'ខែ', 'kcc[-1]t': 'K2', 'kcc[-1:0]': 'ខែក', 'ns-1': False, 'kcc[-2]': '២២', 'kcc[-2]t': 'K2', 'kcc[-2:-1]': '២២ខែ', 'kcc[-2:0]': '២២ខែក', 'kcc[-3]': 'ទី', 'kcc[-3]t': 'K2', 'kcc[-3:0]': 'ទី២២ខែក', 'kcc[-3:-1]': 'ទី២២ខែ', 'kcc[-3:-2]': 'ទី២២', 'kcc[+1]': 'ក្ក', 'kcc[+1]t': 'K3', 'kcc[+1:0]': 'កក្ក', 'ns+1': False, 'kcc[+2]': 'ដា', 'kcc[+2]t': 'K2', 'kcc[+1:+2]': 'ក្កដា', 'kcc[0:+2]': 'កក្កដា', 'ns+2': False, 'kcc[+3]': 'ឆ្នាំ', 'kcc[+3]t': 'K5', 'kcc[+2:+3]': 'ដាឆ្នាំ', 'kcc[+1:+3]': 'ក្កដាឆ្នាំ', 'kcc[0:+3]': 'កក្កដាឆ្នាំ'}, {'kcc': 'ក្ក', 't': 'K3', 'ns': False, 'kcc[-1]': 'ក', 'kcc[-1]t': 'C', 'kcc[-1:0]': 'កក្ក', 'ns-1': False, 'kcc[-2]': 'ខែ', 'kcc[-2]t': 'K2', 'kcc[-2:-1]': 'ខែក', 'kcc[-2:0]': 'ខែកក្ក', 'kcc[-3]': '២២', 'kcc[-3]t': 'K2', 'kcc[-3:0]': '២២ខែកក្ក', 'kcc[-3:-1]': '២២ខែក', 'kcc[-3:-2]': '២២ខែ', 'kcc[+1]': 'ដា', 'kcc[+1]t': 'K2', 'kcc[+1:0]': 'ក្កដា', 'ns+1': False, 'kcc[+2]': 'ឆ្នាំ', 'kcc[+2]t': 'K5', 'kcc[+1:+2]': 'ដាឆ្នាំ', 'kcc[0:+2]': 'ក្កដាឆ្នាំ', 'ns+2': False, 'kcc[+3]': '២០១៩', 'kcc[+3]t': 'K4', 'kcc[+2:+3]': 'ឆ្នាំ២០១៩', 'kcc[+1:+3]': 'ដាឆ្នាំ២០១៩', 'kcc[0:+3]': 'ក្កដាឆ្នាំ២០១៩'}, {'kcc': 'ដា', 't': 'K2', 'ns': False, 'kcc[-1]': 'ក្ក', 'kcc[-1]t': 'K3', 'kcc[-1:0]': 'ក្កដា', 'ns-1': False, 'kcc[-2]': 'ក', 'kcc[-2]t': 'C', 'kcc[-2:-1]': 'កក្ក', 'kcc[-2:0]': 'កក្កដា', 'kcc[-3]': 'ខែ', 'kcc[-3]t': 'K2', 'kcc[-3:0]': 'ខែកក្កដា', 'kcc[-3:-1]': 'ខែកក្ក', 'kcc[-3:-2]': 'ខែក', 'kcc[+1]': 'ឆ្នាំ', 'kcc[+1]t': 'K5', 'kcc[+1:0]': 'ដាឆ្នាំ', 'ns+1': False, 'kcc[+2]': '២០១៩', 'kcc[+2]t': 'K4', 'kcc[+1:+2]': 'ឆ្នាំ២០១៩', 'kcc[0:+2]': 'ដាឆ្នាំ២០១៩', 'ns+2': False, 'kcc[+3]': '។', 'kcc[+3]t': 'NS', 'kcc[+2:+3]': '២០១៩។', 'kcc[+1:+3]': 'ឆ្នាំ២០១៩។', 'kcc[0:+3]': 'ដាឆ្នាំ២០១៩។'}, {'kcc': 'ឆ្នាំ', 't': 'K5', 'ns': False, 'kcc[-1]': 'ដា', 'kcc[-1]t': 'K2', 'kcc[-1:0]': 'ដាឆ្នាំ', 'ns-1': False, 'kcc[-2]': 'ក្ក', 'kcc[-2]t': 'K3', 'kcc[-2:-1]': 'ក្កដា', 'kcc[-2:0]': 'ក្កដាឆ្នាំ', 'kcc[-3]': 'ក', 'kcc[-3]t': 'C', 'kcc[-3:0]': 'កក្កដាឆ្នាំ', 'kcc[-3:-1]': 'កក្កដា', 'kcc[-3:-2]': 'កក្ក', 'kcc[+1]': '២០១៩', 'kcc[+1]t': 'K4', 'kcc[+1:0]': 'ឆ្នាំ២០១៩', 'ns+1': False, 'kcc[+2]': '។', 'kcc[+2]t': 'NS', 'kcc[+1:+2]': '២០១៩។', 'kcc[0:+2]': 'ឆ្នាំ២០១៩។', 'ns+2': True}, {'kcc': '២០១៩', 't': 'K4', 'ns': False, 'kcc[-1]': 'ឆ្នាំ', 'kcc[-1]t': 'K5', 'kcc[-1:0]': 'ឆ្នាំ២០១៩', 'ns-1': False, 'kcc[-2]': 'ដា', 'kcc[-2]t': 'K2', 'kcc[-2:-1]': 'ដាឆ្នាំ', 'kcc[-2:0]': 'ដាឆ្នាំ២០១៩', 'kcc[-3]': 'ក្ក', 'kcc[-3]t': 'K3', 'kcc[-3:0]': 'ក្កដាឆ្នាំ២០១៩', 'kcc[-3:-1]': 'ក្កដាឆ្នាំ', 'kcc[-3:-2]': 'ក្កដា', 'kcc[+1]': '។', 'kcc[+1]t': 'NS', 'kcc[+1:0]': '២០១៩។', 'ns+1': True}, {'kcc': '។', 't': 'NS', 'ns': True, 'kcc[-1]': '២០១៩', 'kcc[-1]t': 'K4', 'kcc[-1:0]': '២០១៩។', 'ns-1': False, 'kcc[-2]': 'ឆ្នាំ', 'kcc[-2]t': 'K5', 'kcc[-2:-1]': 'ឆ្នាំ២០១៩', 'kcc[-2:0]': 'ឆ្នាំ២០១៩។', 'kcc[-3]': 'ដា', 'kcc[-3]t': 'K2', 'kcc[-3:0]': 'ដាឆ្នាំ២០១៩។', 'kcc[-3:-1]': 'ដាឆ្នាំ២០១៩', 'kcc[-3:-2]': 'ដាឆ្នាំ', 'EOS': True}]\n",
            "create labels: ['1', '1', '0', '0', '1', '1', '1', '1', '1', '0', '0', '1', '1', '1']\n",
            "create labels: [{'kcc': 'NS123', 't': 'K5', 'ns': False, 'BOS': True, 'EOS': True}]\n"
          ],
          "name": "stdout"
        }
      ]
    },
    {
      "cell_type": "code",
      "metadata": {
        "id": "FZuzNOjLyCP3",
        "colab_type": "code",
        "colab": {}
      },
      "source": [
        "# load the model from disk\n",
        "loaded_model = pickle.load(open(file, 'rb'))\n"
      ],
      "execution_count": 0,
      "outputs": []
    },
    {
      "cell_type": "code",
      "metadata": {
        "id": "sh932UmiEIie",
        "colab_type": "code",
        "outputId": "1e75afbc-80b2-4bca-ffcd-68063a0c7de3",
        "colab": {
          "base_uri": "https://localhost:8080/",
          "height": 139
        }
      },
      "source": [
        "# Create KCC using phrase, but pass in the whole sentence to CRF\n",
        "def segment_kcc_phrase(sentence):\n",
        "  complete = \"\"\n",
        "  sentence = sentence.replace(u'\\u200b','')\n",
        "  for ph in sentence.split():\n",
        "    kccs = seg_kcc(ph)\n",
        "\n",
        "    features = create_kcc_features(kccs)\n",
        "    prediction = loaded_model.predict([features])\n",
        "    for i, p in enumerate(prediction[0]):\n",
        "        if p == \"1\":\n",
        "            complete += \" \" + kccs[i]\n",
        "        else:\n",
        "            complete += kccs[i]\n",
        "    complete += \" \"\n",
        "  complete=complete.strip()  \n",
        "  return complete\n",
        "\n",
        "#testing call  \n",
        "t = \"ចំណែកជើងទី២២២២ នឹងត្រូវធ្វើឡើងឯប្រទេសកាតា៕\\nពួកគាត់តវ៉ាប្ដឹងទៅមេឃុំចៅវ៉ាយស្រុកជាច្រើនលើកដែរ ។\"\n",
        "t_correct = \"ចំណែក ជើង ទី ២២២២ នឹង ត្រូវ ធ្វើឡើង ឯ ប្រទេស កាតា ៕\\nពួកគាត់ ត វ៉ាប្ដឹង ទៅ មេឃុំ ចៅវ៉ាយ ស្រុក ជាច្រើន លើក ដែរ ។ \"\n",
        "skcc = seg_kcc(t)\n",
        "print(\"len kcc:\", len(skcc), skcc)\n",
        "features = create_kcc_features(skcc)\n",
        "features = [features]\n",
        "print(\"features:\", features)\n",
        "print(\"\\npredict seg:\", loaded_model.predict(features))\n",
        "print(\"\\nseg:\", segment_kcc_phrase(t))\n"
      ],
      "execution_count": 0,
      "outputs": [
        {
          "output_type": "stream",
          "text": [
            "len kcc: 46 ['ចំ', 'ណែ', 'ក', 'ជើ', 'ង', 'ទី', '២២២២', 'នឹ', 'ង', 'ត្រូ', 'វ', 'ធ្វើ', 'ឡើ', 'ង', 'ឯ', 'ប្រ', 'ទេ', 'ស', 'កា', 'តា', '៕', '\\n', 'ពួ', 'ក', 'គា', 'ត់', 'ត', 'វ៉ា', 'ប្ដឹ', 'ង', 'ទៅ', 'មេ', 'ឃុំ', 'ចៅ', 'វ៉ា', 'យ', 'ស្រុ', 'ក', 'ជា', 'ច្រើ', 'ន', 'លើ', 'ក', 'ដែ', 'រ', '។']\n",
            "features: [[{'kcc': 'ចំ', 't': 'K2', 'ns': False, 'BOS': True, 'kcc[+1]': 'ណែ', 'kcc[+1]t': 'K2', 'kcc[+1:0]': 'ចំណែ', 'ns+1': False, 'kcc[+2]': 'ក', 'kcc[+2]t': 'C', 'kcc[+1:+2]': 'ណែក', 'kcc[0:+2]': 'ចំណែក', 'ns+2': False, 'kcc[+3]': 'ជើ', 'kcc[+3]t': 'K2', 'kcc[+2:+3]': 'កជើ', 'kcc[+1:+3]': 'ណែកជើ', 'kcc[0:+3]': 'ចំណែកជើ'}, {'kcc': 'ណែ', 't': 'K2', 'ns': False, 'kcc[-1]': 'ចំ', 'kcc[-1]t': 'K2', 'kcc[-1:0]': 'ចំណែ', 'ns-1': False, 'kcc[+1]': 'ក', 'kcc[+1]t': 'C', 'kcc[+1:0]': 'ណែក', 'ns+1': False, 'kcc[+2]': 'ជើ', 'kcc[+2]t': 'K2', 'kcc[+1:+2]': 'កជើ', 'kcc[0:+2]': 'ណែកជើ', 'ns+2': False, 'kcc[+3]': 'ង', 'kcc[+3]t': 'C', 'kcc[+2:+3]': 'ជើង', 'kcc[+1:+3]': 'កជើង', 'kcc[0:+3]': 'ណែកជើង'}, {'kcc': 'ក', 't': 'C', 'ns': False, 'kcc[-1]': 'ណែ', 'kcc[-1]t': 'K2', 'kcc[-1:0]': 'ណែក', 'ns-1': False, 'kcc[-2]': 'ចំ', 'kcc[-2]t': 'K2', 'kcc[-2:-1]': 'ចំណែ', 'kcc[-2:0]': 'ចំណែក', 'kcc[+1]': 'ជើ', 'kcc[+1]t': 'K2', 'kcc[+1:0]': 'កជើ', 'ns+1': False, 'kcc[+2]': 'ង', 'kcc[+2]t': 'C', 'kcc[+1:+2]': 'ជើង', 'kcc[0:+2]': 'កជើង', 'ns+2': False, 'kcc[+3]': 'ទី', 'kcc[+3]t': 'K2', 'kcc[+2:+3]': 'ងទី', 'kcc[+1:+3]': 'ជើងទី', 'kcc[0:+3]': 'កជើងទី'}, {'kcc': 'ជើ', 't': 'K2', 'ns': False, 'kcc[-1]': 'ក', 'kcc[-1]t': 'C', 'kcc[-1:0]': 'កជើ', 'ns-1': False, 'kcc[-2]': 'ណែ', 'kcc[-2]t': 'K2', 'kcc[-2:-1]': 'ណែក', 'kcc[-2:0]': 'ណែកជើ', 'kcc[-3]': 'ចំ', 'kcc[-3]t': 'K2', 'kcc[-3:0]': 'ចំណែកជើ', 'kcc[-3:-1]': 'ចំណែក', 'kcc[-3:-2]': 'ចំណែ', 'kcc[+1]': 'ង', 'kcc[+1]t': 'C', 'kcc[+1:0]': 'ជើង', 'ns+1': False, 'kcc[+2]': 'ទី', 'kcc[+2]t': 'K2', 'kcc[+1:+2]': 'ងទី', 'kcc[0:+2]': 'ជើងទី', 'ns+2': False, 'kcc[+3]': '២២២២', 'kcc[+3]t': 'K4', 'kcc[+2:+3]': 'ទី២២២២', 'kcc[+1:+3]': 'ងទី២២២២', 'kcc[0:+3]': 'ជើងទី២២២២'}, {'kcc': 'ង', 't': 'C', 'ns': False, 'kcc[-1]': 'ជើ', 'kcc[-1]t': 'K2', 'kcc[-1:0]': 'ជើង', 'ns-1': False, 'kcc[-2]': 'ក', 'kcc[-2]t': 'C', 'kcc[-2:-1]': 'កជើ', 'kcc[-2:0]': 'កជើង', 'kcc[-3]': 'ណែ', 'kcc[-3]t': 'K2', 'kcc[-3:0]': 'ណែកជើង', 'kcc[-3:-1]': 'ណែកជើ', 'kcc[-3:-2]': 'ណែក', 'kcc[+1]': 'ទី', 'kcc[+1]t': 'K2', 'kcc[+1:0]': 'ងទី', 'ns+1': False, 'kcc[+2]': '២២២២', 'kcc[+2]t': 'K4', 'kcc[+1:+2]': 'ទី២២២២', 'kcc[0:+2]': 'ងទី២២២២', 'ns+2': False, 'kcc[+3]': 'នឹ', 'kcc[+3]t': 'K2', 'kcc[+2:+3]': '២២២២នឹ', 'kcc[+1:+3]': 'ទី២២២២នឹ', 'kcc[0:+3]': 'ងទី២២២២នឹ'}, {'kcc': 'ទី', 't': 'K2', 'ns': False, 'kcc[-1]': 'ង', 'kcc[-1]t': 'C', 'kcc[-1:0]': 'ងទី', 'ns-1': False, 'kcc[-2]': 'ជើ', 'kcc[-2]t': 'K2', 'kcc[-2:-1]': 'ជើង', 'kcc[-2:0]': 'ជើងទី', 'kcc[-3]': 'ក', 'kcc[-3]t': 'C', 'kcc[-3:0]': 'កជើងទី', 'kcc[-3:-1]': 'កជើង', 'kcc[-3:-2]': 'កជើ', 'kcc[+1]': '២២២២', 'kcc[+1]t': 'K4', 'kcc[+1:0]': 'ទី២២២២', 'ns+1': False, 'kcc[+2]': 'នឹ', 'kcc[+2]t': 'K2', 'kcc[+1:+2]': '២២២២នឹ', 'kcc[0:+2]': 'ទី២២២២នឹ', 'ns+2': False, 'kcc[+3]': 'ង', 'kcc[+3]t': 'C', 'kcc[+2:+3]': 'នឹង', 'kcc[+1:+3]': '២២២២នឹង', 'kcc[0:+3]': 'ទី២២២២នឹង'}, {'kcc': '២២២២', 't': 'K4', 'ns': False, 'kcc[-1]': 'ទី', 'kcc[-1]t': 'K2', 'kcc[-1:0]': 'ទី២២២២', 'ns-1': False, 'kcc[-2]': 'ង', 'kcc[-2]t': 'C', 'kcc[-2:-1]': 'ងទី', 'kcc[-2:0]': 'ងទី២២២២', 'kcc[-3]': 'ជើ', 'kcc[-3]t': 'K2', 'kcc[-3:0]': 'ជើងទី២២២២', 'kcc[-3:-1]': 'ជើងទី', 'kcc[-3:-2]': 'ជើង', 'kcc[+1]': 'នឹ', 'kcc[+1]t': 'K2', 'kcc[+1:0]': '២២២២នឹ', 'ns+1': False, 'kcc[+2]': 'ង', 'kcc[+2]t': 'C', 'kcc[+1:+2]': 'នឹង', 'kcc[0:+2]': '២២២២នឹង', 'ns+2': False, 'kcc[+3]': 'ត្រូ', 'kcc[+3]t': 'K4', 'kcc[+2:+3]': 'ងត្រូ', 'kcc[+1:+3]': 'នឹងត្រូ', 'kcc[0:+3]': '២២២២នឹងត្រូ'}, {'kcc': 'នឹ', 't': 'K2', 'ns': False, 'kcc[-1]': '២២២២', 'kcc[-1]t': 'K4', 'kcc[-1:0]': '២២២២នឹ', 'ns-1': False, 'kcc[-2]': 'ទី', 'kcc[-2]t': 'K2', 'kcc[-2:-1]': 'ទី២២២២', 'kcc[-2:0]': 'ទី២២២២នឹ', 'kcc[-3]': 'ង', 'kcc[-3]t': 'C', 'kcc[-3:0]': 'ងទី២២២២នឹ', 'kcc[-3:-1]': 'ងទី២២២២', 'kcc[-3:-2]': 'ងទី', 'kcc[+1]': 'ង', 'kcc[+1]t': 'C', 'kcc[+1:0]': 'នឹង', 'ns+1': False, 'kcc[+2]': 'ត្រូ', 'kcc[+2]t': 'K4', 'kcc[+1:+2]': 'ងត្រូ', 'kcc[0:+2]': 'នឹងត្រូ', 'ns+2': False, 'kcc[+3]': 'វ', 'kcc[+3]t': 'C', 'kcc[+2:+3]': 'ត្រូវ', 'kcc[+1:+3]': 'ងត្រូវ', 'kcc[0:+3]': 'នឹងត្រូវ'}, {'kcc': 'ង', 't': 'C', 'ns': False, 'kcc[-1]': 'នឹ', 'kcc[-1]t': 'K2', 'kcc[-1:0]': 'នឹង', 'ns-1': False, 'kcc[-2]': '២២២២', 'kcc[-2]t': 'K4', 'kcc[-2:-1]': '២២២២នឹ', 'kcc[-2:0]': '២២២២នឹង', 'kcc[-3]': 'ទី', 'kcc[-3]t': 'K2', 'kcc[-3:0]': 'ទី២២២២នឹង', 'kcc[-3:-1]': 'ទី២២២២នឹ', 'kcc[-3:-2]': 'ទី២២២២', 'kcc[+1]': 'ត្រូ', 'kcc[+1]t': 'K4', 'kcc[+1:0]': 'ងត្រូ', 'ns+1': False, 'kcc[+2]': 'វ', 'kcc[+2]t': 'C', 'kcc[+1:+2]': 'ត្រូវ', 'kcc[0:+2]': 'ងត្រូវ', 'ns+2': False, 'kcc[+3]': 'ធ្វើ', 'kcc[+3]t': 'K4', 'kcc[+2:+3]': 'វធ្វើ', 'kcc[+1:+3]': 'ត្រូវធ្វើ', 'kcc[0:+3]': 'ងត្រូវធ្វើ'}, {'kcc': 'ត្រូ', 't': 'K4', 'ns': False, 'kcc[-1]': 'ង', 'kcc[-1]t': 'C', 'kcc[-1:0]': 'ងត្រូ', 'ns-1': False, 'kcc[-2]': 'នឹ', 'kcc[-2]t': 'K2', 'kcc[-2:-1]': 'នឹង', 'kcc[-2:0]': 'នឹងត្រូ', 'kcc[-3]': '២២២២', 'kcc[-3]t': 'K4', 'kcc[-3:0]': '២២២២នឹងត្រូ', 'kcc[-3:-1]': '២២២២នឹង', 'kcc[-3:-2]': '២២២២នឹ', 'kcc[+1]': 'វ', 'kcc[+1]t': 'C', 'kcc[+1:0]': 'ត្រូវ', 'ns+1': False, 'kcc[+2]': 'ធ្វើ', 'kcc[+2]t': 'K4', 'kcc[+1:+2]': 'វធ្វើ', 'kcc[0:+2]': 'ត្រូវធ្វើ', 'ns+2': False, 'kcc[+3]': 'ឡើ', 'kcc[+3]t': 'K2', 'kcc[+2:+3]': 'ធ្វើឡើ', 'kcc[+1:+3]': 'វធ្វើឡើ', 'kcc[0:+3]': 'ត្រូវធ្វើឡើ'}, {'kcc': 'វ', 't': 'C', 'ns': False, 'kcc[-1]': 'ត្រូ', 'kcc[-1]t': 'K4', 'kcc[-1:0]': 'ត្រូវ', 'ns-1': False, 'kcc[-2]': 'ង', 'kcc[-2]t': 'C', 'kcc[-2:-1]': 'ងត្រូ', 'kcc[-2:0]': 'ងត្រូវ', 'kcc[-3]': 'នឹ', 'kcc[-3]t': 'K2', 'kcc[-3:0]': 'នឹងត្រូវ', 'kcc[-3:-1]': 'នឹងត្រូ', 'kcc[-3:-2]': 'នឹង', 'kcc[+1]': 'ធ្វើ', 'kcc[+1]t': 'K4', 'kcc[+1:0]': 'វធ្វើ', 'ns+1': False, 'kcc[+2]': 'ឡើ', 'kcc[+2]t': 'K2', 'kcc[+1:+2]': 'ធ្វើឡើ', 'kcc[0:+2]': 'វធ្វើឡើ', 'ns+2': False, 'kcc[+3]': 'ង', 'kcc[+3]t': 'C', 'kcc[+2:+3]': 'ឡើង', 'kcc[+1:+3]': 'ធ្វើឡើង', 'kcc[0:+3]': 'វធ្វើឡើង'}, {'kcc': 'ធ្វើ', 't': 'K4', 'ns': False, 'kcc[-1]': 'វ', 'kcc[-1]t': 'C', 'kcc[-1:0]': 'វធ្វើ', 'ns-1': False, 'kcc[-2]': 'ត្រូ', 'kcc[-2]t': 'K4', 'kcc[-2:-1]': 'ត្រូវ', 'kcc[-2:0]': 'ត្រូវធ្វើ', 'kcc[-3]': 'ង', 'kcc[-3]t': 'C', 'kcc[-3:0]': 'ងត្រូវធ្វើ', 'kcc[-3:-1]': 'ងត្រូវ', 'kcc[-3:-2]': 'ងត្រូ', 'kcc[+1]': 'ឡើ', 'kcc[+1]t': 'K2', 'kcc[+1:0]': 'ធ្វើឡើ', 'ns+1': False, 'kcc[+2]': 'ង', 'kcc[+2]t': 'C', 'kcc[+1:+2]': 'ឡើង', 'kcc[0:+2]': 'ធ្វើឡើង', 'ns+2': False, 'kcc[+3]': 'ឯ', 'kcc[+3]t': 'C', 'kcc[+2:+3]': 'ងឯ', 'kcc[+1:+3]': 'ឡើងឯ', 'kcc[0:+3]': 'ធ្វើឡើងឯ'}, {'kcc': 'ឡើ', 't': 'K2', 'ns': False, 'kcc[-1]': 'ធ្វើ', 'kcc[-1]t': 'K4', 'kcc[-1:0]': 'ធ្វើឡើ', 'ns-1': False, 'kcc[-2]': 'វ', 'kcc[-2]t': 'C', 'kcc[-2:-1]': 'វធ្វើ', 'kcc[-2:0]': 'វធ្វើឡើ', 'kcc[-3]': 'ត្រូ', 'kcc[-3]t': 'K4', 'kcc[-3:0]': 'ត្រូវធ្វើឡើ', 'kcc[-3:-1]': 'ត្រូវធ្វើ', 'kcc[-3:-2]': 'ត្រូវ', 'kcc[+1]': 'ង', 'kcc[+1]t': 'C', 'kcc[+1:0]': 'ឡើង', 'ns+1': False, 'kcc[+2]': 'ឯ', 'kcc[+2]t': 'C', 'kcc[+1:+2]': 'ងឯ', 'kcc[0:+2]': 'ឡើងឯ', 'ns+2': False, 'kcc[+3]': 'ប្រ', 'kcc[+3]t': 'K3', 'kcc[+2:+3]': 'ឯប្រ', 'kcc[+1:+3]': 'ងឯប្រ', 'kcc[0:+3]': 'ឡើងឯប្រ'}, {'kcc': 'ង', 't': 'C', 'ns': False, 'kcc[-1]': 'ឡើ', 'kcc[-1]t': 'K2', 'kcc[-1:0]': 'ឡើង', 'ns-1': False, 'kcc[-2]': 'ធ្វើ', 'kcc[-2]t': 'K4', 'kcc[-2:-1]': 'ធ្វើឡើ', 'kcc[-2:0]': 'ធ្វើឡើង', 'kcc[-3]': 'វ', 'kcc[-3]t': 'C', 'kcc[-3:0]': 'វធ្វើឡើង', 'kcc[-3:-1]': 'វធ្វើឡើ', 'kcc[-3:-2]': 'វធ្វើ', 'kcc[+1]': 'ឯ', 'kcc[+1]t': 'C', 'kcc[+1:0]': 'ងឯ', 'ns+1': False, 'kcc[+2]': 'ប្រ', 'kcc[+2]t': 'K3', 'kcc[+1:+2]': 'ឯប្រ', 'kcc[0:+2]': 'ងឯប្រ', 'ns+2': False, 'kcc[+3]': 'ទេ', 'kcc[+3]t': 'K2', 'kcc[+2:+3]': 'ប្រទេ', 'kcc[+1:+3]': 'ឯប្រទេ', 'kcc[0:+3]': 'ងឯប្រទេ'}, {'kcc': 'ឯ', 't': 'C', 'ns': False, 'kcc[-1]': 'ង', 'kcc[-1]t': 'C', 'kcc[-1:0]': 'ងឯ', 'ns-1': False, 'kcc[-2]': 'ឡើ', 'kcc[-2]t': 'K2', 'kcc[-2:-1]': 'ឡើង', 'kcc[-2:0]': 'ឡើងឯ', 'kcc[-3]': 'ធ្វើ', 'kcc[-3]t': 'K4', 'kcc[-3:0]': 'ធ្វើឡើងឯ', 'kcc[-3:-1]': 'ធ្វើឡើង', 'kcc[-3:-2]': 'ធ្វើឡើ', 'kcc[+1]': 'ប្រ', 'kcc[+1]t': 'K3', 'kcc[+1:0]': 'ឯប្រ', 'ns+1': False, 'kcc[+2]': 'ទេ', 'kcc[+2]t': 'K2', 'kcc[+1:+2]': 'ប្រទេ', 'kcc[0:+2]': 'ឯប្រទេ', 'ns+2': False, 'kcc[+3]': 'ស', 'kcc[+3]t': 'C', 'kcc[+2:+3]': 'ទេស', 'kcc[+1:+3]': 'ប្រទេស', 'kcc[0:+3]': 'ឯប្រទេស'}, {'kcc': 'ប្រ', 't': 'K3', 'ns': False, 'kcc[-1]': 'ឯ', 'kcc[-1]t': 'C', 'kcc[-1:0]': 'ឯប្រ', 'ns-1': False, 'kcc[-2]': 'ង', 'kcc[-2]t': 'C', 'kcc[-2:-1]': 'ងឯ', 'kcc[-2:0]': 'ងឯប្រ', 'kcc[-3]': 'ឡើ', 'kcc[-3]t': 'K2', 'kcc[-3:0]': 'ឡើងឯប្រ', 'kcc[-3:-1]': 'ឡើងឯ', 'kcc[-3:-2]': 'ឡើង', 'kcc[+1]': 'ទេ', 'kcc[+1]t': 'K2', 'kcc[+1:0]': 'ប្រទេ', 'ns+1': False, 'kcc[+2]': 'ស', 'kcc[+2]t': 'C', 'kcc[+1:+2]': 'ទេស', 'kcc[0:+2]': 'ប្រទេស', 'ns+2': False, 'kcc[+3]': 'កា', 'kcc[+3]t': 'K2', 'kcc[+2:+3]': 'សកា', 'kcc[+1:+3]': 'ទេសកា', 'kcc[0:+3]': 'ប្រទេសកា'}, {'kcc': 'ទេ', 't': 'K2', 'ns': False, 'kcc[-1]': 'ប្រ', 'kcc[-1]t': 'K3', 'kcc[-1:0]': 'ប្រទេ', 'ns-1': False, 'kcc[-2]': 'ឯ', 'kcc[-2]t': 'C', 'kcc[-2:-1]': 'ឯប្រ', 'kcc[-2:0]': 'ឯប្រទេ', 'kcc[-3]': 'ង', 'kcc[-3]t': 'C', 'kcc[-3:0]': 'ងឯប្រទេ', 'kcc[-3:-1]': 'ងឯប្រ', 'kcc[-3:-2]': 'ងឯ', 'kcc[+1]': 'ស', 'kcc[+1]t': 'C', 'kcc[+1:0]': 'ទេស', 'ns+1': False, 'kcc[+2]': 'កា', 'kcc[+2]t': 'K2', 'kcc[+1:+2]': 'សកា', 'kcc[0:+2]': 'ទេសកា', 'ns+2': False, 'kcc[+3]': 'តា', 'kcc[+3]t': 'K2', 'kcc[+2:+3]': 'កាតា', 'kcc[+1:+3]': 'សកាតា', 'kcc[0:+3]': 'ទេសកាតា'}, {'kcc': 'ស', 't': 'C', 'ns': False, 'kcc[-1]': 'ទេ', 'kcc[-1]t': 'K2', 'kcc[-1:0]': 'ទេស', 'ns-1': False, 'kcc[-2]': 'ប្រ', 'kcc[-2]t': 'K3', 'kcc[-2:-1]': 'ប្រទេ', 'kcc[-2:0]': 'ប្រទេស', 'kcc[-3]': 'ឯ', 'kcc[-3]t': 'C', 'kcc[-3:0]': 'ឯប្រទេស', 'kcc[-3:-1]': 'ឯប្រទេ', 'kcc[-3:-2]': 'ឯប្រ', 'kcc[+1]': 'កា', 'kcc[+1]t': 'K2', 'kcc[+1:0]': 'សកា', 'ns+1': False, 'kcc[+2]': 'តា', 'kcc[+2]t': 'K2', 'kcc[+1:+2]': 'កាតា', 'kcc[0:+2]': 'សកាតា', 'ns+2': False, 'kcc[+3]': '៕', 'kcc[+3]t': 'NS', 'kcc[+2:+3]': 'តា៕', 'kcc[+1:+3]': 'កាតា៕', 'kcc[0:+3]': 'សកាតា៕'}, {'kcc': 'កា', 't': 'K2', 'ns': False, 'kcc[-1]': 'ស', 'kcc[-1]t': 'C', 'kcc[-1:0]': 'សកា', 'ns-1': False, 'kcc[-2]': 'ទេ', 'kcc[-2]t': 'K2', 'kcc[-2:-1]': 'ទេស', 'kcc[-2:0]': 'ទេសកា', 'kcc[-3]': 'ប្រ', 'kcc[-3]t': 'K3', 'kcc[-3:0]': 'ប្រទេសកា', 'kcc[-3:-1]': 'ប្រទេស', 'kcc[-3:-2]': 'ប្រទេ', 'kcc[+1]': 'តា', 'kcc[+1]t': 'K2', 'kcc[+1:0]': 'កាតា', 'ns+1': False, 'kcc[+2]': '៕', 'kcc[+2]t': 'NS', 'kcc[+1:+2]': 'តា៕', 'kcc[0:+2]': 'កាតា៕', 'ns+2': True, 'kcc[+3]': '\\n', 'kcc[+3]t': 'NS', 'kcc[+2:+3]': '៕\\n', 'kcc[+1:+3]': 'តា៕\\n', 'kcc[0:+3]': 'កាតា៕\\n'}, {'kcc': 'តា', 't': 'K2', 'ns': False, 'kcc[-1]': 'កា', 'kcc[-1]t': 'K2', 'kcc[-1:0]': 'កាតា', 'ns-1': False, 'kcc[-2]': 'ស', 'kcc[-2]t': 'C', 'kcc[-2:-1]': 'សកា', 'kcc[-2:0]': 'សកាតា', 'kcc[-3]': 'ទេ', 'kcc[-3]t': 'K2', 'kcc[-3:0]': 'ទេសកាតា', 'kcc[-3:-1]': 'ទេសកា', 'kcc[-3:-2]': 'ទេស', 'kcc[+1]': '៕', 'kcc[+1]t': 'NS', 'kcc[+1:0]': 'តា៕', 'ns+1': True, 'kcc[+2]': '\\n', 'kcc[+2]t': 'NS', 'kcc[+1:+2]': '៕\\n', 'kcc[0:+2]': 'តា៕\\n', 'ns+2': True, 'kcc[+3]': 'ពួ', 'kcc[+3]t': 'K2', 'kcc[+2:+3]': '\\nពួ', 'kcc[+1:+3]': '៕\\nពួ', 'kcc[0:+3]': 'តា៕\\nពួ'}, {'kcc': '៕', 't': 'NS', 'ns': True, 'kcc[-1]': 'តា', 'kcc[-1]t': 'K2', 'kcc[-1:0]': 'តា៕', 'ns-1': False, 'kcc[-2]': 'កា', 'kcc[-2]t': 'K2', 'kcc[-2:-1]': 'កាតា', 'kcc[-2:0]': 'កាតា៕', 'kcc[-3]': 'ស', 'kcc[-3]t': 'C', 'kcc[-3:0]': 'សកាតា៕', 'kcc[-3:-1]': 'សកាតា', 'kcc[-3:-2]': 'សកា', 'kcc[+1]': '\\n', 'kcc[+1]t': 'NS', 'kcc[+1:0]': '៕\\n', 'ns+1': True, 'kcc[+2]': 'ពួ', 'kcc[+2]t': 'K2', 'kcc[+1:+2]': '\\nពួ', 'kcc[0:+2]': '៕\\nពួ', 'ns+2': False, 'kcc[+3]': 'ក', 'kcc[+3]t': 'C', 'kcc[+2:+3]': 'ពួក', 'kcc[+1:+3]': '\\nពួក', 'kcc[0:+3]': '៕\\nពួក'}, {'kcc': '\\n', 't': 'NS', 'ns': True, 'kcc[-1]': '៕', 'kcc[-1]t': 'NS', 'kcc[-1:0]': '៕\\n', 'ns-1': True, 'kcc[-2]': 'តា', 'kcc[-2]t': 'K2', 'kcc[-2:-1]': 'តា៕', 'kcc[-2:0]': 'តា៕\\n', 'kcc[-3]': 'កា', 'kcc[-3]t': 'K2', 'kcc[-3:0]': 'កាតា៕\\n', 'kcc[-3:-1]': 'កាតា៕', 'kcc[-3:-2]': 'កាតា', 'kcc[+1]': 'ពួ', 'kcc[+1]t': 'K2', 'kcc[+1:0]': '\\nពួ', 'ns+1': False, 'kcc[+2]': 'ក', 'kcc[+2]t': 'C', 'kcc[+1:+2]': 'ពួក', 'kcc[0:+2]': '\\nពួក', 'ns+2': False, 'kcc[+3]': 'គា', 'kcc[+3]t': 'K2', 'kcc[+2:+3]': 'កគា', 'kcc[+1:+3]': 'ពួកគា', 'kcc[0:+3]': '\\nពួកគា'}, {'kcc': 'ពួ', 't': 'K2', 'ns': False, 'kcc[-1]': '\\n', 'kcc[-1]t': 'NS', 'kcc[-1:0]': '\\nពួ', 'ns-1': True, 'kcc[-2]': '៕', 'kcc[-2]t': 'NS', 'kcc[-2:-1]': '៕\\n', 'kcc[-2:0]': '៕\\nពួ', 'kcc[-3]': 'តា', 'kcc[-3]t': 'K2', 'kcc[-3:0]': 'តា៕\\nពួ', 'kcc[-3:-1]': 'តា៕\\n', 'kcc[-3:-2]': 'តា៕', 'kcc[+1]': 'ក', 'kcc[+1]t': 'C', 'kcc[+1:0]': 'ពួក', 'ns+1': False, 'kcc[+2]': 'គា', 'kcc[+2]t': 'K2', 'kcc[+1:+2]': 'កគា', 'kcc[0:+2]': 'ពួកគា', 'ns+2': False, 'kcc[+3]': 'ត់', 'kcc[+3]t': 'K2', 'kcc[+2:+3]': 'គាត់', 'kcc[+1:+3]': 'កគាត់', 'kcc[0:+3]': 'ពួកគាត់'}, {'kcc': 'ក', 't': 'C', 'ns': False, 'kcc[-1]': 'ពួ', 'kcc[-1]t': 'K2', 'kcc[-1:0]': 'ពួក', 'ns-1': False, 'kcc[-2]': '\\n', 'kcc[-2]t': 'NS', 'kcc[-2:-1]': '\\nពួ', 'kcc[-2:0]': '\\nពួក', 'kcc[-3]': '៕', 'kcc[-3]t': 'NS', 'kcc[-3:0]': '៕\\nពួក', 'kcc[-3:-1]': '៕\\nពួ', 'kcc[-3:-2]': '៕\\n', 'kcc[+1]': 'គា', 'kcc[+1]t': 'K2', 'kcc[+1:0]': 'កគា', 'ns+1': False, 'kcc[+2]': 'ត់', 'kcc[+2]t': 'K2', 'kcc[+1:+2]': 'គាត់', 'kcc[0:+2]': 'កគាត់', 'ns+2': False, 'kcc[+3]': 'ត', 'kcc[+3]t': 'C', 'kcc[+2:+3]': 'ត់ត', 'kcc[+1:+3]': 'គាត់ត', 'kcc[0:+3]': 'កគាត់ត'}, {'kcc': 'គា', 't': 'K2', 'ns': False, 'kcc[-1]': 'ក', 'kcc[-1]t': 'C', 'kcc[-1:0]': 'កគា', 'ns-1': False, 'kcc[-2]': 'ពួ', 'kcc[-2]t': 'K2', 'kcc[-2:-1]': 'ពួក', 'kcc[-2:0]': 'ពួកគា', 'kcc[-3]': '\\n', 'kcc[-3]t': 'NS', 'kcc[-3:0]': '\\nពួកគា', 'kcc[-3:-1]': '\\nពួក', 'kcc[-3:-2]': '\\nពួ', 'kcc[+1]': 'ត់', 'kcc[+1]t': 'K2', 'kcc[+1:0]': 'គាត់', 'ns+1': False, 'kcc[+2]': 'ត', 'kcc[+2]t': 'C', 'kcc[+1:+2]': 'ត់ត', 'kcc[0:+2]': 'គាត់ត', 'ns+2': False, 'kcc[+3]': 'វ៉ា', 'kcc[+3]t': 'K3', 'kcc[+2:+3]': 'តវ៉ា', 'kcc[+1:+3]': 'ត់តវ៉ា', 'kcc[0:+3]': 'គាត់តវ៉ា'}, {'kcc': 'ត់', 't': 'K2', 'ns': False, 'kcc[-1]': 'គា', 'kcc[-1]t': 'K2', 'kcc[-1:0]': 'គាត់', 'ns-1': False, 'kcc[-2]': 'ក', 'kcc[-2]t': 'C', 'kcc[-2:-1]': 'កគា', 'kcc[-2:0]': 'កគាត់', 'kcc[-3]': 'ពួ', 'kcc[-3]t': 'K2', 'kcc[-3:0]': 'ពួកគាត់', 'kcc[-3:-1]': 'ពួកគា', 'kcc[-3:-2]': 'ពួក', 'kcc[+1]': 'ត', 'kcc[+1]t': 'C', 'kcc[+1:0]': 'ត់ត', 'ns+1': False, 'kcc[+2]': 'វ៉ា', 'kcc[+2]t': 'K3', 'kcc[+1:+2]': 'តវ៉ា', 'kcc[0:+2]': 'ត់តវ៉ា', 'ns+2': False, 'kcc[+3]': 'ប្ដឹ', 'kcc[+3]t': 'K4', 'kcc[+2:+3]': 'វ៉ាប្ដឹ', 'kcc[+1:+3]': 'តវ៉ាប្ដឹ', 'kcc[0:+3]': 'ត់តវ៉ាប្ដឹ'}, {'kcc': 'ត', 't': 'C', 'ns': False, 'kcc[-1]': 'ត់', 'kcc[-1]t': 'K2', 'kcc[-1:0]': 'ត់ត', 'ns-1': False, 'kcc[-2]': 'គា', 'kcc[-2]t': 'K2', 'kcc[-2:-1]': 'គាត់', 'kcc[-2:0]': 'គាត់ត', 'kcc[-3]': 'ក', 'kcc[-3]t': 'C', 'kcc[-3:0]': 'កគាត់ត', 'kcc[-3:-1]': 'កគាត់', 'kcc[-3:-2]': 'កគា', 'kcc[+1]': 'វ៉ា', 'kcc[+1]t': 'K3', 'kcc[+1:0]': 'តវ៉ា', 'ns+1': False, 'kcc[+2]': 'ប្ដឹ', 'kcc[+2]t': 'K4', 'kcc[+1:+2]': 'វ៉ាប្ដឹ', 'kcc[0:+2]': 'តវ៉ាប្ដឹ', 'ns+2': False, 'kcc[+3]': 'ង', 'kcc[+3]t': 'C', 'kcc[+2:+3]': 'ប្ដឹង', 'kcc[+1:+3]': 'វ៉ាប្ដឹង', 'kcc[0:+3]': 'តវ៉ាប្ដឹង'}, {'kcc': 'វ៉ា', 't': 'K3', 'ns': False, 'kcc[-1]': 'ត', 'kcc[-1]t': 'C', 'kcc[-1:0]': 'តវ៉ា', 'ns-1': False, 'kcc[-2]': 'ត់', 'kcc[-2]t': 'K2', 'kcc[-2:-1]': 'ត់ត', 'kcc[-2:0]': 'ត់តវ៉ា', 'kcc[-3]': 'គា', 'kcc[-3]t': 'K2', 'kcc[-3:0]': 'គាត់តវ៉ា', 'kcc[-3:-1]': 'គាត់ត', 'kcc[-3:-2]': 'គាត់', 'kcc[+1]': 'ប្ដឹ', 'kcc[+1]t': 'K4', 'kcc[+1:0]': 'វ៉ាប្ដឹ', 'ns+1': False, 'kcc[+2]': 'ង', 'kcc[+2]t': 'C', 'kcc[+1:+2]': 'ប្ដឹង', 'kcc[0:+2]': 'វ៉ាប្ដឹង', 'ns+2': False, 'kcc[+3]': 'ទៅ', 'kcc[+3]t': 'K2', 'kcc[+2:+3]': 'ងទៅ', 'kcc[+1:+3]': 'ប្ដឹងទៅ', 'kcc[0:+3]': 'វ៉ាប្ដឹងទៅ'}, {'kcc': 'ប្ដឹ', 't': 'K4', 'ns': False, 'kcc[-1]': 'វ៉ា', 'kcc[-1]t': 'K3', 'kcc[-1:0]': 'វ៉ាប្ដឹ', 'ns-1': False, 'kcc[-2]': 'ត', 'kcc[-2]t': 'C', 'kcc[-2:-1]': 'តវ៉ា', 'kcc[-2:0]': 'តវ៉ាប្ដឹ', 'kcc[-3]': 'ត់', 'kcc[-3]t': 'K2', 'kcc[-3:0]': 'ត់តវ៉ាប្ដឹ', 'kcc[-3:-1]': 'ត់តវ៉ា', 'kcc[-3:-2]': 'ត់ត', 'kcc[+1]': 'ង', 'kcc[+1]t': 'C', 'kcc[+1:0]': 'ប្ដឹង', 'ns+1': False, 'kcc[+2]': 'ទៅ', 'kcc[+2]t': 'K2', 'kcc[+1:+2]': 'ងទៅ', 'kcc[0:+2]': 'ប្ដឹងទៅ', 'ns+2': False, 'kcc[+3]': 'មេ', 'kcc[+3]t': 'K2', 'kcc[+2:+3]': 'ទៅមេ', 'kcc[+1:+3]': 'ងទៅមេ', 'kcc[0:+3]': 'ប្ដឹងទៅមេ'}, {'kcc': 'ង', 't': 'C', 'ns': False, 'kcc[-1]': 'ប្ដឹ', 'kcc[-1]t': 'K4', 'kcc[-1:0]': 'ប្ដឹង', 'ns-1': False, 'kcc[-2]': 'វ៉ា', 'kcc[-2]t': 'K3', 'kcc[-2:-1]': 'វ៉ាប្ដឹ', 'kcc[-2:0]': 'វ៉ាប្ដឹង', 'kcc[-3]': 'ត', 'kcc[-3]t': 'C', 'kcc[-3:0]': 'តវ៉ាប្ដឹង', 'kcc[-3:-1]': 'តវ៉ាប្ដឹ', 'kcc[-3:-2]': 'តវ៉ា', 'kcc[+1]': 'ទៅ', 'kcc[+1]t': 'K2', 'kcc[+1:0]': 'ងទៅ', 'ns+1': False, 'kcc[+2]': 'មេ', 'kcc[+2]t': 'K2', 'kcc[+1:+2]': 'ទៅមេ', 'kcc[0:+2]': 'ងទៅមេ', 'ns+2': False, 'kcc[+3]': 'ឃុំ', 'kcc[+3]t': 'K3', 'kcc[+2:+3]': 'មេឃុំ', 'kcc[+1:+3]': 'ទៅមេឃុំ', 'kcc[0:+3]': 'ងទៅមេឃុំ'}, {'kcc': 'ទៅ', 't': 'K2', 'ns': False, 'kcc[-1]': 'ង', 'kcc[-1]t': 'C', 'kcc[-1:0]': 'ងទៅ', 'ns-1': False, 'kcc[-2]': 'ប្ដឹ', 'kcc[-2]t': 'K4', 'kcc[-2:-1]': 'ប្ដឹង', 'kcc[-2:0]': 'ប្ដឹងទៅ', 'kcc[-3]': 'វ៉ា', 'kcc[-3]t': 'K3', 'kcc[-3:0]': 'វ៉ាប្ដឹងទៅ', 'kcc[-3:-1]': 'វ៉ាប្ដឹង', 'kcc[-3:-2]': 'វ៉ាប្ដឹ', 'kcc[+1]': 'មេ', 'kcc[+1]t': 'K2', 'kcc[+1:0]': 'ទៅមេ', 'ns+1': False, 'kcc[+2]': 'ឃុំ', 'kcc[+2]t': 'K3', 'kcc[+1:+2]': 'មេឃុំ', 'kcc[0:+2]': 'ទៅមេឃុំ', 'ns+2': False, 'kcc[+3]': 'ចៅ', 'kcc[+3]t': 'K2', 'kcc[+2:+3]': 'ឃុំចៅ', 'kcc[+1:+3]': 'មេឃុំចៅ', 'kcc[0:+3]': 'ទៅមេឃុំចៅ'}, {'kcc': 'មេ', 't': 'K2', 'ns': False, 'kcc[-1]': 'ទៅ', 'kcc[-1]t': 'K2', 'kcc[-1:0]': 'ទៅមេ', 'ns-1': False, 'kcc[-2]': 'ង', 'kcc[-2]t': 'C', 'kcc[-2:-1]': 'ងទៅ', 'kcc[-2:0]': 'ងទៅមេ', 'kcc[-3]': 'ប្ដឹ', 'kcc[-3]t': 'K4', 'kcc[-3:0]': 'ប្ដឹងទៅមេ', 'kcc[-3:-1]': 'ប្ដឹងទៅ', 'kcc[-3:-2]': 'ប្ដឹង', 'kcc[+1]': 'ឃុំ', 'kcc[+1]t': 'K3', 'kcc[+1:0]': 'មេឃុំ', 'ns+1': False, 'kcc[+2]': 'ចៅ', 'kcc[+2]t': 'K2', 'kcc[+1:+2]': 'ឃុំចៅ', 'kcc[0:+2]': 'មេឃុំចៅ', 'ns+2': False, 'kcc[+3]': 'វ៉ា', 'kcc[+3]t': 'K3', 'kcc[+2:+3]': 'ចៅវ៉ា', 'kcc[+1:+3]': 'ឃុំចៅវ៉ា', 'kcc[0:+3]': 'មេឃុំចៅវ៉ា'}, {'kcc': 'ឃុំ', 't': 'K3', 'ns': False, 'kcc[-1]': 'មេ', 'kcc[-1]t': 'K2', 'kcc[-1:0]': 'មេឃុំ', 'ns-1': False, 'kcc[-2]': 'ទៅ', 'kcc[-2]t': 'K2', 'kcc[-2:-1]': 'ទៅមេ', 'kcc[-2:0]': 'ទៅមេឃុំ', 'kcc[-3]': 'ង', 'kcc[-3]t': 'C', 'kcc[-3:0]': 'ងទៅមេឃុំ', 'kcc[-3:-1]': 'ងទៅមេ', 'kcc[-3:-2]': 'ងទៅ', 'kcc[+1]': 'ចៅ', 'kcc[+1]t': 'K2', 'kcc[+1:0]': 'ឃុំចៅ', 'ns+1': False, 'kcc[+2]': 'វ៉ា', 'kcc[+2]t': 'K3', 'kcc[+1:+2]': 'ចៅវ៉ា', 'kcc[0:+2]': 'ឃុំចៅវ៉ា', 'ns+2': False, 'kcc[+3]': 'យ', 'kcc[+3]t': 'C', 'kcc[+2:+3]': 'វ៉ាយ', 'kcc[+1:+3]': 'ចៅវ៉ាយ', 'kcc[0:+3]': 'ឃុំចៅវ៉ាយ'}, {'kcc': 'ចៅ', 't': 'K2', 'ns': False, 'kcc[-1]': 'ឃុំ', 'kcc[-1]t': 'K3', 'kcc[-1:0]': 'ឃុំចៅ', 'ns-1': False, 'kcc[-2]': 'មេ', 'kcc[-2]t': 'K2', 'kcc[-2:-1]': 'មេឃុំ', 'kcc[-2:0]': 'មេឃុំចៅ', 'kcc[-3]': 'ទៅ', 'kcc[-3]t': 'K2', 'kcc[-3:0]': 'ទៅមេឃុំចៅ', 'kcc[-3:-1]': 'ទៅមេឃុំ', 'kcc[-3:-2]': 'ទៅមេ', 'kcc[+1]': 'វ៉ា', 'kcc[+1]t': 'K3', 'kcc[+1:0]': 'ចៅវ៉ា', 'ns+1': False, 'kcc[+2]': 'យ', 'kcc[+2]t': 'C', 'kcc[+1:+2]': 'វ៉ាយ', 'kcc[0:+2]': 'ចៅវ៉ាយ', 'ns+2': False, 'kcc[+3]': 'ស្រុ', 'kcc[+3]t': 'K4', 'kcc[+2:+3]': 'យស្រុ', 'kcc[+1:+3]': 'វ៉ាយស្រុ', 'kcc[0:+3]': 'ចៅវ៉ាយស្រុ'}, {'kcc': 'វ៉ា', 't': 'K3', 'ns': False, 'kcc[-1]': 'ចៅ', 'kcc[-1]t': 'K2', 'kcc[-1:0]': 'ចៅវ៉ា', 'ns-1': False, 'kcc[-2]': 'ឃុំ', 'kcc[-2]t': 'K3', 'kcc[-2:-1]': 'ឃុំចៅ', 'kcc[-2:0]': 'ឃុំចៅវ៉ា', 'kcc[-3]': 'មេ', 'kcc[-3]t': 'K2', 'kcc[-3:0]': 'មេឃុំចៅវ៉ា', 'kcc[-3:-1]': 'មេឃុំចៅ', 'kcc[-3:-2]': 'មេឃុំ', 'kcc[+1]': 'យ', 'kcc[+1]t': 'C', 'kcc[+1:0]': 'វ៉ាយ', 'ns+1': False, 'kcc[+2]': 'ស្រុ', 'kcc[+2]t': 'K4', 'kcc[+1:+2]': 'យស្រុ', 'kcc[0:+2]': 'វ៉ាយស្រុ', 'ns+2': False, 'kcc[+3]': 'ក', 'kcc[+3]t': 'C', 'kcc[+2:+3]': 'ស្រុក', 'kcc[+1:+3]': 'យស្រុក', 'kcc[0:+3]': 'វ៉ាយស្រុក'}, {'kcc': 'យ', 't': 'C', 'ns': False, 'kcc[-1]': 'វ៉ា', 'kcc[-1]t': 'K3', 'kcc[-1:0]': 'វ៉ាយ', 'ns-1': False, 'kcc[-2]': 'ចៅ', 'kcc[-2]t': 'K2', 'kcc[-2:-1]': 'ចៅវ៉ា', 'kcc[-2:0]': 'ចៅវ៉ាយ', 'kcc[-3]': 'ឃុំ', 'kcc[-3]t': 'K3', 'kcc[-3:0]': 'ឃុំចៅវ៉ាយ', 'kcc[-3:-1]': 'ឃុំចៅវ៉ា', 'kcc[-3:-2]': 'ឃុំចៅ', 'kcc[+1]': 'ស្រុ', 'kcc[+1]t': 'K4', 'kcc[+1:0]': 'យស្រុ', 'ns+1': False, 'kcc[+2]': 'ក', 'kcc[+2]t': 'C', 'kcc[+1:+2]': 'ស្រុក', 'kcc[0:+2]': 'យស្រុក', 'ns+2': False, 'kcc[+3]': 'ជា', 'kcc[+3]t': 'K2', 'kcc[+2:+3]': 'កជា', 'kcc[+1:+3]': 'ស្រុកជា', 'kcc[0:+3]': 'យស្រុកជា'}, {'kcc': 'ស្រុ', 't': 'K4', 'ns': False, 'kcc[-1]': 'យ', 'kcc[-1]t': 'C', 'kcc[-1:0]': 'យស្រុ', 'ns-1': False, 'kcc[-2]': 'វ៉ា', 'kcc[-2]t': 'K3', 'kcc[-2:-1]': 'វ៉ាយ', 'kcc[-2:0]': 'វ៉ាយស្រុ', 'kcc[-3]': 'ចៅ', 'kcc[-3]t': 'K2', 'kcc[-3:0]': 'ចៅវ៉ាយស្រុ', 'kcc[-3:-1]': 'ចៅវ៉ាយ', 'kcc[-3:-2]': 'ចៅវ៉ា', 'kcc[+1]': 'ក', 'kcc[+1]t': 'C', 'kcc[+1:0]': 'ស្រុក', 'ns+1': False, 'kcc[+2]': 'ជា', 'kcc[+2]t': 'K2', 'kcc[+1:+2]': 'កជា', 'kcc[0:+2]': 'ស្រុកជា', 'ns+2': False, 'kcc[+3]': 'ច្រើ', 'kcc[+3]t': 'K4', 'kcc[+2:+3]': 'ជាច្រើ', 'kcc[+1:+3]': 'កជាច្រើ', 'kcc[0:+3]': 'ស្រុកជាច្រើ'}, {'kcc': 'ក', 't': 'C', 'ns': False, 'kcc[-1]': 'ស្រុ', 'kcc[-1]t': 'K4', 'kcc[-1:0]': 'ស្រុក', 'ns-1': False, 'kcc[-2]': 'យ', 'kcc[-2]t': 'C', 'kcc[-2:-1]': 'យស្រុ', 'kcc[-2:0]': 'យស្រុក', 'kcc[-3]': 'វ៉ា', 'kcc[-3]t': 'K3', 'kcc[-3:0]': 'វ៉ាយស្រុក', 'kcc[-3:-1]': 'វ៉ាយស្រុ', 'kcc[-3:-2]': 'វ៉ាយ', 'kcc[+1]': 'ជា', 'kcc[+1]t': 'K2', 'kcc[+1:0]': 'កជា', 'ns+1': False, 'kcc[+2]': 'ច្រើ', 'kcc[+2]t': 'K4', 'kcc[+1:+2]': 'ជាច្រើ', 'kcc[0:+2]': 'កជាច្រើ', 'ns+2': False, 'kcc[+3]': 'ន', 'kcc[+3]t': 'C', 'kcc[+2:+3]': 'ច្រើន', 'kcc[+1:+3]': 'ជាច្រើន', 'kcc[0:+3]': 'កជាច្រើន'}, {'kcc': 'ជា', 't': 'K2', 'ns': False, 'kcc[-1]': 'ក', 'kcc[-1]t': 'C', 'kcc[-1:0]': 'កជា', 'ns-1': False, 'kcc[-2]': 'ស្រុ', 'kcc[-2]t': 'K4', 'kcc[-2:-1]': 'ស្រុក', 'kcc[-2:0]': 'ស្រុកជា', 'kcc[-3]': 'យ', 'kcc[-3]t': 'C', 'kcc[-3:0]': 'យស្រុកជា', 'kcc[-3:-1]': 'យស្រុក', 'kcc[-3:-2]': 'យស្រុ', 'kcc[+1]': 'ច្រើ', 'kcc[+1]t': 'K4', 'kcc[+1:0]': 'ជាច្រើ', 'ns+1': False, 'kcc[+2]': 'ន', 'kcc[+2]t': 'C', 'kcc[+1:+2]': 'ច្រើន', 'kcc[0:+2]': 'ជាច្រើន', 'ns+2': False, 'kcc[+3]': 'លើ', 'kcc[+3]t': 'K2', 'kcc[+2:+3]': 'នលើ', 'kcc[+1:+3]': 'ច្រើនលើ', 'kcc[0:+3]': 'ជាច្រើនលើ'}, {'kcc': 'ច្រើ', 't': 'K4', 'ns': False, 'kcc[-1]': 'ជា', 'kcc[-1]t': 'K2', 'kcc[-1:0]': 'ជាច្រើ', 'ns-1': False, 'kcc[-2]': 'ក', 'kcc[-2]t': 'C', 'kcc[-2:-1]': 'កជា', 'kcc[-2:0]': 'កជាច្រើ', 'kcc[-3]': 'ស្រុ', 'kcc[-3]t': 'K4', 'kcc[-3:0]': 'ស្រុកជាច្រើ', 'kcc[-3:-1]': 'ស្រុកជា', 'kcc[-3:-2]': 'ស្រុក', 'kcc[+1]': 'ន', 'kcc[+1]t': 'C', 'kcc[+1:0]': 'ច្រើន', 'ns+1': False, 'kcc[+2]': 'លើ', 'kcc[+2]t': 'K2', 'kcc[+1:+2]': 'នលើ', 'kcc[0:+2]': 'ច្រើនលើ', 'ns+2': False, 'kcc[+3]': 'ក', 'kcc[+3]t': 'C', 'kcc[+2:+3]': 'លើក', 'kcc[+1:+3]': 'នលើក', 'kcc[0:+3]': 'ច្រើនលើក'}, {'kcc': 'ន', 't': 'C', 'ns': False, 'kcc[-1]': 'ច្រើ', 'kcc[-1]t': 'K4', 'kcc[-1:0]': 'ច្រើន', 'ns-1': False, 'kcc[-2]': 'ជា', 'kcc[-2]t': 'K2', 'kcc[-2:-1]': 'ជាច្រើ', 'kcc[-2:0]': 'ជាច្រើន', 'kcc[-3]': 'ក', 'kcc[-3]t': 'C', 'kcc[-3:0]': 'កជាច្រើន', 'kcc[-3:-1]': 'កជាច្រើ', 'kcc[-3:-2]': 'កជា', 'kcc[+1]': 'លើ', 'kcc[+1]t': 'K2', 'kcc[+1:0]': 'នលើ', 'ns+1': False, 'kcc[+2]': 'ក', 'kcc[+2]t': 'C', 'kcc[+1:+2]': 'លើក', 'kcc[0:+2]': 'នលើក', 'ns+2': False, 'kcc[+3]': 'ដែ', 'kcc[+3]t': 'K2', 'kcc[+2:+3]': 'កដែ', 'kcc[+1:+3]': 'លើកដែ', 'kcc[0:+3]': 'នលើកដែ'}, {'kcc': 'លើ', 't': 'K2', 'ns': False, 'kcc[-1]': 'ន', 'kcc[-1]t': 'C', 'kcc[-1:0]': 'នលើ', 'ns-1': False, 'kcc[-2]': 'ច្រើ', 'kcc[-2]t': 'K4', 'kcc[-2:-1]': 'ច្រើន', 'kcc[-2:0]': 'ច្រើនលើ', 'kcc[-3]': 'ជា', 'kcc[-3]t': 'K2', 'kcc[-3:0]': 'ជាច្រើនលើ', 'kcc[-3:-1]': 'ជាច្រើន', 'kcc[-3:-2]': 'ជាច្រើ', 'kcc[+1]': 'ក', 'kcc[+1]t': 'C', 'kcc[+1:0]': 'លើក', 'ns+1': False, 'kcc[+2]': 'ដែ', 'kcc[+2]t': 'K2', 'kcc[+1:+2]': 'កដែ', 'kcc[0:+2]': 'លើកដែ', 'ns+2': False, 'kcc[+3]': 'រ', 'kcc[+3]t': 'C', 'kcc[+2:+3]': 'ដែរ', 'kcc[+1:+3]': 'កដែរ', 'kcc[0:+3]': 'លើកដែរ'}, {'kcc': 'ក', 't': 'C', 'ns': False, 'kcc[-1]': 'លើ', 'kcc[-1]t': 'K2', 'kcc[-1:0]': 'លើក', 'ns-1': False, 'kcc[-2]': 'ន', 'kcc[-2]t': 'C', 'kcc[-2:-1]': 'នលើ', 'kcc[-2:0]': 'នលើក', 'kcc[-3]': 'ច្រើ', 'kcc[-3]t': 'K4', 'kcc[-3:0]': 'ច្រើនលើក', 'kcc[-3:-1]': 'ច្រើនលើ', 'kcc[-3:-2]': 'ច្រើន', 'kcc[+1]': 'ដែ', 'kcc[+1]t': 'K2', 'kcc[+1:0]': 'កដែ', 'ns+1': False, 'kcc[+2]': 'រ', 'kcc[+2]t': 'C', 'kcc[+1:+2]': 'ដែរ', 'kcc[0:+2]': 'កដែរ', 'ns+2': False, 'kcc[+3]': '។', 'kcc[+3]t': 'NS', 'kcc[+2:+3]': 'រ។', 'kcc[+1:+3]': 'ដែរ។', 'kcc[0:+3]': 'កដែរ។'}, {'kcc': 'ដែ', 't': 'K2', 'ns': False, 'kcc[-1]': 'ក', 'kcc[-1]t': 'C', 'kcc[-1:0]': 'កដែ', 'ns-1': False, 'kcc[-2]': 'លើ', 'kcc[-2]t': 'K2', 'kcc[-2:-1]': 'លើក', 'kcc[-2:0]': 'លើកដែ', 'kcc[-3]': 'ន', 'kcc[-3]t': 'C', 'kcc[-3:0]': 'នលើកដែ', 'kcc[-3:-1]': 'នលើក', 'kcc[-3:-2]': 'នលើ', 'kcc[+1]': 'រ', 'kcc[+1]t': 'C', 'kcc[+1:0]': 'ដែរ', 'ns+1': False, 'kcc[+2]': '។', 'kcc[+2]t': 'NS', 'kcc[+1:+2]': 'រ។', 'kcc[0:+2]': 'ដែរ។', 'ns+2': True}, {'kcc': 'រ', 't': 'C', 'ns': False, 'kcc[-1]': 'ដែ', 'kcc[-1]t': 'K2', 'kcc[-1:0]': 'ដែរ', 'ns-1': False, 'kcc[-2]': 'ក', 'kcc[-2]t': 'C', 'kcc[-2:-1]': 'កដែ', 'kcc[-2:0]': 'កដែរ', 'kcc[-3]': 'លើ', 'kcc[-3]t': 'K2', 'kcc[-3:0]': 'លើកដែរ', 'kcc[-3:-1]': 'លើកដែ', 'kcc[-3:-2]': 'លើក', 'kcc[+1]': '។', 'kcc[+1]t': 'NS', 'kcc[+1:0]': 'រ។', 'ns+1': True}, {'kcc': '។', 't': 'NS', 'ns': True, 'kcc[-1]': 'រ', 'kcc[-1]t': 'C', 'kcc[-1:0]': 'រ។', 'ns-1': False, 'kcc[-2]': 'ដែ', 'kcc[-2]t': 'K2', 'kcc[-2:-1]': 'ដែរ', 'kcc[-2:0]': 'ដែរ។', 'kcc[-3]': 'ក', 'kcc[-3]t': 'C', 'kcc[-3:0]': 'កដែរ។', 'kcc[-3:-1]': 'កដែរ', 'kcc[-3:-2]': 'កដែ', 'EOS': True}]]\n",
            "\n",
            "predict seg: [['1', '0', '0', '0', '0', '1', '1', '1', '0', '1', '0', '1', '0', '0', '1', '1', '0', '0', '1', '0', '1', '1', '1', '0', '0', '0', '1', '0', '1', '0', '1', '1', '0', '1', '1', '0', '1', '0', '1', '0', '0', '1', '0', '1', '0', '1']]\n",
            "\n",
            "seg: ចំណែកជើង ទី ២២២២  នឹង ត្រូវ ធ្វើឡើង ឯ ប្រទេស កាតា ៕  ពួកគាត់ តវ៉ា ប្ដឹង ទៅ មេឃុំ ចៅ វ៉ាយ ស្រុក ជាច្រើន លើក ដែរ  ។\n"
          ],
          "name": "stdout"
        }
      ]
    },
    {
      "cell_type": "code",
      "metadata": {
        "colab_type": "code",
        "id": "-dLYpvfJCLx-",
        "colab": {}
      },
      "source": [
        "def crf_segment(t):\n",
        "  t = cleanup_str(t)\n",
        "  kccs = seg_kcc(t)\n",
        "  features = create_kcc_features(kccs)\n",
        "  features = [features]\n",
        "  return segment_kcc_phrase(t)\n",
        "\n",
        "def cleanup_str(str):\n",
        "  #str = correct_str(str)\n",
        "  # remove special characters\n",
        "  str = str.replace(u\"\\u2028\", \"\") # line separator\n",
        "  str = str.replace(u\"\\u200a\", \"\")  # hair space\n",
        "  str = str.replace(\"<br>\",\" \") # changed to space\n",
        "  return str.strip().replace('\\n',' ').replace('  ',' ')"
      ],
      "execution_count": 0,
      "outputs": []
    },
    {
      "cell_type": "markdown",
      "metadata": {
        "id": "VtGfyhgPrhtT",
        "colab_type": "text"
      },
      "source": [
        "## Khmer Wikipedia model"
      ]
    },
    {
      "cell_type": "markdown",
      "metadata": {
        "id": "TnzWrmaNrhtU",
        "colab_type": "text"
      },
      "source": [
        "### Download Khmer Wikipedia data"
      ]
    },
    {
      "cell_type": "markdown",
      "metadata": {
        "id": "co_Vxj_0j_YZ",
        "colab_type": "text"
      },
      "source": [
        "Wikipedia limit the number of download per day. Good to save the data."
      ]
    },
    {
      "cell_type": "code",
      "metadata": {
        "id": "BdioSbpDrhtV",
        "colab_type": "code",
        "colab": {}
      },
      "source": [
        "from nlputils import split_wiki,get_wiki"
      ],
      "execution_count": 0,
      "outputs": []
    },
    {
      "cell_type": "code",
      "metadata": {
        "id": "0cDSCSUkrhtX",
        "colab_type": "code",
        "outputId": "618e3572-d7fe-42e9-c6c7-fb1a2f7ca3a3",
        "colab": {
          "base_uri": "https://localhost:8080/",
          "height": 68
        }
      },
      "source": [
        "#only need to do this once -- comment me if need to rerun\n",
        "get_wiki(path,lang)"
      ],
      "execution_count": 0,
      "outputs": [
        {
          "output_type": "stream",
          "text": [
            "downloading...\n"
          ],
          "name": "stdout"
        },
        {
          "output_type": "display_data",
          "data": {
            "text/html": [
              ""
            ],
            "text/plain": [
              "<IPython.core.display.HTML object>"
            ]
          },
          "metadata": {
            "tags": []
          }
        },
        {
          "output_type": "stream",
          "text": [
            "unzipping...\n",
            "extracting...\n"
          ],
          "name": "stdout"
        }
      ]
    },
    {
      "cell_type": "code",
      "metadata": {
        "id": "jWqi1J6krhta",
        "colab_type": "code",
        "colab": {}
      },
      "source": [
        "path.ls()"
      ],
      "execution_count": 0,
      "outputs": []
    },
    {
      "cell_type": "code",
      "metadata": {
        "id": "EKlojyqRrhte",
        "colab_type": "code",
        "outputId": "23eccaf4-75af-458e-87db-d85127a1d62b",
        "colab": {
          "base_uri": "https://localhost:8080/",
          "height": 105
        }
      },
      "source": [
        "!head -n4 {path}/{name}"
      ],
      "execution_count": 0,
      "outputs": [
        {
          "output_type": "stream",
          "text": [
            "<doc id=\"1092\" url=\"https://km.wikipedia.org/wiki?curid=1092\" title=\"សេដ្ឋកិច្ច\">\n",
            "សេដ្ឋកិច្ច\n",
            "\n",
            "យោងតាមវចនានុក្រមខ្មែររៀបរៀងដោយ សម្តេចសង្ឃរាជ ជួន ណាត (១៩៦២) ដែលខាងវិទ្យាស្ថានភាសាជាតិបានអំពាវនាវឲ្យប្រើប្រាស់ជាគោល​នោះ​ ​បាន​ពន្យល់​ពាក្យ​សេដ្ឋកិច្ចថា​បាន​មក​ពី​បន្សំ​រវាង​ពាក្យ សេដ្ឋ + កិច្ចការ ក្នុង​នោះ​ពាក្យ\"សេដ្ឋ\" មាន​ន័យ​ថា ប្រសើរ ឧត្តុង្គឧត្តម។​ ​រួម​សេចក្តី​មក សេដ្ឋកិច្ច​មាន​ន័យ​ថា​ជា​កិច្ចការ​ដ៏ឧត្តុង្គ​ឧត្តម​ថ្លៃថ្លា ឬ​ក៏​ជា​កិច្ចការ​ទាំង​ឡាយ​ដែលធ្វើ​ឲ្យ​ប្រទេស​ជាតិ​រីក​ចំរើន ។ សំណេរក្រោយ​មកមានការ​ប្រើ​ប្រាស់ពាក្យនេះក្នុងន័យប្រាស​ចាក​ពី​ន័យ​ដើម​របស់វា ពោលគឺនៅពេល​ដែលពាក្យនេះត្រូវបានយកទៅប្រើឲ្យសមន័យទៅនឹងពាក្យបារាំងឬអង់គ្លេសថា អេកូនូមី (Economy)។ លោក រ. គោវិទ (១៩៦៧) បានពន្យល់ពាក្យសេដ្ឋកិច្ច នេះថា ជាការសន្សំទុកឲ្យចំរើនឡើង ឬជាកិច្ចការរាជការដែលទាក់ទងនឹងពាណិជ្ជកម្ម និងឧស្សាហកម្មទូទៅ ។ ចំណែកលោក ហ៊ាន សាហ៊ីប និងហ៊ីង ថូរ៉ាក់ស៊ី (២០០៤) បាន បញ្ជាក់ពីការប្រើប្រាស់ពាក្យនេះសំដៅទៅលើអត្ថន័យ​បីជាសំខាន់ ១) សេដ្ឋកិច្ចគឺជាសំណុំនៃទំនាក់ទំនងផលិតកម្មសង្គម និង ជាខឿនទៃទំនាក់ទំនងនេះ ២) សេដ្ឋកិច្ចក្នុងន័យជាវិស័យ ផ្នែក ឬទំហំសេដ្ឋកិច្ចដូចជា៖ សេដ្ឋកិច្ចឧស្សាហកម្ម សេដ្ឋកិច្ចកសិកម្ម ៣) សេដ្ឋកិច្ចក្នុងន័យកម្មវត្ថុសិក្សា (សេដ្ឋសាស្ត្រ)។​ ​ ចំណែកឯពាក្យថាសេដ្ឋសាស្ត្រវិញគ្រាន់តែសំដៅទៅលើសាស្ត្រា ឬវិជ្ជាដែលពន្យល់អំពីរបៀបរបបឬបែបផែននៃសេដ្ឋកិច្ច ។ តែយ៉ាងណា ន័យរបស់ពាក្យសេដ្ឋកិច្ច និងសេដ្ឋសាស្ត្រនៅក្នុងពេលបច្ចុប្បន្ននេះគឺជាន័យដែលផ្តល់ឲ្យដោយលោក រ. គោវិទជាចម្បង។\n"
          ],
          "name": "stdout"
        }
      ]
    },
    {
      "cell_type": "code",
      "metadata": {
        "id": "c3qGHtkF1R_L",
        "colab_type": "code",
        "outputId": "9036f99b-2955-4eab-b006-3fdd081c0963",
        "colab": {
          "base_uri": "https://localhost:8080/",
          "height": 51
        }
      },
      "source": [
        "print(name)\n",
        "!grep \"doc id\" /root/.fastai/data/kmwiki/kmwiki | wc #2536\n"
      ],
      "execution_count": 0,
      "outputs": [
        {
          "output_type": "stream",
          "text": [
            "kmwiki\n",
            "   2536   10852  305220\n"
          ],
          "name": "stdout"
        }
      ]
    },
    {
      "cell_type": "code",
      "metadata": {
        "id": "PMF8Ryq-XCC7",
        "colab_type": "code",
        "outputId": "e8e83c70-615a-47ff-a4a4-cc14f7223a14",
        "colab": {
          "base_uri": "https://localhost:8080/",
          "height": 153
        }
      },
      "source": [
        "!ls -alh /root/.fastai/data/kmwiki/\n",
        "#!echo {name} #kmwiki\n",
        "#!head /root/.fastai/data/kmwiki/kmwiki\n",
        "#!cp -r /root/.fastai/data/kmwiki .\n",
        "#!cp /root/.fastai/data/kmwiki/kmwiki kmwiki.txt\n",
        "#!ls -alh #99M"
      ],
      "execution_count": 0,
      "outputs": [
        {
          "output_type": "stream",
          "text": [
            "total 322M\n",
            "drwxr-xr-x 3 root root 4.0K Jan 30 00:21 .\n",
            "drwxr-xr-x 3 root root 4.0K Jan 30 00:18 ..\n",
            "-rw-r--r-- 1 root root 109M Jan 30 00:21 kmwiki\n",
            "-rw-r--r-- 1 root root 191M Jan 30 00:20 kmwiki-latest-pages-articles.xml\n",
            "-rw-r--r-- 1 root root  23M Jan 30 00:20 kmwiki-latest-pages-articles.xml.bz2\n",
            "-rw-r--r-- 1 root root    0 Jan 30 00:20 log\n",
            "drwxr-xr-x 3 root root 4.0K Jan 30 00:20 wikiextractor\n"
          ],
          "name": "stdout"
        }
      ]
    },
    {
      "cell_type": "markdown",
      "metadata": {
        "id": "Nwevm8kHwfM9",
        "colab_type": "text"
      },
      "source": [
        "### Save/Copy kmwiki to/from gdrive"
      ]
    },
    {
      "cell_type": "code",
      "metadata": {
        "id": "6L_uZF0s0pwf",
        "colab_type": "code",
        "outputId": "610b9607-4e81-4843-d15d-fb63ddc17f80",
        "colab": {
          "base_uri": "https://localhost:8080/",
          "height": 51
        }
      },
      "source": [
        "# zip the file to save space\n",
        "!cd /root/.fastai/data/kmwiki && zip kmwiki.zip kmwiki\n",
        "!ls -alh  /root/.fastai/data/kmwiki/kmwiki.zip #99MB to 16MB"
      ],
      "execution_count": 0,
      "outputs": [
        {
          "output_type": "stream",
          "text": [
            "  adding: kmwiki (deflated 85%)\n",
            "-rw-r--r-- 1 root root 17M Jan 30 00:29 /root/.fastai/data/kmwiki/kmwiki.zip\n"
          ],
          "name": "stdout"
        }
      ]
    },
    {
      "cell_type": "code",
      "metadata": {
        "id": "umry8eWucQuW",
        "colab_type": "code",
        "outputId": "db6504b1-965c-4584-aefa-5aab43c621c3",
        "colab": {
          "base_uri": "https://localhost:8080/",
          "height": 68
        }
      },
      "source": [
        "# copy to gdrive\n",
        "!cp /root/.fastai/data/kmwiki/kmwiki.zip drive/'My Drive'/kmwiki_2020_01_29.zip\n",
        "!ls  -alh drive/'My Drive'/kmwiki_*.zip"
      ],
      "execution_count": 0,
      "outputs": [
        {
          "output_type": "stream",
          "text": [
            "-rw------- 1 root root 16M Jan 13 19:46 'drive/My Drive/kmwiki_2020_01_13.zip'\n",
            "-rw------- 1 root root 17M Jan 30 00:30 'drive/My Drive/kmwiki_2020_01_29.zip'\n",
            "-rw------- 1 root root 18M Jan 14 22:23 'drive/My Drive/kmwiki_seg.zip'\n"
          ],
          "name": "stdout"
        }
      ]
    },
    {
      "cell_type": "code",
      "metadata": {
        "id": "GKuXrN1k4Dte",
        "colab_type": "code",
        "outputId": "1b767e57-9662-4176-f231-b187729cd85c",
        "colab": {
          "base_uri": "https://localhost:8080/",
          "height": 51
        }
      },
      "source": [
        "#copy from gdrive -- you can get this file from github\n",
        "!mkdir kmwiki\n",
        "!cp drive/'My Drive'/kmwiki_2020_01_29.zip kmwiki\n",
        "!cd kmwiki && unzip kmwiki_2020_01_29.zip"
      ],
      "execution_count": 0,
      "outputs": [
        {
          "output_type": "stream",
          "text": [
            "Archive:  kmwiki_2020_01_29.zip\n",
            "  inflating: kmwiki                  \n"
          ],
          "name": "stdout"
        }
      ]
    },
    {
      "cell_type": "code",
      "metadata": {
        "id": "bY3uygfv3X8Q",
        "colab_type": "code",
        "outputId": "4b4aa967-0115-4280-ade3-70f883277c65",
        "colab": {
          "base_uri": "https://localhost:8080/",
          "height": 34
        }
      },
      "source": [
        "!ls -alh kmwiki/kmwiki "
      ],
      "execution_count": 0,
      "outputs": [
        {
          "output_type": "stream",
          "text": [
            "-rw-r--r-- 1 root root 109M Jan 30 00:21 kmwiki/kmwiki\n"
          ],
          "name": "stdout"
        }
      ]
    },
    {
      "cell_type": "markdown",
      "metadata": {
        "id": "xc222Luorhth",
        "colab_type": "text"
      },
      "source": [
        "### Split data\n",
        "This function splits the single wikipedia file into a separate file per article. This is often easier to work with."
      ]
    },
    {
      "cell_type": "code",
      "metadata": {
        "id": "A0Lsnv8fs7Jh",
        "colab_type": "code",
        "outputId": "730a2540-18f7-48ec-cceb-e00fe7e20319",
        "colab": {
          "base_uri": "https://localhost:8080/",
          "height": 34
        }
      },
      "source": [
        "from pathlib import Path\n",
        "lpath = Path('./kmwiki')\n",
        "lpath"
      ],
      "execution_count": 0,
      "outputs": [
        {
          "output_type": "execute_result",
          "data": {
            "text/plain": [
              "PosixPath('kmwiki')"
            ]
          },
          "metadata": {
            "tags": []
          },
          "execution_count": 40
        }
      ]
    },
    {
      "cell_type": "code",
      "metadata": {
        "id": "Gncqcc4trhti",
        "colab_type": "code",
        "outputId": "ad2774f4-f7d4-4423-8691-0fa574ea1c12",
        "colab": {
          "base_uri": "https://localhost:8080/",
          "height": 68
        }
      },
      "source": [
        "from nlputils import split_wiki,get_wiki\n",
        "# split the data file into multiple text file\n",
        "dest = split_wiki(lpath,lang)"
      ],
      "execution_count": 0,
      "outputs": [
        {
          "output_type": "stream",
          "text": [
            "0\n",
            "100000\n",
            "200000\n"
          ],
          "name": "stdout"
        }
      ]
    },
    {
      "cell_type": "code",
      "metadata": {
        "id": "XfGlyDWKrhtk",
        "colab_type": "code",
        "outputId": "880bf511-490a-47f2-bb68-e2da1e62b663",
        "colab": {
          "base_uri": "https://localhost:8080/",
          "height": 102
        }
      },
      "source": [
        "dest.ls()[:5] ### kmwiki/docs/*.txt\n",
        "#len(dest.ls()) #2536\n",
        "#dest\n"
      ],
      "execution_count": 0,
      "outputs": [
        {
          "output_type": "execute_result",
          "data": {
            "text/plain": [
              "[PosixPath('kmwiki/docs/មីសឺន.txt'),\n",
              " PosixPath('kmwiki/docs/ប្រវត្តិវិទ្យុ.txt'),\n",
              " PosixPath('kmwiki/docs/ព្រះសហគមន៏កាតូលិកភូមិភាគភ្នំពេញ.txt'),\n",
              " PosixPath('kmwiki/docs/ខេត្តឃ្លាំង.txt'),\n",
              " PosixPath('kmwiki/docs/ភាគ១៥.txt')]"
            ]
          },
          "metadata": {
            "tags": []
          },
          "execution_count": 44
        }
      ]
    },
    {
      "cell_type": "code",
      "metadata": {
        "id": "u12r4VJlrhtm",
        "colab_type": "code",
        "outputId": "a5f1792e-c52e-4de7-9e40-359bcface7bb",
        "colab": {
          "base_uri": "https://localhost:8080/",
          "height": 88
        }
      },
      "source": [
        "!head -3 kmwiki/docs/អង្គការតម្លាភាពកម្ពុជា.txt"
      ],
      "execution_count": 0,
      "outputs": [
        {
          "output_type": "stream",
          "text": [
            "អង្គការតម្លាភាពកម្ពុជា\n",
            "\n",
            "អង្គការបានជ្រើសយកអភិបាលកិច្ចល្អគឺជាលក្ខខណ្ឌមុនដ៏សំខាន់បំផុតក្នុងការសម្រេចបាននូវការអភិវឌ្ឍសេដ្ឋកិច្ចប្រកបដោយនិរន្តរភាព។ ហើយក៏តម្រូវឱ្យមានការចូលរួមយ៉ាងសកម្មនិង​ការប្តេជ្ញាចិត្ត​របស់​សាធារណជនគ្រប់មជ្ឈដ្ឋានក្នុងសង្គមនិងប្រជាពលរដ្ឋកម្ពុជាមានសិទ្ធិទទួលបានប្រព័ន្ធអភិបាលកិច្ចសមត្ថកិច្ចថាគឺជាអំពើពុករលួយដោយឥតគិតថ្លៃគណនេយ្យភាពនិងតម្លាភាព។ \n"
          ],
          "name": "stdout"
        }
      ]
    },
    {
      "cell_type": "markdown",
      "metadata": {
        "id": "EsvF1u7TxhbO",
        "colab_type": "text"
      },
      "source": [
        "### Segment the text into words using space"
      ]
    },
    {
      "cell_type": "code",
      "metadata": {
        "id": "K7ZeB8hda5ga",
        "colab_type": "code",
        "outputId": "1bd1587e-d09b-4c5f-ed33-78c2d4bf7d49",
        "colab": {
          "base_uri": "https://localhost:8080/",
          "height": 34
        }
      },
      "source": [
        "data_dir = dest.absolute() #/content/kmwiki/docs\n",
        "print(data_dir)\n",
        "!mkdir /content/kmwiki_data"
      ],
      "execution_count": 0,
      "outputs": [
        {
          "output_type": "stream",
          "text": [
            "/content/kmwiki/docs\n"
          ],
          "name": "stdout"
        }
      ]
    },
    {
      "cell_type": "code",
      "metadata": {
        "id": "D8Yt3D9VgpZE",
        "colab_type": "code",
        "colab": {}
      },
      "source": [
        "def crf_segment(t):\n",
        "  t = cleanup_str(t)\n",
        "  kccs = seg_kcc(t)\n",
        "  features = create_kcc_features(kccs)\n",
        "  features = [features]\n",
        "  return segment_kcc_phrase(t)\n",
        "\n",
        "def cleanup_str(str):\n",
        "  #str = correct_str(str)\n",
        "  # remove special characters\n",
        "  str = str.replace(u\"\\u2028\", \"\") # line separator\n",
        "  str = str.replace(u\"\\u200a\", \"\")  # hair space\n",
        "  str = str.replace(\"<br>\",\" \") # changed to space\n",
        "  return str.strip().replace('\\n',' ').replace('  ',' ')"
      ],
      "execution_count": 0,
      "outputs": []
    },
    {
      "cell_type": "code",
      "metadata": {
        "id": "NscKzsg6ZEan",
        "colab_type": "code",
        "outputId": "99a4913d-d7de-4e0d-9790-7c570fde9b87",
        "colab": {
          "base_uri": "https://localhost:8080/",
          "height": 527
        }
      },
      "source": [
        "# this takes over 10 mins\n",
        "\n",
        "# foreach file, run through crf and write to new folder data/filename.txt\n",
        "import glob\n",
        "import re\n",
        "\n",
        "data_dir = str(dest.absolute())\n",
        "path = data_dir + '/*.txt'   \n",
        "files=glob.glob(path)\n",
        "\n",
        "print(\"Number of file to convert:\", len(files))\n",
        "\n",
        "# global variables that use through out\n",
        "seg_text = []\n",
        "orig_text = []\n",
        "# unique id of the article that can be matched to docId in meta.txt\n",
        "doc_ids = []\n",
        "i=0\n",
        "for file in files:\n",
        "  f=open(file, 'r')\n",
        "  lines = f.readlines()\n",
        "  f.close()\n",
        "  orig_text.append(lines)\n",
        "  \n",
        "  # limit to 9K to avoid memory issue\n",
        "  #if len(orig_text) >= 10: break #kcc=9000, char:5000, crash char on 7000\n",
        "\n",
        "  f_text = \"\"\n",
        "  for t in lines:    \n",
        "    if len(t.strip()) > 0: f_text = f_text + \"\\n\" + crf_segment(t)\n",
        "  foutname = \"/content/kmwiki_data/\" + os.path.basename(file)\n",
        "  fout = open(foutname, 'w')\n",
        "  fout.write(f_text)\n",
        "  fout.close()\n",
        "  #print(\"write to file:\", foutname)\n",
        "  if i % 100 == 0: print(\"convert file:\", i)\n",
        "  i = i +1\n",
        "print(\"number of file:\", len(files))\n",
        "#print(\"len of seg_text:\", len(seg_text), ' sample data[0][0]:', seg_text[0][0])\n",
        "print(\"len of orig_text:\", len(orig_text), ' sample data[0][0]:', orig_text[0][0])"
      ],
      "execution_count": 0,
      "outputs": [
        {
          "output_type": "stream",
          "text": [
            "Number of file to convert: 2536\n",
            "convert file: 0\n",
            "convert file: 100\n",
            "convert file: 200\n",
            "convert file: 300\n",
            "convert file: 400\n",
            "convert file: 500\n",
            "convert file: 600\n",
            "convert file: 700\n",
            "convert file: 800\n",
            "convert file: 900\n",
            "convert file: 1000\n",
            "convert file: 1100\n",
            "convert file: 1200\n",
            "convert file: 1300\n",
            "convert file: 1400\n",
            "convert file: 1500\n",
            "convert file: 1600\n",
            "convert file: 1700\n",
            "convert file: 1800\n",
            "convert file: 1900\n",
            "convert file: 2000\n",
            "convert file: 2100\n",
            "convert file: 2200\n",
            "convert file: 2300\n",
            "convert file: 2400\n",
            "convert file: 2500\n",
            "number of file: 2536\n",
            "len of orig_text: 2536  sample data[0][0]: មីសឺន\n",
            "\n"
          ],
          "name": "stdout"
        }
      ]
    },
    {
      "cell_type": "code",
      "metadata": {
        "id": "AY3gHsYgipYU",
        "colab_type": "code",
        "outputId": "7890740d-5cd9-4ca6-94e4-cb96345ac17a",
        "colab": {
          "base_uri": "https://localhost:8080/",
          "height": 139
        }
      },
      "source": [
        "!head -5 /content/kmwiki_data/*Bible*.txt\n",
        "!ls /content/kmwiki_data/  | wc"
      ],
      "execution_count": 0,
      "outputs": [
        {
          "output_type": "stream",
          "text": [
            "\n",
            "៦.  គម្គីរ ព្រះបរិសុទ្ធ  (Holy  Bible)\n",
            "កាល ដើម ដំបូង ឡើយ  ព្រះបាន បង្កើត ផ្ទៃ មេឃ នឹង ផែនដី ។  \"In  the  beginning  God  created  the  heavens  and  the  earth.\"\n",
            "ឯ ផែនដី បាន ខូច  ហើយ នៅ ទទេ  មាន សុទ្ធតែ ងងឹត នៅ គ្រប លើ ជំរៅ ទឹក  ហើយ ព្រះវិញ្ញាណ នៃ  ព្រះក៏រេរា នៅ ពីលើ ទឹក  \"Now  the  earth  was  formless  and  empty,  darkness  was  over  the  surface  of  the  deep,  and  the  spirit  of  God  was  hovering  over  the  waters.\"  នោះ ព្រះទ្រង់ មាន បន្ទូល ថា  ចូរ ឲ្យ មាន ពន្លឺ ឡើង  ដូច្នេះ ពន្លឺ ក៏ មាន ឡើង  \"and  God  said  “  Let  there  be  light,”  and  there  was  light\"  ព្រះទ្រង់ ឃើញ ពន្លឺ នោះ  ក៏ យល់ ថា ជា ល្អ ហើយ  រួច ទ្រង់ ញែក ពន្លឺ ពី ងងឹត ចេញ  \"God  saw  that  the  light  was  good,  and  he  separated  the  light  from  the  darkness\".  ទ្រង់ ហៅ ពន្លឺ ថា ជា ថ្ងៃ  ហើយ ហៅ ងងឹត ថា  ជា យប់  នោះ ក៏ មាន ល្ងាច មាន ព្រឹក ឡើង  ជា ថ្ងៃទី ១ ។  \"God  called  the  light  “day,”  and  he  called  the  darkness  “night.”  And  there  evening,  and  there  was  morning__the  first  day.\"\n",
            "បន្ទាប់មក ព្រះទ្រង់ មាន បន្ទូល ថា  ចូរ ឲ្យ មាន ប្រឡោះ នៅ កណ្តាល ទឹក  ដើម្បី ញែក ទឹក ចេញ ពី គ្នា  \"And  God  Said,  “Let  there  be  a  vault  between  the  water  to  separate  water  from  water.”\"  ទ្រង់ ក៏ ធ្វើ ប្រឡោះ នោះ  ទាំងញែក ទឹក ដែល នៅក្រោម ប្រឡោះ ចេញ ពី ទឹក ដែល នៅលើ ប្រឡោះ  ក៏ មាន ដូច្នោះ  \"So  God  made  the  vault  and  separated  the  water  under  the  vault  from  the  water  above  it.  And  it  was  so.\"  រួច ព្រះទ្រង់ ហៅ ប្រឡោះ នោះ ថា ជា មេឃ  នោះ ក៏ មាន ល្ងាច មាន ព្រឹក ឡើង  ជា ថ្ងៃទី ២ ។  \"God  called  the  vault  “sky.”  And  there  was  evening,  and  there  was  morning___the  second  day.\"\n",
            "   2536    3244  131164\n"
          ],
          "name": "stdout"
        }
      ]
    },
    {
      "cell_type": "markdown",
      "metadata": {
        "id": "IAPwj0tBu-QB",
        "colab_type": "text"
      },
      "source": [
        "### Copy semented zip file to/from gdrive"
      ]
    },
    {
      "cell_type": "code",
      "metadata": {
        "id": "BdEgvSAsD11P",
        "colab_type": "code",
        "colab": {}
      },
      "source": [
        "# Save semented data into g drive  -- will contain /cotnet/kmwiki_data folder\n",
        "seg_zip = 'kmwiki_seg_2020_01_29.zip'\n",
        "!cd /content && zip {seg_zip} /content/kmwiki_data/*\n",
        "!ls -al /content/*.zip\n",
        "\n",
        "!cp /content/kmwiki_seg.zip drive/'My Drive'/{seg_zip}\n",
        "!ls -alh drive/'My Drive'/kmwiki_seg*.zip"
      ],
      "execution_count": 0,
      "outputs": []
    },
    {
      "cell_type": "code",
      "metadata": {
        "id": "eEfcCTAG8wtG",
        "colab_type": "code",
        "colab": {}
      },
      "source": [
        "!ls -alh /content/kmwiki_seg.zip drive/'My Drive'/kmwiki_seg_1_29_2020.zip"
      ],
      "execution_count": 0,
      "outputs": []
    },
    {
      "cell_type": "code",
      "metadata": {
        "id": "bBW0OSU4D3G2",
        "colab_type": "code",
        "outputId": "d173ab22-19e9-4fd6-a5df-5dd80b436015",
        "colab": {
          "base_uri": "https://localhost:8080/",
          "height": 119
        }
      },
      "source": [
        "# copy seg_file from g drive\n",
        "!mkdir /content/kmwiki_data\n",
        "!cp drive/'My Drive'/{seg_zip} /content\n",
        "\n",
        "# unzip (zip file already have /content/kmwiki_data structure)\n",
        "!cd / && unzip /content/{seg_zip} | tail -5\n"
      ],
      "execution_count": 0,
      "outputs": [
        {
          "output_type": "stream",
          "text": [
            "mkdir: cannot create directory ‘/content/kmwiki_data’: File exists\n",
            "  inflating: content/kmwiki_data/Vibhaṅga.txt  \n",
            "  inflating: content/kmwiki_data/កង់(wheel).txt  \n",
            "  inflating: content/kmwiki_data/William Thomson, 1st Baron Kelvin.txt  \n",
            "  inflating: content/kmwiki_data/World Cup.txt  \n",
            "  inflating: content/kmwiki_data/វើលវ៉ាយវែប​ (World Wide Web).txt  \n"
          ],
          "name": "stdout"
        }
      ]
    },
    {
      "cell_type": "code",
      "metadata": {
        "id": "4Xqvi0U-sAgv",
        "colab_type": "code",
        "outputId": "9c4ebeb4-4d55-41dd-e771-24fd13f5cd3a",
        "colab": {
          "base_uri": "https://localhost:8080/",
          "height": 51
        }
      },
      "source": [
        "tempath = Path(\"kmwiki_data\")\n",
        "print(tempath.absolute())\n",
        "len(tempath.ls()) #number of files 2538"
      ],
      "execution_count": 0,
      "outputs": [
        {
          "output_type": "stream",
          "text": [
            "/content/kmwiki_data\n"
          ],
          "name": "stdout"
        },
        {
          "output_type": "execute_result",
          "data": {
            "text/plain": [
              "2538"
            ]
          },
          "metadata": {
            "tags": []
          },
          "execution_count": 15
        }
      ]
    },
    {
      "cell_type": "code",
      "metadata": {
        "id": "Rn42JJwA9lsv",
        "colab_type": "code",
        "outputId": "245b5c19-f498-47be-a5c7-f80472c8dc32",
        "colab": {
          "base_uri": "https://localhost:8080/",
          "height": 51
        }
      },
      "source": [
        "!head -2 /content/kmwiki_data/វើលវ៉ាយវែប​*.txt  "
      ],
      "execution_count": 0,
      "outputs": [
        {
          "output_type": "stream",
          "text": [
            "\n",
            "វើល វ៉ាយ វែប  (World  Wide  Web)\n"
          ],
          "name": "stdout"
        }
      ]
    },
    {
      "cell_type": "code",
      "metadata": {
        "id": "9HcK8v_-LuZz",
        "colab_type": "code",
        "colab": {}
      },
      "source": [
        "sizes = [\"100\",\"500\",\"1000\",\"5000\",\"10000\"]\n",
        "# Select available size (0-4) that you want to use\n",
        "docsize = sizes[2]\n",
        "data_dir = \"kh_data_\" + docsize\n",
        "file_name = data_dir + \".zip\" # need old file format with space"
      ],
      "execution_count": 0,
      "outputs": []
    },
    {
      "cell_type": "code",
      "metadata": {
        "id": "q7lKQqtny8Xr",
        "colab_type": "code",
        "outputId": "91476303-2844-4c5d-f3b7-c35642a204b8",
        "colab": {
          "base_uri": "https://localhost:8080/",
          "height": 51
        }
      },
      "source": [
        "# Download the file from `url` and save it\n",
        "import urllib.request\n",
        "base_url = \"https://github.com/phylypo/segmentation-crf-khmer/raw/master/data/\"\n",
        "url = base_url + file_name\n",
        "print(\"Downloading from:\", url)\n",
        "urllib.request.urlretrieve(url, file_name)"
      ],
      "execution_count": 0,
      "outputs": [
        {
          "output_type": "stream",
          "text": [
            "Downloading from: https://github.com/phylypo/segmentation-crf-khmer/raw/master/data/kh_data_1000.zip\n"
          ],
          "name": "stdout"
        },
        {
          "output_type": "execute_result",
          "data": {
            "text/plain": [
              "('kh_data_1000.zip', <http.client.HTTPMessage at 0x7fb9531fb320>)"
            ]
          },
          "metadata": {
            "tags": []
          },
          "execution_count": 19
        }
      ]
    },
    {
      "cell_type": "code",
      "metadata": {
        "id": "Iip2BGWZ-bRA",
        "colab_type": "code",
        "outputId": "3e5f401f-556e-4360-e560-1bcf2ed2900f",
        "colab": {
          "base_uri": "https://localhost:8080/",
          "height": 34
        }
      },
      "source": [
        "print(data_dir)"
      ],
      "execution_count": 0,
      "outputs": [
        {
          "output_type": "stream",
          "text": [
            "kh_data_1000\n"
          ],
          "name": "stdout"
        }
      ]
    },
    {
      "cell_type": "code",
      "metadata": {
        "id": "_Zj741q6N47y",
        "colab_type": "code",
        "outputId": "9483e21e-754c-4d82-9ebc-4002c45dcfb8",
        "colab": {
          "base_uri": "https://localhost:8080/",
          "height": 238
        }
      },
      "source": [
        "# remove previous existing directory for rerun\n",
        "!rm -rf {data_dir}\n",
        "print(\"- Unzipping the file and show last few extracted files:\")\n",
        "!unzip {file_name} | tail -10\n",
        "\n",
        "print(\"- Count the number of files:\")\n",
        "!ls -al {data_dir}/*_seg*.txt | wc -l"
      ],
      "execution_count": 0,
      "outputs": [
        {
          "output_type": "stream",
          "text": [
            "- Unzipping the file and show last few extracted files:\n",
            "  inflating: kh_data_1000/313546_seg.txt  \n",
            "  inflating: kh_data_1000/313565_orig.txt  \n",
            "  inflating: kh_data_1000/313565_seg.txt  \n",
            "  inflating: kh_data_1000/313575_orig.txt  \n",
            "  inflating: kh_data_1000/313575_seg.txt  \n",
            "  inflating: kh_data_1000/313576_orig.txt  \n",
            "  inflating: kh_data_1000/313576_seg.txt  \n",
            "  inflating: kh_data_1000/313577_orig.txt  \n",
            "  inflating: kh_data_1000/313577_seg.txt  \n",
            "  inflating: kh_data_1000/meta.txt   \n",
            "- Count the number of files:\n",
            "1000\n"
          ],
          "name": "stdout"
        }
      ]
    },
    {
      "cell_type": "code",
      "metadata": {
        "id": "AG1YvPyQWRoQ",
        "colab_type": "code",
        "outputId": "a929e489-6978-4bb8-83ca-b7ca02675c10",
        "colab": {
          "base_uri": "https://localhost:8080/",
          "height": 51
        }
      },
      "source": [
        "!head -1 kh_data_1000/313546_seg.txt\n",
        "!head -1 kh_data_1000/313546_orig.txt"
      ],
      "execution_count": 0,
      "outputs": [
        {
          "output_type": "stream",
          "text": [
            " លោកស្រី សុផុន ប្រធាន ធម្មការ ស្រុក ស្រី ស្នំ ឃុបឃិត ជាមួយ  មេឃុំ  មេភូមិ  លក់ ដី សហគម ន៏  ជិង ២០០ ហិកតា\n",
            "លោកស្រី​សុ​ផុន ប្រធាន​ធម្មការ​ស្រុក​ស្រីស្នំ ឃុបឃិត ជាមួយ មេឃុំ មេភូមិ លក់​ដី​សហគម​ន៏ ជិ​ង ២០០ ហិកតា\n"
          ],
          "name": "stdout"
        }
      ]
    },
    {
      "cell_type": "code",
      "metadata": {
        "id": "gYRfPoRzz_sZ",
        "colab_type": "code",
        "outputId": "4c8af0eb-3567-4e52-b48d-cd7ff0d1087c",
        "colab": {
          "base_uri": "https://localhost:8080/",
          "height": 34
        }
      },
      "source": [
        "!cp -rf kh_data_1000/*_seg.txt  /content/kmwiki_data/\n",
        "\n",
        "tempath = Path(\"kmwiki_data\")\n",
        "len(tempath.ls()) #number of files 7536"
      ],
      "execution_count": 0,
      "outputs": [
        {
          "output_type": "execute_result",
          "data": {
            "text/plain": [
              "3538"
            ]
          },
          "metadata": {
            "tags": []
          },
          "execution_count": 26
        }
      ]
    },
    {
      "cell_type": "markdown",
      "metadata": {
        "id": "fZmXP4n6rhto",
        "colab_type": "text"
      },
      "source": [
        "### Create pretrained model"
      ]
    },
    {
      "cell_type": "code",
      "metadata": {
        "id": "RW4Ayle5cFKp",
        "colab_type": "code",
        "outputId": "a29ebe69-caf8-45d8-c226-198c8d6da5db",
        "colab": {
          "base_uri": "https://localhost:8080/",
          "height": 34
        }
      },
      "source": [
        "#should set to kmwiki_data --segemented\n",
        "segpath = Path('kmwiki_data')\n",
        "print(segpath)"
      ],
      "execution_count": 0,
      "outputs": [
        {
          "output_type": "stream",
          "text": [
            "kmwiki_data\n"
          ],
          "name": "stdout"
        }
      ]
    },
    {
      "cell_type": "code",
      "metadata": {
        "id": "zI91ofZcrhtp",
        "colab_type": "code",
        "outputId": "b1e79fa6-cd07-4286-8ef4-fd9408f1d0dd",
        "colab": {
          "base_uri": "https://localhost:8080/",
          "height": 34
        }
      },
      "source": [
        "data = (TextList.from_folder(segpath) # change from dest to segpath\n",
        "            .split_by_rand_pct(0.1, seed=42)\n",
        "            .label_for_lm()           \n",
        "            .databunch(bs=bs, num_workers=1))\n",
        "\n",
        "data.save(f'{lang}_databunch')\n",
        "len(data.vocab.itos),len(data.train_ds)"
      ],
      "execution_count": 0,
      "outputs": [
        {
          "output_type": "display_data",
          "data": {
            "text/html": [
              ""
            ],
            "text/plain": [
              "<IPython.core.display.HTML object>"
            ]
          },
          "metadata": {
            "tags": []
          }
        },
        {
          "output_type": "display_data",
          "data": {
            "text/html": [
              ""
            ],
            "text/plain": [
              "<IPython.core.display.HTML object>"
            ]
          },
          "metadata": {
            "tags": []
          }
        },
        {
          "output_type": "execute_result",
          "data": {
            "text/plain": [
              "(53656, 3183)"
            ]
          },
          "metadata": {
            "tags": []
          },
          "execution_count": 28
        }
      ]
    },
    {
      "cell_type": "code",
      "metadata": {
        "id": "cY6RJH6Zv8GO",
        "colab_type": "code",
        "outputId": "db72b501-ff6d-4cef-8327-a291d5c1d618",
        "colab": {
          "base_uri": "https://localhost:8080/",
          "height": 51
        }
      },
      "source": [
        "print(len(data.vocab.itos)) #53k , no crf=50k, 1k CRF= 53656, 5K CRF=59408\n",
        "print(data.vocab.itos[10:20])"
      ],
      "execution_count": 0,
      "outputs": [
        {
          "output_type": "stream",
          "text": [
            "53656\n",
            "['មាន', 'ជា', 'បាន', '\\n ', 'ដែល', 'ថា', 'មិន', 'នោះ', 'ក្នុង', 'នេះ']\n"
          ],
          "name": "stdout"
        }
      ]
    },
    {
      "cell_type": "code",
      "metadata": {
        "id": "jBa3gG6FqUAt",
        "colab_type": "code",
        "outputId": "63d6b0f3-5c8b-4b33-cd54-4079417018f4",
        "colab": {
          "base_uri": "https://localhost:8080/",
          "height": 374
        }
      },
      "source": [
        "data.show_batch()"
      ],
      "execution_count": 0,
      "outputs": [
        {
          "output_type": "display_data",
          "data": {
            "text/html": [
              "<table border=\"1\" class=\"dataframe\">\n",
              "  <thead>\n",
              "    <tr style=\"text-align: right;\">\n",
              "      <th>idx</th>\n",
              "      <th>text</th>\n",
              "    </tr>\n",
              "  </thead>\n",
              "  <tbody>\n",
              "    <tr>\n",
              "      <td>0</td>\n",
              "      <td>កម្មវិធី វិនិយោគ បី ឆ្នាំ រំកិល ប្រចាំ ឆ្នាំ \\n  - ក្របខ័ណ្ឌ ចំណាយ រយៈពេល មធ្យម ដែល ត្រូវ ធ្វើ បច្ចុប្បន្នភាព ជារៀងរាល់ ឆ្នាំ \\n  - គម្រោង ថវិកា ប្រចាំ ឆ្នាំ \\n  - ការបង្កើត ការកែសម្រួល ឬ ការរំសាយ ទី ចាត់ការ ឬ ការិយាល័យ នានា \\n  - ការរៀបចំ តួនាទី ភារកិច្ច និង លក្ខខណ្ឌ ការងារ របស់ បុគ្គលិក \\n  - ការតែងតាំង ការដំឡើង ថ្នាក់ ឋានន្ដរសក្ដិ និង ការបញ្ឈប់ បុគ្គលិក \\n  - ការកំណត់ xxunk នៃ ការជ្រើសរើស ការតែងតាំង ការកំណត់ ប្រាក់</td>\n",
              "    </tr>\n",
              "    <tr>\n",
              "      <td>1</td>\n",
              "      <td>បាន សាង ធ្វើ ប្រាសាទ និង បូជនីយដ្ឋាន អំពី ថ្ម ដោយ មាន ទាំង ជីក បារាយណ៍ សង់ ស្ពាន និង ថ្នល់ ផង ។ \\n  តែ បើ តាម “ ប្រជុំ រឿង ព្រេង ខ្មែរ ភាគ ទី ៥ ” របស់ ពុទ្ធសាសន បណ្ឌិត្យ វិញ ព្រះពិស្ណុការ មិន មែន ចុះ មកពី ឋានសួគ៌ តាម បញ្ជា ព្រះឥន្ទ្រាធិ រាជ ទេ ។ xxunk កូនប្រុស របស់ ទេ xxunk ទិព្ធ សុតា ច័ន្ទ និង ចិក លឹម សេង ដែល រស់ នៅ ក្រុង សៀងហៃ នៃ ប្រទេស ចិន ។</td>\n",
              "    </tr>\n",
              "    <tr>\n",
              "      <td>2</td>\n",
              "      <td>\\n  \" ម្នាល ឧបាសក ! កុំ ខ្វល់ នឹក ដល់ កូនប្រុស របស់ ញោម ខ្លាំង ពេក ចូរ ធ្វើ ចិត្ត ឲ្យ សប្បាយ ចុះ គេ មាន សេចក្តីសុខ ហើយ ចូរ ខ្វល់ រឿង ខ្លួនឯង ឲ្យ មែនទែន ពីព្រោះ ញោម ចាស់ជរា ណាស់ ហើយ ញោម ប្រៀប ដូចជា ដើមឈើ ដែល ដុះ នៅក្បែរ ច្រាំង ស្ទឹង គឺ មច្ចុរាជ ទោះបីជា ញោម នឹក ដល់ កូនប្រុស របស់ ញោម ប៉ុន ណា គេ ក៏ ជួយ អ្វី ញោម មិន បាន ដែរ ខ្លួន ញោម ប៉ុណ្ណោះ ដែល អាច ជួយ</td>\n",
              "    </tr>\n",
              "    <tr>\n",
              "      <td>3</td>\n",
              "      <td>កូន អញ ស៊ី xxunk ជើង ដែល អញ បាន ឃើញ និង ជើង ខ្លា នេះ មាន ទំហំ ប៉ុន គ្នា ហើយ មិន ឃើញ មាន xxunk ណា ធំ ដូច ខ្លា នេះ ផង មាន តែ ខ្លា នេះ ហើយ ជា មេហ្វូង ធំ ជាង គេ បានជា ហ៊ាន ចូលទៅ ខាំ កូន អញ ស៊ី ទាំង ថ្ងៃ ដូច្នេះ ។ តា ពស់ ព្រៃ គិត ថា បើ អញ សម្លាប់ ខ្លា នេះ ដោយ កំលាំង បាយ មុខ ជាមិន ឈ្នះ វា ទេ គួរគប្បី អញ ប្រើ</td>\n",
              "    </tr>\n",
              "    <tr>\n",
              "      <td>4</td>\n",
              "      <td>ពួក សត្វ ទាំងអស់ ក៏ សន្យា នឹង តោ ថា នឹង គោរព តាម សន្យា ។ ដូច្នេះហើយ ជារៀងរាល់ ថ្ងៃ ពួកគេ បញ្ជូន សត្វ មួយ ក្បាល ទៅ តោ ជា ចំណី រួចហើយ រកស៊ី ក្នុង ព្រៃ ដោយ គ្មាន ខ្លាច កោត ក្រែង តោ អ្វី ទៀត ដែរ ។ \\n  ថ្ងៃ មួយ ជា ថ្ងៃ ដែល ត្រូវ ដល់ វេណ ទន្សាយ ។ ដោយសារតែ ការបង្ខំ ពី សត្វ ផ្សេង ទៀត ទន្សាយ ក៏ ធ្វើដំណើរ ទៅ ជួប នឹង តោ យ៉ាង យឺត ៗ ទាំង ចិត្ត មិន</td>\n",
              "    </tr>\n",
              "  </tbody>\n",
              "</table>"
            ],
            "text/plain": [
              "<IPython.core.display.HTML object>"
            ]
          },
          "metadata": {
            "tags": []
          }
        }
      ]
    },
    {
      "cell_type": "markdown",
      "metadata": {
        "id": "7koniXIfpwZv",
        "colab_type": "text"
      },
      "source": [
        "### Save/Load databunch from gdrive"
      ]
    },
    {
      "cell_type": "code",
      "metadata": {
        "id": "dTTT9sJ_XytT",
        "colab_type": "code",
        "outputId": "5bac5442-248f-4dc1-bec1-ac1242357790",
        "colab": {
          "base_uri": "https://localhost:8080/",
          "height": 102
        }
      },
      "source": [
        "## save databunch to drive\n",
        "!cp kmwiki_data/km_databunch drive/'My Drive'/khmer_ulmfit/km_databunch_1k\n",
        "!ls -alh drive/'My Drive'/khmer_ulmfit/km_*\n",
        "\n",
        "## copy back to folder\n",
        "#!mkdir kmwiki_data\n",
        "#!cp  drive/'My Drive'/km_databunch kmwiki_data\n",
        "#!ls -alh kmwiki_data\n",
        "\n",
        "## save to folder\n",
        "#!cp  drive/'My Drive'/km_databunch drive/'My Drive'/khmer_ulmfit/km_databunch"
      ],
      "execution_count": 0,
      "outputs": [
        {
          "output_type": "stream",
          "text": [
            "-rw------- 1 root root  66M Jan 13 21:38 'drive/My Drive/khmer_ulmfit/km_databunch'\n",
            "-rw------- 1 root root  76M Feb  1 23:47 'drive/My Drive/khmer_ulmfit/km_databunch_1k'\n",
            "-rw------- 1 root root  88M Jan 31 22:05 'drive/My Drive/khmer_ulmfit/km_databunch_5k'\n",
            "-rw------- 1 root root  73M Jan 31 03:22 'drive/My Drive/khmer_ulmfit/km_databunch_bwd'\n",
            "-rw------- 1 root root 3.7M Jan 15 00:43 'drive/My Drive/khmer_ulmfit/km_textlist_class'\n"
          ],
          "name": "stdout"
        }
      ]
    },
    {
      "cell_type": "code",
      "metadata": {
        "id": "B5bDY7pdpfYc",
        "colab_type": "code",
        "outputId": "8d8f74aa-6a64-43c0-8181-6e779f865030",
        "colab": {
          "base_uri": "https://localhost:8080/",
          "height": 34
        }
      },
      "source": [
        "# load databunch from g drive\n",
        "!mkdir kmwiki_data\n",
        "!cp drive/'My Drive'/khmer_ulmfit/km_databunch_1k kmwiki_data/km_databunch"
      ],
      "execution_count": 0,
      "outputs": [
        {
          "output_type": "stream",
          "text": [
            "mkdir: cannot create directory ‘kmwiki_data’: File exists\n"
          ],
          "name": "stdout"
        }
      ]
    },
    {
      "cell_type": "code",
      "metadata": {
        "id": "hz9f5S_mrdDt",
        "colab_type": "code",
        "outputId": "d3e96bd0-fca5-451c-e996-6b57154c4d3c",
        "colab": {
          "base_uri": "https://localhost:8080/",
          "height": 68
        }
      },
      "source": [
        "!ls kmwiki_data/*databunch\n",
        "segpath = Path('kmwiki_data')\n",
        "print(segpath)\n",
        "len(segpath.ls()) #number of files 7537 -- no seg file when reload in this section"
      ],
      "execution_count": 0,
      "outputs": [
        {
          "output_type": "stream",
          "text": [
            "kmwiki_data/km_databunch\n",
            "kmwiki_data\n"
          ],
          "name": "stdout"
        },
        {
          "output_type": "execute_result",
          "data": {
            "text/plain": [
              "3538"
            ]
          },
          "metadata": {
            "tags": []
          },
          "execution_count": 35
        }
      ]
    },
    {
      "cell_type": "code",
      "metadata": {
        "id": "qldL9tdiW0el",
        "colab_type": "code",
        "colab": {}
      },
      "source": [
        "bs=64 #64\n",
        "lang=\"km\""
      ],
      "execution_count": 0,
      "outputs": []
    },
    {
      "cell_type": "code",
      "metadata": {
        "id": "qenkpZScrhtr",
        "colab_type": "code",
        "outputId": "395ac256-98f0-45af-f7dd-7038b49faedb",
        "colab": {
          "base_uri": "https://localhost:8080/",
          "height": 34
        }
      },
      "source": [
        "# change segpath to use one in drive\n",
        "segpath = Path('kmwiki_data')\n",
        "data = load_data(segpath, f'{lang}_databunch', bs=bs)\n",
        "print(segpath)"
      ],
      "execution_count": 0,
      "outputs": [
        {
          "output_type": "stream",
          "text": [
            "kmwiki_data\n"
          ],
          "name": "stdout"
        }
      ]
    },
    {
      "cell_type": "code",
      "metadata": {
        "scrolled": false,
        "id": "iNQaZpaerhtt",
        "colab_type": "code",
        "colab": {}
      },
      "source": [
        "learn = language_model_learner(data, AWD_LSTM, drop_mult=0.5, pretrained=False).to_fp16()"
      ],
      "execution_count": 0,
      "outputs": []
    },
    {
      "cell_type": "code",
      "metadata": {
        "id": "pWScT_corhtv",
        "colab_type": "code",
        "outputId": "ddb14576-d16c-4f30-f918-395d8a6d974e",
        "colab": {
          "base_uri": "https://localhost:8080/",
          "height": 34
        }
      },
      "source": [
        "lr = 1e-2\n",
        "lr *= bs/48  # Scale learning rate by batch size\n",
        "lr\n",
        "#del data\n",
        "#torch.cuda.empty_cache()"
      ],
      "execution_count": 0,
      "outputs": [
        {
          "output_type": "execute_result",
          "data": {
            "text/plain": [
              "0.013333333333333332"
            ]
          },
          "metadata": {
            "tags": []
          },
          "execution_count": 39
        }
      ]
    },
    {
      "cell_type": "code",
      "metadata": {
        "id": "_UnoGWyprhtx",
        "colab_type": "code",
        "outputId": "1d417b7d-149c-4985-ea5a-04a0e6a4beca",
        "colab": {
          "base_uri": "https://localhost:8080/",
          "height": 359
        }
      },
      "source": [
        "learn.unfreeze()\n",
        "learn.fit_one_cycle(10, lr, moms=(0.8,0.7)) # should be 10 cycle\n",
        "\n",
        "# with crf data\n",
        "#epoch\ttrain_loss\tvalid_loss\taccuracy\ttime\n",
        "#0\t4.763054\t4.983258\t0.215832\t04:34\n",
        "#9\t3.236668\t3.992879\t0.326933\t04:37\n",
        "#without crf data\n",
        "#0\t4.757779\t5.117013\t0.199202\t04:33\n",
        "#8\t3.704572\t3.885062\t0.348298\t04:37\n",
        "#ram usage 3GB bs=64\n",
        "#0\t4.792127\t4.929679\t0.215631\t04:52\n",
        "#9\t3.371586\t3.715175\t0.364118\t04:49\n",
        "#10k CRF data\n",
        "#0\t4.586102\t4.879279\t0.228851\t06:34\n",
        "#9\t3.388669\t3.767544\t0.352145\t06:34\n",
        "#10k crf data diff run\n",
        "#0\t4.526210\t4.900151\t0.222933\t08:26\n",
        "#9\t3.292509\t3.770821\t0.353640\t08:27\n",
        "#1k crf data\n",
        "#0\t4.668200\t4.789621\t0.241485\t05:35\n",
        "#9\t3.262789\t3.734351\t0.368645\t05:33"
      ],
      "execution_count": 0,
      "outputs": [
        {
          "output_type": "display_data",
          "data": {
            "text/html": [
              "<table border=\"1\" class=\"dataframe\">\n",
              "  <thead>\n",
              "    <tr style=\"text-align: left;\">\n",
              "      <th>epoch</th>\n",
              "      <th>train_loss</th>\n",
              "      <th>valid_loss</th>\n",
              "      <th>accuracy</th>\n",
              "      <th>time</th>\n",
              "    </tr>\n",
              "  </thead>\n",
              "  <tbody>\n",
              "    <tr>\n",
              "      <td>0</td>\n",
              "      <td>4.668200</td>\n",
              "      <td>4.789621</td>\n",
              "      <td>0.241485</td>\n",
              "      <td>05:35</td>\n",
              "    </tr>\n",
              "    <tr>\n",
              "      <td>1</td>\n",
              "      <td>4.394073</td>\n",
              "      <td>4.653580</td>\n",
              "      <td>0.249886</td>\n",
              "      <td>05:34</td>\n",
              "    </tr>\n",
              "    <tr>\n",
              "      <td>2</td>\n",
              "      <td>4.354604</td>\n",
              "      <td>4.591842</td>\n",
              "      <td>0.256225</td>\n",
              "      <td>05:34</td>\n",
              "    </tr>\n",
              "    <tr>\n",
              "      <td>3</td>\n",
              "      <td>4.279814</td>\n",
              "      <td>4.425426</td>\n",
              "      <td>0.274856</td>\n",
              "      <td>05:33</td>\n",
              "    </tr>\n",
              "    <tr>\n",
              "      <td>4</td>\n",
              "      <td>4.162161</td>\n",
              "      <td>4.260066</td>\n",
              "      <td>0.293360</td>\n",
              "      <td>05:32</td>\n",
              "    </tr>\n",
              "    <tr>\n",
              "      <td>5</td>\n",
              "      <td>4.022367</td>\n",
              "      <td>4.110199</td>\n",
              "      <td>0.311260</td>\n",
              "      <td>05:32</td>\n",
              "    </tr>\n",
              "    <tr>\n",
              "      <td>6</td>\n",
              "      <td>3.729630</td>\n",
              "      <td>3.941348</td>\n",
              "      <td>0.336584</td>\n",
              "      <td>05:33</td>\n",
              "    </tr>\n",
              "    <tr>\n",
              "      <td>7</td>\n",
              "      <td>3.518007</td>\n",
              "      <td>3.822778</td>\n",
              "      <td>0.351697</td>\n",
              "      <td>05:33</td>\n",
              "    </tr>\n",
              "    <tr>\n",
              "      <td>8</td>\n",
              "      <td>3.290968</td>\n",
              "      <td>3.745364</td>\n",
              "      <td>0.365342</td>\n",
              "      <td>05:33</td>\n",
              "    </tr>\n",
              "    <tr>\n",
              "      <td>9</td>\n",
              "      <td>3.262789</td>\n",
              "      <td>3.734351</td>\n",
              "      <td>0.368645</td>\n",
              "      <td>05:33</td>\n",
              "    </tr>\n",
              "  </tbody>\n",
              "</table>"
            ],
            "text/plain": [
              "<IPython.core.display.HTML object>"
            ]
          },
          "metadata": {
            "tags": []
          }
        }
      ]
    },
    {
      "cell_type": "code",
      "metadata": {
        "id": "-TpQHn9Oo7oJ",
        "colab_type": "code",
        "outputId": "d8b8851b-d8e5-4fad-a71f-fcf006cf114b",
        "colab": {
          "base_uri": "https://localhost:8080/",
          "height": 204
        }
      },
      "source": [
        "#learn.fit_one_cycle(5, lr, moms=(0.8,0.7)) # should not run this\n",
        "# 5k crf -- start off bad\n",
        "#0\t3.708809\t4.128892\t0.303718\t08:24\n",
        "#4\t3.202902\t3.762015\t0.351793\t08:23\n",
        "#1k crf\n",
        "#0\t3.673259\t4.046010\t0.326937\t05:33\n",
        "#4\t3.470854\t3.704953\t0.369526\t05:33"
      ],
      "execution_count": 0,
      "outputs": [
        {
          "output_type": "display_data",
          "data": {
            "text/html": [
              "<table border=\"1\" class=\"dataframe\">\n",
              "  <thead>\n",
              "    <tr style=\"text-align: left;\">\n",
              "      <th>epoch</th>\n",
              "      <th>train_loss</th>\n",
              "      <th>valid_loss</th>\n",
              "      <th>accuracy</th>\n",
              "      <th>time</th>\n",
              "    </tr>\n",
              "  </thead>\n",
              "  <tbody>\n",
              "    <tr>\n",
              "      <td>0</td>\n",
              "      <td>3.673259</td>\n",
              "      <td>4.046010</td>\n",
              "      <td>0.326937</td>\n",
              "      <td>05:33</td>\n",
              "    </tr>\n",
              "    <tr>\n",
              "      <td>1</td>\n",
              "      <td>4.054169</td>\n",
              "      <td>4.196497</td>\n",
              "      <td>0.305048</td>\n",
              "      <td>05:34</td>\n",
              "    </tr>\n",
              "    <tr>\n",
              "      <td>2</td>\n",
              "      <td>3.898169</td>\n",
              "      <td>4.007215</td>\n",
              "      <td>0.326522</td>\n",
              "      <td>05:33</td>\n",
              "    </tr>\n",
              "    <tr>\n",
              "      <td>3</td>\n",
              "      <td>3.469066</td>\n",
              "      <td>3.770610</td>\n",
              "      <td>0.359164</td>\n",
              "      <td>05:34</td>\n",
              "    </tr>\n",
              "    <tr>\n",
              "      <td>4</td>\n",
              "      <td>3.470854</td>\n",
              "      <td>3.704953</td>\n",
              "      <td>0.369526</td>\n",
              "      <td>05:33</td>\n",
              "    </tr>\n",
              "  </tbody>\n",
              "</table>"
            ],
            "text/plain": [
              "<IPython.core.display.HTML object>"
            ]
          },
          "metadata": {
            "tags": []
          }
        }
      ]
    },
    {
      "cell_type": "code",
      "metadata": {
        "id": "P0WuF30sssO3",
        "colab_type": "code",
        "outputId": "5bc17935-3d10-467c-e0cb-89cfcfad0c29",
        "colab": {
          "base_uri": "https://localhost:8080/",
          "height": 34
        }
      },
      "source": [
        "path = Path('kmwiki_data')\n",
        "print(path) # should be set to current /content\n",
        "# save model to google drive\n",
        "#!mkdir drive/'My Drive'/khmer_ulmfit\n",
        "#path = Path(\"drive/'My Drive'/khmer_ulmfit\")\n",
        "#path.mkdir() #exist_ok=True)"
      ],
      "execution_count": 0,
      "outputs": [
        {
          "output_type": "stream",
          "text": [
            "kmwiki_data\n"
          ],
          "name": "stdout"
        }
      ]
    },
    {
      "cell_type": "markdown",
      "metadata": {
        "id": "kE7BXp1PkXQo",
        "colab_type": "text"
      },
      "source": [
        "Save the pretrained model and vocab:"
      ]
    },
    {
      "cell_type": "code",
      "metadata": {
        "id": "zDMAiPnSkWnx",
        "colab_type": "code",
        "outputId": "6d3c1806-72ab-4030-c871-8316d34d4a6c",
        "colab": {
          "base_uri": "https://localhost:8080/",
          "height": 51
        }
      },
      "source": [
        "#!mkdir drive/'My Drive'/khmer_ulmfit/models\n",
        "mdl_path = path/'models'\n",
        "print(\"lm_fns:\",mdl_path/lm_fns[0])\n",
        "print(\"lm_fns vocab:\",lm_fns[1])\n",
        "#mdl_path.mkdir(exist_ok=True)\n",
        "#learn.to_fp32().save(\"km_wt\", with_opt=False) # save weight of pretrain\n",
        "\n",
        "learn.to_fp32().save(\"km_wt\", with_opt=False) # this save to: kmwiki_data/models/km_wt.pth\n",
        "#learn.data.vocab.save((lm_fns[1] + '.pkl'))\n",
        "learn.data.vocab.to_fp32().save((lm_fns[1] + '.pkl')) #force to 32 bit ??\n"
      ],
      "execution_count": 0,
      "outputs": [
        {
          "output_type": "stream",
          "text": [
            "lm_fns: kmwiki_data/models/km_wt\n",
            "lm_fns vocab: km_wt_vocab\n"
          ],
          "name": "stdout"
        }
      ]
    },
    {
      "cell_type": "code",
      "metadata": {
        "id": "wgiZY8-z-a1D",
        "colab_type": "code",
        "outputId": "b0583f63-263b-493a-855d-14c27b4c8d3d",
        "colab": {
          "base_uri": "https://localhost:8080/",
          "height": 170
        }
      },
      "source": [
        "!ls  -alh kmwiki_data/models/\n",
        "!date\n",
        "#-rw-r--r-- 1 root root  83793398 Jan 16 00:24 km_wt.pth\n",
        "#-rw-r--r-- 1 root root 418959901 Jan 16 00:20 km_wt_test.pth"
      ],
      "execution_count": 0,
      "outputs": [
        {
          "output_type": "stream",
          "text": [
            "total 783M\n",
            "drwxr-xr-x 2 root root 4.0K Feb  2 01:12 .\n",
            "drwxr-xr-x 4 root root 236K Feb  2 01:12 ..\n",
            "-rw------- 1 root root 207M Feb  1 23:34 kmclas.pth\n",
            "-rw------- 1 root root 126M Feb  1 23:34 kmfine_tuned_enc.pth\n",
            "-rw------- 1 root root 290M Feb  1 23:34 kmfine_tuned.pth\n",
            "-rw------- 1 root root 160M Feb  2 01:12 km_wt.pth\n",
            "-rw------- 1 root root 1.4M Feb  1 23:34 km_wt_vocab.pkl\n",
            "Sun Feb  2 01:13:43 UTC 2020\n"
          ],
          "name": "stdout"
        }
      ]
    },
    {
      "cell_type": "code",
      "metadata": {
        "id": "ivCm2bKcyjxw",
        "colab_type": "code",
        "outputId": "14579756-74a2-41dd-cbe9-1cbb7ceecb6e",
        "colab": {
          "base_uri": "https://localhost:8080/",
          "height": 102
        }
      },
      "source": [
        "!mkdir kmwiki_data/models1k\n",
        "!cp kmwiki_data/models/km_wt.pth kmwiki_data/models1k\n",
        "!cp km_wt_vocab.pkl kmwiki_data/models1k\n",
        "!ls -alh kmwiki_data/models1k\n"
      ],
      "execution_count": 0,
      "outputs": [
        {
          "output_type": "stream",
          "text": [
            "total 162M\n",
            "drwxr-xr-x 2 root root 4.0K Feb  2 01:12 .\n",
            "drwxr-xr-x 4 root root 236K Feb  2 01:12 ..\n",
            "-rw------- 1 root root 160M Feb  2 01:12 km_wt.pth\n",
            "-rw-r--r-- 1 root root 1.4M Feb  2 01:12 km_wt_vocab.pkl\n"
          ],
          "name": "stdout"
        }
      ]
    },
    {
      "cell_type": "code",
      "metadata": {
        "id": "Lh2fPRzAUnJ4",
        "colab_type": "code",
        "outputId": "62a6f10c-8e44-4e42-a28a-324168a90df0",
        "colab": {
          "base_uri": "https://localhost:8080/",
          "height": 34
        }
      },
      "source": [
        "!ls kmwiki_data/models1k\n",
        "#km_wt.pth  km_wt_vocab.pkl"
      ],
      "execution_count": 0,
      "outputs": [
        {
          "output_type": "stream",
          "text": [
            "km_wt.pth  km_wt_vocab.pkl\n"
          ],
          "name": "stdout"
        }
      ]
    },
    {
      "cell_type": "code",
      "metadata": {
        "id": "gqsc-PH10Gh5",
        "colab_type": "code",
        "outputId": "70e81e31-f541-489e-ca9c-045eda2ee436",
        "colab": {
          "base_uri": "https://localhost:8080/",
          "height": 136
        }
      },
      "source": [
        "#backup to google drive\n",
        "!mkdir drive/'My Drive'/khmer_ulmfit/models1k\n",
        "!cp kmwiki_data/models1k/* drive/'My Drive'/khmer_ulmfit/models1k\n",
        "!ls -alh drive/'My Drive'/khmer_ulmfit/models1k"
      ],
      "execution_count": 0,
      "outputs": [
        {
          "output_type": "stream",
          "text": [
            "mkdir: cannot create directory ‘drive/My Drive/khmer_ulmfit/models1k’: File exists\n",
            "total 783M\n",
            "-rw------- 1 root root 207M Jan 21 01:25 kmclas.pth\n",
            "-rw------- 1 root root 126M Jan 21 01:25 kmfine_tuned_enc.pth\n",
            "-rw------- 1 root root 290M Jan 21 01:25 kmfine_tuned.pth\n",
            "-rw------- 1 root root 160M Feb  2 01:13 km_wt.pth\n",
            "-rw------- 1 root root 1.4M Feb  2 01:13 km_wt_vocab.pkl\n"
          ],
          "name": "stdout"
        }
      ]
    },
    {
      "cell_type": "markdown",
      "metadata": {
        "id": "-8NGcG7sGyJ_",
        "colab_type": "text"
      },
      "source": [
        "### Copy model file from gdrive"
      ]
    },
    {
      "cell_type": "code",
      "metadata": {
        "id": "pVtRzVXHHAGR",
        "colab_type": "code",
        "colab": {}
      },
      "source": [
        "# copy model files from g drive\n",
        "mtype = '1k' # 1k or 5k\n",
        "!mkdir -p kmwiki_data/models\n",
        "!cp drive/'My Drive'/khmer_ulmfit/models{mtype}/* kmwiki_data/models/"
      ],
      "execution_count": 0,
      "outputs": []
    },
    {
      "cell_type": "code",
      "metadata": {
        "id": "j_lU7PoxwwEf",
        "colab_type": "code",
        "outputId": "4aca02af-c112-4744-e667-bbe0722f7e92",
        "colab": {
          "base_uri": "https://localhost:8080/",
          "height": 34
        }
      },
      "source": [
        "# copy databunch\n",
        "!cp  drive/'My Drive'/khmer_ulmfit/km_databunch_{mtype} kmwiki_data\n",
        "!mv kmwiki_data/km_databunch_{mtype} kmwiki_data/km_databunch\n",
        "!ls -alh kmwiki_data/km*"
      ],
      "execution_count": 0,
      "outputs": [
        {
          "output_type": "stream",
          "text": [
            "-rw------- 1 root root 76M Feb  9 03:08 kmwiki_data/km_databunch\n"
          ],
          "name": "stdout"
        }
      ]
    },
    {
      "cell_type": "markdown",
      "metadata": {
        "id": "srecDbSz_77M",
        "colab_type": "text"
      },
      "source": [
        "### Copy file from gdrive share url"
      ]
    },
    {
      "cell_type": "code",
      "metadata": {
        "id": "TJg0oVh-OHFL",
        "colab_type": "code",
        "colab": {}
      },
      "source": [
        "#taken from this StackOverflow answer: https://stackoverflow.com/a/39225039 (https://github.com/nsadawi/Download-Large-File-From-Google-Drive-Using-Python)\n",
        "import requests\n",
        "\n",
        "def download_file_from_google_drive(id, destination):\n",
        "    URL = \"https://docs.google.com/uc?export=download\"\n",
        "\n",
        "    session = requests.Session()\n",
        "\n",
        "    response = session.get(URL, params = { 'id' : id }, stream = True)\n",
        "    token = get_confirm_token(response)\n",
        "\n",
        "    if token:\n",
        "        params = { 'id' : id, 'confirm' : token }\n",
        "        response = session.get(URL, params = params, stream = True)\n",
        "\n",
        "    save_response_content(response, destination)    \n",
        "\n",
        "def get_confirm_token(response):\n",
        "    for key, value in response.cookies.items():\n",
        "        if key.startswith('download_warning'):\n",
        "            return value\n",
        "\n",
        "    return None\n",
        "\n",
        "def save_response_content(response, destination):\n",
        "    CHUNK_SIZE = 32768\n",
        "\n",
        "    with open(destination, \"wb\") as f:\n",
        "        for chunk in response.iter_content(CHUNK_SIZE):\n",
        "            if chunk: # filter out keep-alive new chunks\n",
        "                f.write(chunk)"
      ],
      "execution_count": 0,
      "outputs": []
    },
    {
      "cell_type": "code",
      "metadata": {
        "id": "vMBgL5VpTJRG",
        "colab_type": "code",
        "colab": {}
      },
      "source": [
        "model_dir = 'kmwiki_data/models/'\n",
        "!mkdir -p {model_dir}"
      ],
      "execution_count": 0,
      "outputs": []
    },
    {
      "cell_type": "code",
      "metadata": {
        "id": "qKAEnOwQAF8F",
        "colab_type": "code",
        "colab": {
          "base_uri": "https://localhost:8080/",
          "height": 69
        },
        "outputId": "f606f546-6398-480d-ebbd-3744d49137b5"
      },
      "source": [
        "# Download the file from `url` and save it\n",
        "file_ids = ['1-1sQxNhWCdsicuk97ikMorb4fzpfo4Ib','1-1Mf9rFrN-d_FlkiQ3J4K1hYYTgU0QQ7','1-9ZKLkhv57IQ6qPKsSeDTdF225QQ8x7W']\n",
        "destinations = ['km_wt_vocab.pkl','km_wt.pth','kmclas.pth']\n",
        "\n",
        "for i in [0,1,2]:\n",
        "  print(\"file:\", destinations[i])\n",
        "  download_file_from_google_drive(file_id, model_dir + destination)\n"
      ],
      "execution_count": 9,
      "outputs": [
        {
          "output_type": "stream",
          "text": [
            "file: km_wt_vocab.pkl\n",
            "file: km_wt.pth\n",
            "file: kmclas.pth\n"
          ],
          "name": "stdout"
        }
      ]
    },
    {
      "cell_type": "code",
      "metadata": {
        "id": "obiWGSNpOsNo",
        "colab_type": "code",
        "colab": {
          "base_uri": "https://localhost:8080/",
          "height": 52
        },
        "outputId": "6ff9608b-4c8d-4af5-8d2a-37c5cb6fa18e"
      },
      "source": [
        "# download databunch from github\n",
        "filename = 'km_databunch'\n",
        "import urllib.request\n",
        "url = 'https://github.com/phylypo/khmer-language-model-ulmfit/blob/master/data/km_databunch_1k?raw=true'\n",
        "print(\"url\", url)\n",
        "urllib.request.urlretrieve(url, \"kmwiki_data/\" + filename)"
      ],
      "execution_count": 23,
      "outputs": [
        {
          "output_type": "stream",
          "text": [
            "url https://github.com/phylypo/khmer-language-model-ulmfit/blob/master/data/km_databunch_1k?raw=true\n"
          ],
          "name": "stdout"
        },
        {
          "output_type": "execute_result",
          "data": {
            "text/plain": [
              "('kmwiki_data/km_databunch', <http.client.HTTPMessage at 0x7fe19a5cd860>)"
            ]
          },
          "metadata": {
            "tags": []
          },
          "execution_count": 23
        }
      ]
    },
    {
      "cell_type": "code",
      "metadata": {
        "id": "_L1IlMM4V1lX",
        "colab_type": "code",
        "colab": {
          "base_uri": "https://localhost:8080/",
          "height": 207
        },
        "outputId": "1fbbaecf-86f3-42b3-98b0-9aa082c7d2f0"
      },
      "source": [
        "!ls -alh kmwiki_data\n",
        "!ls -alh kmwiki_data/models"
      ],
      "execution_count": 24,
      "outputs": [
        {
          "output_type": "stream",
          "text": [
            "total 76M\n",
            "drwxr-xr-x 3 root root 4.0K Feb 16 23:31 .\n",
            "drwxr-xr-x 1 root root 4.0K Feb 16 23:22 ..\n",
            "-rw-r--r-- 1 root root  76M Feb 16 23:31 km_databunch\n",
            "drwxr-xr-x 2 root root 4.0K Feb 16 23:21 models\n",
            "total 368M\n",
            "drwxr-xr-x 2 root root 4.0K Feb 16 23:21 .\n",
            "drwxr-xr-x 3 root root 4.0K Feb 16 23:31 ..\n",
            "-rw-r--r-- 1 root root 207M Feb 16 23:21 kmclas.pth\n",
            "-rw-r--r-- 1 root root 160M Feb 16 23:21 km_wt.pth\n",
            "-rw-r--r-- 1 root root 1.4M Feb 16 23:21 km_wt_vocab.pkl\n"
          ],
          "name": "stdout"
        }
      ]
    },
    {
      "cell_type": "markdown",
      "metadata": {
        "id": "ab-RBFl3_vbZ",
        "colab_type": "text"
      },
      "source": [
        "### Load model from pkl file"
      ]
    },
    {
      "cell_type": "code",
      "metadata": {
        "id": "GbzbmTPcwesx",
        "colab_type": "code",
        "outputId": "301a0230-3dce-47b6-ad01-2b057a677daf",
        "colab": {
          "base_uri": "https://localhost:8080/",
          "height": 138
        }
      },
      "source": [
        "segpath = Path('kmwiki_data')\n",
        "print(segpath)\n",
        "!ls -alh kmwiki_data/models"
      ],
      "execution_count": 25,
      "outputs": [
        {
          "output_type": "stream",
          "text": [
            "kmwiki_data\n",
            "total 368M\n",
            "drwxr-xr-x 2 root root 4.0K Feb 16 23:21 .\n",
            "drwxr-xr-x 3 root root 4.0K Feb 16 23:31 ..\n",
            "-rw-r--r-- 1 root root 207M Feb 16 23:21 kmclas.pth\n",
            "-rw-r--r-- 1 root root 160M Feb 16 23:21 km_wt.pth\n",
            "-rw-r--r-- 1 root root 1.4M Feb 16 23:21 km_wt_vocab.pkl\n"
          ],
          "name": "stdout"
        }
      ]
    },
    {
      "cell_type": "code",
      "metadata": {
        "id": "gbZogkJarJO7",
        "colab_type": "code",
        "colab": {}
      },
      "source": [
        "lang='km'\n",
        "bs=40"
      ],
      "execution_count": 0,
      "outputs": []
    },
    {
      "cell_type": "code",
      "metadata": {
        "id": "AexMTCLDwOMy",
        "colab_type": "code",
        "colab": {}
      },
      "source": [
        "# require setup path to kmwiki_data/km_databunch\n",
        "data = load_data(segpath, f'{lang}_databunch', bs=bs)\n",
        "learn = language_model_learner(data, AWD_LSTM, drop_mult=0.5, pretrained=False).to_fp16()"
      ],
      "execution_count": 0,
      "outputs": []
    },
    {
      "cell_type": "code",
      "metadata": {
        "id": "J51IBTAPVv4E",
        "colab_type": "code",
        "colab": {
          "base_uri": "https://localhost:8080/",
          "height": 1000
        },
        "outputId": "a2342691-3993-40a0-8af5-d25787d44125"
      },
      "source": [
        "path = 'kmwiki_data/models'\n",
        "itos_fname = path + '/km_wt_vocab.pkl'\n",
        "wgts_fname = path + '/km_wt.pth'\n",
        "learn.to_fp16().load_pretrained(wgts_fname, itos_fname, True)"
      ],
      "execution_count": 28,
      "outputs": [
        {
          "output_type": "execute_result",
          "data": {
            "text/plain": [
              "LanguageLearner(data=TextLMDataBunch;\n",
              "\n",
              "Train: LabelList (3183 items)\n",
              "x: LMTextList\n",
              "xxbos \n",
              "  គណៈ អភិបាល ខេត្ត \n",
              "  ខេត្ត នីមួយ ៗ ត្រូវ មាន គណៈ អភិបាល ខេត្ត មួយ ដែល រួមមាន អភិបាល ខេត្ត និង អភិបាល រង ខេត្ត មួយចំនួន ដែល ត្រូវបាន តែងតាំង ឡើង ស្រប តាម ល័ក្ខខ័ណ្ឌ នៃ ច្បាប់ ស្ដីពី ការគ្រប់គ្រង រដ្ឋបាល រាជធានី ខេត្ដ ក្រុង ស្រុក ខណ្ឌ ។ អភិបាល ខេត្ត អភិបាល រង ខេត្ត មិន មែន ជា សមាជិក ក្រុមប្រឹក្សា ខេត្ត ឡើយ ។ \n",
              "  គណៈ អភិបាល ខេត្ត មាន តួនាទី និង ភារកិច្ច ចម្បង ៗ ដូច ខាងក្រោម ៖ \n",
              "  - ការពិនិត្យ មុខងារ ភារកិច្ច និង ធនធាន ទាំងអស់ ដែល បាន ប្រគល់ ឬ បាន ផ្ទេរ មក ឱ្យ ក្រុមប្រឹក្សា ខេត្ត និង អំពី របៀបរបប បែបបទ នីតិវិធី នៃ ការអនុវត្ដ មុខងារ ភារកិច្ច និង ការចាត់ចែង ធនធាន ទាំងនោះ \n",
              "  - ការរៀបចំ យុទ្ធសាស្ដ្រ និង ការរៀបចំ រចនាសម្ព័ន្ធ ប្រព័ន្ធ និង ធនធាន ដើម្បី ទទួលយក មុខងារ ភារកិច្ច និង ធនធាន ដែល បាន ប្រគល់ ឬ បាន ផ្ទេរ ស្រប តាម ច្បាប់ ស្ដីពី ការគ្រប់គ្រង រដ្ឋបាល រាជធានី ខេត្ដ ក្រុង ស្រុក ខណ្ឌ ។ \n",
              "  - ផែនការអភិវឌ្ឍន៍ រយៈពេល ប្រាំ ឆ្នាំ និង កម្មវិធី វិនិយោគ បី ឆ្នាំ រំកិល ប្រចាំ ឆ្នាំ \n",
              "  - ក្របខ័ណ្ឌ ចំណាយ រយៈពេល មធ្យម ដែល ត្រូវ ធ្វើ បច្ចុប្បន្នភាព ជារៀងរាល់ ឆ្នាំ \n",
              "  - គម្រោង ថវិកា ប្រចាំ ឆ្នាំ \n",
              "  - ការបង្កើត ការកែសម្រួល ឬ ការរំសាយ ទី ចាត់ការ ឬ ការិយាល័យ នានា \n",
              "  - ការរៀបចំ តួនាទី ភារកិច្ច និង លក្ខខណ្ឌ ការងារ របស់ បុគ្គលិក \n",
              "  - ការតែងតាំង ការដំឡើង ថ្នាក់ ឋានន្ដរសក្ដិ និង ការបញ្ឈប់ បុគ្គលិក \n",
              "  - ការកំណត់ xxunk នៃ ការជ្រើសរើស ការតែងតាំង ការកំណត់ ប្រាក់ បៀវត្ស និង កម្រៃ ផ្សេង ៗ នៃ បុគ្គលិក របស់ ក្រុមប្រឹក្សា ខេត្ត \n",
              "  - ការកំណត់ នីតិវិធី រដ្ឋបាល និង ហិរញ្ញវត្ថុ សម្រាប់ ទី ចាត់ការ និង បុគ្គលិក របស់ ក្រុមប្រឹក្សា ខេត្ត \n",
              "  - ការកំណត់ យុទ្ធសាស្ដ្រ ដើម្បី អភិវឌ្ឍ សមត្ថភាព ដល់ ក្រុមប្រឹក្សា ខេត្ត គណៈ អភិបាល ខេត្ត និង បុគ្គលិក របស់ ក្រុមប្រឹក្សា ខេត្ត \n",
              "  - ការរៀបចំ របាយការណ៍ ប្រចាំ ឆ្នាំ ដាក់ ជូន ក្រុមប្រឹក្សា ខេត្ត ពិនិត្យ និង អនុម័ត មិន ឱ្យ លើស ពី ៤៥ ថ្ងៃ បន្ទាប់ពី ដំណាច់ ឆ្នាំ នីមួយ ៗ ដែល ពាក់ព័ន្ធ នឹង៖ \n",
              "  + ដីកា និង សេចក្ដីសម្រេច នានា ដែល បាន ដាក់ចេញ ដោយ ក្រុមប្រឹក្សា ខេត្ត ព្រមទាំង សកម្មភាព និង លទ្ធផល នៃ ការអនុវត្ដ ដីកា និង សេចក្ដី សម្រេច ទាំងនោះ ។ \n",
              "  + របាយការណ៍ ហិរញ្ញវត្ថុ \n",
              "  + ការវាយតម្លៃ អំពី ការបំពេញ ការងារ របស់ គណៈ អភិបាល ខេត្ត និង បុគ្គលិក របស់ ក្រុមប្រឹក្សា ខេត្ត \n",
              "  + វិធានការចាំបាច់ ដើម្បី ធ្វើឱ្យ ប្រសើរឡើង នូវ ការអនុវត្ដ ការងារ របស់ ក្រុមប្រឹក្សា ខេត្ត \n",
              "  + វិធានការចាំបាច់ ដើម្បី លើកកម្ពស់ សមភាព យេនឌ័រ \n",
              "  + កិច្ចការ ផ្សេង ៗ ទៀត ដែល ក្រុមប្រឹក្សា ខេត្ត យល់ឃើញ ថា ចាំបាច់ ត្រូវ ដាក់បញ្ចូល ក្នុង របាយការណ៍ ប្រចាំ ឆ្នាំ របស់ ខ្លួន \n",
              "  - របាយការណ៍ ប្រចាំ ខែ ត្រី មាស និង ឆមាស \n",
              "  - ការបង្កើត គណៈកម្មាធិការ ឬ អនុគណៈកម្មាធិការ ឬ ក្រុមការងារ នានា តាម ការចាំបាច់ ដើម្បី ជួយ ដល់ ការអនុវត្ដ ការងារ របស់ ក្រុមប្រឹក្សា ខេត្ត \n",
              "  - ការរៀបចំ យុទ្ធសាស្ដ្រ ផ្សព្វផ្សាយ ព័ត៌មាន ដល់ សាធារណជន ដូចជា ការរៀបចំ ក្ដារ ព័ត៌មាន ការបិទ ផ្សាយ ព័ត៌មាន នៅលើ ក្ដារ ព័ត៌មាន និង ការស្វះស្វែងរក មធ្យោបាយ ផ្សព្វផ្សាយ ព័ត៌មាន នានា ជូន ប្រជាពលរដ្ឋ ក្នុង ដែន សមត្ថកិច្ច របស់ ខ្លួន ។ \n",
              "  - កិច្ចការ ផ្សេង ៗ ទៀត ដែល កំណត់ ដោយ ច្បាប់ និង លិខិត បទដ្ឋាន គតិយុត្ដ នានា និង ដែល តម្រូវ ដោយ ក្រុមប្រឹក្សា ខេត្ត របស់ ខ្លួន \n",
              "  អភិបាល ខេត្ត មាន តួនាទី ជា តំណាង រាជ រដ្ឋាភិបាល តំណាង ក្រសួង ស្ថាប័ន របស់ រាជ រដ្ឋាភិបាល ក្នុង ខេត្ត ។ ក្នុង តួនាទី ជា តំណាង រាជ រដ្ឋាភិបាល តំណាង ក្រសួង ស្ថាប័ន របស់ រាជ រដ្ឋាភិបាល នេះ អភិបាល ខេត្ត ត្រូវ ៖ \n",
              "  - ក្នុង ករណី រដ្ឋមន្ដ្រី ឬ ប្រធាន ស្ថាប័ន សាមី ឯកភាព តាម របាយការណ៍ របស់ អភិបាល ខេត្ត រដ្ឋមន្ដ្រី ឬ ប្រធាន ស្ថាប័ន សាមី ត្រូវ ផ្លាស់ប្ដូរ បេក្ខភាព ដែល បាន ស្នើ ឡើង ឱ្យ បាន សមស្រប \n",
              "  - ក្នុង ករណី រដ្ឋមន្ដ្រី ឬ ប្រធាន ស្ថាប័ន សាមី ស្រាវជ្រាវ ឃើញ ថា ហេតុផល ដែល បាន បញ្ជាក់ ក្នុង របាយការណ៍ របស់ អភិបាល ខេត្ត ពុំ មាន មូលដ្ឋាន ច្បាស់លាស់ រដ្ឋមន្ដ្រី ឬ ប្រធាន ស្ថាប័ន សាមី ត្រូវ បញ្ជាក់ ជូន អភិបាល ខេត្ត ដើម្បី ទទួលយក បេក្ខភាព ដែល បាន ស្នើ តែងតាំង នោះ ។ ក្នុង ករណី មិន មាន ការឯកភាព រវាង អភិបាល ខេត្ត ជាមួយ រដ្ឋមន្ដ្រី ឬ ប្រធាន ស្ថាប័ន សាមី ទៅលើ បេក្ខភាព ដែល ស្នើ តែងតាំង នោះ រដ្ឋមន្ដ្រី ឬ ប្រធាន ស្ថាប័ន សាមី ត្រូវ ធ្វើ សេចក្ដីរាយការណ៍ ជូន ប្រមុខ រាជ រដ្ឋាភិបាល ពិនិត្យ និង សម្រេច ។ អភិបាល ខេត្ត ត្រូវ រាយ ការណ៍ ករណី នេះ ជូន ក្រុមប្រឹក្សា ខេត្ត របស់ ខ្លួន និង រដ្ឋមន្ដ្រី ក្រសួង មហាផ្ទៃ ។ \n",
              "  បញ្ជាក់ ៖ \n",
              "  - ដើម្បី ធានា ឱ្យ អភិបាល ខេត្ត អនុវត្ដ នូវ តួនាទី និង ភារកិច្ច ខាងលើ នេះ សេចក្ដីរាយការណ៍ ប្រចាំ ខែ ត្រី មាស ឆមាស និង ប្រចាំ ឆ្នាំ របស់ មន្ទីរ អង្គភាព និង ទីភ្នាក់ងារ នានា របស់ ក្រសួង ស្ថាប័ន ដែល ប្រចាំ នៅ ខេត្ត ទៅ រដ្ឋមន្ដ្រី ឬ ប្រធាន ស្ថាប័ន សាមី ត្រូវ ដាក់ ជូន អភិបាល ខេត្ត ដើម្បី ពិនិត្យ ផ្ដល់ យោបល់ ជាមុន ។ ប្រសិនបើ ឯកភាព អភិបាល ខេត្ត ត្រូវ ចុះហត្ថលេខា លើ របាយការណ៍ នេះ ជាមួយ ប្រធាន មន្ទីរ អង្គភាព និង អ្នកទទួលខុសត្រូវ នៃ ទីភ្នាក់ងារ នោះ ។ \n",
              "  - ចំពោះ សេចក្ដីរាយការណ៍ ក្រៅពី នោះ របស់ មន្ទីរ អង្គភាព និង ទីភ្នាក់ងារ នានា របស់ ក្រសួង ស្ថាប័ន ដែល ប្រចាំ នៅ ខេត្ត ត្រូវ ចម្លង ជូន សាលា ខេត្ត ។ \n",
              "  ក្នុង ការអនុវត្ដ តួនាទី និង ភារកិច្ច របស់ ខ្លួន គណៈ អភិបាល ខេត្ត អភិបាល ខេត្ត អភិបាល រង ខេត្ត ត្រូវ ពិនិត្យ ពិចារណា លើ ចំណុច សំខាន់ ៗ មួយចំនួន ដែល ពាក់ព័ន្ធ នឹង របៀបរបប អនុវត្ដ ការងារ ដូច ខាងក្រោម ៖ \n",
              "  < / doc >,xxbos \n",
              "  ប្រភេទ សិលា \n",
              "  សិលា ដែល បាន រលាយ គេ ហៅ ថា “ ម៉ាក់ ម៉ា ” ( xxmaj magma ) ។ ម៉ាក់ ម៉ា ភាគ ច្រើន កើត ចេញពី ការរលាយ \n",
              "  ដោយ ផ្នែក នៃ ម៉ង់ តូ ។ សិលា ម៉ាក់ ម៉ា ក កើតមាន នៅពេល ម៉ាក់ ម៉ាក ក រឹង ។ ប្រសិនបើ ម៉ាក់ ម៉ា ផុស ឡើង លើ ផ្ទៃ ផែន \n",
              "  ដី នោះ វា អាច xxunk ( ការពុក ផុយ នៃ សិលា ) និង សំណឹក ហើយ កម្ទេច កំទី ដែល បាន បង្កើតឡើង នោះ ត្រូវបាន \n",
              "  xxunk ហើយ ជា ចុងក្រោយ ត្រូវបាន xxunk ( ជាធម្មតា នៅលើ បាត សមុទ្រ ) ជា កម្ទេច កំណ ។ ប្រសិនបើ \n",
              "  កម្ទេច កំណ ធូរ ទាំង នេះ ត្រូវបាន ពង្រឹង ទៅជា សិលា នោះ វា ក្លាយទៅជា សិលា កម្ទេច កំណ ។ ខណៈពេល សិលា នេះ \n",
              "  ត្រូវបាន កប់ ដោយ ស្រទាប់ បន្ថែម នៃ កម្ទេច កំណ និង សិលា កម្ទេច កំណ នោះ កម្ដៅ និង សម្ពាធ កើនឡើង ។ កម្លាំង \n",
              "  តិច xxunk ក៏ អាច ធ្វើឱ្យ កើនឡើង សីតុណ្ហភាព និង សម្ពាធ ផងដែរ ។ ប្រសិនបើ សីតុណ្ហភាព គឺ ខ្ពស់ គ្រប់គ្រាន់ ជាធម្មតា \n",
              "  នៅ ជម្រៅ ជ្រៅ ជាង ពីរ - បី គីឡូម៉ែត្រ ខាងក្រោម ផ្ទៃ ផែនដី នោះ សិលា កម្ទេច កំណ ដើម លែង មាន តុល្យភាព ជាមួយ \n",
              "  លក្ខខណ្ឌ រូប និង គីមី ថ្មី នោះ ហើយ ហើយ វា xxunk ជា ក្រាម ឡើងវិញ ម្ដង ទៀត ។ សិលា ថ្មី ដែល កកើតឡើង នោះ គេ \n",
              "  ឱ្យ ឈ្មោះ ថា xxunk ។ ប្រសិនបើ សីតុណ្ហភាព ទទួលបាន ខ្ពស់ ខ្លាំង នោះ xxunk ដោយ ផ្នែក ដោយ \n",
              "  បង្កើត បានជា ម៉ាក់ ម៉ា និង បំពេញ នូវ វដ្ដ សិលា ។ \n",
              "  វដ្ដ នេះ អាច ត្រូវបាន ធ្វើឡើង ដដែល ៗ ។ យ៉ាងណា ក៏ដោយ មិន មែន គ្រប់ សិលា ទាំងអស់ សម្រេច ផល បាន \n",
              "  តាម ជំហាន នីមួយ ៗ នៅក្នុង វដ្ដ នោះ ឡើយ ។ ឧទាហរណ៍ ៖ សិលា កម្ទេច កំណ អាច ត្រូវបាន ងើប ឡើង ត្រូវ xxunk \n",
              "  និង ត្រូវ រង សំណឹក ដោយ បង្កើត បានជា កមេ្ទច កំណ ថ្មី ទៀត ។ \n",
              "  ដូច្នេះ វដ្ដ នេះ រៀបរាប់ អំពី ការកកើត និង ការខូច រូបរាង នៃ សិលា នៅក្នុង ផែនដី ។ នៅ ពេល ណាមួយ \n",
              "  កន្លែងណា ដែល នៅក្នុង ឬ នៅលើ ផ្ទៃ ផែនដី សិលា ត្រូវបាន បង្កើត ផ្លាស់ប្ដូរ បំផ្លាញ និង xxunk ៖ ប្រហែល ១៤ - ១៦ \n",
              "  គ.ម ៣ នៃ សម្បក ផែនដី ដែល បាន xxunk ជារៀងរាល់ ឆ្នាំ ។ ទីតាំង នៃ ដំណើរការ ទាំង នេះ ត្រូវបាន កំណត់ ជា ចម្បង \n",
              "  ដោយ ចលនា នៃ ផ្លាក តិច xxunk ( គឺជា ចលនា នៃ ផ្លាក តាមរយៈ ចរន្ដ xxunk ក្នុង xxunk ) ដែល ធ្វើឱ្យ មាន ការ កកើត នៃ \n",
              "  សម្បក ផែនដី ថ្មី នៅ ព្រំដែន ផ្លាក សំណង់ និង ការលិច ចុះ ( ការកប់ ) នៃ សិលា និង ការងើបឡើង នៃ សម្បក ផែនដី \n",
              "  នៅឯ ព្រំដែន បំផ្លាញ ។ \n",
              "  អត្ថបទ នេះ ដកស្រង់ ចេញ ពី សៀវភៅ \" មូលដ្ឋានគ្រឹះ នៃ xxunk វិទ្យា \" របស់ ដេប៉ាតឺ ម៉ង់ ភូមិ វិទ្យា និង រៀបចំ ដែនដី នៃ សាកលវិទ្យាល័យ ភូមិន្ទ ភ្នំពេញ ។ \n",
              "  ដោយ៖ xxunk xxunk និស្សិត ភូមិ វិទ្យា ជំនាន់ ទី ២៥ ( xxunk / xxmaj xxunk . xxmaj khmer . xxmaj photographer / xxunk ) \n",
              "  < / doc >,xxbos ឃាត់ខ្លួន ជនសង្ស័យ ពីរ នាក់ ប្ដី ប្រពន្ធ ពី បទ រំលោភ លើ ទំនុកចិត្ត \n",
              "  ឧត្ដរ មានជ័យ ៖ កម្លាំង ការិយាល័យ ព្រហ្មទណ្ឌ កម្រិត ធ្ងន់ ស្នងការ នគរបាល ខេត្ត ឧត្ដរ មានជ័យ ដឹកនាំ ដោយ លោក វរសេនីយ៍ ឯក យិន ណារ៉េត សហការ ជាមួយ លោក ជយ័ វាសនា មេ ប៉ុស្តិ៍ នគរបាល រដ្ឋបាល អូរ ស្មាច់ ចុះ សហការ ជាមួយ កម្លាំង នាយកដ្ឋាន នគរបាល ព្រហ្មទណ្ឌ ក្រសួង មហាផ្ទៃ និង កម្លាំង សមត្ថកិច្ច នៃ ស្នងការដ្ឋាន នគរបាល ខេត្ត កំពត ដោយ មាន ការសម្របសម្រួល ពន្លាត ដែន សមត្ថកិច្ច ពី លោក កូយ កាន់ យ៉ា ព្រះរាជអាជ្ញា កម្លាំង បាន ចុះ អនុវត្តន៍ ដីកា បញ្ជា ឲ្យ ចូល ខ្លួន របស់ លោក ព្រះរាជអាជ្ញា អម សាលា ដំបូង ខេត្ត ឧត្តរមានជ័យ ។ \n",
              "  ប្រតិបត្តិការ នេះ ធ្វើឡើង នៅ វេលា ម៉ោង ១៨ និង ០០ នាទី ថ្ងៃទី ២៦ ខែកក្កដា ឆ្នាំ ២០១៩ ដោយ បាន ឃាត់ខ្លួន ជនសង្ស័យ ពីរ នាក់ ប្តី ប្រពន្ធ នៅ ចំណុច ផ្ទះ ជួល ក្នុង ភូមិ ត្រពាំង ធំ , ឃុំ ត្រពាំង ធំ ស្រុក ទឹក ឈូ ខេត្ត កំពត ជាប់ចោទ ពី បទ រំលោភ លើ ទំនុកចិត្ត ( ខ្ចី ប្រាក់ គេ ជាង ពីរ ម៉ឺន ដុល្លារ ) ពី ជនរងគ្រោះ ចំនួន ០៣ នាក់ មិន សង ហើយ រត់គេចខ្លួន ។ \n",
              "  សមត្ថកិច្ច បាន ឲ្យដឹង ថា ជនសង្ស័យ ឈ្មោះ ម៉ៅ ភារុន ភេទ ប្រុស អាយុ ៣២ ឆ្នាំ រស់ នៅ ភូមិ ប៉េសេ សង្កាត់ ទឹក ថ្លា ខណ្ឌ សែនសុខ រាជធានី ភ្នំពេញ ។ \n",
              "  ប្រពន្ធ ឈ្មោះ ចែ ស្រី អាយុ ៥០ ឆ្នាំ ស្រុក កំណើត នៅ ខេត្ត ព្រៃវែង រស់ នៅ ភូមិ ប៉េសេ សង្កាត់ ទឹក ថ្លា ។ \n",
              "  សមត្ថកិច្ច បន្ត ថា ក្នុង ប្រតិបត្តិការ នេះ បាន ធ្វើ ការដកហូត រថយន្ត ម៉ាក xxmaj camry ឆ្នាំ ២០០០ ពណ៌ ឆ្លូញ ០១ គ្រឿង ពាក់ ស្លាកលេខ 1 g 1187 ។ \n",
              "  បច្ចុប្បន្ន ជនសង្ស័យ សមត្ថកិច្ច កំពុង នាំ ខ្លួន ពី ខេត្ត កំពត មក ឧត្តរមានជ័យ ដើម្បី ចាត់ការ តាម នីតិវិធី ៕ \n",
              "  ដោយ ៖ ចាន់ ធី,xxbos អតីត អធិការ រង ស្រុក ភ្នំ ស្រួច ទទួល ផែន ប្រឆាំង គ្រឿងញៀន ត្រូវបាន ក្រសួង មហាផ្ទៃ សម្រេច ផ្អាក ការងារ បណ្ដោះអាសន្ន ពាក់ព័ន្ធ ករណី បង្ក្រាប ក្លឹប កម្សាន្ត « គិរីរម្យ » ប៉ះ ខ្សែ អ្នក ធំ \n",
              "  កំពង់ស្ពឺ ៖ អតីត អធិការ រង នគរបាល ស្រុក ភ្នំ ស្រួច លោក អនុ សេនីយ៍ ឯក អ៊ឹង ឡាយ ឆាយ ត្រូវបាន សម្តេច ក្រឡាហោម ស ខេង ឧប នាយក រដ្ឋមន្ត្រី រដ្ឋមន្ត្រី ក្រសួង មហាផ្ទៃ សម្រេច ផ្អាក ការងារ ជា បណ្តោះអាសន្ន ពាក់ព័ន្ធ បណ្តឹង របស់ ប្រជាពលរដ្ឋ ចោទប្រកាន់ ជាច្រើន ករណី ក្នុង ការបង្ក្រាប ក្លឹប កម្សាន្ត « គិរីរម្យ » ជាមួយ គណៈ បញ្ជាការ ឯកភាព ខេត្ត កំពង់ស្ពឺ ប៉ះ ចំ ខ្សែ អ្នក ធំ ។ \n",
              "  ជុំវិញ រឿងរ៉ាវ ដ៏ រសើប ខាងលើ នេះ មហាជន បាន ដាក់ ជា ចម្ងល់ ថា ការចុះ ធ្វើ រដ្ឋបាល xxunk គណៈ បញ្ជាការ ឯកភាព ខេត្ត ស្រុក ចុះ ត្រួតពិនិត្យ ក្លឹប កម្សាន្ត « គិរីរម្យ » ក្រោម ការដឹកនាំ របស់ លោក ស xxunk អភិបាល រង ខេត្ត កំពង់ស្ពឺ លោក ឧត្ដមសេនីយ៍ ទោស ម xxunk ស្នងការ ខេត្ត អភិបាល ស្រុក អាជ្ញាធរ ឃុំ ក្រោម ការសម្របសម្រួល នីតិវិធី ដោយ លោក ខៃ សម្ផស្ស ព្រះរាជអាជ្ញា រង អម សាលាដំបូង ខេត្ត កំពង់ស្ពឺ នោះ ហេតុ អ្វី នៅ ពេល មាន រឿង ប្តឹង ផ្តល់ ពីសំណាក់ ថៅកែ ក្លឹប បែរជា មាន កំហុស តែ លោក អ៊ឹង ឡាយ ឆាយ គ្រាន់តែ អធិការ រង ទទួលបន្ទុក ជំនាញ គ្រឿងញៀន តែ ម្នាក់ឯង ទៅ វិញ ? យោង តាម ប្រកាស លេខ xxunk ប្រក ចុះ ថ្ងៃទី ១៩ ខែកក្កដា ឆ្នាំ ២០១៩ របស់ សម្ដេច ក្រឡាហោម ស ខេង ឧប នាយក រដ្ឋមន្ត្រី រដ្ឋមន្ត្រី ក្រសួង មហាផ្ទៃ បាន សម្រេច ការផ្អាក ការងារ បណ្ដោះអាសន្ន ចំពោះ លោក អនុ សេនីយ៍ ឯក អ៊ឹង ឡាយ ឆាយ អធិការ រង នៃ អធិការដ្ឋាន ស្រុក ភ្នំ ស្រួច ។ \n",
              "  ចំពោះ មូលហេតុ ដែល នាំឲ្យ មាន ការដក បញ្ឈរ ជើង នេះ ដោយសារ មាន បណ្តឹង ពី ប្រជាពលរដ្ឋ ចោទប្រកាន់ ពី បទ ៖ លួច មាន ស្ថាន ទម្ងន់ ទោស , រំលោភ លំនៅដ្ឋាន មាន ស្ថាន ទម្ងន់ ទោស , ចាប់ ឃុំឃាំង និង បង្ខាំង ដោយ ខុស ច្បាប់ មាន ស្ថាន ទម្ងន់ ទោស , និង បទ គំរាមកំហែង ។ \n",
              "  ដូច្នេះ លោក អ៊ឹង ឡាយ ឆាយ អតីត អធិការ រង នគរបាល ស្រុក ភ្នំ ស្រួច ត្រូវ បង្ហាញ ខ្លួន ជារៀងរាល់ ម៉ោង ធ្វើការ នៅ ការិយាល័យ បុគ្គលិក នៃ ស្នងការដ្ឋាន ខេត្ត កំពង់ស្ពឺ ។ \n",
              "  សូម រំឭក ថា នៅ ថ្ងៃសៅរ៍ ១១ កើត ខែ ផល្គុន ឆ្នាំ ច សំរឹទ្ធិ ស័ក xxunk ត្រូវនឹង ថ្ងៃទី ១៦ ខែមីនា ឆ្នាំ ២០១៩ វេលា ម៉ោង ២៣ និង ០០ នាទី រំលង អធ្រាត្រ កម្លាំង គណៈ បញ្ជាការ ឯកភាព ខេត្ត ស្រុក បាន ធ្វើ រដ្ឋបាល ចំហ ក្នុង ក្លឹប កម្សាន្ត « គិរីរម្យ » ស្ថិត នៅ ភូមិ ៤ ត្រែង ត្រយឹង ស្រុក ភ្នំ ស្រួច ខេត្ត កំពង់ស្ពឺ ដើម្បី អនុវត្ត តាម គោលនយោបាយ ភូមិ / ឃុំ មាន សុវត្ថិភាព របស់ រាជ រដ្ឋាភិបាល ។ \n",
              "  ក្នុង ប្រតិបត្តិការ ខាងលើ កម្លាំង នគរបាល បាន ឆែកឆេរ រកឃើញ ថ្នាំញៀន ០១ កញ្ចប់ តូច និង ឧបករណ៍ ជក់ មួយចំនួន ធំ ក្នុង នោះ បាន ឃាត់ខ្លួន មនុស្ស ២ នាក់ តាម បញ្ជា តំណាង អយ្យការ អម សាលាដំបូង ខេត្ត កំពង់ស្ពឺ ។ \n",
              "  ក្រោយពី កម្លាំង គណៈ បញ្ជាការ ឯកភាព ខេត្ត និង សមត្ថកិច្ច ជំនាញ រកឃើញ ថា ទីតាំង ក្លឹប កម្សាន្ត និង ខារ៉ាអូខេ « គីរីរម្យ » មាន ពាក់ព័ន្ធ បទល្មើស គ្រឿងញៀន កម្លាំង ចម្រុះ សម្រេច បិទ អាជីវកម្ម ក្លឹប នេះ បណ្តោះអាសន្ន ហើយ កសាង សំណុំរឿង បញ្ជូន ទៅ សាលាដំបូង ខេត្ត ចាត់ការ បន្ត តាម នីតិវិធី ។ \n",
              "  ក្លឹប xxunk ដែល កម្លាំង គណៈ បញ្ជាការ ឯកភាព ខេត្ត បង្ក្រាប នេះ ម្ចាស់ អាជីវកម្ម ក្លឹប កម្សាន្ត និង ខារ៉ាអូខេ « គិរីរម្យ » មាន ឈ្មោះ ទិត្យ ស៊ីណាត មាន ប្អូន ប្រុស ជា មន្ត្រី ប៉េ អិម ខេត្ត កំពង់ស្ពឺ និង មាន សាច់ញាតិ ធ្វើ ការងារ ធំ នៅ ក្រសួង ផងដែរ ។ \n",
              "  របាយការណ៍ របស់ ស្នងការ ប៉ូលិស ខេត្ត កំពង់ស្ពឺ បាន ឲ្យដឹង ថា ក្នុង ប្រតិបត្តិការ ក្ដៅ គគុក នេះ គឺជា xxunk វិធានការ រដ្ឋបាល ចំហ នៅ ក្លឹប xxunk « គីរីរម្យ » ឃុំ ត្រែង ត្រយឹង ស្រុក ភ្នំ ស្រួច ដឹកនាំ ដោយ លោក សរ xxunk អភិបាល រង ខេត្ត កំពង់ស្ពឺ លោក ស្នងការ ស្នងការ រង អភិបាល ស្រុក ភ្នំ ស្រួច អាជ្ញាធរ មូលដ្ឋាន ដោយ មាន ការសម្របសម្រួល នីតិវិធី ពី លោក ខៃ សម្ជស្ស ព្រះរាជអាជ្ញា រង អម សាលាដំបូង ខេត្ត កំពង់ស្ពឺ តែម្តង ។ \n",
              "  របាយការណ៍ បាន បង្ហាញ ថា « ជា លទ្ធផល កម្លាំង គណៈ បញ្ជាការ ឯកភាព រកឃើញ ឧបករណ៍ ប្រើប្រាស់ គ្រឿងញៀន ជាច្រើន ក្នុង នោះ ឃាត់ខ្លួន មុខ សញ្ញា ០២ នាក់ ប្រុស ឈ្មោះ សុខ ភារៈ តួនាទី xxup xxunk មាន ទីលំនៅ ភូមិ / ឃុំ ខាងលើ និង ឈ្មោះ រ័ត្ន ភារម្យ មុខ សញ្ញា សង្ស័យ ពាក់ព័ន្ធ ករណី ជួញដូរ សារធាតុ ញៀន ខុស ច្បាប់ ដើម្បី សាកសួរ រក មេខ្លោង ដែល ពាក់ព័ន្ធ ករណី អនុញ្ញាតឲ្យ មាន ការជួញដូរ និង ផ្ដល់ ទីតាំង ប្រើប្រាស់ គ្រឿងញៀន នេះ ។ \n",
              "  កម្លាំង គណៈ បញ្ជាការ ឯកភាព ខេត្ត កំពង់ស្ពឺ បាន បញ្ជាក់ ថា « ក្រោយ ប្រតិបត្តិការ រដ្ឋបាល ជំនាញ រកឃើញ វត្ថុតាង សង្ស័យ មួយចំនួន ដែល ទាក់ទង នឹង ការផ្ដល់ ទីតាំង ឲ្យ មាន ការជួញដូរ ប្រើប្រាស់ ថ្នាំ ញៀន ខុស ច្បាប់ ទីតាំង ក្លឹប xxunk គីរីរម្យ ត្រូវបាន អាជ្ញាធរ ស្រុក ខេត្ដ ជំនាញ សម្រេច បិទ ផ្អាក សកម្មភាព ជា បណ្ដោះអាសន្ន រង់ចាំ កិច្ច ស្រាវជ្រាវ បន្ដ ពីព្រោះ ទីតាំង នេះ ជា កន្លែង ផ្តល់ឲ្យ ប្រើប្រាស់ គ្រឿងញៀន » ។ \n",
              "  បន្ទាប់ពី គណៈ បញ្ជាការ ឯកភាព ខេត្ត កំពង់ស្ពឺ ចុះ រដ្ឋបាល ចំហ ពិនិត្យ ក្លឹប កម្សាន្ត និង ខារ៉ាអូខេ « គិរីរម្យ » មាន ជាប់ពាក់ព័ន្ធ បទល្មើស គ្រឿងញៀន ក៏ បាន បិទ អាជីវកម្ម នេះ ជា បណ្ដោះអាសន្ន នាំឲ្យ មាន ការខាតបង់ ច្រើន ទើប លោកស្រី ទិត្យ ស៊ីណាត បាន ប្តឹង លោក អនុ សេនីយ៍ ឯក អ៊ឹង ឡាយ ឆាយ អតីត អធិការ រង ស្រុក ភ្នំ ស្រួច លោក ស្នងការ ស្នងការ រង នគរបាល ខេត្ត កំពង់ស្ពឺ និង បក្ខពួក ផ្សេង ៗ ទៀត ០៤ បទល្មើស រួមមាន ៖ ១ - បទ បរិហារ បង្កាច់ កេរ្តិ៍ , ២ - រំលោភ លើ លំនៅឋាន មាន ស្ថាន ទម្ងន់ ទោស , ៣ - ចាប់ ឃុំឃាំង បង្ខាំង មនុស្ស ដោយ ខុស ច្បាប់ មាន ស្ថាន ទម្ងន់ ទោស និង ៤ - គំរាមកំហែង ។ \n",
              "  លោកស្រី ទិត្យ ស៊ីណាត បាន រៀបរាប់ ថា « លោកស្រី បាន ដាក់ពាក្យបណ្តឹង ទៅ សម្តេច ក្រឡា xxunk ស ខេង ឧប នាយក រដ្ឋមន្ត្រី រដ្ឋមន្ត្រី ក្រសួង មហាផ្ទៃ ស្នើសុំ ជួយ រក យុត្តិធម៌ និង ដោះលែង ជនរងគ្រោះ ពីរ នាក់ ប្តី ប្រពន្ធ ឲ្យ នៅ ក្រៅ ឃុំ ទើប ក្រុម អធិការកិច្ច ចុះ មក ស៊ើបអង្កេត លើ ករណី នេះ នៅ ស្នងការដ្ឋាន នគរបាល ខេត្ត កំពង់ស្ពឺ » ។ \n",
              "  មហាជន រង់ចាំ មើល ថា តើ មាន មន្ត្រី ប៉ុន្មាន នាក់ ទៀត ដែល ត្រូវ ក្នុង រឿង នេះ ក្រៅពី លោក អ៊ឹង ឡាយ ឆាយ អតីត អធិការ រង ទទួល ផ្នែក ប្រឆាំង គ្រឿងញៀន ? ៕ \n",
              "  ដោយ ៖ រដ្ឋ ឋានៈ,xxbos \n",
              "  ប្រវត្តិ ភាសា អ៊ីតាលី \n",
              "  ប្រវត្តិ ភាសា អ៊ីតាលី \n",
              "  ភាសា អ៊ីតាលី ជា ភាសា មួយ មកពី ភាសា រ៉ូមុំាង ដែល ត្រូវបាន និយាយ ដោយ ជនជាតិ ដើម ប្រហែល មនុស្ស ៧០ លាន នាក់ នៅក្នុង ប្រទេស អ៊ីតាលី ម៉ាល តា សាន់ ម៉ារីណូ និង ផ្នែក នៃ ប្រទេស ស្វីស ក្រូ ទៀ សូវៀត និង ប្រទេស បារំាង ។ អ្នក និយាយ ភាសា ដើម មួយ ចំនួន គឺ សុទ្ធតែ ជា ទ្វិ ភាសា ដើម នៃ មាត្រដ្ឋាន ជនជាតិ អ៊ីតាលី ទាំង ពីរ ប្រភេទ និង តំបន់ ផ្សេង ៗ ពី គ្នា ។ នៅក្នុង ប្រទេស ស្វីស ភាសា អ៊ីតាលី ជា ភាសា ផ្លូវការ មួយ ក្នុង ភាសា ជា ផ្លូវការ ទាំង បួន ត្រូវបាន និយាយ ដោយ ជនជាតិ ស្វីស ក្នុង តំបន់ នៃ xxunk ហ្គី xxunk និង xxunk ។ ផងដែរ នោះ វា គឺជា ភាសា ផ្លូវការ នៃ តំបន់ សាន់ ម៉ារីណូ ប្រសើរ ជាង ភាសា ដើម នៃ ទីក្រុង xxunk ខាន ។ ភាសា អ៊ីតាលី ត្រូវបាន ចាត់ទុក ជា ភាសា របស់ ខ្លួន ដោយ រដ្ឋ បន្ទាប់ពី ប្រទេស អ៊ីតាលី បាន បង្រួបបង្រួម មក ត្រូវបាន គេ ជា មូលដ្ឋាន ទៅ លើ គ្រាម ភាសា ទូស ខាន ដែល ទុក មុន គឺ ដែល អាច ទទួលយក បាន នៅក្នុង សាលា ថ្នាក់រៀន ក្នុង សង្គម xxunk ។ វា មាន ការរីកចម្រើន ឡើង ៗ គឺ ផងដែរ នោះ ឈាន ទៅដល់ មាន ឥទិ្ធពល ដោយ ភាសា គ្រាម ភាសា អ៊ីតាលី និង ដោយ ភាសា អាឡឺម៉ង់ នៃ អ្នក ឈ្លានពាន ពួក រ៉ូមុំាង ។ \n",
              "  ភាសា អ៊ីតាលី ក្លាយ ចេញមកពី សញ្ញា ភាសា ឡាតាំង និង មាន ភាព យ៉ាង ជិតស្និត រវាង ភាសា ជាតិ ទៅនឹង ភាសា ឡា តំាង ។ មិន ដូច ភាសា រ៉ូមុំាង ផេ្សង ៗ ទាំងអស់ នោះ ទេ ភាសា អ៊ីតាលី រក្សាទុក ខុសគ្នា របស់ ភាសា ឡា តំាង រវាង ព្យញ្ញានះ ខ្លី និង ព្យញ្ញានះ វែង ។ ដូច នៅក្នុង ភាសា រ៉ូមុំាង ការសង្កត់ សម្លេង គឺជា កំណត់ សំគាល់ ។ ជាពិសេស ការចូល រូម របស់ ភាសា រ៉ូមុំាង អ៊ីតាលី គឺ មាន ភាព យ៉ាង ជិត ស្អិត ទៅនឹង ភាសា ឡា តំាង ក្នុង ក្រុម នៃ xxunk ណ៏ ។ xxunk ស ទិសភាព ( ការអាន ដូចគ្នា ) គឺ មាន ទៅដល់ ៨៩ % ជាមួយនឹង ភាសា បារំាង ៨៧ % ជាមួយ ភា xxunk xxunk ៨៥ % ជាមួយ ភាសា xxunk ៨២ % ជាមួយ ភាសា ស្ប៉ាញ ៧៨ % ជាមួយ ភាសា xxunk តូ រ៉ូមុំាង និង ៧៧ % ជាមួយ ភាសា រ៉ូមុំាង ។ \n",
              "  ភាសា អ៊ីតាលី មាន ប្រវត្តិ យូរយា ណាស់ មកហើយ ប៉ុន្តែ ជា ភាសា ដ៏ ពេញនិយម នៃ ភាសា គឺ ភាគ ច្រើន ត្រូវបាន អោយ ចេញ ជា រូបរាង អោយ ប្រើប្រាស់ ដោយ ប្រៀបធៀប មកដល់ បច្ចុប្បន្ន នេះ ។ មុនពេល ដែល អក្សរ មាន អនុភាព ដែល អាច មាន អត្ថន័យ អាច ហៅ បាន ថា ភាសា អ៊ីតាលី ( ដោយ ត្រឹមត្រូវ ភាសា ក្នុង ស្រុក ដូចជា មាន ការ សំគាល់ ពី xxunk ឡាតាំង សាមញ្ញ ) គំរូ លិខិត នីត្យានុកូល មកពី តំបន់ xxunk វ៉េន តូ ដែល មាន នៅ ឆ្នាំ ចាប់ពី ឆ្នាំ ៩៦០ ដល់ ៩៦៣ ។ អ្វី ដែល ចង់អោយ មាន អាច គិត អំពី ភាសា អ៊ីតាលី គឺ បាន យល់ព្រម ជា លើក ដំបូង ក្នុង ឆ្នាំ ដំបូង ក្នុង សតវត្ស រ៏ ទី ១៤ តាម រយះ ការងារ នៃ ដាន់ ទី xxunk អេរី ដែល លាយ ជាមួយ ភាសា អ៊ីតាលី ខាងត្បូង ជាពិសេស ភាសា ស៊ី xxunk ជាមួយ ជនជាតិ ដើម xxunk នៅក្នុង បទ កាព្យ និយាយ អំពី ព្រឹត្តការណ៏ របស់ អ្នក ចម្បាំង ដ៏ ល្បីល្បាញ ដោយ រួបរួម ដូចជា xxunk ឌា ជាមួយ ហ្គី xxunk នី xxunk អូ ទាក់ទង គ្នា នឹង អត្ថបទ xxunk ។ សេចក្តីស្រលាញ់ ការងារ យ៉ាង ខ្លាំង របស់ លោក ដាត ត្រូវបាន គេ អាន ពាសពេញ ប្រទេស អ៊ីតាលី និង អត្ថបទ ភាសា គ្រាម ភាសា របស់ គាត់ បាន ក្លាយទៅជា \" ត្រូវ តាម xxunk \" ដែល សម្រាប់ ការអប់រំ ទៅដល់ ជនជាតិ អ៊ីតាលី ទាំងអស់ អាច និង ងាយ យល់ ដឹង កាន់តែ ច្បាស់ ។ ដាត គឺ នៅតែ មាន ជំនឿ ជឿជាក់ មាន កិត្តិយស ជាមួយនឹង បមាណី យកម្ម ភាសា អ៊ីតាលី និង ដូចនេះ គ្រាម ភាសា នៃ ភាសា ហ្លរ៉េន ក្លាយទៅជា មូលដ្ឋានគ្រឹះ សម្រាប់ អ្វី ដែល ចង់ ក្លាយទៅជា ភាសា ជា ផ្លូវការ នៃ ភាសា អ៊ីតាលី ។ \n",
              "  ភាសា អ៊ីតាលី ជារឿយ ៗ គឺ ភាសា ជា ផ្លូវការ ផ្សេង ពីរដ្ឋ អ៊ីតាលី គឺ សសេរ ថ្ងៃ ខែ មុន ដណើ្តម យក ភាសា ឡាតាំង បន្តិច ម្តង ៗ នៅ ពេល ដែល មាន ឥទ្ធិពល ពី បរទេស ( ដូចជា ភាសា ស្ប៉ាញ នៅក្នុង អាណាចក្រ xxunk ឬ ភាសា អូស្រ្តាលី នៅក្នុង អាណាចក្រ xxunk xxunk xxunk ) សូម្បីតែ ទីប្រជុំជន ក៏ បាន និយាយ ភាសា ក្នុង ស្រុក និង គ្រាម ភាសា ។ ភាសា អ៊ីតាលី ផងដែរ គឺជា ភាសា មួយ ក្នុង ចំណោម ភាសា ជា ច្រើន ដែល ទទួលស្គាល់ ភាសា នៅក្នុង ពាក់កណ្តាល ចក្រភព អូស្រ្តាលី និង ចក្រភព ហ៊ុង គ្រី ។ \n",
              "  ប្រទេស អ៊ីតាលី ជារឿយ ៗ បាន សំគាល់ ដោយ ភាសា គ្រាម ភាសា សម្រាប់ ទីក្រុង តាំងពី ទីក្រុង ពីមុន រហូតដល់ ថ្មី ៗ នេះ គិត នៃ ទីក្រុង រដ្ឋ ។ ទោះបីជា យ៉ាងណា ក៏ដោយ គ្រាម ភាសា ទាំងនោះ សព្វ ថ្ងៃ នេះ មាន យ៉ាង ច្រើន ដោយ ខុសប្លែក ពី គ្នា បន្តិចបន្តួច ។ ដូច ទាញយក ភាសា អ៊ីតាលី មក អោយ ប្រើប្រាស់ ពាសពេញ ប្រទេស អ៊ីតាលី ជា ការពិត ការនិយាយ តាម តំបន់ គឺ រក្សាទុក យ៉ាង ត្រឹមត្រូវ តាម ធម្មជាតិ ការបង្កើត ផ្សេង មួយ ទៀត នៃ តំបន់ ភាសា អ៊ីតាលី ។ ភាពខុសគ្នា ចំពោះ អត្តចរិត សំខាន់ សម្រាប់ ជំនួស រវាង ភាសា អ៊ីតាលី រ៉ូមុំាង និង xxunk អ៊ីតាលី គឺជា ករ ផ្គួប ចូល គ្នា ទាំង ពីរ នៃ ព្យញ្ញានះ ខាង ដើម និង ការបញ្ចេញ សម្លេង នៃ ការអាន \" អ៊ី \" \" e \" និង \" អេស \" \" s \" ក្នុង ករណី ខ្លះ ( ឧទាហរ ណ៏ xxunk xxunk \" all right \" \" \" ) \n",
              "  ភាពខុសគ្នា ទៅនឹង ភាសា អ៊ីតាលី ខាងជើង គ្រាម ភាសា និង ភាសា អ៊ីតាលី ខាងត្បូង ជារឿយ ៗ ត្រូវបាន មិន បាន ពិភាក្សា ដោយ xxunk កូ xxunk មាន ឥទិ្ធពល នាំអោយ ប្រើប្រាស់ នៅ ប្រទេស អ៊ីតាលី ។ យ៉ាង សំខាន់ នោះ ដោយ ក វី ពាក្យ កាព្យឃ្លោង មកពី ប្រទេស បារាំង ។ ក្នុង អំឡុង ពេល ពាក់កណ្តាល អាយុ ប៉ុន្តែ បន្ទាប់ពី ទទួល ជោគជ័យ ជំនះ នៃ អ៊ីតាលី ខាងត្បូង xxunk ក្លាយជា ទឹកដី ប្រទេស អ៊ីតាលី ជា លើក ដំបូង ដើម្បី រក្សាទុក xxunk xxunk អារម្ម ណ៏ ឬ វិធី នៅក្នុង xxunk វីនិពន្ធ ។ សូម្បីតែ នៅក្នុង ករណី ភាសា អ៊ីតាលី ខាងជើង ទោះបីជា យ៉ាងណា ក៏ដោយ អ្នកប្រាជ្ញ ជាច្រើន គឺ មាន xxunk ដោយ មិន បំផ្លើស មាន អនុភាព ប្រសិទ្ធភាព នៃ អ្នក ខាងក្រៅ លើ រីកចម្រើន ភាសា ក្នុង ស្រុក ។ \n",
              "  ឥទិ្ធពល សេដ្ឋកិច្ច និង ដោយ xxunk ភាព ជឿនលឿន នៃ ទូស សាណី នៅ សម័យ ( ចុង ពាក់កណ្តាល សម័យកាល ) អោយ គ្រាម ភាសា មាន រឹងមាំ គិត អំពី ភាសា xxunk ទៀន បាន រលឹក ត្រូវបាន ផ្សព្វផ្សាយ ពាសពេញ ក្នុង តំបន់ ជិត សមុទ្រ វិជ្ជាជីវះ នៅជិត សមុទ្រ ម៉េឌីទែរ៉ាណេ ។ ផងដែរ នោះ ការកើតឡើង នៃ នយោបាយ មាន ភាពទាក់ទង នៃ ហ្លរ៉េន ក្នុង អំឡុង ពេល xxunk កើតឡើង នៃ ច្រាំង xxunk មនុស្ស និយម និង ដំណើរ មាន សកម្មភាព ជាថ្មី នៃ អក្សរសាស្ត្រ កើតឡើង វិញ ភាសា គ្រាម ភាសា ឬ ដូចជា ធ្វើអោយ ប្រសើរឡើង តាម និយាម ក្នុង សិល្បះ ។ \n",
              "  របកគំហើញ សារជាថ្មី នៃ ដាត និង បាន បន្ត អោយ xxunk ណ៏ នៅ ក្នុង ភាសា វិទ្យា ក្នុង សតវត្ស រ៏ ទី ១៦ បាន ពិភាក្សា គ្នា យ៉ាង រស់រវើក ដែល xxunk ពាសពេញ ប្រទេស អ៊ីតាលី ការទុក ព្រួយ ខ្វល់ xxunk ការវិនិច្ឆ័យ ដែល គួរតែ គ្រប់គ្រង គ្រឹះស្ថាន សម្រាប់ នៃ អក្សរសាស្ត្រ អ៊ីតាលី និង ត្រូវបាន និយាយ ភាសា ។ អ្នកប្រាជ្ញ មួយចំនួន បាន បែង ចែក ក្នុង នោះ ជា បី ក្រុម \n",
              "  ១ អ្នក សុទ្ធ និយម ដឹកនាំ ដោយ ភីត ត្រូ xxunk ប៉ូ ( ទាមទារ ភាសា អោយ មាន អនុភាព តែ មួយ ត្រូវបាន ដាក់ ជា មូលដ្ឋាន ទៅ លើ អក្សរសាស្ត្រ សំខាន់ ដូចជា xxunk ច និង xxunk អូ ) ។ \n",
              "  ២ ណី xxunk xxunk និង ហ្ល xxunk ចូលចិត្ត កំណែ ថ្មី ត្រូវបាន និយាយ ដោយ មនុស្សធម្មតា ជាង ក្នុង សម័យកាល របស់ ពួកគេ ។ \n",
              "  ៣ អ្នក អែប អប ដូចជា បាល ដា សារី កាស xxunk អូនី និង xxunk ហ្គី xxunk អូ xxunk xxunk ទទូច ថា តំបន់ នីមួយ ៗ មាន ភាសា ក្នុង ស្រុក ជួយ អោយ ទៅជា ភាសា ជា និយាម ថ្មី ( ជា ស្តង់ដា ថ្មី ) ។ \n",
              "  ការធ្វើ ទាមទារ មួយ ភាគ បួន ជនជាតិ អ៊ីតាលី គឺ តុលាការ បាន យល់ព្រម ។ តាម យថា ហេតុ គំនិត របស់ xxunk xxunk ជ័យជំនះ និង ការអាន ដើម្បី បោះពុម្ភ នៃ វចនានុក្រម អ៊ីតាលី ក្នុង ១៦១២ និង ស្ថាបនា នៃ xxunk មី ដី ឡា គ្រូ ស្កា ក្នុង ហ្លរ៉េន ( xxunk ដល់ ១៥៨៣ ) នីតិបញ្ញត្តិ ជា ផ្លូវការ ទំាង មូល នៃ ភាសា អ៊ីតាលី ។ \n",
              "  អត្ថន័យ គួអោយ កត់សំគាល់ ពីរ បច្ចុប្បន្ន ក្នុង ប្រវត្តិសាស្រ្ត ភាសា អ៊ីតាលី បាន កើតឡើ រវាង ឆ្នាំ ១៥០០ និង ១៨៥០ ។ ព្រឹត្តការណ៏ ទាំង ពីរ គឺ មាន ការផ្សព្វផ្សាយ យ៉ាង រហ័ស ។ អ្នកគ្រប់គ្រង អ្នក ច្បាប់ នៃ ជនជាតិ ស្ប៉ាញ បាន ផ្សាយ និង \n",
              "  < / doc >\n",
              "y: LMLabelList\n",
              ",,,,\n",
              "Path: kmwiki_data;\n",
              "\n",
              "Valid: LabelList (353 items)\n",
              "x: LMTextList\n",
              "xxbos \n",
              "  ចក្រីនី \n",
              "  ចៅ ពញា ចក្រីនី ( \" ចៅ ពញា \" ជា សក្ដិ , \" ចក្រី \" ជា ងារ , \" នី \" ជា ឈ្មោះ ) លោក ជា សេនាបតី ចតុស្ដម្ភ របស់ ព្រះស្ដេច កន ហ្លួង ខាងកើត ។ \n",
              "  និយាយ អំពី សម្ដេច ស្រី ជេដ្ឋា ព្រះអង្គ គ្រង ពិជ័យ ព្រៃ នគរ នោះ វិញ លុះ ដល់ ខែមិគសិរ បុស្ស ហើយ ទ្រង់ គិត ថា ទ្រង់ នឹង ធ្វើ សង្គ្រាម យក ជ័យ ជំនះ លើ សម្ដេច ចៅ ពញាចន្ទ រាជា ក្នុង គ្រា នេះ ឲ្យ ខាងតែ បាន ទើប ទ្រង់ ត្រាស់បង្គាប់ ចៅ ហ៊្វា កៅ សម្ដេច ចៅ ពញា ហែង ចៅ ពញា ស្នង ធ្នឹម ព្រះនគរ ចៅ ពញា វៀង ចៅ ពញា វាំង ចៅពញា ស្រាល និង ចៅ ពញា លំពាំង ជា សេនាបតី ឲ្យ កេណ្ឌ រេហ៍ ពល បាន ១៥០០០ នាក់ មក សមហាត់ ឲ្យ ស្ទាត់ ហើយ នឹង យក ទៅ វាយ បន្ទាយ ក្ដុល វិញ ។ បើ មាន ជ័យជំនះ ហើយ ទ្រង់ នឹង លើក រហូតដល់ បន្ទាយមានជ័យ ( ពោធិ៍សាត់ ) សំរេច ផែនដី ក្នុង ឆ្នាំ នេះ ឲ្យបាន ។ សេនាបតី ទាំង ប្រាំមួយ នាក់ ក៏ ថ្វាយបង្គំ លា ចេញ ទៅ ចាត់ សំបុត្រ ឲ្យ កេណ្ឌ មក គ្រប់គ្រាន់ តាម ព្រះបន្ទូល ពិសេស ។ សេចក្ដី ដែល កេណ្ឌ រេហ៍ ពលមក សមហាត់ នេះ ឮ សូរ សព្ទ ទៅដល់ សម្ដេច ព្រះភគិនេយ្យោយសរាជាជា កែវ នាយក ទើប ទ្រង់ ត្រាស់ ប្រឹក្សា នឹង ឧកញ៉ា ចក្រី ទេ ព ឧកញ៉ា សួគ៌ា លោក សុខ កូន ពញា មឿង និង សម្ដេច ចៅ ពញា កែវ ចៅ ពញា ឧទ័យ ធិរាជ ចៅ ពញា តេជោ នោះ អស់ នាយកងទ័ព ថា ពល គេ ដល់ ទៅ ១៥ xxrep 4 ០ នាក់ ពល យើង មាន តែ ៤០០០ នាក់ ដូច្នោះ នឹង គិត ដូចម្ដេច កើត ។ វេលា នោះ ឧកញ៉ា ចក្រី កែវ ចៅ ពញា សួគ៌ា លោក សុខ កូន ពញា មឿង យក សេចក្ដីក្រាបទូល ពល យើង សម្ដេច ព្រះបរម បពិត្រជា អម្ចាស់ ទ្រង់ ឲ្យ បន្ថយ អស់ ទៅ ហើយ បើ យើង នឹង ទៅ កេណ្ឌ ថែម ទៀត ក្រែង ពុំ ទាន់ តែ កាលបិតា ទូលព្រះបង្គំ លោត អន្លង់ សំលាប់ ខ្លួន ទៅ កេណ្ឌ ទ័ព បិសាច ឲ្យ ជួយ ធ្វើការ នោះ បាន ផ្ដាំ ទុក នឹង ចៅ ពញាចន្ទ មេស្មឹង ជា ភឿន ថា បើ ម្ចាស់ ផែនដី មាន សេចក្ដីទ័ល ធុរៈដូចម្ដេច កុំ ឲ្យ ស្ដេច មាន បន្ទូល ផ្ទាល់ ថា ឲ្យ មេស្មឹង និយាយ ឆ្លង ព្រះបន្ទូល លោក នឹង កេណ្ឌ ទ័ព បិសាច មក ជួយ ឲ្យបាន សំរេច ។ ឥឡូវការណ៍ យើង ក៏ ប្រទាល ខ្លួន ណាស់ ហើយ គួរ យើង ធ្វើ តាម បណ្ដាំ នោះ ល្បង មើល សម្ដេច ព្រះភគិនេយ្យោយសរាជាជា កែវ នាយក ទ្រង់ ជ្រាប ហើយ ទ្រង់ ត្រាស់ ឲ្យ ចៅ ពញាចន្ទ មេស្មឹង ចូលមក ត្រាស់ ប្រាប់ ដូន កូន ពញា មឿង ពីរ នាក់ យក សេចក្ដី ក្រាបបង្គំទូល។ ខណៈ នោះ ពញាចន្ទ មេស្មឹង ទទួល ព្រះបន្ទូល ពិសេស ហើយក៏ ឲ្យ ធ្វើ រោង រាជវ័តិ និង ឆត្រ គ្រឿង សក្ការៈបូជា ស្លៀក សស្រេច ហើយ ក៏ ចូល ទៅក្នុង រោង រាជ ពិធី ឧទ្ទិស ដល់ ខ្មោច ពញា មឿង ថា សុំឲ្យ ពញា ជួយ ឲ្យបាន សំរេច ដូច ជួយការណ៍ ក្នុង ខេត្ត ពោធិ៍សាត់ ។ ក្នុង គ្រា នោះ បិសាច ពញា មឿង ចូល សណ្ឋិត នឹង មេស្មឹង ហើយ ប្រាប់ កូន ទាំង ពីរ ថា ឲ្យ យក ចំបើង ចង ជា រូប មនុស្ស ឲ្យកាន់ ប្រឆេះ ឲ្យ ពួក ពល ចេះតែ តាំង ហ៊ោ បាញ់ កាំភ្លើង ពី ចំងាយ ទៅ សុំ យើង កេណ្ឌ ទ័ព បិសាច ទៅ ជួយ ឲ្យ សំរេច ។ វេលា នោះ កូន ពញា មឿង ទាំង ពីរ នាក់ លុះ ដល់ ពេល យប់ ហើយ ឲ្យ រេហ៍ ពលយក ចំបើង ចង ជា រូប មនុស្ស រួច ចង ប្រឆេះ នៅ រូប ចំ បើង នោះ យក ទៅ ដាក់ នៅ ក្បាល ត្រោក ជុំវិញ បន្ទាយ ព្រះស្ដេច កន ។ ឯ បិសាច ពញា មឿង ក៏ កេណ្ឌ ឲ្យ តាំង ហ៊ោ បីដូច គេ ប្លន់ យក បន្ទាយ ។ ទ័ព ស្ដេច កន ឮ ហើយ ក៏ តាំងតែ បាញ់ កាំភ្លើង ធ្នូ ស្នាចោល ដុំ ថ្ម ពី ក្នុង បន្ទាយមក ជាច្រើន រាត្រី ។ សម្ដេច ចៅ ហ៊្វា កៅ ធ្វើ តែ ដូច្នោះ ១៥ រាត្រី ។ កងទ័ព ក្នុង បន្ទាយ បាញ់ អស់ ព្រួញ ធ្នូ ស្នា នឹង ជិត អស់ ទាំង គ្រាប់ រំសេវ លុះ ដល់ យប់ គំរប់ ១៥ នោះ ស្រាប់តែ ឮ តាំង ហ៊ោ ទូង ស្គរ ក្រោម ដី និង លើ អាកាស ដូច រន្ទះ កក្រើក ទាំង ព្រះធរណី ធូលី ក៏ បក់ បោក ចូល ភ្នែក ។ អស់ សេនា ទាហាន ទ្រាំ ពុំ បាន ក៏ បើក ទ្វារ បន្ទាយ ខាងកើត ហើយ រត់ ទៅ ទិស អាគ្នេយ៍ ប៉ង ទៅ ខេត្ត រោង ដំរី ដើម្បី ទៅ ពឹង ប្រទេស ចាម ឲ្យ ជួយ ។ កងទ័ព បិសាច បណ្ដាល អាត្មាឲ្យ ឃើញ កងទ័ព ឈរ តាំង ហ៊ោ តាម ផ្លូវថ្នល់ ដល់ ទៅ ខេត្ត រោង ដំរី នោះ ។ ឯ ព្រះស្ដេច កន សម្ដេច ចៅ ហ៊្វា កៅ ចក្រី និង ស្នង ធ្នឹម ព្រះនគរ xxunk នាំ អ្នក ម្នាង ជា លែង រត់ ចេញ តាម ទ្វារ ប៉ម ទិស ឦសាន ដើម្បី ទៅ ទិស ខាងជើង កាត់ ស្រុក លាវ ។ លុះ ទៅដល់ ព្រៃ មួយ អន្លើ ឲ្យ បោះ ទ័ព បង្អង់ នៅ ទីនោះ យូរ ទៅ ជាប់ ឈ្មោះ បង្អង់ យារ ៗ មក ហៅ ហូរ ជើង វាំង ។ ទីនោះ ជា ព្រៃ គគីរ មាន ដើម គគីរ ជាច្រើន ព្រះស្ដេច កន ឃើញ ដើម គគីរ មួយ ធំ ក្រៃលែង ឲ្យ បាំង ស្រមោល វាស់ ល មើលឃើញ ២៤ ព្យាម សំណុំ ៩ ព្យាម ទើប ព្រះស្ដេច កន ប្រឹក្សា នឹង អស់ មន្ដ្រី នាយកងទ័ព ថា ចៅ ពញាចន្ទ រាជា មាន ទូក សារាយ អណ្ដែត វែង តែ ១៨ ព្យាម ទើប ព្រះស្ដេច កន នឹង អស់ មន្ដ្រី នាយកងទ័ព ថា ចៅ ពញាចន្ទ រាជា មាន ទូក សារាយ អណ្ដែត វែង តែ ១៨ ព្យាម ។ ដូច្នោះ គួរ យើង ឲ្យ កាប់ ដើម គគីរ ធ្វើ ទូក ឲ្យបាន ជាស្រេច ហើយ នឹង ឲ្យ រាជសារ ទៅ បបួល ចៅ ពញាចន្ទ រាជាអុំ ភ្នាល់ ដាក់ ព្រះនគរ ។ បើ មិន ភ្នាល់ យើង នឹង ឲ្យ រេហ៍ ពល តាំង ហ៊ោចំអក ចំអន់ ឲ្យ ឈឺចិត្ដ ។ បើ ហ៊ាន អុំ ភ្នាល់ ទូក យើង វែង ជាង ដល់ ទៅ ៧ ព្យាម នោះ គង់ មាន ជ័យជំនះ ដោយ ងាយ បាន ។ គិត ព្រមព្រៀង គ្នា ហើយ ស្ដេច កន ក៏ ឲ្យ រេហ៍ ពល កាប់ ដើម គគីរ នោះ ចាំង លុង បានជា ទូក -ង មួយ វែង ២៥ ព្យាម ទទឹង ១២ ហត្ថ ទើប ឲ្យ ឈ្មោះ ព្រៃ គគីរ នោះ ហៅ ថា ព្រៃ គគីរ រៀង មក ។ ឯ ទូក ដែល កាប់ បាន នោះ សិត ពុំ ទាន់ រួច ហើយ ស្ដេច កន ឲ្យ អូស យក ទៅ ធ្វើ នៅឯ បន្ទាយសង់ រោង និង សិត ទូក នោះ ហើយ ឲ្យ សាង ព្រះចេតិយ មួយ គិត នឹង យក បន្ទាយសាង ថ្មី នេះ ជា មហា នគរ ។ កំពុងតែ សាង ព្រះចេតិយ ធ្វើ បន្ទាយ នឹង សិត ទូក នោះ កងទ័ព បិសាច ក៏ តាម ទៅ សំដែង ឫទ្ធិ តាំង ហ៊ោឮ សូរ សព្ទ ដូចជា ស្គរ រន្ទះ ទាំង ផែនប្រឹថ ពី ។ ស្ដេច កន ចៅ ហ៊្វា កៅ និង អស់ នាយកងទ័ព មើល មិន ឃើញ ច្បាំង ពុំ កើត ឃើញ ប្លែក អស្ចារ្យ ណាស់ ទ្រាំ ពុំ បាន ក៏ នាំគ្នា រត់ ពី ទីនោះ ទៅ ទៀត ។ ស្ដេច កន សម្ដេច កៅ សម្ដេច ចៅ ពញា ហែង រត់ បែក គ្នា ទៅ ចុង ម្ខាង ឯ អ្នក ម្នាង ជា លែង និង ចក្រីនី រត់ បែក ផ្លូវ ទៅ ទិស ខាងត្បូង ទៅដល់ ភូមិ គោក ស្រុក ហើយ ទី ដែល បែក ផ្លូវ នោះ ជាប់ ហៅ ភូមិ នាង ឃ្វាង ផ្លូវ យារ ៗ មក ហៅ ថា ភូមិ ស៊ាង ឃ្វាង ។ ក្រោយមក អ្នក ម្នាង ជា លែង រត់ ទៅ ទៀត ចូល ព្រៃ លេច វាល គិត ថា ក្រែង ស្ដេច កន តាមរក ខ្លួន ពុំ ឃើញ ក៏ កាត់ សក់ ចង នឹង មែក ឈើ នោះ ប្រាថ្នា ឲ្យ ស្ដេច កន ឃើញ ហើយ តាម រក បានជា ជាប់ ហៅ វាល ចង សក់ ដល់ សព្វ ថ្ងៃ នេះ ។ តមក ទៀត នាង ដើរ ហួស ទៅ ទៀត ត្រូវ ថ្ងៃ ក្ដៅ ណាស់ ខណៈ នោះ មាន សត្វ ខ្លែង មួយ ហ្វូង ចំកាង ស្លាប ហើរ បាំង ពីលើ មិន ឲ្យ ក្ដៅ លុះ មាន គេ ទៅ នៅ ភូមិ នោះ ក៏ ជាប់ ឈ្មោះ ហៅ ថា ភូមិ បង្ហើរ ខ្លែង ។ នាង ដើរ ហួស ទៅ ទៀត ឃើញ ត្រពាំង មួយ ទឹក ថ្លា ល្អ នាង ក៏ ចូលទៅ កក់ ក្បាល នៅ ទីនោះ លុះ មាន គេ ទៅ នៅ ភូមិ បាន ជាប់ ឈ្មោះ ហៅ ថា ភូមិ ស្រែកក់រៀង មក ។ នាង ដើរ ទៅ ទៀត មាន អូរ មួយ នឹង ដើរ ឆ្លង មិន រួច នាង បន់ ដល់ អ្នកតាបង់ បត់ សុំឲ្យ មាន ទូក ឆ្លង ពេល នោះ អ្នកតាបង់ បត់ តំណែង ជា ក្រពើ មួយ ឲ្យ នាង ដើរ ជាន់ ឆ្លង ទៅ ក្រពើ នោះ ប្រែក្លាយទៅជា ក្រពើ ថ្ម រហូតដល់ សព្វ ថ្ងៃ នេះ គេ ហៅ ថា ភូមិភាគ ក្រពើ រៀង មក ។ នាង ដើរ ហួស ទៅ ទៀត រោយ ជើង ដើរ ពុំ រួច អស់ កងទ័ព សុំ ពរ នាង នៅ ទួល នោះ សព្វ ថ្ងៃ នេះ ជាប់ ហៅ ថា ទួល សុំ ពរ ។ លុះ ដើរ ទៅ ទៀត នាង សួស ជា មាតា នាង ជា លែង រោយ ជើង ដើរ មិន រួច ចៅ ពញា ចក្រីនី ឲ្យ យក សំពត់ ធ្វើ អង្រឹង ហើយ យក ដង ផ្គាក់ ធ្វើ ស្នែង សព្វ ថ្ងៃ នេះ ជាប់ ឈ្មោះ ហៅ ថា ព្រែក ដង ផ្គាក់ ។ ត ពី នេះ ទៅ ទៀត ដល់ វាល មួយ អន្លើ ធ្លាក់ ខ្នើយ នាង សួស ពី អង្រឹង បានជា ជាប់ ឈ្មោះ ហៅ ថា វាល ជ្រុះ ខ្នើយ ។ លុះ ទៅដល់ អូរ មួយ អន្លើ ចោល ស្នែង ដែល សែង នាង សួស នោះ ទៅក្នុង អូរ នោះ សព្វ ថ្ងៃ គេ ហៅ ថា អូរ ចោល ស្នែង ។ ក្នុង ស្រុក ត្បូងឃ្មុំ នោះ មាន អុង ម៉ុង ពីរ ( ដូច ដែល យើង បាន ពណ៌នា រួច មកហើយ ក្នុង ដើម នេះ ) អ្នកស្រុក សន្មត ហៅ ថា អុង ម៉ុង ព្រះមហោសថ ។ អុង ម៉ុង តូច នោះ មាន ទំហំ ៧ ហត្ថ បួន ជ្រុង អុង ម៉ុង ធំ នោះ មាន ទំហំ ១៣ ហត្ថ បួន ជ្រុង ។ ទឹក ដែល ហូរ លើ អុង ម៉ុង នោះ ធ្លាក់ ទៅ លើ ព្រែក ឆ្លូង ឆ្ពោះ ត្រង់ ទៅ ស្រុក យួន ។ លុះ ពេល សែង នាង ទៅដល់ អុង ម៉ុង នោះ សំរាក មួយ សន្ទុះ នាង ទៅ ពួន ក្នុង ហោង តូច សព្វ ថ្ងៃ នេះ គេ ហៅ អុង ម៉ុង តូច នោះ ថា ហោង ពល សែង ។ លុះ ឃើញ ថា ស្ងប់ស្ងាត់ គ្មាន កងទ័ព លើក តាម ទេ នាង នាំ បក្សពួក ទៅដល់ ហោង អុង ម៉ុង ធំ នោះ នាង សួស ទាំង កូន និង ម្ដាយ ចូលទៅ ពួន ក្នុង អុង ម៉ុង នោះ សព្វ ថ្ងៃ គេ ហៅ ថា ហោង ពួន ។ ពួក នេះ ហួស ទៅ ខាងកើត បាន ជួបជុំ ព្រះ ស្ដេច កន សម្ដេច កៅ ។ ស្ដេច កន ជំនុំគ្នា នឹង ធ្វើ បន្ទាយ ទៀត តែ ធ្វើ មិន កើត លុះ មាន គេ ទៅ នៅ ភូមិ នោះ ជាប់ ឈ្មោះ ថា ភូមិ ស្រែ បន្ទាយ ។ រត់ ពី នោះ ទៅ ទៀត ដល់ វាល មួយ វែង បណ្ដោយ ទៅ ខាងកើត ក្រោយមក មាន គេ ទៅ នៅ ស្រែ សព្វ ថ្ងៃ នេះ ជាប់ ហៅ ឈ្មោះ ភូមិ ស្រែ វែង ។ រត់ ទៅ ទៀត ច្រឡំ ផ្លូវ លោជា គេច ទៅ ឦសាន ព្រៃ ដែល មក ។ ក្រោយមក មាន គេ ទៅ នៅ សព្វ ថ្ងៃ នេះ ហៅ ថា ភូមិ រលា រៀង មក ។ បក្សពួក ស្ដេច កន នាំគ្នា រត់ ទៅ ទិស ខាងកើត ទៀត ជួប នឹង ស្វាស មួយ ស្វា នោះ ក៏ បេះ ផល្លានុផល ទំលាក់ មក ឲ្យ ក្រោយមក គេ ទៅ រាន ភូមិ នៅ សព្វ ថ្ងៃ នេះ ជាប់ ជា ភូមិ ស្វាស ។ រត់ ទៅ ឯ កើត ទៅទៀត ដល់ ចំការពោត មួយ អន្លើ ម្ចាស់ ចំការ ឈ្មោះ ថៅកែ យក ពោត មក ថ្វាយ ស្ដេច កន ហើយ ស្ដេច កន ឲ្យពរ ថា ឲ្យ រកស៊ី កើត កាល វាល គុម្ព ។ លុះ ក្រោយមក មាន គេ ទៅ នៅ គេ ហៅ ថា ភូមិ ជី កែ រៀង មក ។ រត់ ទៅ ទិស ខាងកើត ស្ដេច នឹង នាង អស់ កំលាំង ណាស់ អស់ ពួក ពល ឃើញ ថ្ម មួយ ដុំ ចាំង ធ្វើជា គ្រែ បណ្ដោយ ៦ ហត្ថ កំពស់ ១ ហត្ថ ទទឹង ៣ ហត្ថ ថ្វាយ ស្ដេច ផ្ទុំ លុះ ក្រោយមក មាន គេ ទៅ រាន ភូមិ នៅ គេ ហៅ ភូមិ ថ្ម គ្រែ ។ ឯ សម្ដេច ចៅ ហ៊្វា កៅ ចៅ ពញា ចក្រីនី ចៅ ពញា វៀង ចៅ ពញា វាំង ៤ នាយ នេះ កាលភ័យ ពេក ក៏ រត់ បែក គ្នា ចូលទៅ ខេត្ត បាភ្នំ មឿង រមាសហែក មាន ស្ម័គ្រ បក្សពួក ២០០ នាក់ ។ វេលា នោះ កងទ័ព នាយ ទាំង ៤ បាន ប្រទះ នឹង ចៅ ពញា សួគ៌ា លោក សុខ កូន ពញា មឿង កងទ័ព ទៅ ដេញ រត់ ទៅ ទៀត ។ ឯ ស្ដេច កន ឃ្លាន បាយ ណាស់ ក៏ ឈប់ ឲ្យ ដាំ បាយ តែ ដាំ ពុំ ទាន់ ឆ្អិន ទ័ព គេ ទៅដល់ ក៏ រត់ ទៅ ចោល បាយ នៅ ទីនោះ ទាំង បាយ ឆៅ ផង ។ លុះ កងទ័ព ចៅពញា សួគ៌ា លោក ទៅដល់ ក៏ យក បាយ ឆៅ នោះ ស៊ី ក្រោយមក ទៀត មាន គេ ទៅ រាន ភូមិ នៅ គេ ហៅ ភូមិ បាយ ឆៅ រៀង មក ។ ឯ នាយកងទ័ព ខ្មាំង ទាំង ៤ នាក់ ឃើញ ត្រឡាច ផ្លែ ក្នុង ព្រៃ ក៏ បបួលគ្នា បេះ ។ កំពុងតែ បេះ នោះ ទ័ព គេ ទៅដល់ ចាក់ កាប់ សំលាប់ ចៅ ពញា វៀង ចៅ ពញា វាំង ហើយ ទ័ព ដែល នៅសល់ ក៏ បែក រត់ ទៅ ទៀត ។ ក្រោយ ដែល បេះ ត្រឡាច នោះ មក មាន គេ ទៅ នៅ ក៏ ជាប់ ហៅ ថា ភូមិ ត្រឡាច រៀង មក ។ ឯ សម្ដេច ចៅ ហ៊្វា កៅ និង ចក្រី នី នាំស្ម័គ្រ បក្សពួក រត់ ទៅដល់ ព្រៃ មួយ អន្លើ មាន ទឹក ត្រពាំង ល្មម ពេល ដាំ បាយ ស្ល ស៊ី ក៏ ឈប់ កាប់ ត្រី ធ្វើ ម្ហូប ។ លុះ កងទ័ព គេ ទៅដល់ សម្ដេច ចៅ ហ៊្វា កៅ ចៅ ពញា ចក្រីនី ប្រថុយ ជីវិត ចូលមក តដៃ ក៏ កំពប់ ត្រី ពី ចាន បានជា ជាប់ ហៅ ថា ភូមិ ចាន ត្រី រៀង មក ។ ឯ ចៅ ហ៊្វា កៅ ចក្រីនី នាំ ស្ម័គ្រ បក្សពួក រត់ ទៅ ទៀត ចៅ ពញា សួគ៌ា លោក ក៏ ដេញ តាម ទៅ បន្ដិច ចៅ ពញា តេជោ លើក ទ័ព ទៅដល់ ក៏ ចូល ប្រកាប់ គ្នា ចក្រីនី នឹង ចៅ ពញា សួគ៌ា លោក សម្ដេច កៅត នឹង ចៅ ពញា តេជោ អ្នក ទាំងនោះ ស្ទាត់ ក្នុង ការកាន់ អាវុធ ចិត្ដ មុត ដូចគ្នា ។ ប្រយុទ្ធ គ្នា ពី ថ្ងៃត្រង់ ដល់ រសៀល បិសាច ពញា មឿង បណ្ដាលឲ្យ ចៅ ហ៊្វា កៅ ចក្រីនី ឮ សូរ ដូច គេ ស្រែក សន្ធាប់ នាំឲ្យ ធ្លាក់ អាវុធ ពី ដៃ ។ ខណៈ នោះ ចៅ ពញា សួគ៌ា លោក ចៅ ពញា តេជោ សំលាប់ បាន ហើយ កាត់ ក្បាល នាំមក ថ្វាយ សម្ដេច ព្រះភគិនេយ្យាយស រាជ ជា កែវ នាយក ទ្រង់ ព្រះអំណរ ណាស់ ទ្រង់ ប្រោសរង្វាន់ តាម សម គួរ ។ \n",
              "  < / doc >,xxbos \n",
              "  ឃុំ សំរោង លើ ( ខេត្ត កំពត ) \n",
              "  ឃុំ សំរោង xxunk គឺជា ឃុំ មួយ ដែល ស្ថិត នៅ \n",
              "  ក្នុង ស្រុក បន្ទាយមាស ខេត្ត កំពត ។ ហើយ ឃុំ នេះ មាន វត្ត ចំនួន ៤ ដូច ជា៖ - វត្ត បរិវាស - វត្ត ដំបូក ខ្ពស់ - វត្ត ដំណាក់ ត្រយឹង - វត្ត xxunk ។ ឃុំ នេះ មាន ប្រជាជន រស់ នៅ ច្រើន កុះករ ប្រជាជន ភាគ ច្រើន ប្រកបរបរ កសិកម្ម សំរាប់ ចិញ្ជឹម ជីវិត ។ បើ មើល កាលពី ឆ្នាំ ២០០០ មនុស្ស ភាគ ច្រើន ជា អ្នកក្រីក្រ ដោយសារតែ ពុំ ទាន់ មាន ចំនេះ ដឹង គ្រប់គ្រាន់ ក្នុង ការប្រកបរបរ ចិញ្ជឹម ជីវិត ។ មនុស្ស មួយចំនួន ធ្វើ ស្រែ មិន ចេះ មើល ថែ ដំនាំ ដី មិន មាន ជីជាតិ គ្រប់គ្រាន់ គ្មាន ការច្នៃប្រឌិត ធ្វើ កសិកម្ម តាម ហេតុ តាម កាល ដូច ច្នេះ ទើប ធ្វើអោយ xxunk ភាព ពួកគេ មិន រីកចំរើន បែប នេះ ។ ណាមួយ ប្រជាជន ភាគ ច្រើន រងគ្រោះថ្នាក់ យ៉ាង ខ្លាំង ដោយសារតែ មិន មាន មណ្ឌល សុខភាព នៅជិត ផ្ទះ ។ យ៉ាងណាមិញ មនុស្ស មួយចំនួន ធំ បាន ចេញ ពី ស្រុក កំណើត ទៅ រក ការងារ ធ្វើ នៅ ប្រទេស ផ្សេង ៗ ដូច ជា៖ ប្រទេស ថៃ ប្រទេស ម៉ាលេស៊ី ជាដើម ។ ហើយ មាន ការជិះ ជាន់ យ៉ាង ខ្លាំង ពីសំណាក់ ជន បរទេស មក លើ ប្រជាជន ខ្មែរ ។ ប៉ុន្តែ បើ ក្រលេក មើល បច្ចុប្បន្ន នេះ វិញ មនុស្ស ភាគ ច្រើន មាន ចំនេះ ដឹង ខ្ពង់ខ្ពស់ យល់ដឹង ច្រើន ពី សង្គម និង មាន ការទំនាក់ទំនង គ្នា យ៉ាង ជិតស្និត មិន ថា តែ ជនជាតិ ដទៃ ឬ ជនជាតិ ខ្លួន ។ ព្រមទាំ ស្គាល់ ពី xxunk ខាងក្រៅ ច្រើន ហើយ ពួកគេ យក ចំនេះ ដឹង ដែល គេ បាន សិក្សា ពី សាលា និង ចំនេះ ដឹង ផ្សេង មក ធ្វើ ការងារ នៅក្នុង ស្រុក និង ក្នុង ប្រទេស របស់ ខ្លួន ។ មិន តែ ប៉ុន្នោះ ការធ្វើ ការងារ នៅក្នុង ប្រទេស របស់ ខ្លួន គឺ គ្មាន ការជិះ ជាន់ ពីសំណាក់ ជន បរទេស ព្រមទាំង រក ប្រាក់ ចំនូល បាន ច្រើន សំរាប់ ជួយ ផ្គត់ផ្គង់ គ្រួសារ របស់ ពួកគេ ។ \n",
              "  រួមមាន ចំនួន ៦ គឺ ៖ \n",
              "  ភូមិ បរិវា ស៖ គឺជា ភូមិ មួយ នៅក្នុង ឃុំ សំរោង លើ ព្រមទាំង មាន មនុស្ស រស់ នៅ ច្រើន កុះករ ហើយ មនុស្ស ភាគ ច្រើន ប្រកប មុខរបរ កសិកម្ម ដូច ជា៖ ( ធ្វើ ស្រែ ចំការ ដាំ ដំនាំ បន្ទប់ បន្សំ ផ្សេង ៗ ទៀត ) ។ ហើយ កាលពី ឆ្នាំ ( ២០០២ ) មនុស្ស នៅ ភូមិ នេះ ភាគ ច្រើន ធ្វើ ស្រែ ដោយ ប្រើ គោ សំរាប់ ភ្ជួរ ស្រែ មួយចំនួន តូច ទៀត ប្រើ ក្របី សំរាប់ ភ្ជួរ រាស់ ។ សំរាប់ បច្ចុប្បន្ន នេះ មនុស្ស ភាគ ច្រើន មាន ជីវភាពធូធារ ជាង មុន ច្រើន ណាស់ ដោយសារតែ មនុស្ស ភាគ ច្រើន យល់ដឹង ពី របៀប នៃ ការប្រកបរបរ ចិញ្ជឹម ជីវិត ដូច ជា៖ អ្នក ខ្លះ ដំា xxunk បន្លែ ( ស្ពៃ ត្រលាច ត្រសក់ ខ្ទឹម ស្លឹក ពោត ល្ពៅ ជាដើម ។ ហើយ បន្លែ ទំាង នេះ ពួកគេ យក ទៅ ដាក់ លក់ នៅលើ ទីផ្សារ បាន តម្លៃ ខ្ពស់ សមរម្យ ដែល អាច ទទួលយក បាន ដោយសារតែ បន្លែ ទាំងនេះ មិន មាន ជាតិ គីមី ច្រើន ទើប ឈ្មួញ ទាំងនោះ ចូលចិត្ត ទិញ យក ទៅ លក់ បន្ត សំរាប់ xxunk បាន រើក ចំរើន ដួច គ្នា ។ ហើយ ក្នុង ភូមិ នេះ ភាគ ច្រើន គេ លក់ xxunk ចាប់ ហួយ ផ្សេង ៗ និង អ្នក ខ្លះ លក់ បបរ ប xxunk ព្រមទាំង របស់ ញុំ ជាច្រើន ទៀត ដើម្បើ យក ប្រាក់ កំរៃ ដែល បាន ចំនេញ នោះ មក ផ្គត់ផ្គង់ គ្រួសារ របស់ ពួកគេ ។ យ៉ាងណាមិញ xxunk នេះ មនុស្ស មួយចំនួន ធំ ក្នុង ភូមិ ភាគ ច្រើន ធ្វើ ស្រែ ចំការ ដោយ ប្រើ គោ សំរាប់ ភ្ជួរ រាស់ ស្រែ ចំការ តែ មួយចំនួន តូច ប្រើ xxunk xxunk រាស់ ស្រែ ចំការ របស់ ពួកគេ ។ សំរាប់ ក្មេង ៗ វិញ ពេលល្ងាច ទ្បើង ជិះ កង់ ដើរលេង មក ក្បែរ តូប អ្នកលក់ដូរ ហើយ ពួកគេ xxunk ខ្លាំង ណាស់ \n",
              "  ភូមិ ដំណាក់ ត្រយឹង ៖ គឺជា ភូមិ មួយ ស្ថិត ក្នុង ឃុំ សំរោង លើ នៃ ខេត្ត កំពត ។ ភូមិ នេះ មាន មនុស្ស រស់ នៅ ច្រើន កុះករ ហើយ ប្រជាជន ភាគ ច្រើន ប្រកប មុខរបរ ធ្វើ ស្រែ ចំការ សំរាប់ ចិញ្ជឹម ជីវិត របស់ ពួកគេ ។ ក្នុង ការធ្វើ ស្រែ នេះ ផងដែរ ពួកគេ ប្រើប្រាស់ គោ សំរាប់ ភ្ជួរ រាស់ ។ ហើយ កសិករ ភាគ ច្រើន នៅក្នុង ភូមិ នេះ ធ្វើ ស្រែ ដោយ ពឹងផ្អែក ទៅលើ ទឹកភ្លៀង ។ បើ កាលពី ឆ្នាំ ២០០៣ វិញ ជីវភាព របស់ ពួកគេ ដុន ដាប ចុះ ខ្លាំង ព្រោះថា ទឹកភ្លៀង ក្នុង ឆ្នាំ នោះ មិន សូវ អំណោយផល បាន ល្អ ។ យ៉ាងណាមិញ ឆ្នាំ នោះ ផងដែរ ការធ្វើ ស្រែ ពី ដំបូង ភ្លៀង បាន អំណោយផល ល្អ ណាស់ ប៉ុន្តែ លុះ ដល់ ពាក់កណ្តាល ខែ បែរជា មាន ភាពរាំងស្ងួត បណ្ដាលអោយ ស្កក ( ស្រូវ មិន ដាក់ គ្រាប់ ) ជាច្រើន មិន តែ ប៉ុន នោះ សូម្បីតែ ដំនាំ ដែល ពួកគេ ដំា បន្តិច បន្ទួច សំរាប់ ចិញ្ជឹម ជីវិត ក៏ ត្រូវ ខូចខាត ផងដែរ ។ ណាមួយ ផ្សារ នៅ ឆ្ងាយ ប្រសិនបើ គេ ចង់ ទៅ ផ្សារ គឺ ត្រូវ ចំនាយ ពេល យូរ ផងដែរ ។ ហើយ ប្រជាជន ក្នុង ភូមិ នេះ ពេល ទៅ ទិញ របស់របរ ប្រើប្រាស់ មួយចំនួន ទាល់តែ ធ្វើដំណើរ ទៅ ផ្សារ តូច នៅក្បែរ ភូមិ នោះ មាន ឈ្មោះ ថា ផ្សារ xxunk ។ ហើយ ក្នុង ផ្សារ នេះ មាន លក់ របស់របរ ប្រើប្រាស់ សំរាប់ ផ្គត់ផ្គង់ តំរូវការ របស់ បងប្អូន ប្រជាពលរដ្ឋ យើង ផងដែរ ។ ចំនែក បច្ចុប្បន្ន នេះ វិញ ជីវភាព របស់ ពួកគេ បាន រីកចំរើន ជាង មុន ច្រើន ដោយសារតែ បាន xxunk ពី ទឹកភ្លៀង បាន ល្អ ហើយ មនុស្ស មួយចំនួន មាន គំនិត ច្នៃប្រឌិត ច្រើន និង មាន ចំនេះ ដឹង ខ្ពង់ខ្ពស់ ចេះ កែច្នៃ រក វិធីសាស្ដ្រ ដែល ថ្មី សំរាប់ xxunk គ្រួសារ របស់ ពួកគេ ។ មិន តែ ប៉ុន្នោះ មនុស្ស នៅក្នុង ភូមិ នេះ មួយចំនួន បន្ទាប់ពី ធ្វើ ស្រែ រួច គេ ចេះ ធ្វើ ក្អម ឆ្នាំង ដី និង xxunk ដី ទៀតផង ។ ក្នុង នោះ ផងដែរ ក៏ មាន ការប្រកប មុខរបរ ដ៏ទៃ ទៀត ដូច ជា៖ ដំា ដំណាំ ផ្សេង ៗ រួមមាន ពោត សណ្ដែក ល្ពៅ និង លក់ វ៉ាន់ ចាប់ ហួយ មួយចំនួន សំរាប់ ផ្គត់ផ្គង់ គ្រួសារ របស់ ពួកគេ អោយ មាន ភាព រើក ចំរើន មួយ កំរិត ទៀត នូវ ពេល ទំនេរ ពី ការធ្វើ ស្រែ ចំការ ។ \n",
              "  < / doc >,xxbos \n",
              "  ភូមិសាស្ត្រ \n",
              "  ភូមិសាស្ត្រ ឬ ភូមិ វិទ្យា គឺ សិក្សា អំពី ផែនដី ។ វិទ្យាសាស្ត្រ នេះ បង្រៀន លក្ខណៈ ស្ទង់ មហាសមុទ្រ ជួរ ភ្នំ ។ល ។ ក៏ រៀន ផងដែរ អំពី ប្រជាជន នៅ ដី មួយ ( ប្រជាពលរដ្ឋ ) និង គូរ ផែនទី ។ \n",
              "  តាម វិគីភីឌា បារាំង ភូមិ វិទ្យា គឺជា ការសិក្សា អំពី ភូមិសាស្ត្រ លើ ផែនដី ជាពិសេស សិក្សា អំពី ផ្ទៃ នៃ ផែនដី ។ តាម ជន ជាតិ ក្រិក នេះ គឺជា ការពណ៌នា មួយ យ៉ាង ត្រឹមត្រូវ បំផុត អំពី ផែនដី ។ វា ជា វិទ្យា \n",
              "  សាស្ត្រ មួយ ដែល ឆ្លើយតប នឹង របកគំហើញ ថ្មី និង សំដៅ កំណត់ នយោបាយ ទន្ទ្រាន កាន់កាប់ ទឹកដី ដែល មាន ប្រយោជន៍ ។ ស្ត្រា បុង ( xxmaj xxunk ) ភូមិ វិទូ ជនជាតិ ក្រិក អំឡុង ឆ្នាំ ៥៧ ម . គ.ស. បាន និយាយ ថា ភូមិ វិទ្យា ជា xxunk សំរាប់ បង្ហាត់ បង្រៀន អ្នក ដែល ចង់ មាន សិទ្ធិ សំរេច ។ \n",
              "  បួន ទំលាប់ ជា ប្រវត្តិសាស្រ្ត ក្នុង ការស្រាវជ្រាវ ភូមិ វិទ្យា គឺ ការវិភាគ លំហ នៃ បាតុភូត ធម្មជាតិ និង មនុស្សជាតិ ( ភូមិ វិទ្យា ប្រៀប ដូច នឹង ការសិក្សា នៃ របាយ ) , បណ្តា ការសិក្សា បរិវេណ ( បណ្តា ទីកន្លែង និង បណ្តា តំបន់ ) , សិក្សា ទំនាក់ទំនង ធរណី - មនុស្ស , និង ស្រាវជ្រាវ ក្នុង វិទ្យាសាស្ត្រ ផែនដី ។ ទោះជា យ៉ាងណា ក្តី ភូមិ វិទ្យា ទំនើប ជា វិធាន ប្រមូលផ្តុំ គ្រប់ វិទ្យាសាស្ត្រ ក្នុង គោលដៅ ស្វែងយល់ ពិភពលោក និង រាល់ ស្មុគ្រស្មាញ ធម្មជាតិ មនុស្សជាតិ របស់ ពិភពលោក ដោយ ហេតុ ថា ជា ស្ពាន រវាង វិទ្យាសាស្ត្រ មនុស្ស និង វិទ្យាសាស្ត្រ រូប និយម , ភូមិ វិទ្យា ត្រូវបាន ចែកចេញ ជា បី មែក ធាង ចំបង គឺ \n",
              "  អាច និយាយ ថា ភូមិ វិទ្យា ជា \" មាតា នៃ គ្រប់ វិទ្យាសាស្ត្រ \" និង ជា \" ជន សំយោគ ចំណេះដឹង \" \n",
              "  បណ្តា ភូមិ វិទូ នៃ សម័យ ទំនើប តែងតែ ចោទ សំណួរ ចំបង ៗ ចំនួន 4 កាលបើ គេ ទាំងអស់ គ្នា និយាយ ដល់ ផែនដី ៖ \n",
              "  បណ្តា ធនធាន ធម្មជាតិ \n",
              "  ជា ការពិត ណាស់ ការវិភាគ ភូមិ វិទ្យា គ្រប់ ជ្រុងជ្រោយ មួយ ទាមទារ អោយ មាន សំណួរ ហូរហៀរ បន្ថែម ទៀត ដូចជា ( ហេតុ អ្វី ( why ) ? - កម្មវត្ថុ ទាំងឡាយ នៃ បណ្តា បុគ្គល / បណ្តា សង្គម ; យ៉ាង មេច ( how ) ? - បណ្តា ទំនាក់ទំនង នៃ អំណាច ក្នុង លំហ ; ទៅដល់ ណា ? ( until where ) - បណ្តា កំរិត ព្រំដែន , xxunk , បណ្តា កំរិត កំណត់ ... ) \n",
              "  ភូមិ វិទ្យា ដែល ពាក្យ អង់គ្លេស ប្រែ ថា xxmaj xxunk ។ xxmaj xxunk ( ដែល គួបផ្សំ ដោយ បណ្តា ពាក្យ ក្រិក xxmaj xxunk ( xxunk ) ឬ xxmaj xxunk ( xxunk ) មាន ន័យ ថា \" ផែនដី \" ; និង ពាក្យ xxunk ) មាន ន័យ ថា \" បរិយាយ \" ឬ \" សរសេរ \" ឬ \" គូរ ផែនទី \") ជា ការសិក្សា អំពី ផែនដី និង កត្តា ពិសេស របស់ វា ព្រមទាំង សិក្សា អំពី រ បាយ នៃ ជីវិត នៅលើ ផែនដី ។ បើ បកប្រែ តាមន័យ ត្រង់ , ភូមិ វិទ្យា មាន ន័យ ថា \" អធិប្បាយ ផែនដី \" ។ អ្នក ដែល ប្រើ ពាក្យ ភូមិសាស្ត្រ ( xxunk ) មុន គេ បង្អស់ គឺ លោក xxmaj xxunk ( ២៧៥ - ១៩៥ ម . គ. ស. ) នៅ ប្រទេស ក្រិក ។ \n",
              "  xxmaj xxunk ( ២៧៥ - ១៩៥ ម . គ. ស. ) គឺជា មនុស្ស ដំបូង ដែល ប្រើ ភូមិសាស្រ្ត នៅ ប្រទេស ក្រិក ។ គេ ឲ្យ ឈោ្មះ « xxunk » ( xxunk ) ។ ប្រជាជន ក្រិក គឺជា មនុស្ស ដំបូង ដែល ធើ្វ ផែនទី ។ \n",
              "  ប៉ុនែ្ត មនុស្ស ទាំងអស់ បាន គឹត ថា ផែនដី គឺជា xxunk ។ ប្រហែល ប្រជាជន ក្រិក បាន ដិង មុន គេ ។ មាន មនុស្ស ខ្លះ នៅ ប្រទេស នោះ ដែល បាន ដឹង ។ \n",
              "  មាន ពីរ ចំណែក : \n",
              "  ផែនដី មាន : \n",
              "  ភូមិសាស្រ្ត របស់ ផែនដី មាន ដែរ \n",
              "  ប្រជាជន នៅ ដី មួយ ។ \n",
              "  នៅ ផែនដី មាន ៧ ទ្វីប ។ ៥ មាន មនុស្ស រស់ នៅ និង ២ មិន មាន មនុស្ស រស់ នៅ ។ \n",
              "  ភូមិ វិទ្យា រូប និយម សិក្សា អំពី វិទ្យាសាស្ត្រ ផែនដី ។ វា មាន គោលដៅ ស្វែងយល់ លក្ខណះ រូបធាតុ នៃ ផែនដី ព្រមទាំង ស្រទាប់ xxunk , ស្រទាប់ xxunk xxunk , ស្រទាប់ xxunk ខ្យល់អាកាស , ស្រទាប់ xxunk និង ស្រទាប់ xxunk ប៊ី យូ ។ ភូមិ វិទ្យា រូប និយម ត្រូវបាន ចែកចេញ ជាច្រើន ផ្នែក ធំ ទូលាយ ដូច ជា៖ \n",
              "  ភូមិ វិទ្យា មនុស្ស ជា មែក ធាង មួយ នៃ ភូមិ វិទ្យា ដែល ផ្តោត ទៅលើ ប្រព័ន្ធ សិក្សា នៃ បណ្តា លំនាំ និង បណ្តា វិធី ដើម្បី សំលៀង អន្តរកម្ម របស់ មនុស្ស ជាមួយនិង xxunk ន ដោយ យោង ទៅលើ បណ្តា ហេតុ និង ផល ពិសេស នៃ សកម្មភាព មនុស្ស ក្នុង របាយ លំហ លើ ផ្ទៃ នៃ ផែនដី ។ ភូមិ វិទ្យា ត្រូវបាន ប្រមូលផ្តុំ ទៅ លើ សំណួរ ថា \" នៅ ទីណា \" , រីឯ ភូមិ វិទ្យា មនុស្ស ទោះជា យ៉ាងណា ក្តី ក៏ ផ្តោត លើ ចំលើយ ថា \" ហេតុម្តេច \" នៃ \" នៅ ទីណា \" ។ \n",
              "  ភូមិ វិទ្យា មនុស្ស សំដៅ បណ្តា ទិដ្ឋភាព មនុស្ស , នយោបាយ , វប្បធម៌ , សង្គម , និង សេដ្ឋកិច្ច ។ ខណះ ពេល ដែល បញ្ហា ចំបង នៃ xxunk មនុស្ស មិន មែន ជា ទេសភាព រូប និយម នៃ ផែនដី ( មើល ភូមិ វិទ្យា រូប និយម ) , វា ជា ការពិបាក នឹង អាច ប្រព្រឹត្តទៅ បាន ដើម្បី ពិភាក្សា ភូមិ វិទ្យា មនុស្ស ដោយ មិន យោង ទៅ លើ ស្ថានភាព xxunk ដែល ពោរពេញ ដោយ បណ្តា សកម្មភាព មនុស្ស ហើយ ដែល ភូមិ វិទ្យា xxunk ន កំពុង លេចធ្លោ ដែល ជា ទំនាក់ទំនង ជាមួយ ភូមិ វិទ្យា មនុស្ស និង ភូមិ វិទ្យា xxunk ។ ភូមិ វិទ្យា មនុស្ស ត្រូវបាន ចែក ជាច្រើន ផ្នែក ធំ ទូលាយ , ដូចជា ៖ \n",
              "  wikipedia អង់គ្លេស \n",
              "  < / doc >,xxbos \n",
              "  រតន មាលី \n",
              "  ព្រះអង្គ រតន មាលី រជ្ជកាល ស្រី ធម្មរាជា ទី ១ ទ្រង់ ជា បុត្រី នៃ ព្រះបាទ ធម្មរាជា ទី ១ ។ \n",
              "  សម័យ ថ្ងៃ មួយ នោះ ព្រះអង្គ រតន មាលី ព្រះរាជ បុត្រី នៃ សម្ដេច xxunk ធម្មរាជា ទ្រង់ ភ្នក ព្រះទ័យ ចង់ ទៅ ស្រង់ ទឹក ទន្លេ ធំ ឲ្យដឹង ស្គាល់ ជាតិ ។ លុះ ទ្រង់ ព្រះចិន្តា ដូច្នោះហើយ xxunk ក៏ ក្រាប ថ្វាយបង្គំ លា សម្ដេច ព្រះវរ រាជ មាតាបិតា ទៅ ក្រសាល តាម សព្វ ព្រះទ័យ ។ ព្រះវរ រាជ មាតាបិតា ក៏ យល់ព្រម ហើយ ស្ដេច ព្រះរាជ ដំណើរ ទៅ ជាមួយ ដែរ ។ ក្នុង គ្រា នោះ ច្រាំង ទន្លេ ធំ នៅ ទី កំពង់ចាម ដុះ ខ្សាច់ xxunk ល្អ ព្រះនាង និង អស់ បរិវា រ ចុះ ស្រង់ ក្នុង ទឹក ទន្លេ នោះ យ៉ាង ក្សេមក្សាន្ត ។ នេះ នឹង និយាយ ពី ក្រពើ មួយ នៅ ព្រែក ឆ្លូង ថា ក្រពើ នោះ មាន ក្បាល ៥ ហត្ថ សាហាវ ហាន ក្លា ក្រឡា ខ្លួន បាន ។ ថ្ងៃ នោះ វា ចេញ អំពី ព្រែក ឆ្លូង ហែល នាំ បរិវារ ទៅ លេង ទី នានា តាម សព្វ ដង រៀង មក ។ ក្នុង គ្រា នោះ ក្រពើ ក្រឡេក ឃើញ ព្រះរាជ បុត្រី ព្រះរតន មាលី នៅក្នុង កណ្ដាល ហ្វូង ស្ត្រី ក៏ មាន ចិត្ត មេត្រី ចង់ ព្រះនាង ជា ភរិយា ទើប វា វាយ កន្ទុយ រលក បោក គ្រាំ គ្រេង ។ អស់ ស្ត្រី ជាបរិវា រ ភិតភ័យ ទាំង ព្រះអង្គ រតន មាលី រត់ ឡើង គោក ទាំងអស់ គ្នា ។ ខណៈ នោះ ក្រពើ នោះ ស្ទុះ ចូលមក ខាំ ពាំយក ព្រះនាង រតន មាលី បាន ហើយ ក៏ ពាំនាំ តំរង់ ទៅកាន់ កន្លែង របស់ វា ។ អស់ ពួក ខ្ញុំ រាជការ ទាំង ប្រុស ទាំង ស្រី ឃើញ ហើយ ភិតភ័យ ក៏ ស្រែក កញ្ជ្រោល រោល រាល ជាខ្លាំង ។ សេចក្ដី នេះ ជ្រាប ដល់ ព្រះវរ រាជ មាតាបិតា ស្ដេច ទ្រង់ សោកស្ដាយ ព្រះរាជ បុត្រី ណាស់ ទ្រង់ ឲ្យ xxunk នាវា ដេញ តាម ក្រពើ នោះ ។ ទាហាន ខ្លះ ក៏ បាញ់ កាំភ្លើង បង្អើល ដើម្បីឲ្យ ក្រពើ នោះ លែង ចោល ព្រះនាង មកវិញ ខ្លះ ក៏ បោះ បាញ់ ច្បូក ធ្នូ ស្នា ដោយ ប្រការ ផ្សេង ៗ ។ ឯ ក្រពើ នោះ កាល ឮ សន្ធឹក កាំភ្លើង បាញ់ ដេញ តាម ប្រកិត យ៉ាង ជិត ខ្លាំង ពេក នឹង រក ពេល គេចវេះ ដោះ ខ្លួន យក ព្រះនាង ធ្វើជា ភរិយា ពុំ បាន ក៏ លេប ព្រះនាង ចូល ទៅក្នុង ពោះ ហើយ ស្ទុះ ហែល ចូល ទៅក្នុង ព្រែក ឆ្លូង តាម ទី កន្លែង របស់ វា ។ \n",
              "  ឯ ព្រះបរម បពិត្រ ដែល ទ្រង់ លើក ព្យុហៈ នាវា តាម ទៅ នោះ លុះ ទៅដល់ ព្រែក ឆ្លូង ហើយ ទ្រង់ ត្រាស់ បង្គាប់ ឲ្យ ហ្ម ចូល ទាក់ ក្រពើ នោះ លុះត្រាតែ បាន យកមក វះ ពោះ យក សព ព្រះរាជ បុត្រី មក ធ្វើ ព្រះមេរុ បូជា ព្រះសព ។ កាល សូរេច បុណ្យ ស្ដេច ទ្រង់ យក គ្រឿង សង្វារ កងកន់ និង ព្រះពាន មាស ទាំង ប៉ុន្មាន មក កសាង ជា ព្រះពុទ្ធរូប មាស ៥ អង្គ ប្រាក់ ៥ អង្គ សំរឹទ្ធិ ៥ អង្គ ទង់ ហ៊្វា ៥ អង្គ ទង់ដែង ( ស្ពាន់ ) ៥ អង្គ ។ ព្រះអង្គ ឲ្យ សាង ចេតិយ តំកល់ ព្រះអដ្ឋិ ព្រះរាជ បុត្រី នៅ ទីនោះ ។ ទ្រង់ ឲ្យ សាង ព្រះវិហារ មួយ នៅ មាត់ ព្រែក ឆ្លូង នោះ មាន សសរ មួយ រយ ប្លាយ ហើយ យក សុទ្ធសឹងតែ ខ្មោច ព្រាយ ទ្រាប បាត សសរ ទាំង មួយ រយ នោះ បញ្ចុះ xxunk ( មកពី ពាក្យ សំស្ក្រឹត xxunk ប្រើ ជា ឈ្មោះ មន្តអាគម ពួក មួយ សំរាប់ សូត សែក ហៅ ឬ បណ្ដេញ ភូត បី សាច ជាដើម និង ពិធី បញ្ចុះ គោលចារឹក សន្មត ថា ជា ជ័យ ភូមិ ) ឲ្យ ពូកែ ។ ដោយ ហេតុ ថា ព្រះអង្គ ក្រោធ នឹង អស់ មន្ត្រី ខ្ញុំ រាជការ ពុំ ជួយ ថែទាំ រក្សា បានជា ព្រះរាជ បុត្រី ថ្លោះ ការ ទាំង ម៉្លេះ ទើប សម្ដេច ព្រះបរម បពិត្រ ស្ដេច ដាក់ ទំនាយ ថា : បើ មន្ត្រី ណា ដើរ កាត់ មុខ ព្រះវិហារ កូន អញ ឲ្យ មន្ត្រី នោះ អន្តរាយ ។ ហេតុ នេះ ហើយ បានជា ព្រះវិហារ វត្ត នោះ នា ម៉ឺន ដើរ កាត់ មុខ ពុំ បាន ។ សម្ដេច ស្ដេច សាង ស្រេច ហើយ ស្ដេច ធ្វើ សង្គាយ នា ឆ្លង ព្រះវិហារ វត្ត នោះ ។ ព្រះអង្គ បង្វែរ ខ្ញុំ ប្រុស ២១ នាក់ ខ្ញុំ ស្រី ២១ នាក់ រទេះ គោ ២១ នឹម រទេះ ក្របី ២១ នឹម ស្រែ ២១ ភូមិ ២១ សេះ ២១ ដំរី ២១ ជា ដង្វាយ ព្រះស្រី រតនត្រ័យ ឲ្យបាន កុសល នោះ ចំរើន ដល់ ព្រះរាជ បុត្រី ។ លុះ សំរេច ព្រះរាជ ពិធី បុណ្យ នេះ ហើយ ព្រះអង្គ នាំ រាជ សេវកាមាត្យ ត្រឡប់ ចូលមក ក្រុង ចតុម្មុខ វិញ ។ \n",
              "  រឿង ខាងលើ ប្រហែលជា រឿង នាំឱ្យ មាន ជា រឿង ក្រពើ អាធន ( ប្រជុំ រឿង ព្រេង ខ្មែរ ) និង រឿង ក្រៃ ថោង និង ក្រពើ xxunk ។ \n",
              "  < / doc >,xxbos \n",
              "  ពន្លឺ នាវា ត្រៃលក្ខណ៍ វគ្គ ទី ២ \n",
              "  កាលបើ ព្រះយោគាវ ចរ មាន បំណង នឹង ចំរើន នូវ វិបស្សនា នោះ គប្បី ឲ្យដឹង អត្ថ នៃ វិបស្សនា ភាវនា ដូច្នេះ ថាៈ \n",
              "  បុគ្គល អ្នកធ្វើ វិបស្សនា បញ្ញា ដែល ខ្លួន ឃើញ ក្នុង អារម្មណ៍ ហើយ មាន ក្នុង ចិត្ត ដោយ ចេតនា ណា ចេតនា នោះ ឈ្មោះ ថា វិបស្សនា ភាវនា ។ ក៏ ឯ វិបស្សនា ភាវនា នេះ \n",
              "  ព្រះយោគាវ ចរ នឹង ចំរើន គប្បី សិក្សា ឲ្យដឹង ច្បាស់ នូវ ធម៌ ៣ ប្រការ ជាមុន សិន គឺៈ \n",
              "  សង្ខារ ធម៌ ដែល បច្ច័យប្រជុំ តាក់តែង ឡើង គឺ xxunk : ដែល នាម ធម៌ អាស្រ័យ និង xxunk : ដែល នាម ធម៌ មិន អាស្រ័យ ឬ ថា នាម និង រូប ដែល ចែកចេញ \n",
              "  ទៅ ដោយ ប្រការ ផ្សេង ៗ មាន ខន្ធ ៥ អាយតន : ១២ ធាតុ ១៨ ឥន្រ្ទីយ ២២ ជាដើម ទាំងអស់ នេះ គឺជា ភូមិ ជា អារម្មណ៍ របស់ វិបស្សនា ។ អ្នក ដែល ចំរើន វិបស្សនា នោះ \n",
              "  ត្រូវ រៀន ធម៌ ដែល ជា ភូមិ ជា អារម្មណ៍ របស់ វិបស្សនា នោះ ឲ្យដឹង ច្បាស់លាស់ ជាមុន ហើយ គប្បី សាកសួរ លោក អ្នក ចេះដឹង នូវ អត្ថ និង ធម៌ ឲ្យដឹង សេចក្តី ពិតប្រាកដ \n",
              "  ចំណាន ល្អ ទើប គួរ នឹង ចំរើន វិបស្សនា បាន ។ \n",
              "  សីល វិសុទ្ធិ សេចក្តីបរិសុទ្ធ នៃ សីល ១ ចិត្តវិសុទ្ធិ សេចក្តីបរិសុទ្ធ នៃ ចិត្ត គឺ ឧបចារសមាធិ និង អប្បនាសមាធិ ១ វិសុទ្ធិ ទាំង ២ នេះ ឯង ជា ឬ សគល់ ជា ហេតុ កើតឡើង \n",
              "  តាំង នៅ របស់ វិបស្សនា ។ អ្នក ដែល នឹង ចំរើន នោះ ត្រូវ ប្រតិបត្តិ ឲ្យ ជា អ្នក មាន សីល បរិសុទ្ធ និង ចិត្ត បរិសុទ្ធ ដោយ សមាធិ ជាមុន ទើប គួរ នឹង ចំរើន វិបស្សនា បាន ។ \n",
              "  បើ ជា អ្នក មាន សីល មិន បរិសុទ្ធ មិន មាន សមាធិ ចិត្ត រាយ មាយ ហើយ ក៏ ជា xxunk មិន គួរ នឹង ចំរើន វិបស្សនា នោះ បាន ឡើយ ។ ព្រោះថា សីល និង សមាធិ ជា កម្លាំង \n",
              "  ឲ្យ កើត វិបស្សនា ។ \n",
              "  និង សភាវ : មិន វង្វេង ទៅ តាម សម្មតិ លោក វោហារ ថា ជា សត្វ ខ្លួន ប្រាណ យើង គេ ឡើយ ដែល ជា xxunk វិសុទ្ធិ ។ ទាំង ជា ហេតុ និង ជាបច្ច័យ កន្លង កង្ខា ក្នុង កាល ទាំង ៣ ចេញ បាន គឺ មិន សង្ស័យ ថា យើង ច្យុត មកពី ទីណា ? យើង ជា អ្វី ? យើង នឹង ទៅ កើត ក្នុង ទីណា ? ទេវបុត្រ ទេវតា មាន ឬ មិន មាន ? ដែល ជា xxunk រណវិសុទ្ធិ ។ វិបស្សនា ញាណ ទាំង ៩ មាន xxunk ញាណ ជាដើម មាន អនុលោម ញាណ ជា ទីបំផុត ឈ្មោះ ថា បដិបទា ញាណ ទស្សនវិសុទ្ធិ ។ អរិយមគ្គ ទាំង ៤ នេះ ឈ្មោះ ថា ញាណ ទស្សនវិសុទ្ធិ ។ វិសុទ្ធិ ទាំង ៥ ប្រការ នេះ ឯង ជា តួ វិបស្សនា ។ ម៉្យាងទៀត បញ្ញា ដែល យើង ដឹង ពិត ឃើញ ពិត ក្នុង សភាវ : ការកើត ឯង របស់ សង្ខារ គឺ ឃើញ ថា ជា របស់ មិន ទៀង ជា ទុក្ខ ជា អនត្តា ឃើញ ច្បាស់ ថា របស់ ឯណា មិន ទៀង តែ កាល ណា កើតឡើង ហើយ រលត់ បាត់បង់ ទៅ វិញ របស់ នោះ ជា ទុក្ខ ពិត បើ របស់ ឯណា ជា ទុក្ខ របស់ នោះ ជា អនត្តា មិន មែន ជា ខ្លួន ជាប្រាណ របស់ នោះ មិន គួរ បើ នឹង ប្រកាន់ ប្រកៀក ថា ជា របស់ យើង ដោយ អំណាច តណ្ហា ឧបាទាន មានៈ \n",
              "  និង ទិដ្និ ឡើយ ។ ព្រោះថា ខ្លួនប្រាណ - យើង គេ មិន មាន ទេ បញ្ញា ដែល ពិចារណា ឃើញ ជាក់ច្បាស់ យ៉ាង នេះ ដរាបដល់ កើត និព្វិ ទា ( នឿយ ណាយ ) ស្អប់ខ្ពើម សង្ខារ កើត វិរា គៈ ប្រាសចាក xxunk ត្រេកអរ ក្នុង សង្ខារ វិមុត្តិ រួចផុត ចាក កិលេសាសវៈ ទាំងអស់ នេះ ជា តួ វិបស្សនា ទាំងអស់ ដូចគ្នា ។ \n",
              "  សាធុ ជន អ្នក បំពេញ សេចក្តី ព្យាយាម បដិបត្តិ ក្នុង វិបស្សនា ដូច បាន ពោលមក នេះ ធ្វើឲ្យ បរិបូណ៌ ហើយ ក៏ បាន ឈ្មោះ ថា ចំរើន វិបស្សនា ដោយ ល្អ នេះ ជា សេចក្តីអធិប្បាយ ដោយ សង្ខេប ក្នុង វិបស្សនា នេះ ។ ឯ សេចក្តីពិស្តារ ដូច មាន តទៅ នេះ៖ \n",
              "  អ្នក ដែល ចំរើន វិបស្សនា គប្បី ឲ្យ ជា អ្នកបរិសុទ្ធ ដោយ សីល បរិសុទ្ធ ដោយ ទិដ្និ ហើយ គប្បី ដឹង លក្ខណៈ កិច្ច ហេតុ - ផល របស់ វិបស្សនា នោះ ឯង ។ \n",
              "  សភាវៈ ការកើត ឯង របស់ សង្ខារ គឺជា របស់ មិន ទៀង , ជា ទុក្ខ , ជា អនត្តា ពិត ។ សេចក្តីឃើញ ថា សង្ខារ ជា របស់ មិន ទៀង ជា ទុក្ខ ជា អនត្តា ជាក់ច្បាស់ យ៉ាង នេះ ឯង ជា លក្ខណៈ គ្រឿង សំគាល់ របស់ វិបស្សនា ។ បើ ការដឹង ឃើញ យ៉ាង ដទៃ ទៅ មិន ត្រូវ តាមន័យ ដូច ពោល មក ខាងលើ នេះ ក៏ មិន មែន ជា វិបស្សនា ឡើយ ។ \n",
              "  សេចក្តីងងឹត គឺ មោហៈ ការភ័ន្តច្រឡំ ក្នុង សង្ខារ ថា ជា របស់ ទៀង ថា សុខ ថា ខ្លួន - ប្រាណ ឯណា បិទបាំង បញ្ញា មិន ឲ្យ ឃើញ ច្បាស់ នូវ របស់ ពិត នៃ សង្ខារ xxunk ងងឹត ចេញ បាន អស់ មិន វង្វេង ក្នុង សង្ខារ ថា ជា របស់ ទៀងទាត់ ជា របស់ សុខ ជា ខ្លួន - ប្រាណ ជា របស់ ល្អ នេះ ឯង ជា កិច្ច ជា xxunk ។ \n",
              "  សេចក្តីឃើញ ពិត ទូទៅ ក្នុង សង្ខារ ទាំងពួង ថា ជា របស់ មិន ទៀង ជា ទុក្ខ ជា អនត្តា សេចក្តីងងឹត គឺ មោហៈ ការវង្វេង ចូលមក តាំង នៅ មិន បាន ព្រោះ មាន ពន្លឺ ភ្លឺស្វាង កើតឡើង នេះ ឯង ជា ផល របស់ វិបស្សនា ក្នុង បទ នេះ ។ \n",
              "  ចិត្ត ដែល មិន រាយ មាយ តាំង នៅ ខ្ជាប់ខ្ជួន ឯណា និមួយ ដោយ អំណាច សមាធិ នេះ ឯង ជា ហេតុ កើតឡើង តាំង នៅ របស់ វិបស្សនា ។ វិបស្សនា នោះ រមែង អាស្រ័យ សមាធិ ទើប កើតឡើង តាំង នៅ បាន បើ មិន បាន ចំរើន សមាធិ ឲ្យ កើត មុន ហើយ ក៏ មិន អាច ចំរើន វិបស្សនា ឲ្យ កើតឡើង បាន ព្រោះថា សមាធិ ជា ហេតុ ឲ្យ កើត វិបស្សនា ដោយ ន័យ នេះ អ្នក ដែល មាន សីល មិន បរិសុទ្ធ មិន បាន សមាធិ នឹង មក ពោល អួត ថា ខ្លួន បាន សម្រេច វិបស្សនា ភាវនា យ៉ាង នេះ មិន គួរ ជឿ ឡើយ ។ ព្រោះ សីល បរិសុទ្ធ ជា ហេតុ ឲ្យ កើត សមាធិ សមាធិ ជា ហេតុ ឲ្យ កើត វិបស្សនា វិបស្សនា ជា ហេតុ ឲ្យ កើត អរិយមគ្គ xxunk ហេតុ ឲ្យ កើត អរិយផល ជាធម៌ តាម និយម មាន យ៉ាង នេះ មិន ប្រែប្រួល ទៅជា យ៉ាង ដទៃ ឡើយ ។ អ្នក ដែល ចំរើន xxunk ឲ្យដឹង លក្ខណៈ កិច្ច ហេតុ - ផល របស់ វិបស្សនា ដោយ ប្រការ ដូច្នេះ ។ \n",
              "  < / doc >\n",
              "y: LMLabelList\n",
              ",,,,\n",
              "Path: kmwiki_data;\n",
              "\n",
              "Test: None, model=SequentialRNN(\n",
              "  (0): AWD_LSTM(\n",
              "    (encoder): Embedding(53656, 400, padding_idx=1)\n",
              "    (encoder_dp): EmbeddingDropout(\n",
              "      (emb): Embedding(53656, 400, padding_idx=1)\n",
              "    )\n",
              "    (rnns): ModuleList(\n",
              "      (0): WeightDropout(\n",
              "        (module): LSTM(400, 1152, batch_first=True)\n",
              "      )\n",
              "      (1): WeightDropout(\n",
              "        (module): LSTM(1152, 1152, batch_first=True)\n",
              "      )\n",
              "      (2): WeightDropout(\n",
              "        (module): LSTM(1152, 400, batch_first=True)\n",
              "      )\n",
              "    )\n",
              "    (input_dp): RNNDropout()\n",
              "    (hidden_dps): ModuleList(\n",
              "      (0): RNNDropout()\n",
              "      (1): RNNDropout()\n",
              "      (2): RNNDropout()\n",
              "    )\n",
              "  )\n",
              "  (1): LinearDecoder(\n",
              "    (decoder): Linear(in_features=400, out_features=53656, bias=True)\n",
              "    (output_dp): RNNDropout()\n",
              "  )\n",
              "), opt_func=functools.partial(<class 'torch.optim.adam.Adam'>, betas=(0.9, 0.99)), loss_func=FlattenedLoss of CrossEntropyLoss(), metrics=[<function accuracy at 0x7fe1ff705e18>], true_wd=True, bn_wd=True, wd=0.01, train_bn=True, path=PosixPath('kmwiki_data'), model_dir='models', callback_fns=[functools.partial(<class 'fastai.basic_train.Recorder'>, add_time=True, silent=False)], callbacks=[RNNTrainer\n",
              "learn: LanguageLearner(data=TextLMDataBunch;\n",
              "\n",
              "Train: LabelList (3183 items)\n",
              "x: LMTextList\n",
              "xxbos \n",
              "  គណៈ អភិបាល ខេត្ត \n",
              "  ខេត្ត នីមួយ ៗ ត្រូវ មាន គណៈ អភិបាល ខេត្ត មួយ ដែល រួមមាន អភិបាល ខេត្ត និង អភិបាល រង ខេត្ត មួយចំនួន ដែល ត្រូវបាន តែងតាំង ឡើង ស្រប តាម ល័ក្ខខ័ណ្ឌ នៃ ច្បាប់ ស្ដីពី ការគ្រប់គ្រង រដ្ឋបាល រាជធានី ខេត្ដ ក្រុង ស្រុក ខណ្ឌ ។ អភិបាល ខេត្ត អភិបាល រង ខេត្ត មិន មែន ជា សមាជិក ក្រុមប្រឹក្សា ខេត្ត ឡើយ ។ \n",
              "  គណៈ អភិបាល ខេត្ត មាន តួនាទី និង ភារកិច្ច ចម្បង ៗ ដូច ខាងក្រោម ៖ \n",
              "  - ការពិនិត្យ មុខងារ ភារកិច្ច និង ធនធាន ទាំងអស់ ដែល បាន ប្រគល់ ឬ បាន ផ្ទេរ មក ឱ្យ ក្រុមប្រឹក្សា ខេត្ត និង អំពី របៀបរបប បែបបទ នីតិវិធី នៃ ការអនុវត្ដ មុខងារ ភារកិច្ច និង ការចាត់ចែង ធនធាន ទាំងនោះ \n",
              "  - ការរៀបចំ យុទ្ធសាស្ដ្រ និង ការរៀបចំ រចនាសម្ព័ន្ធ ប្រព័ន្ធ និង ធនធាន ដើម្បី ទទួលយក មុខងារ ភារកិច្ច និង ធនធាន ដែល បាន ប្រគល់ ឬ បាន ផ្ទេរ ស្រប តាម ច្បាប់ ស្ដីពី ការគ្រប់គ្រង រដ្ឋបាល រាជធានី ខេត្ដ ក្រុង ស្រុក ខណ្ឌ ។ \n",
              "  - ផែនការអភិវឌ្ឍន៍ រយៈពេល ប្រាំ ឆ្នាំ និង កម្មវិធី វិនិយោគ បី ឆ្នាំ រំកិល ប្រចាំ ឆ្នាំ \n",
              "  - ក្របខ័ណ្ឌ ចំណាយ រយៈពេល មធ្យម ដែល ត្រូវ ធ្វើ បច្ចុប្បន្នភាព ជារៀងរាល់ ឆ្នាំ \n",
              "  - គម្រោង ថវិកា ប្រចាំ ឆ្នាំ \n",
              "  - ការបង្កើត ការកែសម្រួល ឬ ការរំសាយ ទី ចាត់ការ ឬ ការិយាល័យ នានា \n",
              "  - ការរៀបចំ តួនាទី ភារកិច្ច និង លក្ខខណ្ឌ ការងារ របស់ បុគ្គលិក \n",
              "  - ការតែងតាំង ការដំឡើង ថ្នាក់ ឋានន្ដរសក្ដិ និង ការបញ្ឈប់ បុគ្គលិក \n",
              "  - ការកំណត់ xxunk នៃ ការជ្រើសរើស ការតែងតាំង ការកំណត់ ប្រាក់ បៀវត្ស និង កម្រៃ ផ្សេង ៗ នៃ បុគ្គលិក របស់ ក្រុមប្រឹក្សា ខេត្ត \n",
              "  - ការកំណត់ នីតិវិធី រដ្ឋបាល និង ហិរញ្ញវត្ថុ សម្រាប់ ទី ចាត់ការ និង បុគ្គលិក របស់ ក្រុមប្រឹក្សា ខេត្ត \n",
              "  - ការកំណត់ យុទ្ធសាស្ដ្រ ដើម្បី អភិវឌ្ឍ សមត្ថភាព ដល់ ក្រុមប្រឹក្សា ខេត្ត គណៈ អភិបាល ខេត្ត និង បុគ្គលិក របស់ ក្រុមប្រឹក្សា ខេត្ត \n",
              "  - ការរៀបចំ របាយការណ៍ ប្រចាំ ឆ្នាំ ដាក់ ជូន ក្រុមប្រឹក្សា ខេត្ត ពិនិត្យ និង អនុម័ត មិន ឱ្យ លើស ពី ៤៥ ថ្ងៃ បន្ទាប់ពី ដំណាច់ ឆ្នាំ នីមួយ ៗ ដែល ពាក់ព័ន្ធ នឹង៖ \n",
              "  + ដីកា និង សេចក្ដីសម្រេច នានា ដែល បាន ដាក់ចេញ ដោយ ក្រុមប្រឹក្សា ខេត្ត ព្រមទាំង សកម្មភាព និង លទ្ធផល នៃ ការអនុវត្ដ ដីកា និង សេចក្ដី សម្រេច ទាំងនោះ ។ \n",
              "  + របាយការណ៍ ហិរញ្ញវត្ថុ \n",
              "  + ការវាយតម្លៃ អំពី ការបំពេញ ការងារ របស់ គណៈ អភិបាល ខេត្ត និង បុគ្គលិក របស់ ក្រុមប្រឹក្សា ខេត្ត \n",
              "  + វិធានការចាំបាច់ ដើម្បី ធ្វើឱ្យ ប្រសើរឡើង នូវ ការអនុវត្ដ ការងារ របស់ ក្រុមប្រឹក្សា ខេត្ត \n",
              "  + វិធានការចាំបាច់ ដើម្បី លើកកម្ពស់ សមភាព យេនឌ័រ \n",
              "  + កិច្ចការ ផ្សេង ៗ ទៀត ដែល ក្រុមប្រឹក្សា ខេត្ត យល់ឃើញ ថា ចាំបាច់ ត្រូវ ដាក់បញ្ចូល ក្នុង របាយការណ៍ ប្រចាំ ឆ្នាំ របស់ ខ្លួន \n",
              "  - របាយការណ៍ ប្រចាំ ខែ ត្រី មាស និង ឆមាស \n",
              "  - ការបង្កើត គណៈកម្មាធិការ ឬ អនុគណៈកម្មាធិការ ឬ ក្រុមការងារ នានា តាម ការចាំបាច់ ដើម្បី ជួយ ដល់ ការអនុវត្ដ ការងារ របស់ ក្រុមប្រឹក្សា ខេត្ត \n",
              "  - ការរៀបចំ យុទ្ធសាស្ដ្រ ផ្សព្វផ្សាយ ព័ត៌មាន ដល់ សាធារណជន ដូចជា ការរៀបចំ ក្ដារ ព័ត៌មាន ការបិទ ផ្សាយ ព័ត៌មាន នៅលើ ក្ដារ ព័ត៌មាន និង ការស្វះស្វែងរក មធ្យោបាយ ផ្សព្វផ្សាយ ព័ត៌មាន នានា ជូន ប្រជាពលរដ្ឋ ក្នុង ដែន សមត្ថកិច្ច របស់ ខ្លួន ។ \n",
              "  - កិច្ចការ ផ្សេង ៗ ទៀត ដែល កំណត់ ដោយ ច្បាប់ និង លិខិត បទដ្ឋាន គតិយុត្ដ នានា និង ដែល តម្រូវ ដោយ ក្រុមប្រឹក្សា ខេត្ត របស់ ខ្លួន \n",
              "  អភិបាល ខេត្ត មាន តួនាទី ជា តំណាង រាជ រដ្ឋាភិបាល តំណាង ក្រសួង ស្ថាប័ន របស់ រាជ រដ្ឋាភិបាល ក្នុង ខេត្ត ។ ក្នុង តួនាទី ជា តំណាង រាជ រដ្ឋាភិបាល តំណាង ក្រសួង ស្ថាប័ន របស់ រាជ រដ្ឋាភិបាល នេះ អភិបាល ខេត្ត ត្រូវ ៖ \n",
              "  - ក្នុង ករណី រដ្ឋមន្ដ្រី ឬ ប្រធាន ស្ថាប័ន សាមី ឯកភាព តាម របាយការណ៍ របស់ អភិបាល ខេត្ត រដ្ឋមន្ដ្រី ឬ ប្រធាន ស្ថាប័ន សាមី ត្រូវ ផ្លាស់ប្ដូរ បេក្ខភាព ដែល បាន ស្នើ ឡើង ឱ្យ បាន សមស្រប \n",
              "  - ក្នុង ករណី រដ្ឋមន្ដ្រី ឬ ប្រធាន ស្ថាប័ន សាមី ស្រាវជ្រាវ ឃើញ ថា ហេតុផល ដែល បាន បញ្ជាក់ ក្នុង របាយការណ៍ របស់ អភិបាល ខេត្ត ពុំ មាន មូលដ្ឋាន ច្បាស់លាស់ រដ្ឋមន្ដ្រី ឬ ប្រធាន ស្ថាប័ន សាមី ត្រូវ បញ្ជាក់ ជូន អភិបាល ខេត្ត ដើម្បី ទទួលយក បេក្ខភាព ដែល បាន ស្នើ តែងតាំង នោះ ។ ក្នុង ករណី មិន មាន ការឯកភាព រវាង អភិបាល ខេត្ត ជាមួយ រដ្ឋមន្ដ្រី ឬ ប្រធាន ស្ថាប័ន សាមី ទៅលើ បេក្ខភាព ដែល ស្នើ តែងតាំង នោះ រដ្ឋមន្ដ្រី ឬ ប្រធាន ស្ថាប័ន សាមី ត្រូវ ធ្វើ សេចក្ដីរាយការណ៍ ជូន ប្រមុខ រាជ រដ្ឋាភិបាល ពិនិត្យ និង សម្រេច ។ អភិបាល ខេត្ត ត្រូវ រាយ ការណ៍ ករណី នេះ ជូន ក្រុមប្រឹក្សា ខេត្ត របស់ ខ្លួន និង រដ្ឋមន្ដ្រី ក្រសួង មហាផ្ទៃ ។ \n",
              "  បញ្ជាក់ ៖ \n",
              "  - ដើម្បី ធានា ឱ្យ អភិបាល ខេត្ត អនុវត្ដ នូវ តួនាទី និង ភារកិច្ច ខាងលើ នេះ សេចក្ដីរាយការណ៍ ប្រចាំ ខែ ត្រី មាស ឆមាស និង ប្រចាំ ឆ្នាំ របស់ មន្ទីរ អង្គភាព និង ទីភ្នាក់ងារ នានា របស់ ក្រសួង ស្ថាប័ន ដែល ប្រចាំ នៅ ខេត្ត ទៅ រដ្ឋមន្ដ្រី ឬ ប្រធាន ស្ថាប័ន សាមី ត្រូវ ដាក់ ជូន អភិបាល ខេត្ត ដើម្បី ពិនិត្យ ផ្ដល់ យោបល់ ជាមុន ។ ប្រសិនបើ ឯកភាព អភិបាល ខេត្ត ត្រូវ ចុះហត្ថលេខា លើ របាយការណ៍ នេះ ជាមួយ ប្រធាន មន្ទីរ អង្គភាព និង អ្នកទទួលខុសត្រូវ នៃ ទីភ្នាក់ងារ នោះ ។ \n",
              "  - ចំពោះ សេចក្ដីរាយការណ៍ ក្រៅពី នោះ របស់ មន្ទីរ អង្គភាព និង ទីភ្នាក់ងារ នានា របស់ ក្រសួង ស្ថាប័ន ដែល ប្រចាំ នៅ ខេត្ត ត្រូវ ចម្លង ជូន សាលា ខេត្ត ។ \n",
              "  ក្នុង ការអនុវត្ដ តួនាទី និង ភារកិច្ច របស់ ខ្លួន គណៈ អភិបាល ខេត្ត អភិបាល ខេត្ត អភិបាល រង ខេត្ត ត្រូវ ពិនិត្យ ពិចារណា លើ ចំណុច សំខាន់ ៗ មួយចំនួន ដែល ពាក់ព័ន្ធ នឹង របៀបរបប អនុវត្ដ ការងារ ដូច ខាងក្រោម ៖ \n",
              "  < / doc >,xxbos \n",
              "  ប្រភេទ សិលា \n",
              "  សិលា ដែល បាន រលាយ គេ ហៅ ថា “ ម៉ាក់ ម៉ា ” ( xxmaj magma ) ។ ម៉ាក់ ម៉ា ភាគ ច្រើន កើត ចេញពី ការរលាយ \n",
              "  ដោយ ផ្នែក នៃ ម៉ង់ តូ ។ សិលា ម៉ាក់ ម៉ា ក កើតមាន នៅពេល ម៉ាក់ ម៉ាក ក រឹង ។ ប្រសិនបើ ម៉ាក់ ម៉ា ផុស ឡើង លើ ផ្ទៃ ផែន \n",
              "  ដី នោះ វា អាច xxunk ( ការពុក ផុយ នៃ សិលា ) និង សំណឹក ហើយ កម្ទេច កំទី ដែល បាន បង្កើតឡើង នោះ ត្រូវបាន \n",
              "  xxunk ហើយ ជា ចុងក្រោយ ត្រូវបាន xxunk ( ជាធម្មតា នៅលើ បាត សមុទ្រ ) ជា កម្ទេច កំណ ។ ប្រសិនបើ \n",
              "  កម្ទេច កំណ ធូរ ទាំង នេះ ត្រូវបាន ពង្រឹង ទៅជា សិលា នោះ វា ក្លាយទៅជា សិលា កម្ទេច កំណ ។ ខណៈពេល សិលា នេះ \n",
              "  ត្រូវបាន កប់ ដោយ ស្រទាប់ បន្ថែម នៃ កម្ទេច កំណ និង សិលា កម្ទេច កំណ នោះ កម្ដៅ និង សម្ពាធ កើនឡើង ។ កម្លាំង \n",
              "  តិច xxunk ក៏ អាច ធ្វើឱ្យ កើនឡើង សីតុណ្ហភាព និង សម្ពាធ ផងដែរ ។ ប្រសិនបើ សីតុណ្ហភាព គឺ ខ្ពស់ គ្រប់គ្រាន់ ជាធម្មតា \n",
              "  នៅ ជម្រៅ ជ្រៅ ជាង ពីរ - បី គីឡូម៉ែត្រ ខាងក្រោម ផ្ទៃ ផែនដី នោះ សិលា កម្ទេច កំណ ដើម លែង មាន តុល្យភាព ជាមួយ \n",
              "  លក្ខខណ្ឌ រូប និង គីមី ថ្មី នោះ ហើយ ហើយ វា xxunk ជា ក្រាម ឡើងវិញ ម្ដង ទៀត ។ សិលា ថ្មី ដែល កកើតឡើង នោះ គេ \n",
              "  ឱ្យ ឈ្មោះ ថា xxunk ។ ប្រសិនបើ សីតុណ្ហភាព ទទួលបាន ខ្ពស់ ខ្លាំង នោះ xxunk ដោយ ផ្នែក ដោយ \n",
              "  បង្កើត បានជា ម៉ាក់ ម៉ា និង បំពេញ នូវ វដ្ដ សិលា ។ \n",
              "  វដ្ដ នេះ អាច ត្រូវបាន ធ្វើឡើង ដដែល ៗ ។ យ៉ាងណា ក៏ដោយ មិន មែន គ្រប់ សិលា ទាំងអស់ សម្រេច ផល បាន \n",
              "  តាម ជំហាន នីមួយ ៗ នៅក្នុង វដ្ដ នោះ ឡើយ ។ ឧទាហរណ៍ ៖ សិលា កម្ទេច កំណ អាច ត្រូវបាន ងើប ឡើង ត្រូវ xxunk \n",
              "  និង ត្រូវ រង សំណឹក ដោយ បង្កើត បានជា កមេ្ទច កំណ ថ្មី ទៀត ។ \n",
              "  ដូច្នេះ វដ្ដ នេះ រៀបរាប់ អំពី ការកកើត និង ការខូច រូបរាង នៃ សិលា នៅក្នុង ផែនដី ។ នៅ ពេល ណាមួយ \n",
              "  កន្លែងណា ដែល នៅក្នុង ឬ នៅលើ ផ្ទៃ ផែនដី សិលា ត្រូវបាន បង្កើត ផ្លាស់ប្ដូរ បំផ្លាញ និង xxunk ៖ ប្រហែល ១៤ - ១៦ \n",
              "  គ.ម ៣ នៃ សម្បក ផែនដី ដែល បាន xxunk ជារៀងរាល់ ឆ្នាំ ។ ទីតាំង នៃ ដំណើរការ ទាំង នេះ ត្រូវបាន កំណត់ ជា ចម្បង \n",
              "  ដោយ ចលនា នៃ ផ្លាក តិច xxunk ( គឺជា ចលនា នៃ ផ្លាក តាមរយៈ ចរន្ដ xxunk ក្នុង xxunk ) ដែល ធ្វើឱ្យ មាន ការ កកើត នៃ \n",
              "  សម្បក ផែនដី ថ្មី នៅ ព្រំដែន ផ្លាក សំណង់ និង ការលិច ចុះ ( ការកប់ ) នៃ សិលា និង ការងើបឡើង នៃ សម្បក ផែនដី \n",
              "  នៅឯ ព្រំដែន បំផ្លាញ ។ \n",
              "  អត្ថបទ នេះ ដកស្រង់ ចេញ ពី សៀវភៅ \" មូលដ្ឋានគ្រឹះ នៃ xxunk វិទ្យា \" របស់ ដេប៉ាតឺ ម៉ង់ ភូមិ វិទ្យា និង រៀបចំ ដែនដី នៃ សាកលវិទ្យាល័យ ភូមិន្ទ ភ្នំពេញ ។ \n",
              "  ដោយ៖ xxunk xxunk និស្សិត ភូមិ វិទ្យា ជំនាន់ ទី ២៥ ( xxunk / xxmaj xxunk . xxmaj khmer . xxmaj photographer / xxunk ) \n",
              "  < / doc >,xxbos ឃាត់ខ្លួន ជនសង្ស័យ ពីរ នាក់ ប្ដី ប្រពន្ធ ពី បទ រំលោភ លើ ទំនុកចិត្ត \n",
              "  ឧត្ដរ មានជ័យ ៖ កម្លាំង ការិយាល័យ ព្រហ្មទណ្ឌ កម្រិត ធ្ងន់ ស្នងការ នគរបាល ខេត្ត ឧត្ដរ មានជ័យ ដឹកនាំ ដោយ លោក វរសេនីយ៍ ឯក យិន ណារ៉េត សហការ ជាមួយ លោក ជយ័ វាសនា មេ ប៉ុស្តិ៍ នគរបាល រដ្ឋបាល អូរ ស្មាច់ ចុះ សហការ ជាមួយ កម្លាំង នាយកដ្ឋាន នគរបាល ព្រហ្មទណ្ឌ ក្រសួង មហាផ្ទៃ និង កម្លាំង សមត្ថកិច្ច នៃ ស្នងការដ្ឋាន នគរបាល ខេត្ត កំពត ដោយ មាន ការសម្របសម្រួល ពន្លាត ដែន សមត្ថកិច្ច ពី លោក កូយ កាន់ យ៉ា ព្រះរាជអាជ្ញា កម្លាំង បាន ចុះ អនុវត្តន៍ ដីកា បញ្ជា ឲ្យ ចូល ខ្លួន របស់ លោក ព្រះរាជអាជ្ញា អម សាលា ដំបូង ខេត្ត ឧត្តរមានជ័យ ។ \n",
              "  ប្រតិបត្តិការ នេះ ធ្វើឡើង នៅ វេលា ម៉ោង ១៨ និង ០០ នាទី ថ្ងៃទី ២៦ ខែកក្កដា ឆ្នាំ ២០១៩ ដោយ បាន ឃាត់ខ្លួន ជនសង្ស័យ ពីរ នាក់ ប្តី ប្រពន្ធ នៅ ចំណុច ផ្ទះ ជួល ក្នុង ភូមិ ត្រពាំង ធំ , ឃុំ ត្រពាំង ធំ ស្រុក ទឹក ឈូ ខេត្ត កំពត ជាប់ចោទ ពី បទ រំលោភ លើ ទំនុកចិត្ត ( ខ្ចី ប្រាក់ គេ ជាង ពីរ ម៉ឺន ដុល្លារ ) ពី ជនរងគ្រោះ ចំនួន ០៣ នាក់ មិន សង ហើយ រត់គេចខ្លួន ។ \n",
              "  សមត្ថកិច្ច បាន ឲ្យដឹង ថា ជនសង្ស័យ ឈ្មោះ ម៉ៅ ភារុន ភេទ ប្រុស អាយុ ៣២ ឆ្នាំ រស់ នៅ ភូមិ ប៉េសេ សង្កាត់ ទឹក ថ្លា ខណ្ឌ សែនសុខ រាជធានី ភ្នំពេញ ។ \n",
              "  ប្រពន្ធ ឈ្មោះ ចែ ស្រី អាយុ ៥០ ឆ្នាំ ស្រុក កំណើត នៅ ខេត្ត ព្រៃវែង រស់ នៅ ភូមិ ប៉េសេ សង្កាត់ ទឹក ថ្លា ។ \n",
              "  សមត្ថកិច្ច បន្ត ថា ក្នុង ប្រតិបត្តិការ នេះ បាន ធ្វើ ការដកហូត រថយន្ត ម៉ាក xxmaj camry ឆ្នាំ ២០០០ ពណ៌ ឆ្លូញ ០១ គ្រឿង ពាក់ ស្លាកលេខ 1 g 1187 ។ \n",
              "  បច្ចុប្បន្ន ជនសង្ស័យ សមត្ថកិច្ច កំពុង នាំ ខ្លួន ពី ខេត្ត កំពត មក ឧត្តរមានជ័យ ដើម្បី ចាត់ការ តាម នីតិវិធី ៕ \n",
              "  ដោយ ៖ ចាន់ ធី,xxbos អតីត អធិការ រង ស្រុក ភ្នំ ស្រួច ទទួល ផែន ប្រឆាំង គ្រឿងញៀន ត្រូវបាន ក្រសួង មហាផ្ទៃ សម្រេច ផ្អាក ការងារ បណ្ដោះអាសន្ន ពាក់ព័ន្ធ ករណី បង្ក្រាប ក្លឹប កម្សាន្ត « គិរីរម្យ » ប៉ះ ខ្សែ អ្នក ធំ \n",
              "  កំពង់ស្ពឺ ៖ អតីត អធិការ រង នគរបាល ស្រុក ភ្នំ ស្រួច លោក អនុ សេនីយ៍ ឯក អ៊ឹង ឡាយ ឆាយ ត្រូវបាន សម្តេច ក្រឡាហោម ស ខេង ឧប នាយក រដ្ឋមន្ត្រី រដ្ឋមន្ត្រី ក្រសួង មហាផ្ទៃ សម្រេច ផ្អាក ការងារ ជា បណ្តោះអាសន្ន ពាក់ព័ន្ធ បណ្តឹង របស់ ប្រជាពលរដ្ឋ ចោទប្រកាន់ ជាច្រើន ករណី ក្នុង ការបង្ក្រាប ក្លឹប កម្សាន្ត « គិរីរម្យ » ជាមួយ គណៈ បញ្ជាការ ឯកភាព ខេត្ត កំពង់ស្ពឺ ប៉ះ ចំ ខ្សែ អ្នក ធំ ។ \n",
              "  ជុំវិញ រឿងរ៉ាវ ដ៏ រសើប ខាងលើ នេះ មហាជន បាន ដាក់ ជា ចម្ងល់ ថា ការចុះ ធ្វើ រដ្ឋបាល xxunk គណៈ បញ្ជាការ ឯកភាព ខេត្ត ស្រុក ចុះ ត្រួតពិនិត្យ ក្លឹប កម្សាន្ត « គិរីរម្យ » ក្រោម ការដឹកនាំ របស់ លោក ស xxunk អភិបាល រង ខេត្ត កំពង់ស្ពឺ លោក ឧត្ដមសេនីយ៍ ទោស ម xxunk ស្នងការ ខេត្ត អភិបាល ស្រុក អាជ្ញាធរ ឃុំ ក្រោម ការសម្របសម្រួល នីតិវិធី ដោយ លោក ខៃ សម្ផស្ស ព្រះរាជអាជ្ញា រង អម សាលាដំបូង ខេត្ត កំពង់ស្ពឺ នោះ ហេតុ អ្វី នៅ ពេល មាន រឿង ប្តឹង ផ្តល់ ពីសំណាក់ ថៅកែ ក្លឹប បែរជា មាន កំហុស តែ លោក អ៊ឹង ឡាយ ឆាយ គ្រាន់តែ អធិការ រង ទទួលបន្ទុក ជំនាញ គ្រឿងញៀន តែ ម្នាក់ឯង ទៅ វិញ ? យោង តាម ប្រកាស លេខ xxunk ប្រក ចុះ ថ្ងៃទី ១៩ ខែកក្កដា ឆ្នាំ ២០១៩ របស់ សម្ដេច ក្រឡាហោម ស ខេង ឧប នាយក រដ្ឋមន្ត្រី រដ្ឋមន្ត្រី ក្រសួង មហាផ្ទៃ បាន សម្រេច ការផ្អាក ការងារ បណ្ដោះអាសន្ន ចំពោះ លោក អនុ សេនីយ៍ ឯក អ៊ឹង ឡាយ ឆាយ អធិការ រង នៃ អធិការដ្ឋាន ស្រុក ភ្នំ ស្រួច ។ \n",
              "  ចំពោះ មូលហេតុ ដែល នាំឲ្យ មាន ការដក បញ្ឈរ ជើង នេះ ដោយសារ មាន បណ្តឹង ពី ប្រជាពលរដ្ឋ ចោទប្រកាន់ ពី បទ ៖ លួច មាន ស្ថាន ទម្ងន់ ទោស , រំលោភ លំនៅដ្ឋាន មាន ស្ថាន ទម្ងន់ ទោស , ចាប់ ឃុំឃាំង និង បង្ខាំង ដោយ ខុស ច្បាប់ មាន ស្ថាន ទម្ងន់ ទោស , និង បទ គំរាមកំហែង ។ \n",
              "  ដូច្នេះ លោក អ៊ឹង ឡាយ ឆាយ អតីត អធិការ រង នគរបាល ស្រុក ភ្នំ ស្រួច ត្រូវ បង្ហាញ ខ្លួន ជារៀងរាល់ ម៉ោង ធ្វើការ នៅ ការិយាល័យ បុគ្គលិក នៃ ស្នងការដ្ឋាន ខេត្ត កំពង់ស្ពឺ ។ \n",
              "  សូម រំឭក ថា នៅ ថ្ងៃសៅរ៍ ១១ កើត ខែ ផល្គុន ឆ្នាំ ច សំរឹទ្ធិ ស័ក xxunk ត្រូវនឹង ថ្ងៃទី ១៦ ខែមីនា ឆ្នាំ ២០១៩ វេលា ម៉ោង ២៣ និង ០០ នាទី រំលង អធ្រាត្រ កម្លាំង គណៈ បញ្ជាការ ឯកភាព ខេត្ត ស្រុក បាន ធ្វើ រដ្ឋបាល ចំហ ក្នុង ក្លឹប កម្សាន្ត « គិរីរម្យ » ស្ថិត នៅ ភូមិ ៤ ត្រែង ត្រយឹង ស្រុក ភ្នំ ស្រួច ខេត្ត កំពង់ស្ពឺ ដើម្បី អនុវត្ត តាម គោលនយោបាយ ភូមិ / ឃុំ មាន សុវត្ថិភាព របស់ រាជ រដ្ឋាភិបាល ។ \n",
              "  ក្នុង ប្រតិបត្តិការ ខាងលើ កម្លាំង នគរបាល បាន ឆែកឆេរ រកឃើញ ថ្នាំញៀន ០១ កញ្ចប់ តូច និង ឧបករណ៍ ជក់ មួយចំនួន ធំ ក្នុង នោះ បាន ឃាត់ខ្លួន មនុស្ស ២ នាក់ តាម បញ្ជា តំណាង អយ្យការ អម សាលាដំបូង ខេត្ត កំពង់ស្ពឺ ។ \n",
              "  ក្រោយពី កម្លាំង គណៈ បញ្ជាការ ឯកភាព ខេត្ត និង សមត្ថកិច្ច ជំនាញ រកឃើញ ថា ទីតាំង ក្លឹប កម្សាន្ត និង ខារ៉ាអូខេ « គីរីរម្យ » មាន ពាក់ព័ន្ធ បទល្មើស គ្រឿងញៀន កម្លាំង ចម្រុះ សម្រេច បិទ អាជីវកម្ម ក្លឹប នេះ បណ្តោះអាសន្ន ហើយ កសាង សំណុំរឿង បញ្ជូន ទៅ សាលាដំបូង ខេត្ត ចាត់ការ បន្ត តាម នីតិវិធី ។ \n",
              "  ក្លឹប xxunk ដែល កម្លាំង គណៈ បញ្ជាការ ឯកភាព ខេត្ត បង្ក្រាប នេះ ម្ចាស់ អាជីវកម្ម ក្លឹប កម្សាន្ត និង ខារ៉ាអូខេ « គិរីរម្យ » មាន ឈ្មោះ ទិត្យ ស៊ីណាត មាន ប្អូន ប្រុស ជា មន្ត្រី ប៉េ អិម ខេត្ត កំពង់ស្ពឺ និង មាន សាច់ញាតិ ធ្វើ ការងារ ធំ នៅ ក្រសួង ផងដែរ ។ \n",
              "  របាយការណ៍ របស់ ស្នងការ ប៉ូលិស ខេត្ត កំពង់ស្ពឺ បាន ឲ្យដឹង ថា ក្នុង ប្រតិបត្តិការ ក្ដៅ គគុក នេះ គឺជា xxunk វិធានការ រដ្ឋបាល ចំហ នៅ ក្លឹប xxunk « គីរីរម្យ » ឃុំ ត្រែង ត្រយឹង ស្រុក ភ្នំ ស្រួច ដឹកនាំ ដោយ លោក សរ xxunk អភិបាល រង ខេត្ត កំពង់ស្ពឺ លោក ស្នងការ ស្នងការ រង អភិបាល ស្រុក ភ្នំ ស្រួច អាជ្ញាធរ មូលដ្ឋាន ដោយ មាន ការសម្របសម្រួល នីតិវិធី ពី លោក ខៃ សម្ជស្ស ព្រះរាជអាជ្ញា រង អម សាលាដំបូង ខេត្ត កំពង់ស្ពឺ តែម្តង ។ \n",
              "  របាយការណ៍ បាន បង្ហាញ ថា « ជា លទ្ធផល កម្លាំង គណៈ បញ្ជាការ ឯកភាព រកឃើញ ឧបករណ៍ ប្រើប្រាស់ គ្រឿងញៀន ជាច្រើន ក្នុង នោះ ឃាត់ខ្លួន មុខ សញ្ញា ០២ នាក់ ប្រុស ឈ្មោះ សុខ ភារៈ តួនាទី xxup xxunk មាន ទីលំនៅ ភូមិ / ឃុំ ខាងលើ និង ឈ្មោះ រ័ត្ន ភារម្យ មុខ សញ្ញា សង្ស័យ ពាក់ព័ន្ធ ករណី ជួញដូរ សារធាតុ ញៀន ខុស ច្បាប់ ដើម្បី សាកសួរ រក មេខ្លោង ដែល ពាក់ព័ន្ធ ករណី អនុញ្ញាតឲ្យ មាន ការជួញដូរ និង ផ្ដល់ ទីតាំង ប្រើប្រាស់ គ្រឿងញៀន នេះ ។ \n",
              "  កម្លាំង គណៈ បញ្ជាការ ឯកភាព ខេត្ត កំពង់ស្ពឺ បាន បញ្ជាក់ ថា « ក្រោយ ប្រតិបត្តិការ រដ្ឋបាល ជំនាញ រកឃើញ វត្ថុតាង សង្ស័យ មួយចំនួន ដែល ទាក់ទង នឹង ការផ្ដល់ ទីតាំង ឲ្យ មាន ការជួញដូរ ប្រើប្រាស់ ថ្នាំ ញៀន ខុស ច្បាប់ ទីតាំង ក្លឹប xxunk គីរីរម្យ ត្រូវបាន អាជ្ញាធរ ស្រុក ខេត្ដ ជំនាញ សម្រេច បិទ ផ្អាក សកម្មភាព ជា បណ្ដោះអាសន្ន រង់ចាំ កិច្ច ស្រាវជ្រាវ បន្ដ ពីព្រោះ ទីតាំង នេះ ជា កន្លែង ផ្តល់ឲ្យ ប្រើប្រាស់ គ្រឿងញៀន » ។ \n",
              "  បន្ទាប់ពី គណៈ បញ្ជាការ ឯកភាព ខេត្ត កំពង់ស្ពឺ ចុះ រដ្ឋបាល ចំហ ពិនិត្យ ក្លឹប កម្សាន្ត និង ខារ៉ាអូខេ « គិរីរម្យ » មាន ជាប់ពាក់ព័ន្ធ បទល្មើស គ្រឿងញៀន ក៏ បាន បិទ អាជីវកម្ម នេះ ជា បណ្ដោះអាសន្ន នាំឲ្យ មាន ការខាតបង់ ច្រើន ទើប លោកស្រី ទិត្យ ស៊ីណាត បាន ប្តឹង លោក អនុ សេនីយ៍ ឯក អ៊ឹង ឡាយ ឆាយ អតីត អធិការ រង ស្រុក ភ្នំ ស្រួច លោក ស្នងការ ស្នងការ រង នគរបាល ខេត្ត កំពង់ស្ពឺ និង បក្ខពួក ផ្សេង ៗ ទៀត ០៤ បទល្មើស រួមមាន ៖ ១ - បទ បរិហារ បង្កាច់ កេរ្តិ៍ , ២ - រំលោភ លើ លំនៅឋាន មាន ស្ថាន ទម្ងន់ ទោស , ៣ - ចាប់ ឃុំឃាំង បង្ខាំង មនុស្ស ដោយ ខុស ច្បាប់ មាន ស្ថាន ទម្ងន់ ទោស និង ៤ - គំរាមកំហែង ។ \n",
              "  លោកស្រី ទិត្យ ស៊ីណាត បាន រៀបរាប់ ថា « លោកស្រី បាន ដាក់ពាក្យបណ្តឹង ទៅ សម្តេច ក្រឡា xxunk ស ខេង ឧប នាយក រដ្ឋមន្ត្រី រដ្ឋមន្ត្រី ក្រសួង មហាផ្ទៃ ស្នើសុំ ជួយ រក យុត្តិធម៌ និង ដោះលែង ជនរងគ្រោះ ពីរ នាក់ ប្តី ប្រពន្ធ ឲ្យ នៅ ក្រៅ ឃុំ ទើប ក្រុម អធិការកិច្ច ចុះ មក ស៊ើបអង្កេត លើ ករណី នេះ នៅ ស្នងការដ្ឋាន នគរបាល ខេត្ត កំពង់ស្ពឺ » ។ \n",
              "  មហាជន រង់ចាំ មើល ថា តើ មាន មន្ត្រី ប៉ុន្មាន នាក់ ទៀត ដែល ត្រូវ ក្នុង រឿង នេះ ក្រៅពី លោក អ៊ឹង ឡាយ ឆាយ អតីត អធិការ រង ទទួល ផ្នែក ប្រឆាំង គ្រឿងញៀន ? ៕ \n",
              "  ដោយ ៖ រដ្ឋ ឋានៈ,xxbos \n",
              "  ប្រវត្តិ ភាសា អ៊ីតាលី \n",
              "  ប្រវត្តិ ភាសា អ៊ីតាលី \n",
              "  ភាសា អ៊ីតាលី ជា ភាសា មួយ មកពី ភាសា រ៉ូមុំាង ដែល ត្រូវបាន និយាយ ដោយ ជនជាតិ ដើម ប្រហែល មនុស្ស ៧០ លាន នាក់ នៅក្នុង ប្រទេស អ៊ីតាលី ម៉ាល តា សាន់ ម៉ារីណូ និង ផ្នែក នៃ ប្រទេស ស្វីស ក្រូ ទៀ សូវៀត និង ប្រទេស បារំាង ។ អ្នក និយាយ ភាសា ដើម មួយ ចំនួន គឺ សុទ្ធតែ ជា ទ្វិ ភាសា ដើម នៃ មាត្រដ្ឋាន ជនជាតិ អ៊ីតាលី ទាំង ពីរ ប្រភេទ និង តំបន់ ផ្សេង ៗ ពី គ្នា ។ នៅក្នុង ប្រទេស ស្វីស ភាសា អ៊ីតាលី ជា ភាសា ផ្លូវការ មួយ ក្នុង ភាសា ជា ផ្លូវការ ទាំង បួន ត្រូវបាន និយាយ ដោយ ជនជាតិ ស្វីស ក្នុង តំបន់ នៃ xxunk ហ្គី xxunk និង xxunk ។ ផងដែរ នោះ វា គឺជា ភាសា ផ្លូវការ នៃ តំបន់ សាន់ ម៉ារីណូ ប្រសើរ ជាង ភាសា ដើម នៃ ទីក្រុង xxunk ខាន ។ ភាសា អ៊ីតាលី ត្រូវបាន ចាត់ទុក ជា ភាសា របស់ ខ្លួន ដោយ រដ្ឋ បន្ទាប់ពី ប្រទេស អ៊ីតាលី បាន បង្រួបបង្រួម មក ត្រូវបាន គេ ជា មូលដ្ឋាន ទៅ លើ គ្រាម ភាសា ទូស ខាន ដែល ទុក មុន គឺ ដែល អាច ទទួលយក បាន នៅក្នុង សាលា ថ្នាក់រៀន ក្នុង សង្គម xxunk ។ វា មាន ការរីកចម្រើន ឡើង ៗ គឺ ផងដែរ នោះ ឈាន ទៅដល់ មាន ឥទិ្ធពល ដោយ ភាសា គ្រាម ភាសា អ៊ីតាលី និង ដោយ ភាសា អាឡឺម៉ង់ នៃ អ្នក ឈ្លានពាន ពួក រ៉ូមុំាង ។ \n",
              "  ភាសា អ៊ីតាលី ក្លាយ ចេញមកពី សញ្ញា ភាសា ឡាតាំង និង មាន ភាព យ៉ាង ជិតស្និត រវាង ភាសា ជាតិ ទៅនឹង ភាសា ឡា តំាង ។ មិន ដូច ភាសា រ៉ូមុំាង ផេ្សង ៗ ទាំងអស់ នោះ ទេ ភាសា អ៊ីតាលី រក្សាទុក ខុសគ្នា របស់ ភាសា ឡា តំាង រវាង ព្យញ្ញានះ ខ្លី និង ព្យញ្ញានះ វែង ។ ដូច នៅក្នុង ភាសា រ៉ូមុំាង ការសង្កត់ សម្លេង គឺជា កំណត់ សំគាល់ ។ ជាពិសេស ការចូល រូម របស់ ភាសា រ៉ូមុំាង អ៊ីតាលី គឺ មាន ភាព យ៉ាង ជិត ស្អិត ទៅនឹង ភាសា ឡា តំាង ក្នុង ក្រុម នៃ xxunk ណ៏ ។ xxunk ស ទិសភាព ( ការអាន ដូចគ្នា ) គឺ មាន ទៅដល់ ៨៩ % ជាមួយនឹង ភាសា បារំាង ៨៧ % ជាមួយ ភា xxunk xxunk ៨៥ % ជាមួយ ភាសា xxunk ៨២ % ជាមួយ ភាសា ស្ប៉ាញ ៧៨ % ជាមួយ ភាសា xxunk តូ រ៉ូមុំាង និង ៧៧ % ជាមួយ ភាសា រ៉ូមុំាង ។ \n",
              "  ភាសា អ៊ីតាលី មាន ប្រវត្តិ យូរយា ណាស់ មកហើយ ប៉ុន្តែ ជា ភាសា ដ៏ ពេញនិយម នៃ ភាសា គឺ ភាគ ច្រើន ត្រូវបាន អោយ ចេញ ជា រូបរាង អោយ ប្រើប្រាស់ ដោយ ប្រៀបធៀប មកដល់ បច្ចុប្បន្ន នេះ ។ មុនពេល ដែល អក្សរ មាន អនុភាព ដែល អាច មាន អត្ថន័យ អាច ហៅ បាន ថា ភាសា អ៊ីតាលី ( ដោយ ត្រឹមត្រូវ ភាសា ក្នុង ស្រុក ដូចជា មាន ការ សំគាល់ ពី xxunk ឡាតាំង សាមញ្ញ ) គំរូ លិខិត នីត្យានុកូល មកពី តំបន់ xxunk វ៉េន តូ ដែល មាន នៅ ឆ្នាំ ចាប់ពី ឆ្នាំ ៩៦០ ដល់ ៩៦៣ ។ អ្វី ដែល ចង់អោយ មាន អាច គិត អំពី ភាសា អ៊ីតាលី គឺ បាន យល់ព្រម ជា លើក ដំបូង ក្នុង ឆ្នាំ ដំបូង ក្នុង សតវត្ស រ៏ ទី ១៤ តាម រយះ ការងារ នៃ ដាន់ ទី xxunk អេរី ដែល លាយ ជាមួយ ភាសា អ៊ីតាលី ខាងត្បូង ជាពិសេស ភាសា ស៊ី xxunk ជាមួយ ជនជាតិ ដើម xxunk នៅក្នុង បទ កាព្យ និយាយ អំពី ព្រឹត្តការណ៏ របស់ អ្នក ចម្បាំង ដ៏ ល្បីល្បាញ ដោយ រួបរួម ដូចជា xxunk ឌា ជាមួយ ហ្គី xxunk នី xxunk អូ ទាក់ទង គ្នា នឹង អត្ថបទ xxunk ។ សេចក្តីស្រលាញ់ ការងារ យ៉ាង ខ្លាំង របស់ លោក ដាត ត្រូវបាន គេ អាន ពាសពេញ ប្រទេស អ៊ីតាលី និង អត្ថបទ ភាសា គ្រាម ភាសា របស់ គាត់ បាន ក្លាយទៅជា \" ត្រូវ តាម xxunk \" ដែល សម្រាប់ ការអប់រំ ទៅដល់ ជនជាតិ អ៊ីតាលី ទាំងអស់ អាច និង ងាយ យល់ ដឹង កាន់តែ ច្បាស់ ។ ដាត គឺ នៅតែ មាន ជំនឿ ជឿជាក់ មាន កិត្តិយស ជាមួយនឹង បមាណី យកម្ម ភាសា អ៊ីតាលី និង ដូចនេះ គ្រាម ភាសា នៃ ភាសា ហ្លរ៉េន ក្លាយទៅជា មូលដ្ឋានគ្រឹះ សម្រាប់ អ្វី ដែល ចង់ ក្លាយទៅជា ភាសា ជា ផ្លូវការ នៃ ភាសា អ៊ីតាលី ។ \n",
              "  ភាសា អ៊ីតាលី ជារឿយ ៗ គឺ ភាសា ជា ផ្លូវការ ផ្សេង ពីរដ្ឋ អ៊ីតាលី គឺ សសេរ ថ្ងៃ ខែ មុន ដណើ្តម យក ភាសា ឡាតាំង បន្តិច ម្តង ៗ នៅ ពេល ដែល មាន ឥទ្ធិពល ពី បរទេស ( ដូចជា ភាសា ស្ប៉ាញ នៅក្នុង អាណាចក្រ xxunk ឬ ភាសា អូស្រ្តាលី នៅក្នុង អាណាចក្រ xxunk xxunk xxunk ) សូម្បីតែ ទីប្រជុំជន ក៏ បាន និយាយ ភាសា ក្នុង ស្រុក និង គ្រាម ភាសា ។ ភាសា អ៊ីតាលី ផងដែរ គឺជា ភាសា មួយ ក្នុង ចំណោម ភាសា ជា ច្រើន ដែល ទទួលស្គាល់ ភាសា នៅក្នុង ពាក់កណ្តាល ចក្រភព អូស្រ្តាលី និង ចក្រភព ហ៊ុង គ្រី ។ \n",
              "  ប្រទេស អ៊ីតាលី ជារឿយ ៗ បាន សំគាល់ ដោយ ភាសា គ្រាម ភាសា សម្រាប់ ទីក្រុង តាំងពី ទីក្រុង ពីមុន រហូតដល់ ថ្មី ៗ នេះ គិត នៃ ទីក្រុង រដ្ឋ ។ ទោះបីជា យ៉ាងណា ក៏ដោយ គ្រាម ភាសា ទាំងនោះ សព្វ ថ្ងៃ នេះ មាន យ៉ាង ច្រើន ដោយ ខុសប្លែក ពី គ្នា បន្តិចបន្តួច ។ ដូច ទាញយក ភាសា អ៊ីតាលី មក អោយ ប្រើប្រាស់ ពាសពេញ ប្រទេស អ៊ីតាលី ជា ការពិត ការនិយាយ តាម តំបន់ គឺ រក្សាទុក យ៉ាង ត្រឹមត្រូវ តាម ធម្មជាតិ ការបង្កើត ផ្សេង មួយ ទៀត នៃ តំបន់ ភាសា អ៊ីតាលី ។ ភាពខុសគ្នា ចំពោះ អត្តចរិត សំខាន់ សម្រាប់ ជំនួស រវាង ភាសា អ៊ីតាលី រ៉ូមុំាង និង xxunk អ៊ីតាលី គឺជា ករ ផ្គួប ចូល គ្នា ទាំង ពីរ នៃ ព្យញ្ញានះ ខាង ដើម និង ការបញ្ចេញ សម្លេង នៃ ការអាន \" អ៊ី \" \" e \" និង \" អេស \" \" s \" ក្នុង ករណី ខ្លះ ( ឧទាហរ ណ៏ xxunk xxunk \" all right \" \" \" ) \n",
              "  ភាពខុសគ្នា ទៅនឹង ភាសា អ៊ីតាលី ខាងជើង គ្រាម ភាសា និង ភាសា អ៊ីតាលី ខាងត្បូង ជារឿយ ៗ ត្រូវបាន មិន បាន ពិភាក្សា ដោយ xxunk កូ xxunk មាន ឥទិ្ធពល នាំអោយ ប្រើប្រាស់ នៅ ប្រទេស អ៊ីតាលី ។ យ៉ាង សំខាន់ នោះ ដោយ ក វី ពាក្យ កាព្យឃ្លោង មកពី ប្រទេស បារាំង ។ ក្នុង អំឡុង ពេល ពាក់កណ្តាល អាយុ ប៉ុន្តែ បន្ទាប់ពី ទទួល ជោគជ័យ ជំនះ នៃ អ៊ីតាលី ខាងត្បូង xxunk ក្លាយជា ទឹកដី ប្រទេស អ៊ីតាលី ជា លើក ដំបូង ដើម្បី រក្សាទុក xxunk xxunk អារម្ម ណ៏ ឬ វិធី នៅក្នុង xxunk វីនិពន្ធ ។ សូម្បីតែ នៅក្នុង ករណី ភាសា អ៊ីតាលី ខាងជើង ទោះបីជា យ៉ាងណា ក៏ដោយ អ្នកប្រាជ្ញ ជាច្រើន គឺ មាន xxunk ដោយ មិន បំផ្លើស មាន អនុភាព ប្រសិទ្ធភាព នៃ អ្នក ខាងក្រៅ លើ រីកចម្រើន ភាសា ក្នុង ស្រុក ។ \n",
              "  ឥទិ្ធពល សេដ្ឋកិច្ច និង ដោយ xxunk ភាព ជឿនលឿន នៃ ទូស សាណី នៅ សម័យ ( ចុង ពាក់កណ្តាល សម័យកាល ) អោយ គ្រាម ភាសា មាន រឹងមាំ គិត អំពី ភាសា xxunk ទៀន បាន រលឹក ត្រូវបាន ផ្សព្វផ្សាយ ពាសពេញ ក្នុង តំបន់ ជិត សមុទ្រ វិជ្ជាជីវះ នៅជិត សមុទ្រ ម៉េឌីទែរ៉ាណេ ។ ផងដែរ នោះ ការកើតឡើង នៃ នយោបាយ មាន ភាពទាក់ទង នៃ ហ្លរ៉េន ក្នុង អំឡុង ពេល xxunk កើតឡើង នៃ ច្រាំង xxunk មនុស្ស និយម និង ដំណើរ មាន សកម្មភាព ជាថ្មី នៃ អក្សរសាស្ត្រ កើតឡើង វិញ ភាសា គ្រាម ភាសា ឬ ដូចជា ធ្វើអោយ ប្រសើរឡើង តាម និយាម ក្នុង សិល្បះ ។ \n",
              "  របកគំហើញ សារជាថ្មី នៃ ដាត និង បាន បន្ត អោយ xxunk ណ៏ នៅ ក្នុង ភាសា វិទ្យា ក្នុង សតវត្ស រ៏ ទី ១៦ បាន ពិភាក្សា គ្នា យ៉ាង រស់រវើក ដែល xxunk ពាសពេញ ប្រទេស អ៊ីតាលី ការទុក ព្រួយ ខ្វល់ xxunk ការវិនិច្ឆ័យ ដែល គួរតែ គ្រប់គ្រង គ្រឹះស្ថាន សម្រាប់ នៃ អក្សរសាស្ត្រ អ៊ីតាលី និង ត្រូវបាន និយាយ ភាសា ។ អ្នកប្រាជ្ញ មួយចំនួន បាន បែង ចែក ក្នុង នោះ ជា បី ក្រុម \n",
              "  ១ អ្នក សុទ្ធ និយម ដឹកនាំ ដោយ ភីត ត្រូ xxunk ប៉ូ ( ទាមទារ ភាសា អោយ មាន អនុភាព តែ មួយ ត្រូវបាន ដាក់ ជា មូលដ្ឋាន ទៅ លើ អក្សរសាស្ត្រ សំខាន់ ដូចជា xxunk ច និង xxunk អូ ) ។ \n",
              "  ២ ណី xxunk xxunk និង ហ្ល xxunk ចូលចិត្ត កំណែ ថ្មី ត្រូវបាន និយាយ ដោយ មនុស្សធម្មតា ជាង ក្នុង សម័យកាល របស់ ពួកគេ ។ \n",
              "  ៣ អ្នក អែប អប ដូចជា បាល ដា សារី កាស xxunk អូនី និង xxunk ហ្គី xxunk អូ xxunk xxunk ទទូច ថា តំបន់ នីមួយ ៗ មាន ភាសា ក្នុង ស្រុក ជួយ អោយ ទៅជា ភាសា ជា និយាម ថ្មី ( ជា ស្តង់ដា ថ្មី ) ។ \n",
              "  ការធ្វើ ទាមទារ មួយ ភាគ បួន ជនជាតិ អ៊ីតាលី គឺ តុលាការ បាន យល់ព្រម ។ តាម យថា ហេតុ គំនិត របស់ xxunk xxunk ជ័យជំនះ និង ការអាន ដើម្បី បោះពុម្ភ នៃ វចនានុក្រម អ៊ីតាលី ក្នុង ១៦១២ និង ស្ថាបនា នៃ xxunk មី ដី ឡា គ្រូ ស្កា ក្នុង ហ្លរ៉េន ( xxunk ដល់ ១៥៨៣ ) នីតិបញ្ញត្តិ ជា ផ្លូវការ ទំាង មូល នៃ ភាសា អ៊ីតាលី ។ \n",
              "  អត្ថន័យ គួអោយ កត់សំគាល់ ពីរ បច្ចុប្បន្ន ក្នុង ប្រវត្តិសាស្រ្ត ភាសា អ៊ីតាលី បាន កើតឡើ រវាង ឆ្នាំ ១៥០០ និង ១៨៥០ ។ ព្រឹត្តការណ៏ ទាំង ពីរ គឺ មាន ការផ្សព្វផ្សាយ យ៉ាង រហ័ស ។ អ្នកគ្រប់គ្រង អ្នក ច្បាប់ នៃ ជនជាតិ ស្ប៉ាញ បាន ផ្សាយ និង \n",
              "  < / doc >\n",
              "y: LMLabelList\n",
              ",,,,\n",
              "Path: kmwiki_data;\n",
              "\n",
              "Valid: LabelList (353 items)\n",
              "x: LMTextList\n",
              "xxbos \n",
              "  ចក្រីនី \n",
              "  ចៅ ពញា ចក្រីនី ( \" ចៅ ពញា \" ជា សក្ដិ , \" ចក្រី \" ជា ងារ , \" នី \" ជា ឈ្មោះ ) លោក ជា សេនាបតី ចតុស្ដម្ភ របស់ ព្រះស្ដេច កន ហ្លួង ខាងកើត ។ \n",
              "  និយាយ អំពី សម្ដេច ស្រី ជេដ្ឋា ព្រះអង្គ គ្រង ពិជ័យ ព្រៃ នគរ នោះ វិញ លុះ ដល់ ខែមិគសិរ បុស្ស ហើយ ទ្រង់ គិត ថា ទ្រង់ នឹង ធ្វើ សង្គ្រាម យក ជ័យ ជំនះ លើ សម្ដេច ចៅ ពញាចន្ទ រាជា ក្នុង គ្រា នេះ ឲ្យ ខាងតែ បាន ទើប ទ្រង់ ត្រាស់បង្គាប់ ចៅ ហ៊្វា កៅ សម្ដេច ចៅ ពញា ហែង ចៅ ពញា ស្នង ធ្នឹម ព្រះនគរ ចៅ ពញា វៀង ចៅ ពញា វាំង ចៅពញា ស្រាល និង ចៅ ពញា លំពាំង ជា សេនាបតី ឲ្យ កេណ្ឌ រេហ៍ ពល បាន ១៥០០០ នាក់ មក សមហាត់ ឲ្យ ស្ទាត់ ហើយ នឹង យក ទៅ វាយ បន្ទាយ ក្ដុល វិញ ។ បើ មាន ជ័យជំនះ ហើយ ទ្រង់ នឹង លើក រហូតដល់ បន្ទាយមានជ័យ ( ពោធិ៍សាត់ ) សំរេច ផែនដី ក្នុង ឆ្នាំ នេះ ឲ្យបាន ។ សេនាបតី ទាំង ប្រាំមួយ នាក់ ក៏ ថ្វាយបង្គំ លា ចេញ ទៅ ចាត់ សំបុត្រ ឲ្យ កេណ្ឌ មក គ្រប់គ្រាន់ តាម ព្រះបន្ទូល ពិសេស ។ សេចក្ដី ដែល កេណ្ឌ រេហ៍ ពលមក សមហាត់ នេះ ឮ សូរ សព្ទ ទៅដល់ សម្ដេច ព្រះភគិនេយ្យោយសរាជាជា កែវ នាយក ទើប ទ្រង់ ត្រាស់ ប្រឹក្សា នឹង ឧកញ៉ា ចក្រី ទេ ព ឧកញ៉ា សួគ៌ា លោក សុខ កូន ពញា មឿង និង សម្ដេច ចៅ ពញា កែវ ចៅ ពញា ឧទ័យ ធិរាជ ចៅ ពញា តេជោ នោះ អស់ នាយកងទ័ព ថា ពល គេ ដល់ ទៅ ១៥ xxrep 4 ០ នាក់ ពល យើង មាន តែ ៤០០០ នាក់ ដូច្នោះ នឹង គិត ដូចម្ដេច កើត ។ វេលា នោះ ឧកញ៉ា ចក្រី កែវ ចៅ ពញា សួគ៌ា លោក សុខ កូន ពញា មឿង យក សេចក្ដីក្រាបទូល ពល យើង សម្ដេច ព្រះបរម បពិត្រជា អម្ចាស់ ទ្រង់ ឲ្យ បន្ថយ អស់ ទៅ ហើយ បើ យើង នឹង ទៅ កេណ្ឌ ថែម ទៀត ក្រែង ពុំ ទាន់ តែ កាលបិតា ទូលព្រះបង្គំ លោត អន្លង់ សំលាប់ ខ្លួន ទៅ កេណ្ឌ ទ័ព បិសាច ឲ្យ ជួយ ធ្វើការ នោះ បាន ផ្ដាំ ទុក នឹង ចៅ ពញាចន្ទ មេស្មឹង ជា ភឿន ថា បើ ម្ចាស់ ផែនដី មាន សេចក្ដីទ័ល ធុរៈដូចម្ដេច កុំ ឲ្យ ស្ដេច មាន បន្ទូល ផ្ទាល់ ថា ឲ្យ មេស្មឹង និយាយ ឆ្លង ព្រះបន្ទូល លោក នឹង កេណ្ឌ ទ័ព បិសាច មក ជួយ ឲ្យបាន សំរេច ។ ឥឡូវការណ៍ យើង ក៏ ប្រទាល ខ្លួន ណាស់ ហើយ គួរ យើង ធ្វើ តាម បណ្ដាំ នោះ ល្បង មើល សម្ដេច ព្រះភគិនេយ្យោយសរាជាជា កែវ នាយក ទ្រង់ ជ្រាប ហើយ ទ្រង់ ត្រាស់ ឲ្យ ចៅ ពញាចន្ទ មេស្មឹង ចូលមក ត្រាស់ ប្រាប់ ដូន កូន ពញា មឿង ពីរ នាក់ យក សេចក្ដី ក្រាបបង្គំទូល។ ខណៈ នោះ ពញាចន្ទ មេស្មឹង ទទួល ព្រះបន្ទូល ពិសេស ហើយក៏ ឲ្យ ធ្វើ រោង រាជវ័តិ និង ឆត្រ គ្រឿង សក្ការៈបូជា ស្លៀក សស្រេច ហើយ ក៏ ចូល ទៅក្នុង រោង រាជ ពិធី ឧទ្ទិស ដល់ ខ្មោច ពញា មឿង ថា សុំឲ្យ ពញា ជួយ ឲ្យបាន សំរេច ដូច ជួយការណ៍ ក្នុង ខេត្ត ពោធិ៍សាត់ ។ ក្នុង គ្រា នោះ បិសាច ពញា មឿង ចូល សណ្ឋិត នឹង មេស្មឹង ហើយ ប្រាប់ កូន ទាំង ពីរ ថា ឲ្យ យក ចំបើង ចង ជា រូប មនុស្ស ឲ្យកាន់ ប្រឆេះ ឲ្យ ពួក ពល ចេះតែ តាំង ហ៊ោ បាញ់ កាំភ្លើង ពី ចំងាយ ទៅ សុំ យើង កេណ្ឌ ទ័ព បិសាច ទៅ ជួយ ឲ្យ សំរេច ។ វេលា នោះ កូន ពញា មឿង ទាំង ពីរ នាក់ លុះ ដល់ ពេល យប់ ហើយ ឲ្យ រេហ៍ ពលយក ចំបើង ចង ជា រូប មនុស្ស រួច ចង ប្រឆេះ នៅ រូប ចំ បើង នោះ យក ទៅ ដាក់ នៅ ក្បាល ត្រោក ជុំវិញ បន្ទាយ ព្រះស្ដេច កន ។ ឯ បិសាច ពញា មឿង ក៏ កេណ្ឌ ឲ្យ តាំង ហ៊ោ បីដូច គេ ប្លន់ យក បន្ទាយ ។ ទ័ព ស្ដេច កន ឮ ហើយ ក៏ តាំងតែ បាញ់ កាំភ្លើង ធ្នូ ស្នាចោល ដុំ ថ្ម ពី ក្នុង បន្ទាយមក ជាច្រើន រាត្រី ។ សម្ដេច ចៅ ហ៊្វា កៅ ធ្វើ តែ ដូច្នោះ ១៥ រាត្រី ។ កងទ័ព ក្នុង បន្ទាយ បាញ់ អស់ ព្រួញ ធ្នូ ស្នា នឹង ជិត អស់ ទាំង គ្រាប់ រំសេវ លុះ ដល់ យប់ គំរប់ ១៥ នោះ ស្រាប់តែ ឮ តាំង ហ៊ោ ទូង ស្គរ ក្រោម ដី និង លើ អាកាស ដូច រន្ទះ កក្រើក ទាំង ព្រះធរណី ធូលី ក៏ បក់ បោក ចូល ភ្នែក ។ អស់ សេនា ទាហាន ទ្រាំ ពុំ បាន ក៏ បើក ទ្វារ បន្ទាយ ខាងកើត ហើយ រត់ ទៅ ទិស អាគ្នេយ៍ ប៉ង ទៅ ខេត្ត រោង ដំរី ដើម្បី ទៅ ពឹង ប្រទេស ចាម ឲ្យ ជួយ ។ កងទ័ព បិសាច បណ្ដាល អាត្មាឲ្យ ឃើញ កងទ័ព ឈរ តាំង ហ៊ោ តាម ផ្លូវថ្នល់ ដល់ ទៅ ខេត្ត រោង ដំរី នោះ ។ ឯ ព្រះស្ដេច កន សម្ដេច ចៅ ហ៊្វា កៅ ចក្រី និង ស្នង ធ្នឹម ព្រះនគរ xxunk នាំ អ្នក ម្នាង ជា លែង រត់ ចេញ តាម ទ្វារ ប៉ម ទិស ឦសាន ដើម្បី ទៅ ទិស ខាងជើង កាត់ ស្រុក លាវ ។ លុះ ទៅដល់ ព្រៃ មួយ អន្លើ ឲ្យ បោះ ទ័ព បង្អង់ នៅ ទីនោះ យូរ ទៅ ជាប់ ឈ្មោះ បង្អង់ យារ ៗ មក ហៅ ហូរ ជើង វាំង ។ ទីនោះ ជា ព្រៃ គគីរ មាន ដើម គគីរ ជាច្រើន ព្រះស្ដេច កន ឃើញ ដើម គគីរ មួយ ធំ ក្រៃលែង ឲ្យ បាំង ស្រមោល វាស់ ល មើលឃើញ ២៤ ព្យាម សំណុំ ៩ ព្យាម ទើប ព្រះស្ដេច កន ប្រឹក្សា នឹង អស់ មន្ដ្រី នាយកងទ័ព ថា ចៅ ពញាចន្ទ រាជា មាន ទូក សារាយ អណ្ដែត វែង តែ ១៨ ព្យាម ទើប ព្រះស្ដេច កន នឹង អស់ មន្ដ្រី នាយកងទ័ព ថា ចៅ ពញាចន្ទ រាជា មាន ទូក សារាយ អណ្ដែត វែង តែ ១៨ ព្យាម ។ ដូច្នោះ គួរ យើង ឲ្យ កាប់ ដើម គគីរ ធ្វើ ទូក ឲ្យបាន ជាស្រេច ហើយ នឹង ឲ្យ រាជសារ ទៅ បបួល ចៅ ពញាចន្ទ រាជាអុំ ភ្នាល់ ដាក់ ព្រះនគរ ។ បើ មិន ភ្នាល់ យើង នឹង ឲ្យ រេហ៍ ពល តាំង ហ៊ោចំអក ចំអន់ ឲ្យ ឈឺចិត្ដ ។ បើ ហ៊ាន អុំ ភ្នាល់ ទូក យើង វែង ជាង ដល់ ទៅ ៧ ព្យាម នោះ គង់ មាន ជ័យជំនះ ដោយ ងាយ បាន ។ គិត ព្រមព្រៀង គ្នា ហើយ ស្ដេច កន ក៏ ឲ្យ រេហ៍ ពល កាប់ ដើម គគីរ នោះ ចាំង លុង បានជា ទូក -ង មួយ វែង ២៥ ព្យាម ទទឹង ១២ ហត្ថ ទើប ឲ្យ ឈ្មោះ ព្រៃ គគីរ នោះ ហៅ ថា ព្រៃ គគីរ រៀង មក ។ ឯ ទូក ដែល កាប់ បាន នោះ សិត ពុំ ទាន់ រួច ហើយ ស្ដេច កន ឲ្យ អូស យក ទៅ ធ្វើ នៅឯ បន្ទាយសង់ រោង និង សិត ទូក នោះ ហើយ ឲ្យ សាង ព្រះចេតិយ មួយ គិត នឹង យក បន្ទាយសាង ថ្មី នេះ ជា មហា នគរ ។ កំពុងតែ សាង ព្រះចេតិយ ធ្វើ បន្ទាយ នឹង សិត ទូក នោះ កងទ័ព បិសាច ក៏ តាម ទៅ សំដែង ឫទ្ធិ តាំង ហ៊ោឮ សូរ សព្ទ ដូចជា ស្គរ រន្ទះ ទាំង ផែនប្រឹថ ពី ។ ស្ដេច កន ចៅ ហ៊្វា កៅ និង អស់ នាយកងទ័ព មើល មិន ឃើញ ច្បាំង ពុំ កើត ឃើញ ប្លែក អស្ចារ្យ ណាស់ ទ្រាំ ពុំ បាន ក៏ នាំគ្នា រត់ ពី ទីនោះ ទៅ ទៀត ។ ស្ដេច កន សម្ដេច កៅ សម្ដេច ចៅ ពញា ហែង រត់ បែក គ្នា ទៅ ចុង ម្ខាង ឯ អ្នក ម្នាង ជា លែង និង ចក្រីនី រត់ បែក ផ្លូវ ទៅ ទិស ខាងត្បូង ទៅដល់ ភូមិ គោក ស្រុក ហើយ ទី ដែល បែក ផ្លូវ នោះ ជាប់ ហៅ ភូមិ នាង ឃ្វាង ផ្លូវ យារ ៗ មក ហៅ ថា ភូមិ ស៊ាង ឃ្វាង ។ ក្រោយមក អ្នក ម្នាង ជា លែង រត់ ទៅ ទៀត ចូល ព្រៃ លេច វាល គិត ថា ក្រែង ស្ដេច កន តាមរក ខ្លួន ពុំ ឃើញ ក៏ កាត់ សក់ ចង នឹង មែក ឈើ នោះ ប្រាថ្នា ឲ្យ ស្ដេច កន ឃើញ ហើយ តាម រក បានជា ជាប់ ហៅ វាល ចង សក់ ដល់ សព្វ ថ្ងៃ នេះ ។ តមក ទៀត នាង ដើរ ហួស ទៅ ទៀត ត្រូវ ថ្ងៃ ក្ដៅ ណាស់ ខណៈ នោះ មាន សត្វ ខ្លែង មួយ ហ្វូង ចំកាង ស្លាប ហើរ បាំង ពីលើ មិន ឲ្យ ក្ដៅ លុះ មាន គេ ទៅ នៅ ភូមិ នោះ ក៏ ជាប់ ឈ្មោះ ហៅ ថា ភូមិ បង្ហើរ ខ្លែង ។ នាង ដើរ ហួស ទៅ ទៀត ឃើញ ត្រពាំង មួយ ទឹក ថ្លា ល្អ នាង ក៏ ចូលទៅ កក់ ក្បាល នៅ ទីនោះ លុះ មាន គេ ទៅ នៅ ភូមិ បាន ជាប់ ឈ្មោះ ហៅ ថា ភូមិ ស្រែកក់រៀង មក ។ នាង ដើរ ទៅ ទៀត មាន អូរ មួយ នឹង ដើរ ឆ្លង មិន រួច នាង បន់ ដល់ អ្នកតាបង់ បត់ សុំឲ្យ មាន ទូក ឆ្លង ពេល នោះ អ្នកតាបង់ បត់ តំណែង ជា ក្រពើ មួយ ឲ្យ នាង ដើរ ជាន់ ឆ្លង ទៅ ក្រពើ នោះ ប្រែក្លាយទៅជា ក្រពើ ថ្ម រហូតដល់ សព្វ ថ្ងៃ នេះ គេ ហៅ ថា ភូមិភាគ ក្រពើ រៀង មក ។ នាង ដើរ ហួស ទៅ ទៀត រោយ ជើង ដើរ ពុំ រួច អស់ កងទ័ព សុំ ពរ នាង នៅ ទួល នោះ សព្វ ថ្ងៃ នេះ ជាប់ ហៅ ថា ទួល សុំ ពរ ។ លុះ ដើរ ទៅ ទៀត នាង សួស ជា មាតា នាង ជា លែង រោយ ជើង ដើរ មិន រួច ចៅ ពញា ចក្រីនី ឲ្យ យក សំពត់ ធ្វើ អង្រឹង ហើយ យក ដង ផ្គាក់ ធ្វើ ស្នែង សព្វ ថ្ងៃ នេះ ជាប់ ឈ្មោះ ហៅ ថា ព្រែក ដង ផ្គាក់ ។ ត ពី នេះ ទៅ ទៀត ដល់ វាល មួយ អន្លើ ធ្លាក់ ខ្នើយ នាង សួស ពី អង្រឹង បានជា ជាប់ ឈ្មោះ ហៅ ថា វាល ជ្រុះ ខ្នើយ ។ លុះ ទៅដល់ អូរ មួយ អន្លើ ចោល ស្នែង ដែល សែង នាង សួស នោះ ទៅក្នុង អូរ នោះ សព្វ ថ្ងៃ គេ ហៅ ថា អូរ ចោល ស្នែង ។ ក្នុង ស្រុក ត្បូងឃ្មុំ នោះ មាន អុង ម៉ុង ពីរ ( ដូច ដែល យើង បាន ពណ៌នា រួច មកហើយ ក្នុង ដើម នេះ ) អ្នកស្រុក សន្មត ហៅ ថា អុង ម៉ុង ព្រះមហោសថ ។ អុង ម៉ុង តូច នោះ មាន ទំហំ ៧ ហត្ថ បួន ជ្រុង អុង ម៉ុង ធំ នោះ មាន ទំហំ ១៣ ហត្ថ បួន ជ្រុង ។ ទឹក ដែល ហូរ លើ អុង ម៉ុង នោះ ធ្លាក់ ទៅ លើ ព្រែក ឆ្លូង ឆ្ពោះ ត្រង់ ទៅ ស្រុក យួន ។ លុះ ពេល សែង នាង ទៅដល់ អុង ម៉ុង នោះ សំរាក មួយ សន្ទុះ នាង ទៅ ពួន ក្នុង ហោង តូច សព្វ ថ្ងៃ នេះ គេ ហៅ អុង ម៉ុង តូច នោះ ថា ហោង ពល សែង ។ លុះ ឃើញ ថា ស្ងប់ស្ងាត់ គ្មាន កងទ័ព លើក តាម ទេ នាង នាំ បក្សពួក ទៅដល់ ហោង អុង ម៉ុង ធំ នោះ នាង សួស ទាំង កូន និង ម្ដាយ ចូលទៅ ពួន ក្នុង អុង ម៉ុង នោះ សព្វ ថ្ងៃ គេ ហៅ ថា ហោង ពួន ។ ពួក នេះ ហួស ទៅ ខាងកើត បាន ជួបជុំ ព្រះ ស្ដេច កន សម្ដេច កៅ ។ ស្ដេច កន ជំនុំគ្នា នឹង ធ្វើ បន្ទាយ ទៀត តែ ធ្វើ មិន កើត លុះ មាន គេ ទៅ នៅ ភូមិ នោះ ជាប់ ឈ្មោះ ថា ភូមិ ស្រែ បន្ទាយ ។ រត់ ពី នោះ ទៅ ទៀត ដល់ វាល មួយ វែង បណ្ដោយ ទៅ ខាងកើត ក្រោយមក មាន គេ ទៅ នៅ ស្រែ សព្វ ថ្ងៃ នេះ ជាប់ ហៅ ឈ្មោះ ភូមិ ស្រែ វែង ។ រត់ ទៅ ទៀត ច្រឡំ ផ្លូវ លោជា គេច ទៅ ឦសាន ព្រៃ ដែល មក ។ ក្រោយមក មាន គេ ទៅ នៅ សព្វ ថ្ងៃ នេះ ហៅ ថា ភូមិ រលា រៀង មក ។ បក្សពួក ស្ដេច កន នាំគ្នា រត់ ទៅ ទិស ខាងកើត ទៀត ជួប នឹង ស្វាស មួយ ស្វា នោះ ក៏ បេះ ផល្លានុផល ទំលាក់ មក ឲ្យ ក្រោយមក គេ ទៅ រាន ភូមិ នៅ សព្វ ថ្ងៃ នេះ ជាប់ ជា ភូមិ ស្វាស ។ រត់ ទៅ ឯ កើត ទៅទៀត ដល់ ចំការពោត មួយ អន្លើ ម្ចាស់ ចំការ ឈ្មោះ ថៅកែ យក ពោត មក ថ្វាយ ស្ដេច កន ហើយ ស្ដេច កន ឲ្យពរ ថា ឲ្យ រកស៊ី កើត កាល វាល គុម្ព ។ លុះ ក្រោយមក មាន គេ ទៅ នៅ គេ ហៅ ថា ភូមិ ជី កែ រៀង មក ។ រត់ ទៅ ទិស ខាងកើត ស្ដេច នឹង នាង អស់ កំលាំង ណាស់ អស់ ពួក ពល ឃើញ ថ្ម មួយ ដុំ ចាំង ធ្វើជា គ្រែ បណ្ដោយ ៦ ហត្ថ កំពស់ ១ ហត្ថ ទទឹង ៣ ហត្ថ ថ្វាយ ស្ដេច ផ្ទុំ លុះ ក្រោយមក មាន គេ ទៅ រាន ភូមិ នៅ គេ ហៅ ភូមិ ថ្ម គ្រែ ។ ឯ សម្ដេច ចៅ ហ៊្វា កៅ ចៅ ពញា ចក្រីនី ចៅ ពញា វៀង ចៅ ពញា វាំង ៤ នាយ នេះ កាលភ័យ ពេក ក៏ រត់ បែក គ្នា ចូលទៅ ខេត្ត បាភ្នំ មឿង រមាសហែក មាន ស្ម័គ្រ បក្សពួក ២០០ នាក់ ។ វេលា នោះ កងទ័ព នាយ ទាំង ៤ បាន ប្រទះ នឹង ចៅ ពញា សួគ៌ា លោក សុខ កូន ពញា មឿង កងទ័ព ទៅ ដេញ រត់ ទៅ ទៀត ។ ឯ ស្ដេច កន ឃ្លាន បាយ ណាស់ ក៏ ឈប់ ឲ្យ ដាំ បាយ តែ ដាំ ពុំ ទាន់ ឆ្អិន ទ័ព គេ ទៅដល់ ក៏ រត់ ទៅ ចោល បាយ នៅ ទីនោះ ទាំង បាយ ឆៅ ផង ។ លុះ កងទ័ព ចៅពញា សួគ៌ា លោក ទៅដល់ ក៏ យក បាយ ឆៅ នោះ ស៊ី ក្រោយមក ទៀត មាន គេ ទៅ រាន ភូមិ នៅ គេ ហៅ ភូមិ បាយ ឆៅ រៀង មក ។ ឯ នាយកងទ័ព ខ្មាំង ទាំង ៤ នាក់ ឃើញ ត្រឡាច ផ្លែ ក្នុង ព្រៃ ក៏ បបួលគ្នា បេះ ។ កំពុងតែ បេះ នោះ ទ័ព គេ ទៅដល់ ចាក់ កាប់ សំលាប់ ចៅ ពញា វៀង ចៅ ពញា វាំង ហើយ ទ័ព ដែល នៅសល់ ក៏ បែក រត់ ទៅ ទៀត ។ ក្រោយ ដែល បេះ ត្រឡាច នោះ មក មាន គេ ទៅ នៅ ក៏ ជាប់ ហៅ ថា ភូមិ ត្រឡាច រៀង មក ។ ឯ សម្ដេច ចៅ ហ៊្វា កៅ និង ចក្រី នី នាំស្ម័គ្រ បក្សពួក រត់ ទៅដល់ ព្រៃ មួយ អន្លើ មាន ទឹក ត្រពាំង ល្មម ពេល ដាំ បាយ ស្ល ស៊ី ក៏ ឈប់ កាប់ ត្រី ធ្វើ ម្ហូប ។ លុះ កងទ័ព គេ ទៅដល់ សម្ដេច ចៅ ហ៊្វា កៅ ចៅ ពញា ចក្រីនី ប្រថុយ ជីវិត ចូលមក តដៃ ក៏ កំពប់ ត្រី ពី ចាន បានជា ជាប់ ហៅ ថា ភូមិ ចាន ត្រី រៀង មក ។ ឯ ចៅ ហ៊្វា កៅ ចក្រីនី នាំ ស្ម័គ្រ បក្សពួក រត់ ទៅ ទៀត ចៅ ពញា សួគ៌ា លោក ក៏ ដេញ តាម ទៅ បន្ដិច ចៅ ពញា តេជោ លើក ទ័ព ទៅដល់ ក៏ ចូល ប្រកាប់ គ្នា ចក្រីនី នឹង ចៅ ពញា សួគ៌ា លោក សម្ដេច កៅត នឹង ចៅ ពញា តេជោ អ្នក ទាំងនោះ ស្ទាត់ ក្នុង ការកាន់ អាវុធ ចិត្ដ មុត ដូចគ្នា ។ ប្រយុទ្ធ គ្នា ពី ថ្ងៃត្រង់ ដល់ រសៀល បិសាច ពញា មឿង បណ្ដាលឲ្យ ចៅ ហ៊្វា កៅ ចក្រីនី ឮ សូរ ដូច គេ ស្រែក សន្ធាប់ នាំឲ្យ ធ្លាក់ អាវុធ ពី ដៃ ។ ខណៈ នោះ ចៅ ពញា សួគ៌ា លោក ចៅ ពញា តេជោ សំលាប់ បាន ហើយ កាត់ ក្បាល នាំមក ថ្វាយ សម្ដេច ព្រះភគិនេយ្យាយស រាជ ជា កែវ នាយក ទ្រង់ ព្រះអំណរ ណាស់ ទ្រង់ ប្រោសរង្វាន់ តាម សម គួរ ។ \n",
              "  < / doc >,xxbos \n",
              "  ឃុំ សំរោង លើ ( ខេត្ត កំពត ) \n",
              "  ឃុំ សំរោង xxunk គឺជា ឃុំ មួយ ដែល ស្ថិត នៅ \n",
              "  ក្នុង ស្រុក បន្ទាយមាស ខេត្ត កំពត ។ ហើយ ឃុំ នេះ មាន វត្ត ចំនួន ៤ ដូច ជា៖ - វត្ត បរិវាស - វត្ត ដំបូក ខ្ពស់ - វត្ត ដំណាក់ ត្រយឹង - វត្ត xxunk ។ ឃុំ នេះ មាន ប្រជាជន រស់ នៅ ច្រើន កុះករ ប្រជាជន ភាគ ច្រើន ប្រកបរបរ កសិកម្ម សំរាប់ ចិញ្ជឹម ជីវិត ។ បើ មើល កាលពី ឆ្នាំ ២០០០ មនុស្ស ភាគ ច្រើន ជា អ្នកក្រីក្រ ដោយសារតែ ពុំ ទាន់ មាន ចំនេះ ដឹង គ្រប់គ្រាន់ ក្នុង ការប្រកបរបរ ចិញ្ជឹម ជីវិត ។ មនុស្ស មួយចំនួន ធ្វើ ស្រែ មិន ចេះ មើល ថែ ដំនាំ ដី មិន មាន ជីជាតិ គ្រប់គ្រាន់ គ្មាន ការច្នៃប្រឌិត ធ្វើ កសិកម្ម តាម ហេតុ តាម កាល ដូច ច្នេះ ទើប ធ្វើអោយ xxunk ភាព ពួកគេ មិន រីកចំរើន បែប នេះ ។ ណាមួយ ប្រជាជន ភាគ ច្រើន រងគ្រោះថ្នាក់ យ៉ាង ខ្លាំង ដោយសារតែ មិន មាន មណ្ឌល សុខភាព នៅជិត ផ្ទះ ។ យ៉ាងណាមិញ មនុស្ស មួយចំនួន ធំ បាន ចេញ ពី ស្រុក កំណើត ទៅ រក ការងារ ធ្វើ នៅ ប្រទេស ផ្សេង ៗ ដូច ជា៖ ប្រទេស ថៃ ប្រទេស ម៉ាលេស៊ី ជាដើម ។ ហើយ មាន ការជិះ ជាន់ យ៉ាង ខ្លាំង ពីសំណាក់ ជន បរទេស មក លើ ប្រជាជន ខ្មែរ ។ ប៉ុន្តែ បើ ក្រលេក មើល បច្ចុប្បន្ន នេះ វិញ មនុស្ស ភាគ ច្រើន មាន ចំនេះ ដឹង ខ្ពង់ខ្ពស់ យល់ដឹង ច្រើន ពី សង្គម និង មាន ការទំនាក់ទំនង គ្នា យ៉ាង ជិតស្និត មិន ថា តែ ជនជាតិ ដទៃ ឬ ជនជាតិ ខ្លួន ។ ព្រមទាំ ស្គាល់ ពី xxunk ខាងក្រៅ ច្រើន ហើយ ពួកគេ យក ចំនេះ ដឹង ដែល គេ បាន សិក្សា ពី សាលា និង ចំនេះ ដឹង ផ្សេង មក ធ្វើ ការងារ នៅក្នុង ស្រុក និង ក្នុង ប្រទេស របស់ ខ្លួន ។ មិន តែ ប៉ុន្នោះ ការធ្វើ ការងារ នៅក្នុង ប្រទេស របស់ ខ្លួន គឺ គ្មាន ការជិះ ជាន់ ពីសំណាក់ ជន បរទេស ព្រមទាំង រក ប្រាក់ ចំនូល បាន ច្រើន សំរាប់ ជួយ ផ្គត់ផ្គង់ គ្រួសារ របស់ ពួកគេ ។ \n",
              "  រួមមាន ចំនួន ៦ គឺ ៖ \n",
              "  ភូមិ បរិវា ស៖ គឺជា ភូមិ មួយ នៅក្នុង ឃុំ សំរោង លើ ព្រមទាំង មាន មនុស្ស រស់ នៅ ច្រើន កុះករ ហើយ មនុស្ស ភាគ ច្រើន ប្រកប មុខរបរ កសិកម្ម ដូច ជា៖ ( ធ្វើ ស្រែ ចំការ ដាំ ដំនាំ បន្ទប់ បន្សំ ផ្សេង ៗ ទៀត ) ។ ហើយ កាលពី ឆ្នាំ ( ២០០២ ) មនុស្ស នៅ ភូមិ នេះ ភាគ ច្រើន ធ្វើ ស្រែ ដោយ ប្រើ គោ សំរាប់ ភ្ជួរ ស្រែ មួយចំនួន តូច ទៀត ប្រើ ក្របី សំរាប់ ភ្ជួរ រាស់ ។ សំរាប់ បច្ចុប្បន្ន នេះ មនុស្ស ភាគ ច្រើន មាន ជីវភាពធូធារ ជាង មុន ច្រើន ណាស់ ដោយសារតែ មនុស្ស ភាគ ច្រើន យល់ដឹង ពី របៀប នៃ ការប្រកបរបរ ចិញ្ជឹម ជីវិត ដូច ជា៖ អ្នក ខ្លះ ដំា xxunk បន្លែ ( ស្ពៃ ត្រលាច ត្រសក់ ខ្ទឹម ស្លឹក ពោត ល្ពៅ ជាដើម ។ ហើយ បន្លែ ទំាង នេះ ពួកគេ យក ទៅ ដាក់ លក់ នៅលើ ទីផ្សារ បាន តម្លៃ ខ្ពស់ សមរម្យ ដែល អាច ទទួលយក បាន ដោយសារតែ បន្លែ ទាំងនេះ មិន មាន ជាតិ គីមី ច្រើន ទើប ឈ្មួញ ទាំងនោះ ចូលចិត្ត ទិញ យក ទៅ លក់ បន្ត សំរាប់ xxunk បាន រើក ចំរើន ដួច គ្នា ។ ហើយ ក្នុង ភូមិ នេះ ភាគ ច្រើន គេ លក់ xxunk ចាប់ ហួយ ផ្សេង ៗ និង អ្នក ខ្លះ លក់ បបរ ប xxunk ព្រមទាំង របស់ ញុំ ជាច្រើន ទៀត ដើម្បើ យក ប្រាក់ កំរៃ ដែល បាន ចំនេញ នោះ មក ផ្គត់ផ្គង់ គ្រួសារ របស់ ពួកគេ ។ យ៉ាងណាមិញ xxunk នេះ មនុស្ស មួយចំនួន ធំ ក្នុង ភូមិ ភាគ ច្រើន ធ្វើ ស្រែ ចំការ ដោយ ប្រើ គោ សំរាប់ ភ្ជួរ រាស់ ស្រែ ចំការ តែ មួយចំនួន តូច ប្រើ xxunk xxunk រាស់ ស្រែ ចំការ របស់ ពួកគេ ។ សំរាប់ ក្មេង ៗ វិញ ពេលល្ងាច ទ្បើង ជិះ កង់ ដើរលេង មក ក្បែរ តូប អ្នកលក់ដូរ ហើយ ពួកគេ xxunk ខ្លាំង ណាស់ \n",
              "  ភូមិ ដំណាក់ ត្រយឹង ៖ គឺជា ភូមិ មួយ ស្ថិត ក្នុង ឃុំ សំរោង លើ នៃ ខេត្ត កំពត ។ ភូមិ នេះ មាន មនុស្ស រស់ នៅ ច្រើន កុះករ ហើយ ប្រជាជន ភាគ ច្រើន ប្រកប មុខរបរ ធ្វើ ស្រែ ចំការ សំរាប់ ចិញ្ជឹម ជីវិត របស់ ពួកគេ ។ ក្នុង ការធ្វើ ស្រែ នេះ ផងដែរ ពួកគេ ប្រើប្រាស់ គោ សំរាប់ ភ្ជួរ រាស់ ។ ហើយ កសិករ ភាគ ច្រើន នៅក្នុង ភូមិ នេះ ធ្វើ ស្រែ ដោយ ពឹងផ្អែក ទៅលើ ទឹកភ្លៀង ។ បើ កាលពី ឆ្នាំ ២០០៣ វិញ ជីវភាព របស់ ពួកគេ ដុន ដាប ចុះ ខ្លាំង ព្រោះថា ទឹកភ្លៀង ក្នុង ឆ្នាំ នោះ មិន សូវ អំណោយផល បាន ល្អ ។ យ៉ាងណាមិញ ឆ្នាំ នោះ ផងដែរ ការធ្វើ ស្រែ ពី ដំបូង ភ្លៀង បាន អំណោយផល ល្អ ណាស់ ប៉ុន្តែ លុះ ដល់ ពាក់កណ្តាល ខែ បែរជា មាន ភាពរាំងស្ងួត បណ្ដាលអោយ ស្កក ( ស្រូវ មិន ដាក់ គ្រាប់ ) ជាច្រើន មិន តែ ប៉ុន នោះ សូម្បីតែ ដំនាំ ដែល ពួកគេ ដំា បន្តិច បន្ទួច សំរាប់ ចិញ្ជឹម ជីវិត ក៏ ត្រូវ ខូចខាត ផងដែរ ។ ណាមួយ ផ្សារ នៅ ឆ្ងាយ ប្រសិនបើ គេ ចង់ ទៅ ផ្សារ គឺ ត្រូវ ចំនាយ ពេល យូរ ផងដែរ ។ ហើយ ប្រជាជន ក្នុង ភូមិ នេះ ពេល ទៅ ទិញ របស់របរ ប្រើប្រាស់ មួយចំនួន ទាល់តែ ធ្វើដំណើរ ទៅ ផ្សារ តូច នៅក្បែរ ភូមិ នោះ មាន ឈ្មោះ ថា ផ្សារ xxunk ។ ហើយ ក្នុង ផ្សារ នេះ មាន លក់ របស់របរ ប្រើប្រាស់ សំរាប់ ផ្គត់ផ្គង់ តំរូវការ របស់ បងប្អូន ប្រជាពលរដ្ឋ យើង ផងដែរ ។ ចំនែក បច្ចុប្បន្ន នេះ វិញ ជីវភាព របស់ ពួកគេ បាន រីកចំរើន ជាង មុន ច្រើន ដោយសារតែ បាន xxunk ពី ទឹកភ្លៀង បាន ល្អ ហើយ មនុស្ស មួយចំនួន មាន គំនិត ច្នៃប្រឌិត ច្រើន និង មាន ចំនេះ ដឹង ខ្ពង់ខ្ពស់ ចេះ កែច្នៃ រក វិធីសាស្ដ្រ ដែល ថ្មី សំរាប់ xxunk គ្រួសារ របស់ ពួកគេ ។ មិន តែ ប៉ុន្នោះ មនុស្ស នៅក្នុង ភូមិ នេះ មួយចំនួន បន្ទាប់ពី ធ្វើ ស្រែ រួច គេ ចេះ ធ្វើ ក្អម ឆ្នាំង ដី និង xxunk ដី ទៀតផង ។ ក្នុង នោះ ផងដែរ ក៏ មាន ការប្រកប មុខរបរ ដ៏ទៃ ទៀត ដូច ជា៖ ដំា ដំណាំ ផ្សេង ៗ រួមមាន ពោត សណ្ដែក ល្ពៅ និង លក់ វ៉ាន់ ចាប់ ហួយ មួយចំនួន សំរាប់ ផ្គត់ផ្គង់ គ្រួសារ របស់ ពួកគេ អោយ មាន ភាព រើក ចំរើន មួយ កំរិត ទៀត នូវ ពេល ទំនេរ ពី ការធ្វើ ស្រែ ចំការ ។ \n",
              "  < / doc >,xxbos \n",
              "  ភូមិសាស្ត្រ \n",
              "  ភូមិសាស្ត្រ ឬ ភូមិ វិទ្យា គឺ សិក្សា អំពី ផែនដី ។ វិទ្យាសាស្ត្រ នេះ បង្រៀន លក្ខណៈ ស្ទង់ មហាសមុទ្រ ជួរ ភ្នំ ។ល ។ ក៏ រៀន ផងដែរ អំពី ប្រជាជន នៅ ដី មួយ ( ប្រជាពលរដ្ឋ ) និង គូរ ផែនទី ។ \n",
              "  តាម វិគីភីឌា បារាំង ភូមិ វិទ្យា គឺជា ការសិក្សា អំពី ភូមិសាស្ត្រ លើ ផែនដី ជាពិសេស សិក្សា អំពី ផ្ទៃ នៃ ផែនដី ។ តាម ជន ជាតិ ក្រិក នេះ គឺជា ការពណ៌នា មួយ យ៉ាង ត្រឹមត្រូវ បំផុត អំពី ផែនដី ។ វា ជា វិទ្យា \n",
              "  សាស្ត្រ មួយ ដែល ឆ្លើយតប នឹង របកគំហើញ ថ្មី និង សំដៅ កំណត់ នយោបាយ ទន្ទ្រាន កាន់កាប់ ទឹកដី ដែល មាន ប្រយោជន៍ ។ ស្ត្រា បុង ( xxmaj xxunk ) ភូមិ វិទូ ជនជាតិ ក្រិក អំឡុង ឆ្នាំ ៥៧ ម . គ.ស. បាន និយាយ ថា ភូមិ វិទ្យា ជា xxunk សំរាប់ បង្ហាត់ បង្រៀន អ្នក ដែល ចង់ មាន សិទ្ធិ សំរេច ។ \n",
              "  បួន ទំលាប់ ជា ប្រវត្តិសាស្រ្ត ក្នុង ការស្រាវជ្រាវ ភូមិ វិទ្យា គឺ ការវិភាគ លំហ នៃ បាតុភូត ធម្មជាតិ និង មនុស្សជាតិ ( ភូមិ វិទ្យា ប្រៀប ដូច នឹង ការសិក្សា នៃ របាយ ) , បណ្តា ការសិក្សា បរិវេណ ( បណ្តា ទីកន្លែង និង បណ្តា តំបន់ ) , សិក្សា ទំនាក់ទំនង ធរណី - មនុស្ស , និង ស្រាវជ្រាវ ក្នុង វិទ្យាសាស្ត្រ ផែនដី ។ ទោះជា យ៉ាងណា ក្តី ភូមិ វិទ្យា ទំនើប ជា វិធាន ប្រមូលផ្តុំ គ្រប់ វិទ្យាសាស្ត្រ ក្នុង គោលដៅ ស្វែងយល់ ពិភពលោក និង រាល់ ស្មុគ្រស្មាញ ធម្មជាតិ មនុស្សជាតិ របស់ ពិភពលោក ដោយ ហេតុ ថា ជា ស្ពាន រវាង វិទ្យាសាស្ត្រ មនុស្ស និង វិទ្យាសាស្ត្រ រូប និយម , ភូមិ វិទ្យា ត្រូវបាន ចែកចេញ ជា បី មែក ធាង ចំបង គឺ \n",
              "  អាច និយាយ ថា ភូមិ វិទ្យា ជា \" មាតា នៃ គ្រប់ វិទ្យាសាស្ត្រ \" និង ជា \" ជន សំយោគ ចំណេះដឹង \" \n",
              "  បណ្តា ភូមិ វិទូ នៃ សម័យ ទំនើប តែងតែ ចោទ សំណួរ ចំបង ៗ ចំនួន 4 កាលបើ គេ ទាំងអស់ គ្នា និយាយ ដល់ ផែនដី ៖ \n",
              "  បណ្តា ធនធាន ធម្មជាតិ \n",
              "  ជា ការពិត ណាស់ ការវិភាគ ភូមិ វិទ្យា គ្រប់ ជ្រុងជ្រោយ មួយ ទាមទារ អោយ មាន សំណួរ ហូរហៀរ បន្ថែម ទៀត ដូចជា ( ហេតុ អ្វី ( why ) ? - កម្មវត្ថុ ទាំងឡាយ នៃ បណ្តា បុគ្គល / បណ្តា សង្គម ; យ៉ាង មេច ( how ) ? - បណ្តា ទំនាក់ទំនង នៃ អំណាច ក្នុង លំហ ; ទៅដល់ ណា ? ( until where ) - បណ្តា កំរិត ព្រំដែន , xxunk , បណ្តា កំរិត កំណត់ ... ) \n",
              "  ភូមិ វិទ្យា ដែល ពាក្យ អង់គ្លេស ប្រែ ថា xxmaj xxunk ។ xxmaj xxunk ( ដែល គួបផ្សំ ដោយ បណ្តា ពាក្យ ក្រិក xxmaj xxunk ( xxunk ) ឬ xxmaj xxunk ( xxunk ) មាន ន័យ ថា \" ផែនដី \" ; និង ពាក្យ xxunk ) មាន ន័យ ថា \" បរិយាយ \" ឬ \" សរសេរ \" ឬ \" គូរ ផែនទី \") ជា ការសិក្សា អំពី ផែនដី និង កត្តា ពិសេស របស់ វា ព្រមទាំង សិក្សា អំពី រ បាយ នៃ ជីវិត នៅលើ ផែនដី ។ បើ បកប្រែ តាមន័យ ត្រង់ , ភូមិ វិទ្យា មាន ន័យ ថា \" អធិប្បាយ ផែនដី \" ។ អ្នក ដែល ប្រើ ពាក្យ ភូមិសាស្ត្រ ( xxunk ) មុន គេ បង្អស់ គឺ លោក xxmaj xxunk ( ២៧៥ - ១៩៥ ម . គ. ស. ) នៅ ប្រទេស ក្រិក ។ \n",
              "  xxmaj xxunk ( ២៧៥ - ១៩៥ ម . គ. ស. ) គឺជា មនុស្ស ដំបូង ដែល ប្រើ ភូមិសាស្រ្ត នៅ ប្រទេស ក្រិក ។ គេ ឲ្យ ឈោ្មះ « xxunk » ( xxunk ) ។ ប្រជាជន ក្រិក គឺជា មនុស្ស ដំបូង ដែល ធើ្វ ផែនទី ។ \n",
              "  ប៉ុនែ្ត មនុស្ស ទាំងអស់ បាន គឹត ថា ផែនដី គឺជា xxunk ។ ប្រហែល ប្រជាជន ក្រិក បាន ដិង មុន គេ ។ មាន មនុស្ស ខ្លះ នៅ ប្រទេស នោះ ដែល បាន ដឹង ។ \n",
              "  មាន ពីរ ចំណែក : \n",
              "  ផែនដី មាន : \n",
              "  ភូមិសាស្រ្ត របស់ ផែនដី មាន ដែរ \n",
              "  ប្រជាជន នៅ ដី មួយ ។ \n",
              "  នៅ ផែនដី មាន ៧ ទ្វីប ។ ៥ មាន មនុស្ស រស់ នៅ និង ២ មិន មាន មនុស្ស រស់ នៅ ។ \n",
              "  ភូមិ វិទ្យា រូប និយម សិក្សា អំពី វិទ្យាសាស្ត្រ ផែនដី ។ វា មាន គោលដៅ ស្វែងយល់ លក្ខណះ រូបធាតុ នៃ ផែនដី ព្រមទាំង ស្រទាប់ xxunk , ស្រទាប់ xxunk xxunk , ស្រទាប់ xxunk ខ្យល់អាកាស , ស្រទាប់ xxunk និង ស្រទាប់ xxunk ប៊ី យូ ។ ភូមិ វិទ្យា រូប និយម ត្រូវបាន ចែកចេញ ជាច្រើន ផ្នែក ធំ ទូលាយ ដូច ជា៖ \n",
              "  ភូមិ វិទ្យា មនុស្ស ជា មែក ធាង មួយ នៃ ភូមិ វិទ្យា ដែល ផ្តោត ទៅលើ ប្រព័ន្ធ សិក្សា នៃ បណ្តា លំនាំ និង បណ្តា វិធី ដើម្បី សំលៀង អន្តរកម្ម របស់ មនុស្ស ជាមួយនិង xxunk ន ដោយ យោង ទៅលើ បណ្តា ហេតុ និង ផល ពិសេស នៃ សកម្មភាព មនុស្ស ក្នុង របាយ លំហ លើ ផ្ទៃ នៃ ផែនដី ។ ភូមិ វិទ្យា ត្រូវបាន ប្រមូលផ្តុំ ទៅ លើ សំណួរ ថា \" នៅ ទីណា \" , រីឯ ភូមិ វិទ្យា មនុស្ស ទោះជា យ៉ាងណា ក្តី ក៏ ផ្តោត លើ ចំលើយ ថា \" ហេតុម្តេច \" នៃ \" នៅ ទីណា \" ។ \n",
              "  ភូមិ វិទ្យា មនុស្ស សំដៅ បណ្តា ទិដ្ឋភាព មនុស្ស , នយោបាយ , វប្បធម៌ , សង្គម , និង សេដ្ឋកិច្ច ។ ខណះ ពេល ដែល បញ្ហា ចំបង នៃ xxunk មនុស្ស មិន មែន ជា ទេសភាព រូប និយម នៃ ផែនដី ( មើល ភូមិ វិទ្យា រូប និយម ) , វា ជា ការពិបាក នឹង អាច ប្រព្រឹត្តទៅ បាន ដើម្បី ពិភាក្សា ភូមិ វិទ្យា មនុស្ស ដោយ មិន យោង ទៅ លើ ស្ថានភាព xxunk ដែល ពោរពេញ ដោយ បណ្តា សកម្មភាព មនុស្ស ហើយ ដែល ភូមិ វិទ្យា xxunk ន កំពុង លេចធ្លោ ដែល ជា ទំនាក់ទំនង ជាមួយ ភូមិ វិទ្យា មនុស្ស និង ភូមិ វិទ្យា xxunk ។ ភូមិ វិទ្យា មនុស្ស ត្រូវបាន ចែក ជាច្រើន ផ្នែក ធំ ទូលាយ , ដូចជា ៖ \n",
              "  wikipedia អង់គ្លេស \n",
              "  < / doc >,xxbos \n",
              "  រតន មាលី \n",
              "  ព្រះអង្គ រតន មាលី រជ្ជកាល ស្រី ធម្មរាជា ទី ១ ទ្រង់ ជា បុត្រី នៃ ព្រះបាទ ធម្មរាជា ទី ១ ។ \n",
              "  សម័យ ថ្ងៃ មួយ នោះ ព្រះអង្គ រតន មាលី ព្រះរាជ បុត្រី នៃ សម្ដេច xxunk ធម្មរាជា ទ្រង់ ភ្នក ព្រះទ័យ ចង់ ទៅ ស្រង់ ទឹក ទន្លេ ធំ ឲ្យដឹង ស្គាល់ ជាតិ ។ លុះ ទ្រង់ ព្រះចិន្តា ដូច្នោះហើយ xxunk ក៏ ក្រាប ថ្វាយបង្គំ លា សម្ដេច ព្រះវរ រាជ មាតាបិតា ទៅ ក្រសាល តាម សព្វ ព្រះទ័យ ។ ព្រះវរ រាជ មាតាបិតា ក៏ យល់ព្រម ហើយ ស្ដេច ព្រះរាជ ដំណើរ ទៅ ជាមួយ ដែរ ។ ក្នុង គ្រា នោះ ច្រាំង ទន្លេ ធំ នៅ ទី កំពង់ចាម ដុះ ខ្សាច់ xxunk ល្អ ព្រះនាង និង អស់ បរិវា រ ចុះ ស្រង់ ក្នុង ទឹក ទន្លេ នោះ យ៉ាង ក្សេមក្សាន្ត ។ នេះ នឹង និយាយ ពី ក្រពើ មួយ នៅ ព្រែក ឆ្លូង ថា ក្រពើ នោះ មាន ក្បាល ៥ ហត្ថ សាហាវ ហាន ក្លា ក្រឡា ខ្លួន បាន ។ ថ្ងៃ នោះ វា ចេញ អំពី ព្រែក ឆ្លូង ហែល នាំ បរិវារ ទៅ លេង ទី នានា តាម សព្វ ដង រៀង មក ។ ក្នុង គ្រា នោះ ក្រពើ ក្រឡេក ឃើញ ព្រះរាជ បុត្រី ព្រះរតន មាលី នៅក្នុង កណ្ដាល ហ្វូង ស្ត្រី ក៏ មាន ចិត្ត មេត្រី ចង់ ព្រះនាង ជា ភរិយា ទើប វា វាយ កន្ទុយ រលក បោក គ្រាំ គ្រេង ។ អស់ ស្ត្រី ជាបរិវា រ ភិតភ័យ ទាំង ព្រះអង្គ រតន មាលី រត់ ឡើង គោក ទាំងអស់ គ្នា ។ ខណៈ នោះ ក្រពើ នោះ ស្ទុះ ចូលមក ខាំ ពាំយក ព្រះនាង រតន មាលី បាន ហើយ ក៏ ពាំនាំ តំរង់ ទៅកាន់ កន្លែង របស់ វា ។ អស់ ពួក ខ្ញុំ រាជការ ទាំង ប្រុស ទាំង ស្រី ឃើញ ហើយ ភិតភ័យ ក៏ ស្រែក កញ្ជ្រោល រោល រាល ជាខ្លាំង ។ សេចក្ដី នេះ ជ្រាប ដល់ ព្រះវរ រាជ មាតាបិតា ស្ដេច ទ្រង់ សោកស្ដាយ ព្រះរាជ បុត្រី ណាស់ ទ្រង់ ឲ្យ xxunk នាវា ដេញ តាម ក្រពើ នោះ ។ ទាហាន ខ្លះ ក៏ បាញ់ កាំភ្លើង បង្អើល ដើម្បីឲ្យ ក្រពើ នោះ លែង ចោល ព្រះនាង មកវិញ ខ្លះ ក៏ បោះ បាញ់ ច្បូក ធ្នូ ស្នា ដោយ ប្រការ ផ្សេង ៗ ។ ឯ ក្រពើ នោះ កាល ឮ សន្ធឹក កាំភ្លើង បាញ់ ដេញ តាម ប្រកិត យ៉ាង ជិត ខ្លាំង ពេក នឹង រក ពេល គេចវេះ ដោះ ខ្លួន យក ព្រះនាង ធ្វើជា ភរិយា ពុំ បាន ក៏ លេប ព្រះនាង ចូល ទៅក្នុង ពោះ ហើយ ស្ទុះ ហែល ចូល ទៅក្នុង ព្រែក ឆ្លូង តាម ទី កន្លែង របស់ វា ។ \n",
              "  ឯ ព្រះបរម បពិត្រ ដែល ទ្រង់ លើក ព្យុហៈ នាវា តាម ទៅ នោះ លុះ ទៅដល់ ព្រែក ឆ្លូង ហើយ ទ្រង់ ត្រាស់ បង្គាប់ ឲ្យ ហ្ម ចូល ទាក់ ក្រពើ នោះ លុះត្រាតែ បាន យកមក វះ ពោះ យក សព ព្រះរាជ បុត្រី មក ធ្វើ ព្រះមេរុ បូជា ព្រះសព ។ កាល សូរេច បុណ្យ ស្ដេច ទ្រង់ យក គ្រឿង សង្វារ កងកន់ និង ព្រះពាន មាស ទាំង ប៉ុន្មាន មក កសាង ជា ព្រះពុទ្ធរូប មាស ៥ អង្គ ប្រាក់ ៥ អង្គ សំរឹទ្ធិ ៥ អង្គ ទង់ ហ៊្វា ៥ អង្គ ទង់ដែង ( ស្ពាន់ ) ៥ អង្គ ។ ព្រះអង្គ ឲ្យ សាង ចេតិយ តំកល់ ព្រះអដ្ឋិ ព្រះរាជ បុត្រី នៅ ទីនោះ ។ ទ្រង់ ឲ្យ សាង ព្រះវិហារ មួយ នៅ មាត់ ព្រែក ឆ្លូង នោះ មាន សសរ មួយ រយ ប្លាយ ហើយ យក សុទ្ធសឹងតែ ខ្មោច ព្រាយ ទ្រាប បាត សសរ ទាំង មួយ រយ នោះ បញ្ចុះ xxunk ( មកពី ពាក្យ សំស្ក្រឹត xxunk ប្រើ ជា ឈ្មោះ មន្តអាគម ពួក មួយ សំរាប់ សូត សែក ហៅ ឬ បណ្ដេញ ភូត បី សាច ជាដើម និង ពិធី បញ្ចុះ គោលចារឹក សន្មត ថា ជា ជ័យ ភូមិ ) ឲ្យ ពូកែ ។ ដោយ ហេតុ ថា ព្រះអង្គ ក្រោធ នឹង អស់ មន្ត្រី ខ្ញុំ រាជការ ពុំ ជួយ ថែទាំ រក្សា បានជា ព្រះរាជ បុត្រី ថ្លោះ ការ ទាំង ម៉្លេះ ទើប សម្ដេច ព្រះបរម បពិត្រ ស្ដេច ដាក់ ទំនាយ ថា : បើ មន្ត្រី ណា ដើរ កាត់ មុខ ព្រះវិហារ កូន អញ ឲ្យ មន្ត្រី នោះ អន្តរាយ ។ ហេតុ នេះ ហើយ បានជា ព្រះវិហារ វត្ត នោះ នា ម៉ឺន ដើរ កាត់ មុខ ពុំ បាន ។ សម្ដេច ស្ដេច សាង ស្រេច ហើយ ស្ដេច ធ្វើ សង្គាយ នា ឆ្លង ព្រះវិហារ វត្ត នោះ ។ ព្រះអង្គ បង្វែរ ខ្ញុំ ប្រុស ២១ នាក់ ខ្ញុំ ស្រី ២១ នាក់ រទេះ គោ ២១ នឹម រទេះ ក្របី ២១ នឹម ស្រែ ២១ ភូមិ ២១ សេះ ២១ ដំរី ២១ ជា ដង្វាយ ព្រះស្រី រតនត្រ័យ ឲ្យបាន កុសល នោះ ចំរើន ដល់ ព្រះរាជ បុត្រី ។ លុះ សំរេច ព្រះរាជ ពិធី បុណ្យ នេះ ហើយ ព្រះអង្គ នាំ រាជ សេវកាមាត្យ ត្រឡប់ ចូលមក ក្រុង ចតុម្មុខ វិញ ។ \n",
              "  រឿង ខាងលើ ប្រហែលជា រឿង នាំឱ្យ មាន ជា រឿង ក្រពើ អាធន ( ប្រជុំ រឿង ព្រេង ខ្មែរ ) និង រឿង ក្រៃ ថោង និង ក្រពើ xxunk ។ \n",
              "  < / doc >,xxbos \n",
              "  ពន្លឺ នាវា ត្រៃលក្ខណ៍ វគ្គ ទី ២ \n",
              "  កាលបើ ព្រះយោគាវ ចរ មាន បំណង នឹង ចំរើន នូវ វិបស្សនា នោះ គប្បី ឲ្យដឹង អត្ថ នៃ វិបស្សនា ភាវនា ដូច្នេះ ថាៈ \n",
              "  បុគ្គល អ្នកធ្វើ វិបស្សនា បញ្ញា ដែល ខ្លួន ឃើញ ក្នុង អារម្មណ៍ ហើយ មាន ក្នុង ចិត្ត ដោយ ចេតនា ណា ចេតនា នោះ ឈ្មោះ ថា វិបស្សនា ភាវនា ។ ក៏ ឯ វិបស្សនា ភាវនា នេះ \n",
              "  ព្រះយោគាវ ចរ នឹង ចំរើន គប្បី សិក្សា ឲ្យដឹង ច្បាស់ នូវ ធម៌ ៣ ប្រការ ជាមុន សិន គឺៈ \n",
              "  សង្ខារ ធម៌ ដែល បច្ច័យប្រជុំ តាក់តែង ឡើង គឺ xxunk : ដែល នាម ធម៌ អាស្រ័យ និង xxunk : ដែល នាម ធម៌ មិន អាស្រ័យ ឬ ថា នាម និង រូប ដែល ចែកចេញ \n",
              "  ទៅ ដោយ ប្រការ ផ្សេង ៗ មាន ខន្ធ ៥ អាយតន : ១២ ធាតុ ១៨ ឥន្រ្ទីយ ២២ ជាដើម ទាំងអស់ នេះ គឺជា ភូមិ ជា អារម្មណ៍ របស់ វិបស្សនា ។ អ្នក ដែល ចំរើន វិបស្សនា នោះ \n",
              "  ត្រូវ រៀន ធម៌ ដែល ជា ភូមិ ជា អារម្មណ៍ របស់ វិបស្សនា នោះ ឲ្យដឹង ច្បាស់លាស់ ជាមុន ហើយ គប្បី សាកសួរ លោក អ្នក ចេះដឹង នូវ អត្ថ និង ធម៌ ឲ្យដឹង សេចក្តី ពិតប្រាកដ \n",
              "  ចំណាន ល្អ ទើប គួរ នឹង ចំរើន វិបស្សនា បាន ។ \n",
              "  សីល វិសុទ្ធិ សេចក្តីបរិសុទ្ធ នៃ សីល ១ ចិត្តវិសុទ្ធិ សេចក្តីបរិសុទ្ធ នៃ ចិត្ត គឺ ឧបចារសមាធិ និង អប្បនាសមាធិ ១ វិសុទ្ធិ ទាំង ២ នេះ ឯង ជា ឬ សគល់ ជា ហេតុ កើតឡើង \n",
              "  តាំង នៅ របស់ វិបស្សនា ។ អ្នក ដែល នឹង ចំរើន នោះ ត្រូវ ប្រតិបត្តិ ឲ្យ ជា អ្នក មាន សីល បរិសុទ្ធ និង ចិត្ត បរិសុទ្ធ ដោយ សមាធិ ជាមុន ទើប គួរ នឹង ចំរើន វិបស្សនា បាន ។ \n",
              "  បើ ជា អ្នក មាន សីល មិន បរិសុទ្ធ មិន មាន សមាធិ ចិត្ត រាយ មាយ ហើយ ក៏ ជា xxunk មិន គួរ នឹង ចំរើន វិបស្សនា នោះ បាន ឡើយ ។ ព្រោះថា សីល និង សមាធិ ជា កម្លាំង \n",
              "  ឲ្យ កើត វិបស្សនា ។ \n",
              "  និង សភាវ : មិន វង្វេង ទៅ តាម សម្មតិ លោក វោហារ ថា ជា សត្វ ខ្លួន ប្រាណ យើង គេ ឡើយ ដែល ជា xxunk វិសុទ្ធិ ។ ទាំង ជា ហេតុ និង ជាបច្ច័យ កន្លង កង្ខា ក្នុង កាល ទាំង ៣ ចេញ បាន គឺ មិន សង្ស័យ ថា យើង ច្យុត មកពី ទីណា ? យើង ជា អ្វី ? យើង នឹង ទៅ កើត ក្នុង ទីណា ? ទេវបុត្រ ទេវតា មាន ឬ មិន មាន ? ដែល ជា xxunk រណវិសុទ្ធិ ។ វិបស្សនា ញាណ ទាំង ៩ មាន xxunk ញាណ ជាដើម មាន អនុលោម ញាណ ជា ទីបំផុត ឈ្មោះ ថា បដិបទា ញាណ ទស្សនវិសុទ្ធិ ។ អរិយមគ្គ ទាំង ៤ នេះ ឈ្មោះ ថា ញាណ ទស្សនវិសុទ្ធិ ។ វិសុទ្ធិ ទាំង ៥ ប្រការ នេះ ឯង ជា តួ វិបស្សនា ។ ម៉្យាងទៀត បញ្ញា ដែល យើង ដឹង ពិត ឃើញ ពិត ក្នុង សភាវ : ការកើត ឯង របស់ សង្ខារ គឺ ឃើញ ថា ជា របស់ មិន ទៀង ជា ទុក្ខ ជា អនត្តា ឃើញ ច្បាស់ ថា របស់ ឯណា មិន ទៀង តែ កាល ណា កើតឡើង ហើយ រលត់ បាត់បង់ ទៅ វិញ របស់ នោះ ជា ទុក្ខ ពិត បើ របស់ ឯណា ជា ទុក្ខ របស់ នោះ ជា អនត្តា មិន មែន ជា ខ្លួន ជាប្រាណ របស់ នោះ មិន គួរ បើ នឹង ប្រកាន់ ប្រកៀក ថា ជា របស់ យើង ដោយ អំណាច តណ្ហា ឧបាទាន មានៈ \n",
              "  និង ទិដ្និ ឡើយ ។ ព្រោះថា ខ្លួនប្រាណ - យើង គេ មិន មាន ទេ បញ្ញា ដែល ពិចារណា ឃើញ ជាក់ច្បាស់ យ៉ាង នេះ ដរាបដល់ កើត និព្វិ ទា ( នឿយ ណាយ ) ស្អប់ខ្ពើម សង្ខារ កើត វិរា គៈ ប្រាសចាក xxunk ត្រេកអរ ក្នុង សង្ខារ វិមុត្តិ រួចផុត ចាក កិលេសាសវៈ ទាំងអស់ នេះ ជា តួ វិបស្សនា ទាំងអស់ ដូចគ្នា ។ \n",
              "  សាធុ ជន អ្នក បំពេញ សេចក្តី ព្យាយាម បដិបត្តិ ក្នុង វិបស្សនា ដូច បាន ពោលមក នេះ ធ្វើឲ្យ បរិបូណ៌ ហើយ ក៏ បាន ឈ្មោះ ថា ចំរើន វិបស្សនា ដោយ ល្អ នេះ ជា សេចក្តីអធិប្បាយ ដោយ សង្ខេប ក្នុង វិបស្សនា នេះ ។ ឯ សេចក្តីពិស្តារ ដូច មាន តទៅ នេះ៖ \n",
              "  អ្នក ដែល ចំរើន វិបស្សនា គប្បី ឲ្យ ជា អ្នកបរិសុទ្ធ ដោយ សីល បរិសុទ្ធ ដោយ ទិដ្និ ហើយ គប្បី ដឹង លក្ខណៈ កិច្ច ហេតុ - ផល របស់ វិបស្សនា នោះ ឯង ។ \n",
              "  សភាវៈ ការកើត ឯង របស់ សង្ខារ គឺជា របស់ មិន ទៀង , ជា ទុក្ខ , ជា អនត្តា ពិត ។ សេចក្តីឃើញ ថា សង្ខារ ជា របស់ មិន ទៀង ជា ទុក្ខ ជា អនត្តា ជាក់ច្បាស់ យ៉ាង នេះ ឯង ជា លក្ខណៈ គ្រឿង សំគាល់ របស់ វិបស្សនា ។ បើ ការដឹង ឃើញ យ៉ាង ដទៃ ទៅ មិន ត្រូវ តាមន័យ ដូច ពោល មក ខាងលើ នេះ ក៏ មិន មែន ជា វិបស្សនា ឡើយ ។ \n",
              "  សេចក្តីងងឹត គឺ មោហៈ ការភ័ន្តច្រឡំ ក្នុង សង្ខារ ថា ជា របស់ ទៀង ថា សុខ ថា ខ្លួន - ប្រាណ ឯណា បិទបាំង បញ្ញា មិន ឲ្យ ឃើញ ច្បាស់ នូវ របស់ ពិត នៃ សង្ខារ xxunk ងងឹត ចេញ បាន អស់ មិន វង្វេង ក្នុង សង្ខារ ថា ជា របស់ ទៀងទាត់ ជា របស់ សុខ ជា ខ្លួន - ប្រាណ ជា របស់ ល្អ នេះ ឯង ជា កិច្ច ជា xxunk ។ \n",
              "  សេចក្តីឃើញ ពិត ទូទៅ ក្នុង សង្ខារ ទាំងពួង ថា ជា របស់ មិន ទៀង ជា ទុក្ខ ជា អនត្តា សេចក្តីងងឹត គឺ មោហៈ ការវង្វេង ចូលមក តាំង នៅ មិន បាន ព្រោះ មាន ពន្លឺ ភ្លឺស្វាង កើតឡើង នេះ ឯង ជា ផល របស់ វិបស្សនា ក្នុង បទ នេះ ។ \n",
              "  ចិត្ត ដែល មិន រាយ មាយ តាំង នៅ ខ្ជាប់ខ្ជួន ឯណា និមួយ ដោយ អំណាច សមាធិ នេះ ឯង ជា ហេតុ កើតឡើង តាំង នៅ របស់ វិបស្សនា ។ វិបស្សនា នោះ រមែង អាស្រ័យ សមាធិ ទើប កើតឡើង តាំង នៅ បាន បើ មិន បាន ចំរើន សមាធិ ឲ្យ កើត មុន ហើយ ក៏ មិន អាច ចំរើន វិបស្សនា ឲ្យ កើតឡើង បាន ព្រោះថា សមាធិ ជា ហេតុ ឲ្យ កើត វិបស្សនា ដោយ ន័យ នេះ អ្នក ដែល មាន សីល មិន បរិសុទ្ធ មិន បាន សមាធិ នឹង មក ពោល អួត ថា ខ្លួន បាន សម្រេច វិបស្សនា ភាវនា យ៉ាង នេះ មិន គួរ ជឿ ឡើយ ។ ព្រោះ សីល បរិសុទ្ធ ជា ហេតុ ឲ្យ កើត សមាធិ សមាធិ ជា ហេតុ ឲ្យ កើត វិបស្សនា វិបស្សនា ជា ហេតុ ឲ្យ កើត អរិយមគ្គ xxunk ហេតុ ឲ្យ កើត អរិយផល ជាធម៌ តាម និយម មាន យ៉ាង នេះ មិន ប្រែប្រួល ទៅជា យ៉ាង ដទៃ ឡើយ ។ អ្នក ដែល ចំរើន xxunk ឲ្យដឹង លក្ខណៈ កិច្ច ហេតុ - ផល របស់ វិបស្សនា ដោយ ប្រការ ដូច្នេះ ។ \n",
              "  < / doc >\n",
              "y: LMLabelList\n",
              ",,,,\n",
              "Path: kmwiki_data;\n",
              "\n",
              "Test: None, model=SequentialRNN(\n",
              "  (0): AWD_LSTM(\n",
              "    (encoder): Embedding(53656, 400, padding_idx=1)\n",
              "    (encoder_dp): EmbeddingDropout(\n",
              "      (emb): Embedding(53656, 400, padding_idx=1)\n",
              "    )\n",
              "    (rnns): ModuleList(\n",
              "      (0): WeightDropout(\n",
              "        (module): LSTM(400, 1152, batch_first=True)\n",
              "      )\n",
              "      (1): WeightDropout(\n",
              "        (module): LSTM(1152, 1152, batch_first=True)\n",
              "      )\n",
              "      (2): WeightDropout(\n",
              "        (module): LSTM(1152, 400, batch_first=True)\n",
              "      )\n",
              "    )\n",
              "    (input_dp): RNNDropout()\n",
              "    (hidden_dps): ModuleList(\n",
              "      (0): RNNDropout()\n",
              "      (1): RNNDropout()\n",
              "      (2): RNNDropout()\n",
              "    )\n",
              "  )\n",
              "  (1): LinearDecoder(\n",
              "    (decoder): Linear(in_features=400, out_features=53656, bias=True)\n",
              "    (output_dp): RNNDropout()\n",
              "  )\n",
              "), opt_func=functools.partial(<class 'torch.optim.adam.Adam'>, betas=(0.9, 0.99)), loss_func=FlattenedLoss of CrossEntropyLoss(), metrics=[<function accuracy at 0x7fe1ff705e18>], true_wd=True, bn_wd=True, wd=0.01, train_bn=True, path=PosixPath('kmwiki_data'), model_dir='models', callback_fns=[functools.partial(<class 'fastai.basic_train.Recorder'>, add_time=True, silent=False)], callbacks=[...], layer_groups=[Sequential(\n",
              "  (0): WeightDropout(\n",
              "    (module): LSTM(400, 1152, batch_first=True)\n",
              "  )\n",
              "  (1): RNNDropout()\n",
              "), Sequential(\n",
              "  (0): WeightDropout(\n",
              "    (module): LSTM(1152, 1152, batch_first=True)\n",
              "  )\n",
              "  (1): RNNDropout()\n",
              "), Sequential(\n",
              "  (0): WeightDropout(\n",
              "    (module): LSTM(1152, 400, batch_first=True)\n",
              "  )\n",
              "  (1): RNNDropout()\n",
              "), Sequential(\n",
              "  (0): Embedding(53656, 400, padding_idx=1)\n",
              "  (1): EmbeddingDropout(\n",
              "    (emb): Embedding(53656, 400, padding_idx=1)\n",
              "  )\n",
              "  (2): LinearDecoder(\n",
              "    (decoder): Linear(in_features=400, out_features=53656, bias=True)\n",
              "    (output_dp): RNNDropout()\n",
              "  )\n",
              ")], add_time=True, silent=False)\n",
              "alpha: 2.0\n",
              "beta: 1.0, MixedPrecision\n",
              "learn: LanguageLearner(data=TextLMDataBunch;\n",
              "\n",
              "Train: LabelList (3183 items)\n",
              "x: LMTextList\n",
              "xxbos \n",
              "  គណៈ អភិបាល ខេត្ត \n",
              "  ខេត្ត នីមួយ ៗ ត្រូវ មាន គណៈ អភិបាល ខេត្ត មួយ ដែល រួមមាន អភិបាល ខេត្ត និង អភិបាល រង ខេត្ត មួយចំនួន ដែល ត្រូវបាន តែងតាំង ឡើង ស្រប តាម ល័ក្ខខ័ណ្ឌ នៃ ច្បាប់ ស្ដីពី ការគ្រប់គ្រង រដ្ឋបាល រាជធានី ខេត្ដ ក្រុង ស្រុក ខណ្ឌ ។ អភិបាល ខេត្ត អភិបាល រង ខេត្ត មិន មែន ជា សមាជិក ក្រុមប្រឹក្សា ខេត្ត ឡើយ ។ \n",
              "  គណៈ អភិបាល ខេត្ត មាន តួនាទី និង ភារកិច្ច ចម្បង ៗ ដូច ខាងក្រោម ៖ \n",
              "  - ការពិនិត្យ មុខងារ ភារកិច្ច និង ធនធាន ទាំងអស់ ដែល បាន ប្រគល់ ឬ បាន ផ្ទេរ មក ឱ្យ ក្រុមប្រឹក្សា ខេត្ត និង អំពី របៀបរបប បែបបទ នីតិវិធី នៃ ការអនុវត្ដ មុខងារ ភារកិច្ច និង ការចាត់ចែង ធនធាន ទាំងនោះ \n",
              "  - ការរៀបចំ យុទ្ធសាស្ដ្រ និង ការរៀបចំ រចនាសម្ព័ន្ធ ប្រព័ន្ធ និង ធនធាន ដើម្បី ទទួលយក មុខងារ ភារកិច្ច និង ធនធាន ដែល បាន ប្រគល់ ឬ បាន ផ្ទេរ ស្រប តាម ច្បាប់ ស្ដីពី ការគ្រប់គ្រង រដ្ឋបាល រាជធានី ខេត្ដ ក្រុង ស្រុក ខណ្ឌ ។ \n",
              "  - ផែនការអភិវឌ្ឍន៍ រយៈពេល ប្រាំ ឆ្នាំ និង កម្មវិធី វិនិយោគ បី ឆ្នាំ រំកិល ប្រចាំ ឆ្នាំ \n",
              "  - ក្របខ័ណ្ឌ ចំណាយ រយៈពេល មធ្យម ដែល ត្រូវ ធ្វើ បច្ចុប្បន្នភាព ជារៀងរាល់ ឆ្នាំ \n",
              "  - គម្រោង ថវិកា ប្រចាំ ឆ្នាំ \n",
              "  - ការបង្កើត ការកែសម្រួល ឬ ការរំសាយ ទី ចាត់ការ ឬ ការិយាល័យ នានា \n",
              "  - ការរៀបចំ តួនាទី ភារកិច្ច និង លក្ខខណ្ឌ ការងារ របស់ បុគ្គលិក \n",
              "  - ការតែងតាំង ការដំឡើង ថ្នាក់ ឋានន្ដរសក្ដិ និង ការបញ្ឈប់ បុគ្គលិក \n",
              "  - ការកំណត់ xxunk នៃ ការជ្រើសរើស ការតែងតាំង ការកំណត់ ប្រាក់ បៀវត្ស និង កម្រៃ ផ្សេង ៗ នៃ បុគ្គលិក របស់ ក្រុមប្រឹក្សា ខេត្ត \n",
              "  - ការកំណត់ នីតិវិធី រដ្ឋបាល និង ហិរញ្ញវត្ថុ សម្រាប់ ទី ចាត់ការ និង បុគ្គលិក របស់ ក្រុមប្រឹក្សា ខេត្ត \n",
              "  - ការកំណត់ យុទ្ធសាស្ដ្រ ដើម្បី អភិវឌ្ឍ សមត្ថភាព ដល់ ក្រុមប្រឹក្សា ខេត្ត គណៈ អភិបាល ខេត្ត និង បុគ្គលិក របស់ ក្រុមប្រឹក្សា ខេត្ត \n",
              "  - ការរៀបចំ របាយការណ៍ ប្រចាំ ឆ្នាំ ដាក់ ជូន ក្រុមប្រឹក្សា ខេត្ត ពិនិត្យ និង អនុម័ត មិន ឱ្យ លើស ពី ៤៥ ថ្ងៃ បន្ទាប់ពី ដំណាច់ ឆ្នាំ នីមួយ ៗ ដែល ពាក់ព័ន្ធ នឹង៖ \n",
              "  + ដីកា និង សេចក្ដីសម្រេច នានា ដែល បាន ដាក់ចេញ ដោយ ក្រុមប្រឹក្សា ខេត្ត ព្រមទាំង សកម្មភាព និង លទ្ធផល នៃ ការអនុវត្ដ ដីកា និង សេចក្ដី សម្រេច ទាំងនោះ ។ \n",
              "  + របាយការណ៍ ហិរញ្ញវត្ថុ \n",
              "  + ការវាយតម្លៃ អំពី ការបំពេញ ការងារ របស់ គណៈ អភិបាល ខេត្ត និង បុគ្គលិក របស់ ក្រុមប្រឹក្សា ខេត្ត \n",
              "  + វិធានការចាំបាច់ ដើម្បី ធ្វើឱ្យ ប្រសើរឡើង នូវ ការអនុវត្ដ ការងារ របស់ ក្រុមប្រឹក្សា ខេត្ត \n",
              "  + វិធានការចាំបាច់ ដើម្បី លើកកម្ពស់ សមភាព យេនឌ័រ \n",
              "  + កិច្ចការ ផ្សេង ៗ ទៀត ដែល ក្រុមប្រឹក្សា ខេត្ត យល់ឃើញ ថា ចាំបាច់ ត្រូវ ដាក់បញ្ចូល ក្នុង របាយការណ៍ ប្រចាំ ឆ្នាំ របស់ ខ្លួន \n",
              "  - របាយការណ៍ ប្រចាំ ខែ ត្រី មាស និង ឆមាស \n",
              "  - ការបង្កើត គណៈកម្មាធិការ ឬ អនុគណៈកម្មាធិការ ឬ ក្រុមការងារ នានា តាម ការចាំបាច់ ដើម្បី ជួយ ដល់ ការអនុវត្ដ ការងារ របស់ ក្រុមប្រឹក្សា ខេត្ត \n",
              "  - ការរៀបចំ យុទ្ធសាស្ដ្រ ផ្សព្វផ្សាយ ព័ត៌មាន ដល់ សាធារណជន ដូចជា ការរៀបចំ ក្ដារ ព័ត៌មាន ការបិទ ផ្សាយ ព័ត៌មាន នៅលើ ក្ដារ ព័ត៌មាន និង ការស្វះស្វែងរក មធ្យោបាយ ផ្សព្វផ្សាយ ព័ត៌មាន នានា ជូន ប្រជាពលរដ្ឋ ក្នុង ដែន សមត្ថកិច្ច របស់ ខ្លួន ។ \n",
              "  - កិច្ចការ ផ្សេង ៗ ទៀត ដែល កំណត់ ដោយ ច្បាប់ និង លិខិត បទដ្ឋាន គតិយុត្ដ នានា និង ដែល តម្រូវ ដោយ ក្រុមប្រឹក្សា ខេត្ត របស់ ខ្លួន \n",
              "  អភិបាល ខេត្ត មាន តួនាទី ជា តំណាង រាជ រដ្ឋាភិបាល តំណាង ក្រសួង ស្ថាប័ន របស់ រាជ រដ្ឋាភិបាល ក្នុង ខេត្ត ។ ក្នុង តួនាទី ជា តំណាង រាជ រដ្ឋាភិបាល តំណាង ក្រសួង ស្ថាប័ន របស់ រាជ រដ្ឋាភិបាល នេះ អភិបាល ខេត្ត ត្រូវ ៖ \n",
              "  - ក្នុង ករណី រដ្ឋមន្ដ្រី ឬ ប្រធាន ស្ថាប័ន សាមី ឯកភាព តាម របាយការណ៍ របស់ អភិបាល ខេត្ត រដ្ឋមន្ដ្រី ឬ ប្រធាន ស្ថាប័ន សាមី ត្រូវ ផ្លាស់ប្ដូរ បេក្ខភាព ដែល បាន ស្នើ ឡើង ឱ្យ បាន សមស្រប \n",
              "  - ក្នុង ករណី រដ្ឋមន្ដ្រី ឬ ប្រធាន ស្ថាប័ន សាមី ស្រាវជ្រាវ ឃើញ ថា ហេតុផល ដែល បាន បញ្ជាក់ ក្នុង របាយការណ៍ របស់ អភិបាល ខេត្ត ពុំ មាន មូលដ្ឋាន ច្បាស់លាស់ រដ្ឋមន្ដ្រី ឬ ប្រធាន ស្ថាប័ន សាមី ត្រូវ បញ្ជាក់ ជូន អភិបាល ខេត្ត ដើម្បី ទទួលយក បេក្ខភាព ដែល បាន ស្នើ តែងតាំង នោះ ។ ក្នុង ករណី មិន មាន ការឯកភាព រវាង អភិបាល ខេត្ត ជាមួយ រដ្ឋមន្ដ្រី ឬ ប្រធាន ស្ថាប័ន សាមី ទៅលើ បេក្ខភាព ដែល ស្នើ តែងតាំង នោះ រដ្ឋមន្ដ្រី ឬ ប្រធាន ស្ថាប័ន សាមី ត្រូវ ធ្វើ សេចក្ដីរាយការណ៍ ជូន ប្រមុខ រាជ រដ្ឋាភិបាល ពិនិត្យ និង សម្រេច ។ អភិបាល ខេត្ត ត្រូវ រាយ ការណ៍ ករណី នេះ ជូន ក្រុមប្រឹក្សា ខេត្ត របស់ ខ្លួន និង រដ្ឋមន្ដ្រី ក្រសួង មហាផ្ទៃ ។ \n",
              "  បញ្ជាក់ ៖ \n",
              "  - ដើម្បី ធានា ឱ្យ អភិបាល ខេត្ត អនុវត្ដ នូវ តួនាទី និង ភារកិច្ច ខាងលើ នេះ សេចក្ដីរាយការណ៍ ប្រចាំ ខែ ត្រី មាស ឆមាស និង ប្រចាំ ឆ្នាំ របស់ មន្ទីរ អង្គភាព និង ទីភ្នាក់ងារ នានា របស់ ក្រសួង ស្ថាប័ន ដែល ប្រចាំ នៅ ខេត្ត ទៅ រដ្ឋមន្ដ្រី ឬ ប្រធាន ស្ថាប័ន សាមី ត្រូវ ដាក់ ជូន អភិបាល ខេត្ត ដើម្បី ពិនិត្យ ផ្ដល់ យោបល់ ជាមុន ។ ប្រសិនបើ ឯកភាព អភិបាល ខេត្ត ត្រូវ ចុះហត្ថលេខា លើ របាយការណ៍ នេះ ជាមួយ ប្រធាន មន្ទីរ អង្គភាព និង អ្នកទទួលខុសត្រូវ នៃ ទីភ្នាក់ងារ នោះ ។ \n",
              "  - ចំពោះ សេចក្ដីរាយការណ៍ ក្រៅពី នោះ របស់ មន្ទីរ អង្គភាព និង ទីភ្នាក់ងារ នានា របស់ ក្រសួង ស្ថាប័ន ដែល ប្រចាំ នៅ ខេត្ត ត្រូវ ចម្លង ជូន សាលា ខេត្ត ។ \n",
              "  ក្នុង ការអនុវត្ដ តួនាទី និង ភារកិច្ច របស់ ខ្លួន គណៈ អភិបាល ខេត្ត អភិបាល ខេត្ត អភិបាល រង ខេត្ត ត្រូវ ពិនិត្យ ពិចារណា លើ ចំណុច សំខាន់ ៗ មួយចំនួន ដែល ពាក់ព័ន្ធ នឹង របៀបរបប អនុវត្ដ ការងារ ដូច ខាងក្រោម ៖ \n",
              "  < / doc >,xxbos \n",
              "  ប្រភេទ សិលា \n",
              "  សិលា ដែល បាន រលាយ គេ ហៅ ថា “ ម៉ាក់ ម៉ា ” ( xxmaj magma ) ។ ម៉ាក់ ម៉ា ភាគ ច្រើន កើត ចេញពី ការរលាយ \n",
              "  ដោយ ផ្នែក នៃ ម៉ង់ តូ ។ សិលា ម៉ាក់ ម៉ា ក កើតមាន នៅពេល ម៉ាក់ ម៉ាក ក រឹង ។ ប្រសិនបើ ម៉ាក់ ម៉ា ផុស ឡើង លើ ផ្ទៃ ផែន \n",
              "  ដី នោះ វា អាច xxunk ( ការពុក ផុយ នៃ សិលា ) និង សំណឹក ហើយ កម្ទេច កំទី ដែល បាន បង្កើតឡើង នោះ ត្រូវបាន \n",
              "  xxunk ហើយ ជា ចុងក្រោយ ត្រូវបាន xxunk ( ជាធម្មតា នៅលើ បាត សមុទ្រ ) ជា កម្ទេច កំណ ។ ប្រសិនបើ \n",
              "  កម្ទេច កំណ ធូរ ទាំង នេះ ត្រូវបាន ពង្រឹង ទៅជា សិលា នោះ វា ក្លាយទៅជា សិលា កម្ទេច កំណ ។ ខណៈពេល សិលា នេះ \n",
              "  ត្រូវបាន កប់ ដោយ ស្រទាប់ បន្ថែម នៃ កម្ទេច កំណ និង សិលា កម្ទេច កំណ នោះ កម្ដៅ និង សម្ពាធ កើនឡើង ។ កម្លាំង \n",
              "  តិច xxunk ក៏ អាច ធ្វើឱ្យ កើនឡើង សីតុណ្ហភាព និង សម្ពាធ ផងដែរ ។ ប្រសិនបើ សីតុណ្ហភាព គឺ ខ្ពស់ គ្រប់គ្រាន់ ជាធម្មតា \n",
              "  នៅ ជម្រៅ ជ្រៅ ជាង ពីរ - បី គីឡូម៉ែត្រ ខាងក្រោម ផ្ទៃ ផែនដី នោះ សិលា កម្ទេច កំណ ដើម លែង មាន តុល្យភាព ជាមួយ \n",
              "  លក្ខខណ្ឌ រូប និង គីមី ថ្មី នោះ ហើយ ហើយ វា xxunk ជា ក្រាម ឡើងវិញ ម្ដង ទៀត ។ សិលា ថ្មី ដែល កកើតឡើង នោះ គេ \n",
              "  ឱ្យ ឈ្មោះ ថា xxunk ។ ប្រសិនបើ សីតុណ្ហភាព ទទួលបាន ខ្ពស់ ខ្លាំង នោះ xxunk ដោយ ផ្នែក ដោយ \n",
              "  បង្កើត បានជា ម៉ាក់ ម៉ា និង បំពេញ នូវ វដ្ដ សិលា ។ \n",
              "  វដ្ដ នេះ អាច ត្រូវបាន ធ្វើឡើង ដដែល ៗ ។ យ៉ាងណា ក៏ដោយ មិន មែន គ្រប់ សិលា ទាំងអស់ សម្រេច ផល បាន \n",
              "  តាម ជំហាន នីមួយ ៗ នៅក្នុង វដ្ដ នោះ ឡើយ ។ ឧទាហរណ៍ ៖ សិលា កម្ទេច កំណ អាច ត្រូវបាន ងើប ឡើង ត្រូវ xxunk \n",
              "  និង ត្រូវ រង សំណឹក ដោយ បង្កើត បានជា កមេ្ទច កំណ ថ្មី ទៀត ។ \n",
              "  ដូច្នេះ វដ្ដ នេះ រៀបរាប់ អំពី ការកកើត និង ការខូច រូបរាង នៃ សិលា នៅក្នុង ផែនដី ។ នៅ ពេល ណាមួយ \n",
              "  កន្លែងណា ដែល នៅក្នុង ឬ នៅលើ ផ្ទៃ ផែនដី សិលា ត្រូវបាន បង្កើត ផ្លាស់ប្ដូរ បំផ្លាញ និង xxunk ៖ ប្រហែល ១៤ - ១៦ \n",
              "  គ.ម ៣ នៃ សម្បក ផែនដី ដែល បាន xxunk ជារៀងរាល់ ឆ្នាំ ។ ទីតាំង នៃ ដំណើរការ ទាំង នេះ ត្រូវបាន កំណត់ ជា ចម្បង \n",
              "  ដោយ ចលនា នៃ ផ្លាក តិច xxunk ( គឺជា ចលនា នៃ ផ្លាក តាមរយៈ ចរន្ដ xxunk ក្នុង xxunk ) ដែល ធ្វើឱ្យ មាន ការ កកើត នៃ \n",
              "  សម្បក ផែនដី ថ្មី នៅ ព្រំដែន ផ្លាក សំណង់ និង ការលិច ចុះ ( ការកប់ ) នៃ សិលា និង ការងើបឡើង នៃ សម្បក ផែនដី \n",
              "  នៅឯ ព្រំដែន បំផ្លាញ ។ \n",
              "  អត្ថបទ នេះ ដកស្រង់ ចេញ ពី សៀវភៅ \" មូលដ្ឋានគ្រឹះ នៃ xxunk វិទ្យា \" របស់ ដេប៉ាតឺ ម៉ង់ ភូមិ វិទ្យា និង រៀបចំ ដែនដី នៃ សាកលវិទ្យាល័យ ភូមិន្ទ ភ្នំពេញ ។ \n",
              "  ដោយ៖ xxunk xxunk និស្សិត ភូមិ វិទ្យា ជំនាន់ ទី ២៥ ( xxunk / xxmaj xxunk . xxmaj khmer . xxmaj photographer / xxunk ) \n",
              "  < / doc >,xxbos ឃាត់ខ្លួន ជនសង្ស័យ ពីរ នាក់ ប្ដី ប្រពន្ធ ពី បទ រំលោភ លើ ទំនុកចិត្ត \n",
              "  ឧត្ដរ មានជ័យ ៖ កម្លាំង ការិយាល័យ ព្រហ្មទណ្ឌ កម្រិត ធ្ងន់ ស្នងការ នគរបាល ខេត្ត ឧត្ដរ មានជ័យ ដឹកនាំ ដោយ លោក វរសេនីយ៍ ឯក យិន ណារ៉េត សហការ ជាមួយ លោក ជយ័ វាសនា មេ ប៉ុស្តិ៍ នគរបាល រដ្ឋបាល អូរ ស្មាច់ ចុះ សហការ ជាមួយ កម្លាំង នាយកដ្ឋាន នគរបាល ព្រហ្មទណ្ឌ ក្រសួង មហាផ្ទៃ និង កម្លាំង សមត្ថកិច្ច នៃ ស្នងការដ្ឋាន នគរបាល ខេត្ត កំពត ដោយ មាន ការសម្របសម្រួល ពន្លាត ដែន សមត្ថកិច្ច ពី លោក កូយ កាន់ យ៉ា ព្រះរាជអាជ្ញា កម្លាំង បាន ចុះ អនុវត្តន៍ ដីកា បញ្ជា ឲ្យ ចូល ខ្លួន របស់ លោក ព្រះរាជអាជ្ញា អម សាលា ដំបូង ខេត្ត ឧត្តរមានជ័យ ។ \n",
              "  ប្រតិបត្តិការ នេះ ធ្វើឡើង នៅ វេលា ម៉ោង ១៨ និង ០០ នាទី ថ្ងៃទី ២៦ ខែកក្កដា ឆ្នាំ ២០១៩ ដោយ បាន ឃាត់ខ្លួន ជនសង្ស័យ ពីរ នាក់ ប្តី ប្រពន្ធ នៅ ចំណុច ផ្ទះ ជួល ក្នុង ភូមិ ត្រពាំង ធំ , ឃុំ ត្រពាំង ធំ ស្រុក ទឹក ឈូ ខេត្ត កំពត ជាប់ចោទ ពី បទ រំលោភ លើ ទំនុកចិត្ត ( ខ្ចី ប្រាក់ គេ ជាង ពីរ ម៉ឺន ដុល្លារ ) ពី ជនរងគ្រោះ ចំនួន ០៣ នាក់ មិន សង ហើយ រត់គេចខ្លួន ។ \n",
              "  សមត្ថកិច្ច បាន ឲ្យដឹង ថា ជនសង្ស័យ ឈ្មោះ ម៉ៅ ភារុន ភេទ ប្រុស អាយុ ៣២ ឆ្នាំ រស់ នៅ ភូមិ ប៉េសេ សង្កាត់ ទឹក ថ្លា ខណ្ឌ សែនសុខ រាជធានី ភ្នំពេញ ។ \n",
              "  ប្រពន្ធ ឈ្មោះ ចែ ស្រី អាយុ ៥០ ឆ្នាំ ស្រុក កំណើត នៅ ខេត្ត ព្រៃវែង រស់ នៅ ភូមិ ប៉េសេ សង្កាត់ ទឹក ថ្លា ។ \n",
              "  សមត្ថកិច្ច បន្ត ថា ក្នុង ប្រតិបត្តិការ នេះ បាន ធ្វើ ការដកហូត រថយន្ត ម៉ាក xxmaj camry ឆ្នាំ ២០០០ ពណ៌ ឆ្លូញ ០១ គ្រឿង ពាក់ ស្លាកលេខ 1 g 1187 ។ \n",
              "  បច្ចុប្បន្ន ជនសង្ស័យ សមត្ថកិច្ច កំពុង នាំ ខ្លួន ពី ខេត្ត កំពត មក ឧត្តរមានជ័យ ដើម្បី ចាត់ការ តាម នីតិវិធី ៕ \n",
              "  ដោយ ៖ ចាន់ ធី,xxbos អតីត អធិការ រង ស្រុក ភ្នំ ស្រួច ទទួល ផែន ប្រឆាំង គ្រឿងញៀន ត្រូវបាន ក្រសួង មហាផ្ទៃ សម្រេច ផ្អាក ការងារ បណ្ដោះអាសន្ន ពាក់ព័ន្ធ ករណី បង្ក្រាប ក្លឹប កម្សាន្ត « គិរីរម្យ » ប៉ះ ខ្សែ អ្នក ធំ \n",
              "  កំពង់ស្ពឺ ៖ អតីត អធិការ រង នគរបាល ស្រុក ភ្នំ ស្រួច លោក អនុ សេនីយ៍ ឯក អ៊ឹង ឡាយ ឆាយ ត្រូវបាន សម្តេច ក្រឡាហោម ស ខេង ឧប នាយក រដ្ឋមន្ត្រី រដ្ឋមន្ត្រី ក្រសួង មហាផ្ទៃ សម្រេច ផ្អាក ការងារ ជា បណ្តោះអាសន្ន ពាក់ព័ន្ធ បណ្តឹង របស់ ប្រជាពលរដ្ឋ ចោទប្រកាន់ ជាច្រើន ករណី ក្នុង ការបង្ក្រាប ក្លឹប កម្សាន្ត « គិរីរម្យ » ជាមួយ គណៈ បញ្ជាការ ឯកភាព ខេត្ត កំពង់ស្ពឺ ប៉ះ ចំ ខ្សែ អ្នក ធំ ។ \n",
              "  ជុំវិញ រឿងរ៉ាវ ដ៏ រសើប ខាងលើ នេះ មហាជន បាន ដាក់ ជា ចម្ងល់ ថា ការចុះ ធ្វើ រដ្ឋបាល xxunk គណៈ បញ្ជាការ ឯកភាព ខេត្ត ស្រុក ចុះ ត្រួតពិនិត្យ ក្លឹប កម្សាន្ត « គិរីរម្យ » ក្រោម ការដឹកនាំ របស់ លោក ស xxunk អភិបាល រង ខេត្ត កំពង់ស្ពឺ លោក ឧត្ដមសេនីយ៍ ទោស ម xxunk ស្នងការ ខេត្ត អភិបាល ស្រុក អាជ្ញាធរ ឃុំ ក្រោម ការសម្របសម្រួល នីតិវិធី ដោយ លោក ខៃ សម្ផស្ស ព្រះរាជអាជ្ញា រង អម សាលាដំបូង ខេត្ត កំពង់ស្ពឺ នោះ ហេតុ អ្វី នៅ ពេល មាន រឿង ប្តឹង ផ្តល់ ពីសំណាក់ ថៅកែ ក្លឹប បែរជា មាន កំហុស តែ លោក អ៊ឹង ឡាយ ឆាយ គ្រាន់តែ អធិការ រង ទទួលបន្ទុក ជំនាញ គ្រឿងញៀន តែ ម្នាក់ឯង ទៅ វិញ ? យោង តាម ប្រកាស លេខ xxunk ប្រក ចុះ ថ្ងៃទី ១៩ ខែកក្កដា ឆ្នាំ ២០១៩ របស់ សម្ដេច ក្រឡាហោម ស ខេង ឧប នាយក រដ្ឋមន្ត្រី រដ្ឋមន្ត្រី ក្រសួង មហាផ្ទៃ បាន សម្រេច ការផ្អាក ការងារ បណ្ដោះអាសន្ន ចំពោះ លោក អនុ សេនីយ៍ ឯក អ៊ឹង ឡាយ ឆាយ អធិការ រង នៃ អធិការដ្ឋាន ស្រុក ភ្នំ ស្រួច ។ \n",
              "  ចំពោះ មូលហេតុ ដែល នាំឲ្យ មាន ការដក បញ្ឈរ ជើង នេះ ដោយសារ មាន បណ្តឹង ពី ប្រជាពលរដ្ឋ ចោទប្រកាន់ ពី បទ ៖ លួច មាន ស្ថាន ទម្ងន់ ទោស , រំលោភ លំនៅដ្ឋាន មាន ស្ថាន ទម្ងន់ ទោស , ចាប់ ឃុំឃាំង និង បង្ខាំង ដោយ ខុស ច្បាប់ មាន ស្ថាន ទម្ងន់ ទោស , និង បទ គំរាមកំហែង ។ \n",
              "  ដូច្នេះ លោក អ៊ឹង ឡាយ ឆាយ អតីត អធិការ រង នគរបាល ស្រុក ភ្នំ ស្រួច ត្រូវ បង្ហាញ ខ្លួន ជារៀងរាល់ ម៉ោង ធ្វើការ នៅ ការិយាល័យ បុគ្គលិក នៃ ស្នងការដ្ឋាន ខេត្ត កំពង់ស្ពឺ ។ \n",
              "  សូម រំឭក ថា នៅ ថ្ងៃសៅរ៍ ១១ កើត ខែ ផល្គុន ឆ្នាំ ច សំរឹទ្ធិ ស័ក xxunk ត្រូវនឹង ថ្ងៃទី ១៦ ខែមីនា ឆ្នាំ ២០១៩ វេលា ម៉ោង ២៣ និង ០០ នាទី រំលង អធ្រាត្រ កម្លាំង គណៈ បញ្ជាការ ឯកភាព ខេត្ត ស្រុក បាន ធ្វើ រដ្ឋបាល ចំហ ក្នុង ក្លឹប កម្សាន្ត « គិរីរម្យ » ស្ថិត នៅ ភូមិ ៤ ត្រែង ត្រយឹង ស្រុក ភ្នំ ស្រួច ខេត្ត កំពង់ស្ពឺ ដើម្បី អនុវត្ត តាម គោលនយោបាយ ភូមិ / ឃុំ មាន សុវត្ថិភាព របស់ រាជ រដ្ឋាភិបាល ។ \n",
              "  ក្នុង ប្រតិបត្តិការ ខាងលើ កម្លាំង នគរបាល បាន ឆែកឆេរ រកឃើញ ថ្នាំញៀន ០១ កញ្ចប់ តូច និង ឧបករណ៍ ជក់ មួយចំនួន ធំ ក្នុង នោះ បាន ឃាត់ខ្លួន មនុស្ស ២ នាក់ តាម បញ្ជា តំណាង អយ្យការ អម សាលាដំបូង ខេត្ត កំពង់ស្ពឺ ។ \n",
              "  ក្រោយពី កម្លាំង គណៈ បញ្ជាការ ឯកភាព ខេត្ត និង សមត្ថកិច្ច ជំនាញ រកឃើញ ថា ទីតាំង ក្លឹប កម្សាន្ត និង ខារ៉ាអូខេ « គីរីរម្យ » មាន ពាក់ព័ន្ធ បទល្មើស គ្រឿងញៀន កម្លាំង ចម្រុះ សម្រេច បិទ អាជីវកម្ម ក្លឹប នេះ បណ្តោះអាសន្ន ហើយ កសាង សំណុំរឿង បញ្ជូន ទៅ សាលាដំបូង ខេត្ត ចាត់ការ បន្ត តាម នីតិវិធី ។ \n",
              "  ក្លឹប xxunk ដែល កម្លាំង គណៈ បញ្ជាការ ឯកភាព ខេត្ត បង្ក្រាប នេះ ម្ចាស់ អាជីវកម្ម ក្លឹប កម្សាន្ត និង ខារ៉ាអូខេ « គិរីរម្យ » មាន ឈ្មោះ ទិត្យ ស៊ីណាត មាន ប្អូន ប្រុស ជា មន្ត្រី ប៉េ អិម ខេត្ត កំពង់ស្ពឺ និង មាន សាច់ញាតិ ធ្វើ ការងារ ធំ នៅ ក្រសួង ផងដែរ ។ \n",
              "  របាយការណ៍ របស់ ស្នងការ ប៉ូលិស ខេត្ត កំពង់ស្ពឺ បាន ឲ្យដឹង ថា ក្នុង ប្រតិបត្តិការ ក្ដៅ គគុក នេះ គឺជា xxunk វិធានការ រដ្ឋបាល ចំហ នៅ ក្លឹប xxunk « គីរីរម្យ » ឃុំ ត្រែង ត្រយឹង ស្រុក ភ្នំ ស្រួច ដឹកនាំ ដោយ លោក សរ xxunk អភិបាល រង ខេត្ត កំពង់ស្ពឺ លោក ស្នងការ ស្នងការ រង អភិបាល ស្រុក ភ្នំ ស្រួច អាជ្ញាធរ មូលដ្ឋាន ដោយ មាន ការសម្របសម្រួល នីតិវិធី ពី លោក ខៃ សម្ជស្ស ព្រះរាជអាជ្ញា រង អម សាលាដំបូង ខេត្ត កំពង់ស្ពឺ តែម្តង ។ \n",
              "  របាយការណ៍ បាន បង្ហាញ ថា « ជា លទ្ធផល កម្លាំង គណៈ បញ្ជាការ ឯកភាព រកឃើញ ឧបករណ៍ ប្រើប្រាស់ គ្រឿងញៀន ជាច្រើន ក្នុង នោះ ឃាត់ខ្លួន មុខ សញ្ញា ០២ នាក់ ប្រុស ឈ្មោះ សុខ ភារៈ តួនាទី xxup xxunk មាន ទីលំនៅ ភូមិ / ឃុំ ខាងលើ និង ឈ្មោះ រ័ត្ន ភារម្យ មុខ សញ្ញា សង្ស័យ ពាក់ព័ន្ធ ករណី ជួញដូរ សារធាតុ ញៀន ខុស ច្បាប់ ដើម្បី សាកសួរ រក មេខ្លោង ដែល ពាក់ព័ន្ធ ករណី អនុញ្ញាតឲ្យ មាន ការជួញដូរ និង ផ្ដល់ ទីតាំង ប្រើប្រាស់ គ្រឿងញៀន នេះ ។ \n",
              "  កម្លាំង គណៈ បញ្ជាការ ឯកភាព ខេត្ត កំពង់ស្ពឺ បាន បញ្ជាក់ ថា « ក្រោយ ប្រតិបត្តិការ រដ្ឋបាល ជំនាញ រកឃើញ វត្ថុតាង សង្ស័យ មួយចំនួន ដែល ទាក់ទង នឹង ការផ្ដល់ ទីតាំង ឲ្យ មាន ការជួញដូរ ប្រើប្រាស់ ថ្នាំ ញៀន ខុស ច្បាប់ ទីតាំង ក្លឹប xxunk គីរីរម្យ ត្រូវបាន អាជ្ញាធរ ស្រុក ខេត្ដ ជំនាញ សម្រេច បិទ ផ្អាក សកម្មភាព ជា បណ្ដោះអាសន្ន រង់ចាំ កិច្ច ស្រាវជ្រាវ បន្ដ ពីព្រោះ ទីតាំង នេះ ជា កន្លែង ផ្តល់ឲ្យ ប្រើប្រាស់ គ្រឿងញៀន » ។ \n",
              "  បន្ទាប់ពី គណៈ បញ្ជាការ ឯកភាព ខេត្ត កំពង់ស្ពឺ ចុះ រដ្ឋបាល ចំហ ពិនិត្យ ក្លឹប កម្សាន្ត និង ខារ៉ាអូខេ « គិរីរម្យ » មាន ជាប់ពាក់ព័ន្ធ បទល្មើស គ្រឿងញៀន ក៏ បាន បិទ អាជីវកម្ម នេះ ជា បណ្ដោះអាសន្ន នាំឲ្យ មាន ការខាតបង់ ច្រើន ទើប លោកស្រី ទិត្យ ស៊ីណាត បាន ប្តឹង លោក អនុ សេនីយ៍ ឯក អ៊ឹង ឡាយ ឆាយ អតីត អធិការ រង ស្រុក ភ្នំ ស្រួច លោក ស្នងការ ស្នងការ រង នគរបាល ខេត្ត កំពង់ស្ពឺ និង បក្ខពួក ផ្សេង ៗ ទៀត ០៤ បទល្មើស រួមមាន ៖ ១ - បទ បរិហារ បង្កាច់ កេរ្តិ៍ , ២ - រំលោភ លើ លំនៅឋាន មាន ស្ថាន ទម្ងន់ ទោស , ៣ - ចាប់ ឃុំឃាំង បង្ខាំង មនុស្ស ដោយ ខុស ច្បាប់ មាន ស្ថាន ទម្ងន់ ទោស និង ៤ - គំរាមកំហែង ។ \n",
              "  លោកស្រី ទិត្យ ស៊ីណាត បាន រៀបរាប់ ថា « លោកស្រី បាន ដាក់ពាក្យបណ្តឹង ទៅ សម្តេច ក្រឡា xxunk ស ខេង ឧប នាយក រដ្ឋមន្ត្រី រដ្ឋមន្ត្រី ក្រសួង មហាផ្ទៃ ស្នើសុំ ជួយ រក យុត្តិធម៌ និង ដោះលែង ជនរងគ្រោះ ពីរ នាក់ ប្តី ប្រពន្ធ ឲ្យ នៅ ក្រៅ ឃុំ ទើប ក្រុម អធិការកិច្ច ចុះ មក ស៊ើបអង្កេត លើ ករណី នេះ នៅ ស្នងការដ្ឋាន នគរបាល ខេត្ត កំពង់ស្ពឺ » ។ \n",
              "  មហាជន រង់ចាំ មើល ថា តើ មាន មន្ត្រី ប៉ុន្មាន នាក់ ទៀត ដែល ត្រូវ ក្នុង រឿង នេះ ក្រៅពី លោក អ៊ឹង ឡាយ ឆាយ អតីត អធិការ រង ទទួល ផ្នែក ប្រឆាំង គ្រឿងញៀន ? ៕ \n",
              "  ដោយ ៖ រដ្ឋ ឋានៈ,xxbos \n",
              "  ប្រវត្តិ ភាសា អ៊ីតាលី \n",
              "  ប្រវត្តិ ភាសា អ៊ីតាលី \n",
              "  ភាសា អ៊ីតាលី ជា ភាសា មួយ មកពី ភាសា រ៉ូមុំាង ដែល ត្រូវបាន និយាយ ដោយ ជនជាតិ ដើម ប្រហែល មនុស្ស ៧០ លាន នាក់ នៅក្នុង ប្រទេស អ៊ីតាលី ម៉ាល តា សាន់ ម៉ារីណូ និង ផ្នែក នៃ ប្រទេស ស្វីស ក្រូ ទៀ សូវៀត និង ប្រទេស បារំាង ។ អ្នក និយាយ ភាសា ដើម មួយ ចំនួន គឺ សុទ្ធតែ ជា ទ្វិ ភាសា ដើម នៃ មាត្រដ្ឋាន ជនជាតិ អ៊ីតាលី ទាំង ពីរ ប្រភេទ និង តំបន់ ផ្សេង ៗ ពី គ្នា ។ នៅក្នុង ប្រទេស ស្វីស ភាសា អ៊ីតាលី ជា ភាសា ផ្លូវការ មួយ ក្នុង ភាសា ជា ផ្លូវការ ទាំង បួន ត្រូវបាន និយាយ ដោយ ជនជាតិ ស្វីស ក្នុង តំបន់ នៃ xxunk ហ្គី xxunk និង xxunk ។ ផងដែរ នោះ វា គឺជា ភាសា ផ្លូវការ នៃ តំបន់ សាន់ ម៉ារីណូ ប្រសើរ ជាង ភាសា ដើម នៃ ទីក្រុង xxunk ខាន ។ ភាសា អ៊ីតាលី ត្រូវបាន ចាត់ទុក ជា ភាសា របស់ ខ្លួន ដោយ រដ្ឋ បន្ទាប់ពី ប្រទេស អ៊ីតាលី បាន បង្រួបបង្រួម មក ត្រូវបាន គេ ជា មូលដ្ឋាន ទៅ លើ គ្រាម ភាសា ទូស ខាន ដែល ទុក មុន គឺ ដែល អាច ទទួលយក បាន នៅក្នុង សាលា ថ្នាក់រៀន ក្នុង សង្គម xxunk ។ វា មាន ការរីកចម្រើន ឡើង ៗ គឺ ផងដែរ នោះ ឈាន ទៅដល់ មាន ឥទិ្ធពល ដោយ ភាសា គ្រាម ភាសា អ៊ីតាលី និង ដោយ ភាសា អាឡឺម៉ង់ នៃ អ្នក ឈ្លានពាន ពួក រ៉ូមុំាង ។ \n",
              "  ភាសា អ៊ីតាលី ក្លាយ ចេញមកពី សញ្ញា ភាសា ឡាតាំង និង មាន ភាព យ៉ាង ជិតស្និត រវាង ភាសា ជាតិ ទៅនឹង ភាសា ឡា តំាង ។ មិន ដូច ភាសា រ៉ូមុំាង ផេ្សង ៗ ទាំងអស់ នោះ ទេ ភាសា អ៊ីតាលី រក្សាទុក ខុសគ្នា របស់ ភាសា ឡា តំាង រវាង ព្យញ្ញានះ ខ្លី និង ព្យញ្ញានះ វែង ។ ដូច នៅក្នុង ភាសា រ៉ូមុំាង ការសង្កត់ សម្លេង គឺជា កំណត់ សំគាល់ ។ ជាពិសេស ការចូល រូម របស់ ភាសា រ៉ូមុំាង អ៊ីតាលី គឺ មាន ភាព យ៉ាង ជិត ស្អិត ទៅនឹង ភាសា ឡា តំាង ក្នុង ក្រុម នៃ xxunk ណ៏ ។ xxunk ស ទិសភាព ( ការអាន ដូចគ្នា ) គឺ មាន ទៅដល់ ៨៩ % ជាមួយនឹង ភាសា បារំាង ៨៧ % ជាមួយ ភា xxunk xxunk ៨៥ % ជាមួយ ភាសា xxunk ៨២ % ជាមួយ ភាសា ស្ប៉ាញ ៧៨ % ជាមួយ ភាសា xxunk តូ រ៉ូមុំាង និង ៧៧ % ជាមួយ ភាសា រ៉ូមុំាង ។ \n",
              "  ភាសា អ៊ីតាលី មាន ប្រវត្តិ យូរយា ណាស់ មកហើយ ប៉ុន្តែ ជា ភាសា ដ៏ ពេញនិយម នៃ ភាសា គឺ ភាគ ច្រើន ត្រូវបាន អោយ ចេញ ជា រូបរាង អោយ ប្រើប្រាស់ ដោយ ប្រៀបធៀប មកដល់ បច្ចុប្បន្ន នេះ ។ មុនពេល ដែល អក្សរ មាន អនុភាព ដែល អាច មាន អត្ថន័យ អាច ហៅ បាន ថា ភាសា អ៊ីតាលី ( ដោយ ត្រឹមត្រូវ ភាសា ក្នុង ស្រុក ដូចជា មាន ការ សំគាល់ ពី xxunk ឡាតាំង សាមញ្ញ ) គំរូ លិខិត នីត្យានុកូល មកពី តំបន់ xxunk វ៉េន តូ ដែល មាន នៅ ឆ្នាំ ចាប់ពី ឆ្នាំ ៩៦០ ដល់ ៩៦៣ ។ អ្វី ដែល ចង់អោយ មាន អាច គិត អំពី ភាសា អ៊ីតាលី គឺ បាន យល់ព្រម ជា លើក ដំបូង ក្នុង ឆ្នាំ ដំបូង ក្នុង សតវត្ស រ៏ ទី ១៤ តាម រយះ ការងារ នៃ ដាន់ ទី xxunk អេរី ដែល លាយ ជាមួយ ភាសា អ៊ីតាលី ខាងត្បូង ជាពិសេស ភាសា ស៊ី xxunk ជាមួយ ជនជាតិ ដើម xxunk នៅក្នុង បទ កាព្យ និយាយ អំពី ព្រឹត្តការណ៏ របស់ អ្នក ចម្បាំង ដ៏ ល្បីល្បាញ ដោយ រួបរួម ដូចជា xxunk ឌា ជាមួយ ហ្គី xxunk នី xxunk អូ ទាក់ទង គ្នា នឹង អត្ថបទ xxunk ។ សេចក្តីស្រលាញ់ ការងារ យ៉ាង ខ្លាំង របស់ លោក ដាត ត្រូវបាន គេ អាន ពាសពេញ ប្រទេស អ៊ីតាលី និង អត្ថបទ ភាសា គ្រាម ភាសា របស់ គាត់ បាន ក្លាយទៅជា \" ត្រូវ តាម xxunk \" ដែល សម្រាប់ ការអប់រំ ទៅដល់ ជនជាតិ អ៊ីតាលី ទាំងអស់ អាច និង ងាយ យល់ ដឹង កាន់តែ ច្បាស់ ។ ដាត គឺ នៅតែ មាន ជំនឿ ជឿជាក់ មាន កិត្តិយស ជាមួយនឹង បមាណី យកម្ម ភាសា អ៊ីតាលី និង ដូចនេះ គ្រាម ភាសា នៃ ភាសា ហ្លរ៉េន ក្លាយទៅជា មូលដ្ឋានគ្រឹះ សម្រាប់ អ្វី ដែល ចង់ ក្លាយទៅជា ភាសា ជា ផ្លូវការ នៃ ភាសា អ៊ីតាលី ។ \n",
              "  ភាសា អ៊ីតាលី ជារឿយ ៗ គឺ ភាសា ជា ផ្លូវការ ផ្សេង ពីរដ្ឋ អ៊ីតាលី គឺ សសេរ ថ្ងៃ ខែ មុន ដណើ្តម យក ភាសា ឡាតាំង បន្តិច ម្តង ៗ នៅ ពេល ដែល មាន ឥទ្ធិពល ពី បរទេស ( ដូចជា ភាសា ស្ប៉ាញ នៅក្នុង អាណាចក្រ xxunk ឬ ភាសា អូស្រ្តាលី នៅក្នុង អាណាចក្រ xxunk xxunk xxunk ) សូម្បីតែ ទីប្រជុំជន ក៏ បាន និយាយ ភាសា ក្នុង ស្រុក និង គ្រាម ភាសា ។ ភាសា អ៊ីតាលី ផងដែរ គឺជា ភាសា មួយ ក្នុង ចំណោម ភាសា ជា ច្រើន ដែល ទទួលស្គាល់ ភាសា នៅក្នុង ពាក់កណ្តាល ចក្រភព អូស្រ្តាលី និង ចក្រភព ហ៊ុង គ្រី ។ \n",
              "  ប្រទេស អ៊ីតាលី ជារឿយ ៗ បាន សំគាល់ ដោយ ភាសា គ្រាម ភាសា សម្រាប់ ទីក្រុង តាំងពី ទីក្រុង ពីមុន រហូតដល់ ថ្មី ៗ នេះ គិត នៃ ទីក្រុង រដ្ឋ ។ ទោះបីជា យ៉ាងណា ក៏ដោយ គ្រាម ភាសា ទាំងនោះ សព្វ ថ្ងៃ នេះ មាន យ៉ាង ច្រើន ដោយ ខុសប្លែក ពី គ្នា បន្តិចបន្តួច ។ ដូច ទាញយក ភាសា អ៊ីតាលី មក អោយ ប្រើប្រាស់ ពាសពេញ ប្រទេស អ៊ីតាលី ជា ការពិត ការនិយាយ តាម តំបន់ គឺ រក្សាទុក យ៉ាង ត្រឹមត្រូវ តាម ធម្មជាតិ ការបង្កើត ផ្សេង មួយ ទៀត នៃ តំបន់ ភាសា អ៊ីតាលី ។ ភាពខុសគ្នា ចំពោះ អត្តចរិត សំខាន់ សម្រាប់ ជំនួស រវាង ភាសា អ៊ីតាលី រ៉ូមុំាង និង xxunk អ៊ីតាលី គឺជា ករ ផ្គួប ចូល គ្នា ទាំង ពីរ នៃ ព្យញ្ញានះ ខាង ដើម និង ការបញ្ចេញ សម្លេង នៃ ការអាន \" អ៊ី \" \" e \" និង \" អេស \" \" s \" ក្នុង ករណី ខ្លះ ( ឧទាហរ ណ៏ xxunk xxunk \" all right \" \" \" ) \n",
              "  ភាពខុសគ្នា ទៅនឹង ភាសា អ៊ីតាលី ខាងជើង គ្រាម ភាសា និង ភាសា អ៊ីតាលី ខាងត្បូង ជារឿយ ៗ ត្រូវបាន មិន បាន ពិភាក្សា ដោយ xxunk កូ xxunk មាន ឥទិ្ធពល នាំអោយ ប្រើប្រាស់ នៅ ប្រទេស អ៊ីតាលី ។ យ៉ាង សំខាន់ នោះ ដោយ ក វី ពាក្យ កាព្យឃ្លោង មកពី ប្រទេស បារាំង ។ ក្នុង អំឡុង ពេល ពាក់កណ្តាល អាយុ ប៉ុន្តែ បន្ទាប់ពី ទទួល ជោគជ័យ ជំនះ នៃ អ៊ីតាលី ខាងត្បូង xxunk ក្លាយជា ទឹកដី ប្រទេស អ៊ីតាលី ជា លើក ដំបូង ដើម្បី រក្សាទុក xxunk xxunk អារម្ម ណ៏ ឬ វិធី នៅក្នុង xxunk វីនិពន្ធ ។ សូម្បីតែ នៅក្នុង ករណី ភាសា អ៊ីតាលី ខាងជើង ទោះបីជា យ៉ាងណា ក៏ដោយ អ្នកប្រាជ្ញ ជាច្រើន គឺ មាន xxunk ដោយ មិន បំផ្លើស មាន អនុភាព ប្រសិទ្ធភាព នៃ អ្នក ខាងក្រៅ លើ រីកចម្រើន ភាសា ក្នុង ស្រុក ។ \n",
              "  ឥទិ្ធពល សេដ្ឋកិច្ច និង ដោយ xxunk ភាព ជឿនលឿន នៃ ទូស សាណី នៅ សម័យ ( ចុង ពាក់កណ្តាល សម័យកាល ) អោយ គ្រាម ភាសា មាន រឹងមាំ គិត អំពី ភាសា xxunk ទៀន បាន រលឹក ត្រូវបាន ផ្សព្វផ្សាយ ពាសពេញ ក្នុង តំបន់ ជិត សមុទ្រ វិជ្ជាជីវះ នៅជិត សមុទ្រ ម៉េឌីទែរ៉ាណេ ។ ផងដែរ នោះ ការកើតឡើង នៃ នយោបាយ មាន ភាពទាក់ទង នៃ ហ្លរ៉េន ក្នុង អំឡុង ពេល xxunk កើតឡើង នៃ ច្រាំង xxunk មនុស្ស និយម និង ដំណើរ មាន សកម្មភាព ជាថ្មី នៃ អក្សរសាស្ត្រ កើតឡើង វិញ ភាសា គ្រាម ភាសា ឬ ដូចជា ធ្វើអោយ ប្រសើរឡើង តាម និយាម ក្នុង សិល្បះ ។ \n",
              "  របកគំហើញ សារជាថ្មី នៃ ដាត និង បាន បន្ត អោយ xxunk ណ៏ នៅ ក្នុង ភាសា វិទ្យា ក្នុង សតវត្ស រ៏ ទី ១៦ បាន ពិភាក្សា គ្នា យ៉ាង រស់រវើក ដែល xxunk ពាសពេញ ប្រទេស អ៊ីតាលី ការទុក ព្រួយ ខ្វល់ xxunk ការវិនិច្ឆ័យ ដែល គួរតែ គ្រប់គ្រង គ្រឹះស្ថាន សម្រាប់ នៃ អក្សរសាស្ត្រ អ៊ីតាលី និង ត្រូវបាន និយាយ ភាសា ។ អ្នកប្រាជ្ញ មួយចំនួន បាន បែង ចែក ក្នុង នោះ ជា បី ក្រុម \n",
              "  ១ អ្នក សុទ្ធ និយម ដឹកនាំ ដោយ ភីត ត្រូ xxunk ប៉ូ ( ទាមទារ ភាសា អោយ មាន អនុភាព តែ មួយ ត្រូវបាន ដាក់ ជា មូលដ្ឋាន ទៅ លើ អក្សរសាស្ត្រ សំខាន់ ដូចជា xxunk ច និង xxunk អូ ) ។ \n",
              "  ២ ណី xxunk xxunk និង ហ្ល xxunk ចូលចិត្ត កំណែ ថ្មី ត្រូវបាន និយាយ ដោយ មនុស្សធម្មតា ជាង ក្នុង សម័យកាល របស់ ពួកគេ ។ \n",
              "  ៣ អ្នក អែប អប ដូចជា បាល ដា សារី កាស xxunk អូនី និង xxunk ហ្គី xxunk អូ xxunk xxunk ទទូច ថា តំបន់ នីមួយ ៗ មាន ភាសា ក្នុង ស្រុក ជួយ អោយ ទៅជា ភាសា ជា និយាម ថ្មី ( ជា ស្តង់ដា ថ្មី ) ។ \n",
              "  ការធ្វើ ទាមទារ មួយ ភាគ បួន ជនជាតិ អ៊ីតាលី គឺ តុលាការ បាន យល់ព្រម ។ តាម យថា ហេតុ គំនិត របស់ xxunk xxunk ជ័យជំនះ និង ការអាន ដើម្បី បោះពុម្ភ នៃ វចនានុក្រម អ៊ីតាលី ក្នុង ១៦១២ និង ស្ថាបនា នៃ xxunk មី ដី ឡា គ្រូ ស្កា ក្នុង ហ្លរ៉េន ( xxunk ដល់ ១៥៨៣ ) នីតិបញ្ញត្តិ ជា ផ្លូវការ ទំាង មូល នៃ ភាសា អ៊ីតាលី ។ \n",
              "  អត្ថន័យ គួអោយ កត់សំគាល់ ពីរ បច្ចុប្បន្ន ក្នុង ប្រវត្តិសាស្រ្ត ភាសា អ៊ីតាលី បាន កើតឡើ រវាង ឆ្នាំ ១៥០០ និង ១៨៥០ ។ ព្រឹត្តការណ៏ ទាំង ពីរ គឺ មាន ការផ្សព្វផ្សាយ យ៉ាង រហ័ស ។ អ្នកគ្រប់គ្រង អ្នក ច្បាប់ នៃ ជនជាតិ ស្ប៉ាញ បាន ផ្សាយ និង \n",
              "  < / doc >\n",
              "y: LMLabelList\n",
              ",,,,\n",
              "Path: kmwiki_data;\n",
              "\n",
              "Valid: LabelList (353 items)\n",
              "x: LMTextList\n",
              "xxbos \n",
              "  ចក្រីនី \n",
              "  ចៅ ពញា ចក្រីនី ( \" ចៅ ពញា \" ជា សក្ដិ , \" ចក្រី \" ជា ងារ , \" នី \" ជា ឈ្មោះ ) លោក ជា សេនាបតី ចតុស្ដម្ភ របស់ ព្រះស្ដេច កន ហ្លួង ខាងកើត ។ \n",
              "  និយាយ អំពី សម្ដេច ស្រី ជេដ្ឋា ព្រះអង្គ គ្រង ពិជ័យ ព្រៃ នគរ នោះ វិញ លុះ ដល់ ខែមិគសិរ បុស្ស ហើយ ទ្រង់ គិត ថា ទ្រង់ នឹង ធ្វើ សង្គ្រាម យក ជ័យ ជំនះ លើ សម្ដេច ចៅ ពញាចន្ទ រាជា ក្នុង គ្រា នេះ ឲ្យ ខាងតែ បាន ទើប ទ្រង់ ត្រាស់បង្គាប់ ចៅ ហ៊្វា កៅ សម្ដេច ចៅ ពញា ហែង ចៅ ពញា ស្នង ធ្នឹម ព្រះនគរ ចៅ ពញា វៀង ចៅ ពញា វាំង ចៅពញា ស្រាល និង ចៅ ពញា លំពាំង ជា សេនាបតី ឲ្យ កេណ្ឌ រេហ៍ ពល បាន ១៥០០០ នាក់ មក សមហាត់ ឲ្យ ស្ទាត់ ហើយ នឹង យក ទៅ វាយ បន្ទាយ ក្ដុល វិញ ។ បើ មាន ជ័យជំនះ ហើយ ទ្រង់ នឹង លើក រហូតដល់ បន្ទាយមានជ័យ ( ពោធិ៍សាត់ ) សំរេច ផែនដី ក្នុង ឆ្នាំ នេះ ឲ្យបាន ។ សេនាបតី ទាំង ប្រាំមួយ នាក់ ក៏ ថ្វាយបង្គំ លា ចេញ ទៅ ចាត់ សំបុត្រ ឲ្យ កេណ្ឌ មក គ្រប់គ្រាន់ តាម ព្រះបន្ទូល ពិសេស ។ សេចក្ដី ដែល កេណ្ឌ រេហ៍ ពលមក សមហាត់ នេះ ឮ សូរ សព្ទ ទៅដល់ សម្ដេច ព្រះភគិនេយ្យោយសរាជាជា កែវ នាយក ទើប ទ្រង់ ត្រាស់ ប្រឹក្សា នឹង ឧកញ៉ា ចក្រី ទេ ព ឧកញ៉ា សួគ៌ា លោក សុខ កូន ពញា មឿង និង សម្ដេច ចៅ ពញា កែវ ចៅ ពញា ឧទ័យ ធិរាជ ចៅ ពញា តេជោ នោះ អស់ នាយកងទ័ព ថា ពល គេ ដល់ ទៅ ១៥ xxrep 4 ០ នាក់ ពល យើង មាន តែ ៤០០០ នាក់ ដូច្នោះ នឹង គិត ដូចម្ដេច កើត ។ វេលា នោះ ឧកញ៉ា ចក្រី កែវ ចៅ ពញា សួគ៌ា លោក សុខ កូន ពញា មឿង យក សេចក្ដីក្រាបទូល ពល យើង សម្ដេច ព្រះបរម បពិត្រជា អម្ចាស់ ទ្រង់ ឲ្យ បន្ថយ អស់ ទៅ ហើយ បើ យើង នឹង ទៅ កេណ្ឌ ថែម ទៀត ក្រែង ពុំ ទាន់ តែ កាលបិតា ទូលព្រះបង្គំ លោត អន្លង់ សំលាប់ ខ្លួន ទៅ កេណ្ឌ ទ័ព បិសាច ឲ្យ ជួយ ធ្វើការ នោះ បាន ផ្ដាំ ទុក នឹង ចៅ ពញាចន្ទ មេស្មឹង ជា ភឿន ថា បើ ម្ចាស់ ផែនដី មាន សេចក្ដីទ័ល ធុរៈដូចម្ដេច កុំ ឲ្យ ស្ដេច មាន បន្ទូល ផ្ទាល់ ថា ឲ្យ មេស្មឹង និយាយ ឆ្លង ព្រះបន្ទូល លោក នឹង កេណ្ឌ ទ័ព បិសាច មក ជួយ ឲ្យបាន សំរេច ។ ឥឡូវការណ៍ យើង ក៏ ប្រទាល ខ្លួន ណាស់ ហើយ គួរ យើង ធ្វើ តាម បណ្ដាំ នោះ ល្បង មើល សម្ដេច ព្រះភគិនេយ្យោយសរាជាជា កែវ នាយក ទ្រង់ ជ្រាប ហើយ ទ្រង់ ត្រាស់ ឲ្យ ចៅ ពញាចន្ទ មេស្មឹង ចូលមក ត្រាស់ ប្រាប់ ដូន កូន ពញា មឿង ពីរ នាក់ យក សេចក្ដី ក្រាបបង្គំទូល។ ខណៈ នោះ ពញាចន្ទ មេស្មឹង ទទួល ព្រះបន្ទូល ពិសេស ហើយក៏ ឲ្យ ធ្វើ រោង រាជវ័តិ និង ឆត្រ គ្រឿង សក្ការៈបូជា ស្លៀក សស្រេច ហើយ ក៏ ចូល ទៅក្នុង រោង រាជ ពិធី ឧទ្ទិស ដល់ ខ្មោច ពញា មឿង ថា សុំឲ្យ ពញា ជួយ ឲ្យបាន សំរេច ដូច ជួយការណ៍ ក្នុង ខេត្ត ពោធិ៍សាត់ ។ ក្នុង គ្រា នោះ បិសាច ពញា មឿង ចូល សណ្ឋិត នឹង មេស្មឹង ហើយ ប្រាប់ កូន ទាំង ពីរ ថា ឲ្យ យក ចំបើង ចង ជា រូប មនុស្ស ឲ្យកាន់ ប្រឆេះ ឲ្យ ពួក ពល ចេះតែ តាំង ហ៊ោ បាញ់ កាំភ្លើង ពី ចំងាយ ទៅ សុំ យើង កេណ្ឌ ទ័ព បិសាច ទៅ ជួយ ឲ្យ សំរេច ។ វេលា នោះ កូន ពញា មឿង ទាំង ពីរ នាក់ លុះ ដល់ ពេល យប់ ហើយ ឲ្យ រេហ៍ ពលយក ចំបើង ចង ជា រូប មនុស្ស រួច ចង ប្រឆេះ នៅ រូប ចំ បើង នោះ យក ទៅ ដាក់ នៅ ក្បាល ត្រោក ជុំវិញ បន្ទាយ ព្រះស្ដេច កន ។ ឯ បិសាច ពញា មឿង ក៏ កេណ្ឌ ឲ្យ តាំង ហ៊ោ បីដូច គេ ប្លន់ យក បន្ទាយ ។ ទ័ព ស្ដេច កន ឮ ហើយ ក៏ តាំងតែ បាញ់ កាំភ្លើង ធ្នូ ស្នាចោល ដុំ ថ្ម ពី ក្នុង បន្ទាយមក ជាច្រើន រាត្រី ។ សម្ដេច ចៅ ហ៊្វា កៅ ធ្វើ តែ ដូច្នោះ ១៥ រាត្រី ។ កងទ័ព ក្នុង បន្ទាយ បាញ់ អស់ ព្រួញ ធ្នូ ស្នា នឹង ជិត អស់ ទាំង គ្រាប់ រំសេវ លុះ ដល់ យប់ គំរប់ ១៥ នោះ ស្រាប់តែ ឮ តាំង ហ៊ោ ទូង ស្គរ ក្រោម ដី និង លើ អាកាស ដូច រន្ទះ កក្រើក ទាំង ព្រះធរណី ធូលី ក៏ បក់ បោក ចូល ភ្នែក ។ អស់ សេនា ទាហាន ទ្រាំ ពុំ បាន ក៏ បើក ទ្វារ បន្ទាយ ខាងកើត ហើយ រត់ ទៅ ទិស អាគ្នេយ៍ ប៉ង ទៅ ខេត្ត រោង ដំរី ដើម្បី ទៅ ពឹង ប្រទេស ចាម ឲ្យ ជួយ ។ កងទ័ព បិសាច បណ្ដាល អាត្មាឲ្យ ឃើញ កងទ័ព ឈរ តាំង ហ៊ោ តាម ផ្លូវថ្នល់ ដល់ ទៅ ខេត្ត រោង ដំរី នោះ ។ ឯ ព្រះស្ដេច កន សម្ដេច ចៅ ហ៊្វា កៅ ចក្រី និង ស្នង ធ្នឹម ព្រះនគរ xxunk នាំ អ្នក ម្នាង ជា លែង រត់ ចេញ តាម ទ្វារ ប៉ម ទិស ឦសាន ដើម្បី ទៅ ទិស ខាងជើង កាត់ ស្រុក លាវ ។ លុះ ទៅដល់ ព្រៃ មួយ អន្លើ ឲ្យ បោះ ទ័ព បង្អង់ នៅ ទីនោះ យូរ ទៅ ជាប់ ឈ្មោះ បង្អង់ យារ ៗ មក ហៅ ហូរ ជើង វាំង ។ ទីនោះ ជា ព្រៃ គគីរ មាន ដើម គគីរ ជាច្រើន ព្រះស្ដេច កន ឃើញ ដើម គគីរ មួយ ធំ ក្រៃលែង ឲ្យ បាំង ស្រមោល វាស់ ល មើលឃើញ ២៤ ព្យាម សំណុំ ៩ ព្យាម ទើប ព្រះស្ដេច កន ប្រឹក្សា នឹង អស់ មន្ដ្រី នាយកងទ័ព ថា ចៅ ពញាចន្ទ រាជា មាន ទូក សារាយ អណ្ដែត វែង តែ ១៨ ព្យាម ទើប ព្រះស្ដេច កន នឹង អស់ មន្ដ្រី នាយកងទ័ព ថា ចៅ ពញាចន្ទ រាជា មាន ទូក សារាយ អណ្ដែត វែង តែ ១៨ ព្យាម ។ ដូច្នោះ គួរ យើង ឲ្យ កាប់ ដើម គគីរ ធ្វើ ទូក ឲ្យបាន ជាស្រេច ហើយ នឹង ឲ្យ រាជសារ ទៅ បបួល ចៅ ពញាចន្ទ រាជាអុំ ភ្នាល់ ដាក់ ព្រះនគរ ។ បើ មិន ភ្នាល់ យើង នឹង ឲ្យ រេហ៍ ពល តាំង ហ៊ោចំអក ចំអន់ ឲ្យ ឈឺចិត្ដ ។ បើ ហ៊ាន អុំ ភ្នាល់ ទូក យើង វែង ជាង ដល់ ទៅ ៧ ព្យាម នោះ គង់ មាន ជ័យជំនះ ដោយ ងាយ បាន ។ គិត ព្រមព្រៀង គ្នា ហើយ ស្ដេច កន ក៏ ឲ្យ រេហ៍ ពល កាប់ ដើម គគីរ នោះ ចាំង លុង បានជា ទូក -ង មួយ វែង ២៥ ព្យាម ទទឹង ១២ ហត្ថ ទើប ឲ្យ ឈ្មោះ ព្រៃ គគីរ នោះ ហៅ ថា ព្រៃ គគីរ រៀង មក ។ ឯ ទូក ដែល កាប់ បាន នោះ សិត ពុំ ទាន់ រួច ហើយ ស្ដេច កន ឲ្យ អូស យក ទៅ ធ្វើ នៅឯ បន្ទាយសង់ រោង និង សិត ទូក នោះ ហើយ ឲ្យ សាង ព្រះចេតិយ មួយ គិត នឹង យក បន្ទាយសាង ថ្មី នេះ ជា មហា នគរ ។ កំពុងតែ សាង ព្រះចេតិយ ធ្វើ បន្ទាយ នឹង សិត ទូក នោះ កងទ័ព បិសាច ក៏ តាម ទៅ សំដែង ឫទ្ធិ តាំង ហ៊ោឮ សូរ សព្ទ ដូចជា ស្គរ រន្ទះ ទាំង ផែនប្រឹថ ពី ។ ស្ដេច កន ចៅ ហ៊្វា កៅ និង អស់ នាយកងទ័ព មើល មិន ឃើញ ច្បាំង ពុំ កើត ឃើញ ប្លែក អស្ចារ្យ ណាស់ ទ្រាំ ពុំ បាន ក៏ នាំគ្នា រត់ ពី ទីនោះ ទៅ ទៀត ។ ស្ដេច កន សម្ដេច កៅ សម្ដេច ចៅ ពញា ហែង រត់ បែក គ្នា ទៅ ចុង ម្ខាង ឯ អ្នក ម្នាង ជា លែង និង ចក្រីនី រត់ បែក ផ្លូវ ទៅ ទិស ខាងត្បូង ទៅដល់ ភូមិ គោក ស្រុក ហើយ ទី ដែល បែក ផ្លូវ នោះ ជាប់ ហៅ ភូមិ នាង ឃ្វាង ផ្លូវ យារ ៗ មក ហៅ ថា ភូមិ ស៊ាង ឃ្វាង ។ ក្រោយមក អ្នក ម្នាង ជា លែង រត់ ទៅ ទៀត ចូល ព្រៃ លេច វាល គិត ថា ក្រែង ស្ដេច កន តាមរក ខ្លួន ពុំ ឃើញ ក៏ កាត់ សក់ ចង នឹង មែក ឈើ នោះ ប្រាថ្នា ឲ្យ ស្ដេច កន ឃើញ ហើយ តាម រក បានជា ជាប់ ហៅ វាល ចង សក់ ដល់ សព្វ ថ្ងៃ នេះ ។ តមក ទៀត នាង ដើរ ហួស ទៅ ទៀត ត្រូវ ថ្ងៃ ក្ដៅ ណាស់ ខណៈ នោះ មាន សត្វ ខ្លែង មួយ ហ្វូង ចំកាង ស្លាប ហើរ បាំង ពីលើ មិន ឲ្យ ក្ដៅ លុះ មាន គេ ទៅ នៅ ភូមិ នោះ ក៏ ជាប់ ឈ្មោះ ហៅ ថា ភូមិ បង្ហើរ ខ្លែង ។ នាង ដើរ ហួស ទៅ ទៀត ឃើញ ត្រពាំង មួយ ទឹក ថ្លា ល្អ នាង ក៏ ចូលទៅ កក់ ក្បាល នៅ ទីនោះ លុះ មាន គេ ទៅ នៅ ភូមិ បាន ជាប់ ឈ្មោះ ហៅ ថា ភូមិ ស្រែកក់រៀង មក ។ នាង ដើរ ទៅ ទៀត មាន អូរ មួយ នឹង ដើរ ឆ្លង មិន រួច នាង បន់ ដល់ អ្នកតាបង់ បត់ សុំឲ្យ មាន ទូក ឆ្លង ពេល នោះ អ្នកតាបង់ បត់ តំណែង ជា ក្រពើ មួយ ឲ្យ នាង ដើរ ជាន់ ឆ្លង ទៅ ក្រពើ នោះ ប្រែក្លាយទៅជា ក្រពើ ថ្ម រហូតដល់ សព្វ ថ្ងៃ នេះ គេ ហៅ ថា ភូមិភាគ ក្រពើ រៀង មក ។ នាង ដើរ ហួស ទៅ ទៀត រោយ ជើង ដើរ ពុំ រួច អស់ កងទ័ព សុំ ពរ នាង នៅ ទួល នោះ សព្វ ថ្ងៃ នេះ ជាប់ ហៅ ថា ទួល សុំ ពរ ។ លុះ ដើរ ទៅ ទៀត នាង សួស ជា មាតា នាង ជា លែង រោយ ជើង ដើរ មិន រួច ចៅ ពញា ចក្រីនី ឲ្យ យក សំពត់ ធ្វើ អង្រឹង ហើយ យក ដង ផ្គាក់ ធ្វើ ស្នែង សព្វ ថ្ងៃ នេះ ជាប់ ឈ្មោះ ហៅ ថា ព្រែក ដង ផ្គាក់ ។ ត ពី នេះ ទៅ ទៀត ដល់ វាល មួយ អន្លើ ធ្លាក់ ខ្នើយ នាង សួស ពី អង្រឹង បានជា ជាប់ ឈ្មោះ ហៅ ថា វាល ជ្រុះ ខ្នើយ ។ លុះ ទៅដល់ អូរ មួយ អន្លើ ចោល ស្នែង ដែល សែង នាង សួស នោះ ទៅក្នុង អូរ នោះ សព្វ ថ្ងៃ គេ ហៅ ថា អូរ ចោល ស្នែង ។ ក្នុង ស្រុក ត្បូងឃ្មុំ នោះ មាន អុង ម៉ុង ពីរ ( ដូច ដែល យើង បាន ពណ៌នា រួច មកហើយ ក្នុង ដើម នេះ ) អ្នកស្រុក សន្មត ហៅ ថា អុង ម៉ុង ព្រះមហោសថ ។ អុង ម៉ុង តូច នោះ មាន ទំហំ ៧ ហត្ថ បួន ជ្រុង អុង ម៉ុង ធំ នោះ មាន ទំហំ ១៣ ហត្ថ បួន ជ្រុង ។ ទឹក ដែល ហូរ លើ អុង ម៉ុង នោះ ធ្លាក់ ទៅ លើ ព្រែក ឆ្លូង ឆ្ពោះ ត្រង់ ទៅ ស្រុក យួន ។ លុះ ពេល សែង នាង ទៅដល់ អុង ម៉ុង នោះ សំរាក មួយ សន្ទុះ នាង ទៅ ពួន ក្នុង ហោង តូច សព្វ ថ្ងៃ នេះ គេ ហៅ អុង ម៉ុង តូច នោះ ថា ហោង ពល សែង ។ លុះ ឃើញ ថា ស្ងប់ស្ងាត់ គ្មាន កងទ័ព លើក តាម ទេ នាង នាំ បក្សពួក ទៅដល់ ហោង អុង ម៉ុង ធំ នោះ នាង សួស ទាំង កូន និង ម្ដាយ ចូលទៅ ពួន ក្នុង អុង ម៉ុង នោះ សព្វ ថ្ងៃ គេ ហៅ ថា ហោង ពួន ។ ពួក នេះ ហួស ទៅ ខាងកើត បាន ជួបជុំ ព្រះ ស្ដេច កន សម្ដេច កៅ ។ ស្ដេច កន ជំនុំគ្នា នឹង ធ្វើ បន្ទាយ ទៀត តែ ធ្វើ មិន កើត លុះ មាន គេ ទៅ នៅ ភូមិ នោះ ជាប់ ឈ្មោះ ថា ភូមិ ស្រែ បន្ទាយ ។ រត់ ពី នោះ ទៅ ទៀត ដល់ វាល មួយ វែង បណ្ដោយ ទៅ ខាងកើត ក្រោយមក មាន គេ ទៅ នៅ ស្រែ សព្វ ថ្ងៃ នេះ ជាប់ ហៅ ឈ្មោះ ភូមិ ស្រែ វែង ។ រត់ ទៅ ទៀត ច្រឡំ ផ្លូវ លោជា គេច ទៅ ឦសាន ព្រៃ ដែល មក ។ ក្រោយមក មាន គេ ទៅ នៅ សព្វ ថ្ងៃ នេះ ហៅ ថា ភូមិ រលា រៀង មក ។ បក្សពួក ស្ដេច កន នាំគ្នា រត់ ទៅ ទិស ខាងកើត ទៀត ជួប នឹង ស្វាស មួយ ស្វា នោះ ក៏ បេះ ផល្លានុផល ទំលាក់ មក ឲ្យ ក្រោយមក គេ ទៅ រាន ភូមិ នៅ សព្វ ថ្ងៃ នេះ ជាប់ ជា ភូមិ ស្វាស ។ រត់ ទៅ ឯ កើត ទៅទៀត ដល់ ចំការពោត មួយ អន្លើ ម្ចាស់ ចំការ ឈ្មោះ ថៅកែ យក ពោត មក ថ្វាយ ស្ដេច កន ហើយ ស្ដេច កន ឲ្យពរ ថា ឲ្យ រកស៊ី កើត កាល វាល គុម្ព ។ លុះ ក្រោយមក មាន គេ ទៅ នៅ គេ ហៅ ថា ភូមិ ជី កែ រៀង មក ។ រត់ ទៅ ទិស ខាងកើត ស្ដេច នឹង នាង អស់ កំលាំង ណាស់ អស់ ពួក ពល ឃើញ ថ្ម មួយ ដុំ ចាំង ធ្វើជា គ្រែ បណ្ដោយ ៦ ហត្ថ កំពស់ ១ ហត្ថ ទទឹង ៣ ហត្ថ ថ្វាយ ស្ដេច ផ្ទុំ លុះ ក្រោយមក មាន គេ ទៅ រាន ភូមិ នៅ គេ ហៅ ភូមិ ថ្ម គ្រែ ។ ឯ សម្ដេច ចៅ ហ៊្វា កៅ ចៅ ពញា ចក្រីនី ចៅ ពញា វៀង ចៅ ពញា វាំង ៤ នាយ នេះ កាលភ័យ ពេក ក៏ រត់ បែក គ្នា ចូលទៅ ខេត្ត បាភ្នំ មឿង រមាសហែក មាន ស្ម័គ្រ បក្សពួក ២០០ នាក់ ។ វេលា នោះ កងទ័ព នាយ ទាំង ៤ បាន ប្រទះ នឹង ចៅ ពញា សួគ៌ា លោក សុខ កូន ពញា មឿង កងទ័ព ទៅ ដេញ រត់ ទៅ ទៀត ។ ឯ ស្ដេច កន ឃ្លាន បាយ ណាស់ ក៏ ឈប់ ឲ្យ ដាំ បាយ តែ ដាំ ពុំ ទាន់ ឆ្អិន ទ័ព គេ ទៅដល់ ក៏ រត់ ទៅ ចោល បាយ នៅ ទីនោះ ទាំង បាយ ឆៅ ផង ។ លុះ កងទ័ព ចៅពញា សួគ៌ា លោក ទៅដល់ ក៏ យក បាយ ឆៅ នោះ ស៊ី ក្រោយមក ទៀត មាន គេ ទៅ រាន ភូមិ នៅ គេ ហៅ ភូមិ បាយ ឆៅ រៀង មក ។ ឯ នាយកងទ័ព ខ្មាំង ទាំង ៤ នាក់ ឃើញ ត្រឡាច ផ្លែ ក្នុង ព្រៃ ក៏ បបួលគ្នា បេះ ។ កំពុងតែ បេះ នោះ ទ័ព គេ ទៅដល់ ចាក់ កាប់ សំលាប់ ចៅ ពញា វៀង ចៅ ពញា វាំង ហើយ ទ័ព ដែល នៅសល់ ក៏ បែក រត់ ទៅ ទៀត ។ ក្រោយ ដែល បេះ ត្រឡាច នោះ មក មាន គេ ទៅ នៅ ក៏ ជាប់ ហៅ ថា ភូមិ ត្រឡាច រៀង មក ។ ឯ សម្ដេច ចៅ ហ៊្វា កៅ និង ចក្រី នី នាំស្ម័គ្រ បក្សពួក រត់ ទៅដល់ ព្រៃ មួយ អន្លើ មាន ទឹក ត្រពាំង ល្មម ពេល ដាំ បាយ ស្ល ស៊ី ក៏ ឈប់ កាប់ ត្រី ធ្វើ ម្ហូប ។ លុះ កងទ័ព គេ ទៅដល់ សម្ដេច ចៅ ហ៊្វា កៅ ចៅ ពញា ចក្រីនី ប្រថុយ ជីវិត ចូលមក តដៃ ក៏ កំពប់ ត្រី ពី ចាន បានជា ជាប់ ហៅ ថា ភូមិ ចាន ត្រី រៀង មក ។ ឯ ចៅ ហ៊្វា កៅ ចក្រីនី នាំ ស្ម័គ្រ បក្សពួក រត់ ទៅ ទៀត ចៅ ពញា សួគ៌ា លោក ក៏ ដេញ តាម ទៅ បន្ដិច ចៅ ពញា តេជោ លើក ទ័ព ទៅដល់ ក៏ ចូល ប្រកាប់ គ្នា ចក្រីនី នឹង ចៅ ពញា សួគ៌ា លោក សម្ដេច កៅត នឹង ចៅ ពញា តេជោ អ្នក ទាំងនោះ ស្ទាត់ ក្នុង ការកាន់ អាវុធ ចិត្ដ មុត ដូចគ្នា ។ ប្រយុទ្ធ គ្នា ពី ថ្ងៃត្រង់ ដល់ រសៀល បិសាច ពញា មឿង បណ្ដាលឲ្យ ចៅ ហ៊្វា កៅ ចក្រីនី ឮ សូរ ដូច គេ ស្រែក សន្ធាប់ នាំឲ្យ ធ្លាក់ អាវុធ ពី ដៃ ។ ខណៈ នោះ ចៅ ពញា សួគ៌ា លោក ចៅ ពញា តេជោ សំលាប់ បាន ហើយ កាត់ ក្បាល នាំមក ថ្វាយ សម្ដេច ព្រះភគិនេយ្យាយស រាជ ជា កែវ នាយក ទ្រង់ ព្រះអំណរ ណាស់ ទ្រង់ ប្រោសរង្វាន់ តាម សម គួរ ។ \n",
              "  < / doc >,xxbos \n",
              "  ឃុំ សំរោង លើ ( ខេត្ត កំពត ) \n",
              "  ឃុំ សំរោង xxunk គឺជា ឃុំ មួយ ដែល ស្ថិត នៅ \n",
              "  ក្នុង ស្រុក បន្ទាយមាស ខេត្ត កំពត ។ ហើយ ឃុំ នេះ មាន វត្ត ចំនួន ៤ ដូច ជា៖ - វត្ត បរិវាស - វត្ត ដំបូក ខ្ពស់ - វត្ត ដំណាក់ ត្រយឹង - វត្ត xxunk ។ ឃុំ នេះ មាន ប្រជាជន រស់ នៅ ច្រើន កុះករ ប្រជាជន ភាគ ច្រើន ប្រកបរបរ កសិកម្ម សំរាប់ ចិញ្ជឹម ជីវិត ។ បើ មើល កាលពី ឆ្នាំ ២០០០ មនុស្ស ភាគ ច្រើន ជា អ្នកក្រីក្រ ដោយសារតែ ពុំ ទាន់ មាន ចំនេះ ដឹង គ្រប់គ្រាន់ ក្នុង ការប្រកបរបរ ចិញ្ជឹម ជីវិត ។ មនុស្ស មួយចំនួន ធ្វើ ស្រែ មិន ចេះ មើល ថែ ដំនាំ ដី មិន មាន ជីជាតិ គ្រប់គ្រាន់ គ្មាន ការច្នៃប្រឌិត ធ្វើ កសិកម្ម តាម ហេតុ តាម កាល ដូច ច្នេះ ទើប ធ្វើអោយ xxunk ភាព ពួកគេ មិន រីកចំរើន បែប នេះ ។ ណាមួយ ប្រជាជន ភាគ ច្រើន រងគ្រោះថ្នាក់ យ៉ាង ខ្លាំង ដោយសារតែ មិន មាន មណ្ឌល សុខភាព នៅជិត ផ្ទះ ។ យ៉ាងណាមិញ មនុស្ស មួយចំនួន ធំ បាន ចេញ ពី ស្រុក កំណើត ទៅ រក ការងារ ធ្វើ នៅ ប្រទេស ផ្សេង ៗ ដូច ជា៖ ប្រទេស ថៃ ប្រទេស ម៉ាលេស៊ី ជាដើម ។ ហើយ មាន ការជិះ ជាន់ យ៉ាង ខ្លាំង ពីសំណាក់ ជន បរទេស មក លើ ប្រជាជន ខ្មែរ ។ ប៉ុន្តែ បើ ក្រលេក មើល បច្ចុប្បន្ន នេះ វិញ មនុស្ស ភាគ ច្រើន មាន ចំនេះ ដឹង ខ្ពង់ខ្ពស់ យល់ដឹង ច្រើន ពី សង្គម និង មាន ការទំនាក់ទំនង គ្នា យ៉ាង ជិតស្និត មិន ថា តែ ជនជាតិ ដទៃ ឬ ជនជាតិ ខ្លួន ។ ព្រមទាំ ស្គាល់ ពី xxunk ខាងក្រៅ ច្រើន ហើយ ពួកគេ យក ចំនេះ ដឹង ដែល គេ បាន សិក្សា ពី សាលា និង ចំនេះ ដឹង ផ្សេង មក ធ្វើ ការងារ នៅក្នុង ស្រុក និង ក្នុង ប្រទេស របស់ ខ្លួន ។ មិន តែ ប៉ុន្នោះ ការធ្វើ ការងារ នៅក្នុង ប្រទេស របស់ ខ្លួន គឺ គ្មាន ការជិះ ជាន់ ពីសំណាក់ ជន បរទេស ព្រមទាំង រក ប្រាក់ ចំនូល បាន ច្រើន សំរាប់ ជួយ ផ្គត់ផ្គង់ គ្រួសារ របស់ ពួកគេ ។ \n",
              "  រួមមាន ចំនួន ៦ គឺ ៖ \n",
              "  ភូមិ បរិវា ស៖ គឺជា ភូមិ មួយ នៅក្នុង ឃុំ សំរោង លើ ព្រមទាំង មាន មនុស្ស រស់ នៅ ច្រើន កុះករ ហើយ មនុស្ស ភាគ ច្រើន ប្រកប មុខរបរ កសិកម្ម ដូច ជា៖ ( ធ្វើ ស្រែ ចំការ ដាំ ដំនាំ បន្ទប់ បន្សំ ផ្សេង ៗ ទៀត ) ។ ហើយ កាលពី ឆ្នាំ ( ២០០២ ) មនុស្ស នៅ ភូមិ នេះ ភាគ ច្រើន ធ្វើ ស្រែ ដោយ ប្រើ គោ សំរាប់ ភ្ជួរ ស្រែ មួយចំនួន តូច ទៀត ប្រើ ក្របី សំរាប់ ភ្ជួរ រាស់ ។ សំរាប់ បច្ចុប្បន្ន នេះ មនុស្ស ភាគ ច្រើន មាន ជីវភាពធូធារ ជាង មុន ច្រើន ណាស់ ដោយសារតែ មនុស្ស ភាគ ច្រើន យល់ដឹង ពី របៀប នៃ ការប្រកបរបរ ចិញ្ជឹម ជីវិត ដូច ជា៖ អ្នក ខ្លះ ដំា xxunk បន្លែ ( ស្ពៃ ត្រលាច ត្រសក់ ខ្ទឹម ស្លឹក ពោត ល្ពៅ ជាដើម ។ ហើយ បន្លែ ទំាង នេះ ពួកគេ យក ទៅ ដាក់ លក់ នៅលើ ទីផ្សារ បាន តម្លៃ ខ្ពស់ សមរម្យ ដែល អាច ទទួលយក បាន ដោយសារតែ បន្លែ ទាំងនេះ មិន មាន ជាតិ គីមី ច្រើន ទើប ឈ្មួញ ទាំងនោះ ចូលចិត្ត ទិញ យក ទៅ លក់ បន្ត សំរាប់ xxunk បាន រើក ចំរើន ដួច គ្នា ។ ហើយ ក្នុង ភូមិ នេះ ភាគ ច្រើន គេ លក់ xxunk ចាប់ ហួយ ផ្សេង ៗ និង អ្នក ខ្លះ លក់ បបរ ប xxunk ព្រមទាំង របស់ ញុំ ជាច្រើន ទៀត ដើម្បើ យក ប្រាក់ កំរៃ ដែល បាន ចំនេញ នោះ មក ផ្គត់ផ្គង់ គ្រួសារ របស់ ពួកគេ ។ យ៉ាងណាមិញ xxunk នេះ មនុស្ស មួយចំនួន ធំ ក្នុង ភូមិ ភាគ ច្រើន ធ្វើ ស្រែ ចំការ ដោយ ប្រើ គោ សំរាប់ ភ្ជួរ រាស់ ស្រែ ចំការ តែ មួយចំនួន តូច ប្រើ xxunk xxunk រាស់ ស្រែ ចំការ របស់ ពួកគេ ។ សំរាប់ ក្មេង ៗ វិញ ពេលល្ងាច ទ្បើង ជិះ កង់ ដើរលេង មក ក្បែរ តូប អ្នកលក់ដូរ ហើយ ពួកគេ xxunk ខ្លាំង ណាស់ \n",
              "  ភូមិ ដំណាក់ ត្រយឹង ៖ គឺជា ភូមិ មួយ ស្ថិត ក្នុង ឃុំ សំរោង លើ នៃ ខេត្ត កំពត ។ ភូមិ នេះ មាន មនុស្ស រស់ នៅ ច្រើន កុះករ ហើយ ប្រជាជន ភាគ ច្រើន ប្រកប មុខរបរ ធ្វើ ស្រែ ចំការ សំរាប់ ចិញ្ជឹម ជីវិត របស់ ពួកគេ ។ ក្នុង ការធ្វើ ស្រែ នេះ ផងដែរ ពួកគេ ប្រើប្រាស់ គោ សំរាប់ ភ្ជួរ រាស់ ។ ហើយ កសិករ ភាគ ច្រើន នៅក្នុង ភូមិ នេះ ធ្វើ ស្រែ ដោយ ពឹងផ្អែក ទៅលើ ទឹកភ្លៀង ។ បើ កាលពី ឆ្នាំ ២០០៣ វិញ ជីវភាព របស់ ពួកគេ ដុន ដាប ចុះ ខ្លាំង ព្រោះថា ទឹកភ្លៀង ក្នុង ឆ្នាំ នោះ មិន សូវ អំណោយផល បាន ល្អ ។ យ៉ាងណាមិញ ឆ្នាំ នោះ ផងដែរ ការធ្វើ ស្រែ ពី ដំបូង ភ្លៀង បាន អំណោយផល ល្អ ណាស់ ប៉ុន្តែ លុះ ដល់ ពាក់កណ្តាល ខែ បែរជា មាន ភាពរាំងស្ងួត បណ្ដាលអោយ ស្កក ( ស្រូវ មិន ដាក់ គ្រាប់ ) ជាច្រើន មិន តែ ប៉ុន នោះ សូម្បីតែ ដំនាំ ដែល ពួកគេ ដំា បន្តិច បន្ទួច សំរាប់ ចិញ្ជឹម ជីវិត ក៏ ត្រូវ ខូចខាត ផងដែរ ។ ណាមួយ ផ្សារ នៅ ឆ្ងាយ ប្រសិនបើ គេ ចង់ ទៅ ផ្សារ គឺ ត្រូវ ចំនាយ ពេល យូរ ផងដែរ ។ ហើយ ប្រជាជន ក្នុង ភូមិ នេះ ពេល ទៅ ទិញ របស់របរ ប្រើប្រាស់ មួយចំនួន ទាល់តែ ធ្វើដំណើរ ទៅ ផ្សារ តូច នៅក្បែរ ភូមិ នោះ មាន ឈ្មោះ ថា ផ្សារ xxunk ។ ហើយ ក្នុង ផ្សារ នេះ មាន លក់ របស់របរ ប្រើប្រាស់ សំរាប់ ផ្គត់ផ្គង់ តំរូវការ របស់ បងប្អូន ប្រជាពលរដ្ឋ យើង ផងដែរ ។ ចំនែក បច្ចុប្បន្ន នេះ វិញ ជីវភាព របស់ ពួកគេ បាន រីកចំរើន ជាង មុន ច្រើន ដោយសារតែ បាន xxunk ពី ទឹកភ្លៀង បាន ល្អ ហើយ មនុស្ស មួយចំនួន មាន គំនិត ច្នៃប្រឌិត ច្រើន និង មាន ចំនេះ ដឹង ខ្ពង់ខ្ពស់ ចេះ កែច្នៃ រក វិធីសាស្ដ្រ ដែល ថ្មី សំរាប់ xxunk គ្រួសារ របស់ ពួកគេ ។ មិន តែ ប៉ុន្នោះ មនុស្ស នៅក្នុង ភូមិ នេះ មួយចំនួន បន្ទាប់ពី ធ្វើ ស្រែ រួច គេ ចេះ ធ្វើ ក្អម ឆ្នាំង ដី និង xxunk ដី ទៀតផង ។ ក្នុង នោះ ផងដែរ ក៏ មាន ការប្រកប មុខរបរ ដ៏ទៃ ទៀត ដូច ជា៖ ដំា ដំណាំ ផ្សេង ៗ រួមមាន ពោត សណ្ដែក ល្ពៅ និង លក់ វ៉ាន់ ចាប់ ហួយ មួយចំនួន សំរាប់ ផ្គត់ផ្គង់ គ្រួសារ របស់ ពួកគេ អោយ មាន ភាព រើក ចំរើន មួយ កំរិត ទៀត នូវ ពេល ទំនេរ ពី ការធ្វើ ស្រែ ចំការ ។ \n",
              "  < / doc >,xxbos \n",
              "  ភូមិសាស្ត្រ \n",
              "  ភូមិសាស្ត្រ ឬ ភូមិ វិទ្យា គឺ សិក្សា អំពី ផែនដី ។ វិទ្យាសាស្ត្រ នេះ បង្រៀន លក្ខណៈ ស្ទង់ មហាសមុទ្រ ជួរ ភ្នំ ។ល ។ ក៏ រៀន ផងដែរ អំពី ប្រជាជន នៅ ដី មួយ ( ប្រជាពលរដ្ឋ ) និង គូរ ផែនទី ។ \n",
              "  តាម វិគីភីឌា បារាំង ភូមិ វិទ្យា គឺជា ការសិក្សា អំពី ភូមិសាស្ត្រ លើ ផែនដី ជាពិសេស សិក្សា អំពី ផ្ទៃ នៃ ផែនដី ។ តាម ជន ជាតិ ក្រិក នេះ គឺជា ការពណ៌នា មួយ យ៉ាង ត្រឹមត្រូវ បំផុត អំពី ផែនដី ។ វា ជា វិទ្យា \n",
              "  សាស្ត្រ មួយ ដែល ឆ្លើយតប នឹង របកគំហើញ ថ្មី និង សំដៅ កំណត់ នយោបាយ ទន្ទ្រាន កាន់កាប់ ទឹកដី ដែល មាន ប្រយោជន៍ ។ ស្ត្រា បុង ( xxmaj xxunk ) ភូមិ វិទូ ជនជាតិ ក្រិក អំឡុង ឆ្នាំ ៥៧ ម . គ.ស. បាន និយាយ ថា ភូមិ វិទ្យា ជា xxunk សំរាប់ បង្ហាត់ បង្រៀន អ្នក ដែល ចង់ មាន សិទ្ធិ សំរេច ។ \n",
              "  បួន ទំលាប់ ជា ប្រវត្តិសាស្រ្ត ក្នុង ការស្រាវជ្រាវ ភូមិ វិទ្យា គឺ ការវិភាគ លំហ នៃ បាតុភូត ធម្មជាតិ និង មនុស្សជាតិ ( ភូមិ វិទ្យា ប្រៀប ដូច នឹង ការសិក្សា នៃ របាយ ) , បណ្តា ការសិក្សា បរិវេណ ( បណ្តា ទីកន្លែង និង បណ្តា តំបន់ ) , សិក្សា ទំនាក់ទំនង ធរណី - មនុស្ស , និង ស្រាវជ្រាវ ក្នុង វិទ្យាសាស្ត្រ ផែនដី ។ ទោះជា យ៉ាងណា ក្តី ភូមិ វិទ្យា ទំនើប ជា វិធាន ប្រមូលផ្តុំ គ្រប់ វិទ្យាសាស្ត្រ ក្នុង គោលដៅ ស្វែងយល់ ពិភពលោក និង រាល់ ស្មុគ្រស្មាញ ធម្មជាតិ មនុស្សជាតិ របស់ ពិភពលោក ដោយ ហេតុ ថា ជា ស្ពាន រវាង វិទ្យាសាស្ត្រ មនុស្ស និង វិទ្យាសាស្ត្រ រូប និយម , ភូមិ វិទ្យា ត្រូវបាន ចែកចេញ ជា បី មែក ធាង ចំបង គឺ \n",
              "  អាច និយាយ ថា ភូមិ វិទ្យា ជា \" មាតា នៃ គ្រប់ វិទ្យាសាស្ត្រ \" និង ជា \" ជន សំយោគ ចំណេះដឹង \" \n",
              "  បណ្តា ភូមិ វិទូ នៃ សម័យ ទំនើប តែងតែ ចោទ សំណួរ ចំបង ៗ ចំនួន 4 កាលបើ គេ ទាំងអស់ គ្នា និយាយ ដល់ ផែនដី ៖ \n",
              "  បណ្តា ធនធាន ធម្មជាតិ \n",
              "  ជា ការពិត ណាស់ ការវិភាគ ភូមិ វិទ្យា គ្រប់ ជ្រុងជ្រោយ មួយ ទាមទារ អោយ មាន សំណួរ ហូរហៀរ បន្ថែម ទៀត ដូចជា ( ហេតុ អ្វី ( why ) ? - កម្មវត្ថុ ទាំងឡាយ នៃ បណ្តា បុគ្គល / បណ្តា សង្គម ; យ៉ាង មេច ( how ) ? - បណ្តា ទំនាក់ទំនង នៃ អំណាច ក្នុង លំហ ; ទៅដល់ ណា ? ( until where ) - បណ្តា កំរិត ព្រំដែន , xxunk , បណ្តា កំរិត កំណត់ ... ) \n",
              "  ភូមិ វិទ្យា ដែល ពាក្យ អង់គ្លេស ប្រែ ថា xxmaj xxunk ។ xxmaj xxunk ( ដែល គួបផ្សំ ដោយ បណ្តា ពាក្យ ក្រិក xxmaj xxunk ( xxunk ) ឬ xxmaj xxunk ( xxunk ) មាន ន័យ ថា \" ផែនដី \" ; និង ពាក្យ xxunk ) មាន ន័យ ថា \" បរិយាយ \" ឬ \" សរសេរ \" ឬ \" គូរ ផែនទី \") ជា ការសិក្សា អំពី ផែនដី និង កត្តា ពិសេស របស់ វា ព្រមទាំង សិក្សា អំពី រ បាយ នៃ ជីវិត នៅលើ ផែនដី ។ បើ បកប្រែ តាមន័យ ត្រង់ , ភូមិ វិទ្យា មាន ន័យ ថា \" អធិប្បាយ ផែនដី \" ។ អ្នក ដែល ប្រើ ពាក្យ ភូមិសាស្ត្រ ( xxunk ) មុន គេ បង្អស់ គឺ លោក xxmaj xxunk ( ២៧៥ - ១៩៥ ម . គ. ស. ) នៅ ប្រទេស ក្រិក ។ \n",
              "  xxmaj xxunk ( ២៧៥ - ១៩៥ ម . គ. ស. ) គឺជា មនុស្ស ដំបូង ដែល ប្រើ ភូមិសាស្រ្ត នៅ ប្រទេស ក្រិក ។ គេ ឲ្យ ឈោ្មះ « xxunk » ( xxunk ) ។ ប្រជាជន ក្រិក គឺជា មនុស្ស ដំបូង ដែល ធើ្វ ផែនទី ។ \n",
              "  ប៉ុនែ្ត មនុស្ស ទាំងអស់ បាន គឹត ថា ផែនដី គឺជា xxunk ។ ប្រហែល ប្រជាជន ក្រិក បាន ដិង មុន គេ ។ មាន មនុស្ស ខ្លះ នៅ ប្រទេស នោះ ដែល បាន ដឹង ។ \n",
              "  មាន ពីរ ចំណែក : \n",
              "  ផែនដី មាន : \n",
              "  ភូមិសាស្រ្ត របស់ ផែនដី មាន ដែរ \n",
              "  ប្រជាជន នៅ ដី មួយ ។ \n",
              "  នៅ ផែនដី មាន ៧ ទ្វីប ។ ៥ មាន មនុស្ស រស់ នៅ និង ២ មិន មាន មនុស្ស រស់ នៅ ។ \n",
              "  ភូមិ វិទ្យា រូប និយម សិក្សា អំពី វិទ្យាសាស្ត្រ ផែនដី ។ វា មាន គោលដៅ ស្វែងយល់ លក្ខណះ រូបធាតុ នៃ ផែនដី ព្រមទាំង ស្រទាប់ xxunk , ស្រទាប់ xxunk xxunk , ស្រទាប់ xxunk ខ្យល់អាកាស , ស្រទាប់ xxunk និង ស្រទាប់ xxunk ប៊ី យូ ។ ភូមិ វិទ្យា រូប និយម ត្រូវបាន ចែកចេញ ជាច្រើន ផ្នែក ធំ ទូលាយ ដូច ជា៖ \n",
              "  ភូមិ វិទ្យា មនុស្ស ជា មែក ធាង មួយ នៃ ភូមិ វិទ្យា ដែល ផ្តោត ទៅលើ ប្រព័ន្ធ សិក្សា នៃ បណ្តា លំនាំ និង បណ្តា វិធី ដើម្បី សំលៀង អន្តរកម្ម របស់ មនុស្ស ជាមួយនិង xxunk ន ដោយ យោង ទៅលើ បណ្តា ហេតុ និង ផល ពិសេស នៃ សកម្មភាព មនុស្ស ក្នុង របាយ លំហ លើ ផ្ទៃ នៃ ផែនដី ។ ភូមិ វិទ្យា ត្រូវបាន ប្រមូលផ្តុំ ទៅ លើ សំណួរ ថា \" នៅ ទីណា \" , រីឯ ភូមិ វិទ្យា មនុស្ស ទោះជា យ៉ាងណា ក្តី ក៏ ផ្តោត លើ ចំលើយ ថា \" ហេតុម្តេច \" នៃ \" នៅ ទីណា \" ។ \n",
              "  ភូមិ វិទ្យា មនុស្ស សំដៅ បណ្តា ទិដ្ឋភាព មនុស្ស , នយោបាយ , វប្បធម៌ , សង្គម , និង សេដ្ឋកិច្ច ។ ខណះ ពេល ដែល បញ្ហា ចំបង នៃ xxunk មនុស្ស មិន មែន ជា ទេសភាព រូប និយម នៃ ផែនដី ( មើល ភូមិ វិទ្យា រូប និយម ) , វា ជា ការពិបាក នឹង អាច ប្រព្រឹត្តទៅ បាន ដើម្បី ពិភាក្សា ភូមិ វិទ្យា មនុស្ស ដោយ មិន យោង ទៅ លើ ស្ថានភាព xxunk ដែល ពោរពេញ ដោយ បណ្តា សកម្មភាព មនុស្ស ហើយ ដែល ភូមិ វិទ្យា xxunk ន កំពុង លេចធ្លោ ដែល ជា ទំនាក់ទំនង ជាមួយ ភូមិ វិទ្យា មនុស្ស និង ភូមិ វិទ្យា xxunk ។ ភូមិ វិទ្យា មនុស្ស ត្រូវបាន ចែក ជាច្រើន ផ្នែក ធំ ទូលាយ , ដូចជា ៖ \n",
              "  wikipedia អង់គ្លេស \n",
              "  < / doc >,xxbos \n",
              "  រតន មាលី \n",
              "  ព្រះអង្គ រតន មាលី រជ្ជកាល ស្រី ធម្មរាជា ទី ១ ទ្រង់ ជា បុត្រី នៃ ព្រះបាទ ធម្មរាជា ទី ១ ។ \n",
              "  សម័យ ថ្ងៃ មួយ នោះ ព្រះអង្គ រតន មាលី ព្រះរាជ បុត្រី នៃ សម្ដេច xxunk ធម្មរាជា ទ្រង់ ភ្នក ព្រះទ័យ ចង់ ទៅ ស្រង់ ទឹក ទន្លេ ធំ ឲ្យដឹង ស្គាល់ ជាតិ ។ លុះ ទ្រង់ ព្រះចិន្តា ដូច្នោះហើយ xxunk ក៏ ក្រាប ថ្វាយបង្គំ លា សម្ដេច ព្រះវរ រាជ មាតាបិតា ទៅ ក្រសាល តាម សព្វ ព្រះទ័យ ។ ព្រះវរ រាជ មាតាបិតា ក៏ យល់ព្រម ហើយ ស្ដេច ព្រះរាជ ដំណើរ ទៅ ជាមួយ ដែរ ។ ក្នុង គ្រា នោះ ច្រាំង ទន្លេ ធំ នៅ ទី កំពង់ចាម ដុះ ខ្សាច់ xxunk ល្អ ព្រះនាង និង អស់ បរិវា រ ចុះ ស្រង់ ក្នុង ទឹក ទន្លេ នោះ យ៉ាង ក្សេមក្សាន្ត ។ នេះ នឹង និយាយ ពី ក្រពើ មួយ នៅ ព្រែក ឆ្លូង ថា ក្រពើ នោះ មាន ក្បាល ៥ ហត្ថ សាហាវ ហាន ក្លា ក្រឡា ខ្លួន បាន ។ ថ្ងៃ នោះ វា ចេញ អំពី ព្រែក ឆ្លូង ហែល នាំ បរិវារ ទៅ លេង ទី នានា តាម សព្វ ដង រៀង មក ។ ក្នុង គ្រា នោះ ក្រពើ ក្រឡេក ឃើញ ព្រះរាជ បុត្រី ព្រះរតន មាលី នៅក្នុង កណ្ដាល ហ្វូង ស្ត្រី ក៏ មាន ចិត្ត មេត្រី ចង់ ព្រះនាង ជា ភរិយា ទើប វា វាយ កន្ទុយ រលក បោក គ្រាំ គ្រេង ។ អស់ ស្ត្រី ជាបរិវា រ ភិតភ័យ ទាំង ព្រះអង្គ រតន មាលី រត់ ឡើង គោក ទាំងអស់ គ្នា ។ ខណៈ នោះ ក្រពើ នោះ ស្ទុះ ចូលមក ខាំ ពាំយក ព្រះនាង រតន មាលី បាន ហើយ ក៏ ពាំនាំ តំរង់ ទៅកាន់ កន្លែង របស់ វា ។ អស់ ពួក ខ្ញុំ រាជការ ទាំង ប្រុស ទាំង ស្រី ឃើញ ហើយ ភិតភ័យ ក៏ ស្រែក កញ្ជ្រោល រោល រាល ជាខ្លាំង ។ សេចក្ដី នេះ ជ្រាប ដល់ ព្រះវរ រាជ មាតាបិតា ស្ដេច ទ្រង់ សោកស្ដាយ ព្រះរាជ បុត្រី ណាស់ ទ្រង់ ឲ្យ xxunk នាវា ដេញ តាម ក្រពើ នោះ ។ ទាហាន ខ្លះ ក៏ បាញ់ កាំភ្លើង បង្អើល ដើម្បីឲ្យ ក្រពើ នោះ លែង ចោល ព្រះនាង មកវិញ ខ្លះ ក៏ បោះ បាញ់ ច្បូក ធ្នូ ស្នា ដោយ ប្រការ ផ្សេង ៗ ។ ឯ ក្រពើ នោះ កាល ឮ សន្ធឹក កាំភ្លើង បាញ់ ដេញ តាម ប្រកិត យ៉ាង ជិត ខ្លាំង ពេក នឹង រក ពេល គេចវេះ ដោះ ខ្លួន យក ព្រះនាង ធ្វើជា ភរិយា ពុំ បាន ក៏ លេប ព្រះនាង ចូល ទៅក្នុង ពោះ ហើយ ស្ទុះ ហែល ចូល ទៅក្នុង ព្រែក ឆ្លូង តាម ទី កន្លែង របស់ វា ។ \n",
              "  ឯ ព្រះបរម បពិត្រ ដែល ទ្រង់ លើក ព្យុហៈ នាវា តាម ទៅ នោះ លុះ ទៅដល់ ព្រែក ឆ្លូង ហើយ ទ្រង់ ត្រាស់ បង្គាប់ ឲ្យ ហ្ម ចូល ទាក់ ក្រពើ នោះ លុះត្រាតែ បាន យកមក វះ ពោះ យក សព ព្រះរាជ បុត្រី មក ធ្វើ ព្រះមេរុ បូជា ព្រះសព ។ កាល សូរេច បុណ្យ ស្ដេច ទ្រង់ យក គ្រឿង សង្វារ កងកន់ និង ព្រះពាន មាស ទាំង ប៉ុន្មាន មក កសាង ជា ព្រះពុទ្ធរូប មាស ៥ អង្គ ប្រាក់ ៥ អង្គ សំរឹទ្ធិ ៥ អង្គ ទង់ ហ៊្វា ៥ អង្គ ទង់ដែង ( ស្ពាន់ ) ៥ អង្គ ។ ព្រះអង្គ ឲ្យ សាង ចេតិយ តំកល់ ព្រះអដ្ឋិ ព្រះរាជ បុត្រី នៅ ទីនោះ ។ ទ្រង់ ឲ្យ សាង ព្រះវិហារ មួយ នៅ មាត់ ព្រែក ឆ្លូង នោះ មាន សសរ មួយ រយ ប្លាយ ហើយ យក សុទ្ធសឹងតែ ខ្មោច ព្រាយ ទ្រាប បាត សសរ ទាំង មួយ រយ នោះ បញ្ចុះ xxunk ( មកពី ពាក្យ សំស្ក្រឹត xxunk ប្រើ ជា ឈ្មោះ មន្តអាគម ពួក មួយ សំរាប់ សូត សែក ហៅ ឬ បណ្ដេញ ភូត បី សាច ជាដើម និង ពិធី បញ្ចុះ គោលចារឹក សន្មត ថា ជា ជ័យ ភូមិ ) ឲ្យ ពូកែ ។ ដោយ ហេតុ ថា ព្រះអង្គ ក្រោធ នឹង អស់ មន្ត្រី ខ្ញុំ រាជការ ពុំ ជួយ ថែទាំ រក្សា បានជា ព្រះរាជ បុត្រី ថ្លោះ ការ ទាំង ម៉្លេះ ទើប សម្ដេច ព្រះបរម បពិត្រ ស្ដេច ដាក់ ទំនាយ ថា : បើ មន្ត្រី ណា ដើរ កាត់ មុខ ព្រះវិហារ កូន អញ ឲ្យ មន្ត្រី នោះ អន្តរាយ ។ ហេតុ នេះ ហើយ បានជា ព្រះវិហារ វត្ត នោះ នា ម៉ឺន ដើរ កាត់ មុខ ពុំ បាន ។ សម្ដេច ស្ដេច សាង ស្រេច ហើយ ស្ដេច ធ្វើ សង្គាយ នា ឆ្លង ព្រះវិហារ វត្ត នោះ ។ ព្រះអង្គ បង្វែរ ខ្ញុំ ប្រុស ២១ នាក់ ខ្ញុំ ស្រី ២១ នាក់ រទេះ គោ ២១ នឹម រទេះ ក្របី ២១ នឹម ស្រែ ២១ ភូមិ ២១ សេះ ២១ ដំរី ២១ ជា ដង្វាយ ព្រះស្រី រតនត្រ័យ ឲ្យបាន កុសល នោះ ចំរើន ដល់ ព្រះរាជ បុត្រី ។ លុះ សំរេច ព្រះរាជ ពិធី បុណ្យ នេះ ហើយ ព្រះអង្គ នាំ រាជ សេវកាមាត្យ ត្រឡប់ ចូលមក ក្រុង ចតុម្មុខ វិញ ។ \n",
              "  រឿង ខាងលើ ប្រហែលជា រឿង នាំឱ្យ មាន ជា រឿង ក្រពើ អាធន ( ប្រជុំ រឿង ព្រេង ខ្មែរ ) និង រឿង ក្រៃ ថោង និង ក្រពើ xxunk ។ \n",
              "  < / doc >,xxbos \n",
              "  ពន្លឺ នាវា ត្រៃលក្ខណ៍ វគ្គ ទី ២ \n",
              "  កាលបើ ព្រះយោគាវ ចរ មាន បំណង នឹង ចំរើន នូវ វិបស្សនា នោះ គប្បី ឲ្យដឹង អត្ថ នៃ វិបស្សនា ភាវនា ដូច្នេះ ថាៈ \n",
              "  បុគ្គល អ្នកធ្វើ វិបស្សនា បញ្ញា ដែល ខ្លួន ឃើញ ក្នុង អារម្មណ៍ ហើយ មាន ក្នុង ចិត្ត ដោយ ចេតនា ណា ចេតនា នោះ ឈ្មោះ ថា វិបស្សនា ភាវនា ។ ក៏ ឯ វិបស្សនា ភាវនា នេះ \n",
              "  ព្រះយោគាវ ចរ នឹង ចំរើន គប្បី សិក្សា ឲ្យដឹង ច្បាស់ នូវ ធម៌ ៣ ប្រការ ជាមុន សិន គឺៈ \n",
              "  សង្ខារ ធម៌ ដែល បច្ច័យប្រជុំ តាក់តែង ឡើង គឺ xxunk : ដែល នាម ធម៌ អាស្រ័យ និង xxunk : ដែល នាម ធម៌ មិន អាស្រ័យ ឬ ថា នាម និង រូប ដែល ចែកចេញ \n",
              "  ទៅ ដោយ ប្រការ ផ្សេង ៗ មាន ខន្ធ ៥ អាយតន : ១២ ធាតុ ១៨ ឥន្រ្ទីយ ២២ ជាដើម ទាំងអស់ នេះ គឺជា ភូមិ ជា អារម្មណ៍ របស់ វិបស្សនា ។ អ្នក ដែល ចំរើន វិបស្សនា នោះ \n",
              "  ត្រូវ រៀន ធម៌ ដែល ជា ភូមិ ជា អារម្មណ៍ របស់ វិបស្សនា នោះ ឲ្យដឹង ច្បាស់លាស់ ជាមុន ហើយ គប្បី សាកសួរ លោក អ្នក ចេះដឹង នូវ អត្ថ និង ធម៌ ឲ្យដឹង សេចក្តី ពិតប្រាកដ \n",
              "  ចំណាន ល្អ ទើប គួរ នឹង ចំរើន វិបស្សនា បាន ។ \n",
              "  សីល វិសុទ្ធិ សេចក្តីបរិសុទ្ធ នៃ សីល ១ ចិត្តវិសុទ្ធិ សេចក្តីបរិសុទ្ធ នៃ ចិត្ត គឺ ឧបចារសមាធិ និង អប្បនាសមាធិ ១ វិសុទ្ធិ ទាំង ២ នេះ ឯង ជា ឬ សគល់ ជា ហេតុ កើតឡើង \n",
              "  តាំង នៅ របស់ វិបស្សនា ។ អ្នក ដែល នឹង ចំរើន នោះ ត្រូវ ប្រតិបត្តិ ឲ្យ ជា អ្នក មាន សីល បរិសុទ្ធ និង ចិត្ត បរិសុទ្ធ ដោយ សមាធិ ជាមុន ទើប គួរ នឹង ចំរើន វិបស្សនា បាន ។ \n",
              "  បើ ជា អ្នក មាន សីល មិន បរិសុទ្ធ មិន មាន សមាធិ ចិត្ត រាយ មាយ ហើយ ក៏ ជា xxunk មិន គួរ នឹង ចំរើន វិបស្សនា នោះ បាន ឡើយ ។ ព្រោះថា សីល និង សមាធិ ជា កម្លាំង \n",
              "  ឲ្យ កើត វិបស្សនា ។ \n",
              "  និង សភាវ : មិន វង្វេង ទៅ តាម សម្មតិ លោក វោហារ ថា ជា សត្វ ខ្លួន ប្រាណ យើង គេ ឡើយ ដែល ជា xxunk វិសុទ្ធិ ។ ទាំង ជា ហេតុ និង ជាបច្ច័យ កន្លង កង្ខា ក្នុង កាល ទាំង ៣ ចេញ បាន គឺ មិន សង្ស័យ ថា យើង ច្យុត មកពី ទីណា ? យើង ជា អ្វី ? យើង នឹង ទៅ កើត ក្នុង ទីណា ? ទេវបុត្រ ទេវតា មាន ឬ មិន មាន ? ដែល ជា xxunk រណវិសុទ្ធិ ។ វិបស្សនា ញាណ ទាំង ៩ មាន xxunk ញាណ ជាដើម មាន អនុលោម ញាណ ជា ទីបំផុត ឈ្មោះ ថា បដិបទា ញាណ ទស្សនវិសុទ្ធិ ។ អរិយមគ្គ ទាំង ៤ នេះ ឈ្មោះ ថា ញាណ ទស្សនវិសុទ្ធិ ។ វិសុទ្ធិ ទាំង ៥ ប្រការ នេះ ឯង ជា តួ វិបស្សនា ។ ម៉្យាងទៀត បញ្ញា ដែល យើង ដឹង ពិត ឃើញ ពិត ក្នុង សភាវ : ការកើត ឯង របស់ សង្ខារ គឺ ឃើញ ថា ជា របស់ មិន ទៀង ជា ទុក្ខ ជា អនត្តា ឃើញ ច្បាស់ ថា របស់ ឯណា មិន ទៀង តែ កាល ណា កើតឡើង ហើយ រលត់ បាត់បង់ ទៅ វិញ របស់ នោះ ជា ទុក្ខ ពិត បើ របស់ ឯណា ជា ទុក្ខ របស់ នោះ ជា អនត្តា មិន មែន ជា ខ្លួន ជាប្រាណ របស់ នោះ មិន គួរ បើ នឹង ប្រកាន់ ប្រកៀក ថា ជា របស់ យើង ដោយ អំណាច តណ្ហា ឧបាទាន មានៈ \n",
              "  និង ទិដ្និ ឡើយ ។ ព្រោះថា ខ្លួនប្រាណ - យើង គេ មិន មាន ទេ បញ្ញា ដែល ពិចារណា ឃើញ ជាក់ច្បាស់ យ៉ាង នេះ ដរាបដល់ កើត និព្វិ ទា ( នឿយ ណាយ ) ស្អប់ខ្ពើម សង្ខារ កើត វិរា គៈ ប្រាសចាក xxunk ត្រេកអរ ក្នុង សង្ខារ វិមុត្តិ រួចផុត ចាក កិលេសាសវៈ ទាំងអស់ នេះ ជា តួ វិបស្សនា ទាំងអស់ ដូចគ្នា ។ \n",
              "  សាធុ ជន អ្នក បំពេញ សេចក្តី ព្យាយាម បដិបត្តិ ក្នុង វិបស្សនា ដូច បាន ពោលមក នេះ ធ្វើឲ្យ បរិបូណ៌ ហើយ ក៏ បាន ឈ្មោះ ថា ចំរើន វិបស្សនា ដោយ ល្អ នេះ ជា សេចក្តីអធិប្បាយ ដោយ សង្ខេប ក្នុង វិបស្សនា នេះ ។ ឯ សេចក្តីពិស្តារ ដូច មាន តទៅ នេះ៖ \n",
              "  អ្នក ដែល ចំរើន វិបស្សនា គប្បី ឲ្យ ជា អ្នកបរិសុទ្ធ ដោយ សីល បរិសុទ្ធ ដោយ ទិដ្និ ហើយ គប្បី ដឹង លក្ខណៈ កិច្ច ហេតុ - ផល របស់ វិបស្សនា នោះ ឯង ។ \n",
              "  សភាវៈ ការកើត ឯង របស់ សង្ខារ គឺជា របស់ មិន ទៀង , ជា ទុក្ខ , ជា អនត្តា ពិត ។ សេចក្តីឃើញ ថា សង្ខារ ជា របស់ មិន ទៀង ជា ទុក្ខ ជា អនត្តា ជាក់ច្បាស់ យ៉ាង នេះ ឯង ជា លក្ខណៈ គ្រឿង សំគាល់ របស់ វិបស្សនា ។ បើ ការដឹង ឃើញ យ៉ាង ដទៃ ទៅ មិន ត្រូវ តាមន័យ ដូច ពោល មក ខាងលើ នេះ ក៏ មិន មែន ជា វិបស្សនា ឡើយ ។ \n",
              "  សេចក្តីងងឹត គឺ មោហៈ ការភ័ន្តច្រឡំ ក្នុង សង្ខារ ថា ជា របស់ ទៀង ថា សុខ ថា ខ្លួន - ប្រាណ ឯណា បិទបាំង បញ្ញា មិន ឲ្យ ឃើញ ច្បាស់ នូវ របស់ ពិត នៃ សង្ខារ xxunk ងងឹត ចេញ បាន អស់ មិន វង្វេង ក្នុង សង្ខារ ថា ជា របស់ ទៀងទាត់ ជា របស់ សុខ ជា ខ្លួន - ប្រាណ ជា របស់ ល្អ នេះ ឯង ជា កិច្ច ជា xxunk ។ \n",
              "  សេចក្តីឃើញ ពិត ទូទៅ ក្នុង សង្ខារ ទាំងពួង ថា ជា របស់ មិន ទៀង ជា ទុក្ខ ជា អនត្តា សេចក្តីងងឹត គឺ មោហៈ ការវង្វេង ចូលមក តាំង នៅ មិន បាន ព្រោះ មាន ពន្លឺ ភ្លឺស្វាង កើតឡើង នេះ ឯង ជា ផល របស់ វិបស្សនា ក្នុង បទ នេះ ។ \n",
              "  ចិត្ត ដែល មិន រាយ មាយ តាំង នៅ ខ្ជាប់ខ្ជួន ឯណា និមួយ ដោយ អំណាច សមាធិ នេះ ឯង ជា ហេតុ កើតឡើង តាំង នៅ របស់ វិបស្សនា ។ វិបស្សនា នោះ រមែង អាស្រ័យ សមាធិ ទើប កើតឡើង តាំង នៅ បាន បើ មិន បាន ចំរើន សមាធិ ឲ្យ កើត មុន ហើយ ក៏ មិន អាច ចំរើន វិបស្សនា ឲ្យ កើតឡើង បាន ព្រោះថា សមាធិ ជា ហេតុ ឲ្យ កើត វិបស្សនា ដោយ ន័យ នេះ អ្នក ដែល មាន សីល មិន បរិសុទ្ធ មិន បាន សមាធិ នឹង មក ពោល អួត ថា ខ្លួន បាន សម្រេច វិបស្សនា ភាវនា យ៉ាង នេះ មិន គួរ ជឿ ឡើយ ។ ព្រោះ សីល បរិសុទ្ធ ជា ហេតុ ឲ្យ កើត សមាធិ សមាធិ ជា ហេតុ ឲ្យ កើត វិបស្សនា វិបស្សនា ជា ហេតុ ឲ្យ កើត អរិយមគ្គ xxunk ហេតុ ឲ្យ កើត អរិយផល ជាធម៌ តាម និយម មាន យ៉ាង នេះ មិន ប្រែប្រួល ទៅជា យ៉ាង ដទៃ ឡើយ ។ អ្នក ដែល ចំរើន xxunk ឲ្យដឹង លក្ខណៈ កិច្ច ហេតុ - ផល របស់ វិបស្សនា ដោយ ប្រការ ដូច្នេះ ។ \n",
              "  < / doc >\n",
              "y: LMLabelList\n",
              ",,,,\n",
              "Path: kmwiki_data;\n",
              "\n",
              "Test: None, model=SequentialRNN(\n",
              "  (0): AWD_LSTM(\n",
              "    (encoder): Embedding(53656, 400, padding_idx=1)\n",
              "    (encoder_dp): EmbeddingDropout(\n",
              "      (emb): Embedding(53656, 400, padding_idx=1)\n",
              "    )\n",
              "    (rnns): ModuleList(\n",
              "      (0): WeightDropout(\n",
              "        (module): LSTM(400, 1152, batch_first=True)\n",
              "      )\n",
              "      (1): WeightDropout(\n",
              "        (module): LSTM(1152, 1152, batch_first=True)\n",
              "      )\n",
              "      (2): WeightDropout(\n",
              "        (module): LSTM(1152, 400, batch_first=True)\n",
              "      )\n",
              "    )\n",
              "    (input_dp): RNNDropout()\n",
              "    (hidden_dps): ModuleList(\n",
              "      (0): RNNDropout()\n",
              "      (1): RNNDropout()\n",
              "      (2): RNNDropout()\n",
              "    )\n",
              "  )\n",
              "  (1): LinearDecoder(\n",
              "    (decoder): Linear(in_features=400, out_features=53656, bias=True)\n",
              "    (output_dp): RNNDropout()\n",
              "  )\n",
              "), opt_func=functools.partial(<class 'torch.optim.adam.Adam'>, betas=(0.9, 0.99)), loss_func=FlattenedLoss of CrossEntropyLoss(), metrics=[<function accuracy at 0x7fe1ff705e18>], true_wd=True, bn_wd=True, wd=0.01, train_bn=True, path=PosixPath('kmwiki_data'), model_dir='models', callback_fns=[functools.partial(<class 'fastai.basic_train.Recorder'>, add_time=True, silent=False)], callbacks=[...], layer_groups=[Sequential(\n",
              "  (0): WeightDropout(\n",
              "    (module): LSTM(400, 1152, batch_first=True)\n",
              "  )\n",
              "  (1): RNNDropout()\n",
              "), Sequential(\n",
              "  (0): WeightDropout(\n",
              "    (module): LSTM(1152, 1152, batch_first=True)\n",
              "  )\n",
              "  (1): RNNDropout()\n",
              "), Sequential(\n",
              "  (0): WeightDropout(\n",
              "    (module): LSTM(1152, 400, batch_first=True)\n",
              "  )\n",
              "  (1): RNNDropout()\n",
              "), Sequential(\n",
              "  (0): Embedding(53656, 400, padding_idx=1)\n",
              "  (1): EmbeddingDropout(\n",
              "    (emb): Embedding(53656, 400, padding_idx=1)\n",
              "  )\n",
              "  (2): LinearDecoder(\n",
              "    (decoder): Linear(in_features=400, out_features=53656, bias=True)\n",
              "    (output_dp): RNNDropout()\n",
              "  )\n",
              ")], add_time=True, silent=False)\n",
              "loss_scale: 65536\n",
              "max_noskip: 1000\n",
              "dynamic: True\n",
              "clip: None\n",
              "flat_master: False\n",
              "max_scale: 16777216\n",
              "loss_fp32: True], layer_groups=[Sequential(\n",
              "  (0): WeightDropout(\n",
              "    (module): LSTM(400, 1152, batch_first=True)\n",
              "  )\n",
              "  (1): RNNDropout()\n",
              "), Sequential(\n",
              "  (0): WeightDropout(\n",
              "    (module): LSTM(1152, 1152, batch_first=True)\n",
              "  )\n",
              "  (1): RNNDropout()\n",
              "), Sequential(\n",
              "  (0): WeightDropout(\n",
              "    (module): LSTM(1152, 400, batch_first=True)\n",
              "  )\n",
              "  (1): RNNDropout()\n",
              "), Sequential(\n",
              "  (0): Embedding(53656, 400, padding_idx=1)\n",
              "  (1): EmbeddingDropout(\n",
              "    (emb): Embedding(53656, 400, padding_idx=1)\n",
              "  )\n",
              "  (2): LinearDecoder(\n",
              "    (decoder): Linear(in_features=400, out_features=53656, bias=True)\n",
              "    (output_dp): RNNDropout()\n",
              "  )\n",
              ")], add_time=True, silent=False)"
            ]
          },
          "metadata": {
            "tags": []
          },
          "execution_count": 28
        }
      ]
    },
    {
      "cell_type": "code",
      "metadata": {
        "id": "su_fvL2Wu6qK",
        "colab_type": "code",
        "outputId": "98f27683-5a09-41b1-92ff-816e478f4d98",
        "colab": {
          "base_uri": "https://localhost:8080/",
          "height": 170
        }
      },
      "source": [
        "TEXT = \"ប្រាសាទ ភ្នំ\"\n",
        "N_WORDS = 20\n",
        "N_SENTENCES = 5\n",
        "print(\"\\n\".join(learn.predict(TEXT, N_WORDS, temperature=0.75) for _ in range(N_SENTENCES)))\n",
        "#ប្រាសាទ ភ្នំ ប្រុស ជា ភ្នំ ធំ ជាង គេ ក្នុង ប្រទេស កម្ពុជា \n",
        "#ប្រាសាទ ភ្នំ ដងរែក ស្ថិត នៅក្នុង ភូមិ ក្រាំង ធំ ឃុំ ប្រចាំ ក្នុង ខេត្ត សៀមរាប "
      ],
      "execution_count": 0,
      "outputs": [
        {
          "output_type": "stream",
          "text": [
            "ប្រាសាទ ភ្នំ ស្រី វិបុល រូប តួអង្គ តំណាង ឱ្យ ស្រី គ្រប់ លក្ខណ៍ ដែល មាន លក្ខណៈ ស្រដៀង និង ទម្រង់ សិល្បៈ មួយ ដែល មាន តម្លៃ\n",
            "ប្រាសាទ ភ្នំ ជី សូរ ស្ថិត នៅក្នុង ភូមិ ព្រៃ ល្វា ឃុំ គោក ចក ស្រុក សំរោងទង ខេត្ត កណ្តាល ខេត្ត កំពង់ចាម ។ \n",
            "  ហ៊ុន សែន\n",
            "ប្រាសាទ ភ្នំ ថ្ម បាយ ក្រៀម សម្រាប់ ជា ទី ជោគជ័យ ដើម្បី អារម្មណ៍ ១ \n",
            "  ជាទោស ដ៏ ខ្ពង់ខ្ពស់ នៃ សិល្បៈ គឺជា សិល្បៈ ដែល មាន\n",
            "ប្រាសាទ ភ្នំ when អវិជ្ជា ដែល មាន ដំបូល ព័ទ្ធ ជុំវិញ ផ្ទះ មាន ភាព ដូចគ្នា មាន បន្ទប់ សម្រាប់ បើក ភ្នែក \n",
            "  ប្រភេទ នៃ ទ្វារ\n",
            "ប្រាសាទ ភ្នំ ធំ ក្នុង ព្រះរាជាណាចក្រ កម្ពុជា ស្ថិត នៅ ភ្នំពេញ និង រាជធានី ភ្នំពេញ ។ \n",
            "  លោក បាន បញ្ជាក់ ថា ដូចជា អាច ធ្វើឲ្យ យើង\n"
          ],
          "name": "stdout"
        }
      ]
    },
    {
      "cell_type": "code",
      "metadata": {
        "id": "fdtjPfq0x3qc",
        "colab_type": "code",
        "outputId": "e15fc15b-0593-4692-af01-4251576cfb4b",
        "colab": {
          "base_uri": "https://localhost:8080/",
          "height": 71
        }
      },
      "source": [
        "print(len(data.vocab.itos)) #53920, 51552 without crf, 5kcrf=59408, 1k=53656\n",
        "print(data.vocab.itos[10:30])"
      ],
      "execution_count": 0,
      "outputs": [
        {
          "output_type": "stream",
          "text": [
            "53656\n",
            "['មាន', 'ជា', 'បាន', '\\n ', 'ដែល', 'ថា', 'មិន', 'នោះ', 'ក្នុង', 'នេះ', 'ហើយ', 'និង', 'ភិក្ខុ', 'ដោយ', 'របស់', 'ក៏', 'នូវ', 'ទៅ', 'ទាំងឡាយ', 'នៅ']\n"
          ],
          "name": "stdout"
        }
      ]
    },
    {
      "cell_type": "code",
      "metadata": {
        "id": "qbGk1V0n7o_8",
        "colab_type": "code",
        "outputId": "198b5245-8d08-40b2-d18b-6be4af70f914",
        "colab": {
          "base_uri": "https://localhost:8080/",
          "height": 119
        }
      },
      "source": [
        "path = 'kmwiki_data/models'\n",
        "print(path)\n",
        "print(lm_fns[0])\n",
        "print(lm_fns[1])\n",
        "!ls -alh path"
      ],
      "execution_count": 0,
      "outputs": [
        {
          "output_type": "stream",
          "text": [
            "kmwiki_data/models\n",
            "km_wt\n",
            "km_wt_vocab\n",
            "total 8.0K\n",
            "drwxr-xr-x 2 root root 4.0K Feb  9 03:15 .\n",
            "drwxr-xr-x 1 root root 4.0K Feb  9 03:17 ..\n"
          ],
          "name": "stdout"
        }
      ]
    },
    {
      "cell_type": "code",
      "metadata": {
        "id": "J7aIcILw7jq3",
        "colab_type": "code",
        "outputId": "da63fb2b-2772-495b-9f10-4061a0d1e069",
        "colab": {
          "base_uri": "https://localhost:8080/",
          "height": 51
        }
      },
      "source": [
        "# test save vocab in 32 bit\n",
        "print(\"lm_fns:\",lm_fns[0])\n",
        "print(\"lm_fns vocab:\",lm_fns[1])\n",
        "#mdl_path.mkdir(exist_ok=True)\n",
        "\n",
        "learn.to_fp32().save(\"km_wt\", with_opt=False) # this save to: kmwiki_data/models/km_wt.pth\n",
        "#learn.data.vocab.save((lm_fns[1] + '.pkl'))\n",
        "learn.to_fp32().data.vocab.save((lm_fns[1] + '.pkl')) #force to 32 bit ??"
      ],
      "execution_count": 0,
      "outputs": [
        {
          "output_type": "stream",
          "text": [
            "lm_fns: km_wt\n",
            "lm_fns vocab: km_wt_vocab\n"
          ],
          "name": "stdout"
        }
      ]
    },
    {
      "cell_type": "code",
      "metadata": {
        "id": "CrcLRHOG9VIP",
        "colab_type": "code",
        "outputId": "714fdbfe-fc17-4fcb-819c-ffed26b0c651",
        "colab": {
          "base_uri": "https://localhost:8080/",
          "height": 170
        }
      },
      "source": [
        "!date\n",
        "!cp km_wt_vocab.pkl kmwiki_data/models\n",
        "!ls -alh kmwiki_data/models\n",
        "#!md5sum kmwiki_data/models/km_wt_vocab.pkl\n",
        "#!md5sum kmwiki_data/km_wt_vocab.pkl\n"
      ],
      "execution_count": 0,
      "outputs": [
        {
          "output_type": "stream",
          "text": [
            "Sun Feb  9 03:58:02 UTC 2020\n",
            "total 826M\n",
            "drwxr-xr-x 2 root root 4.0K Feb  9 03:58 .\n",
            "drwxr-xr-x 4 root root 4.0K Feb  9 03:26 ..\n",
            "-rw------- 1 root root 207M Feb  9 03:08 kmclas.pth\n",
            "-rw------- 1 root root 126M Feb  9 03:08 kmfine_tuned_enc.pth\n",
            "-rw------- 1 root root 290M Feb  9 03:08 kmfine_tuned.pth\n",
            "-rw------- 1 root root 203M Feb  9 03:58 km_wt.pth\n",
            "-rw------- 1 root root 1.4M Feb  9 03:58 km_wt_vocab.pkl\n"
          ],
          "name": "stdout"
        }
      ]
    },
    {
      "cell_type": "code",
      "metadata": {
        "id": "BzEnWT5v_nvi",
        "colab_type": "code",
        "outputId": "a9122f96-20ba-4989-908b-ca3dded1176b",
        "colab": {
          "base_uri": "https://localhost:8080/",
          "height": 85
        }
      },
      "source": [
        "drv_model = \"drive/'My Drive'/khmer_ulmfit/models_1k_32\"\n",
        "!mkdir {drv_model}\n",
        "!cp kmwiki_data/models/km_wt_vocab.pkl {drv_model}/\n",
        "!cp kmwiki_data/models/km_wt.pth {drv_model}/\n",
        "!ls -alh {drv_model}"
      ],
      "execution_count": 0,
      "outputs": [
        {
          "output_type": "stream",
          "text": [
            "mkdir: cannot create directory ‘drive/My Drive/khmer_ulmfit/models_1k_32’: File exists\n",
            "total 204M\n",
            "-rw------- 1 root root 203M Feb  9 03:58 km_wt.pth\n",
            "-rw------- 1 root root 1.4M Feb  9 03:58 km_wt_vocab.pkl\n"
          ],
          "name": "stdout"
        }
      ]
    },
    {
      "cell_type": "code",
      "metadata": {
        "id": "PrXHrC6jBtF9",
        "colab_type": "code",
        "outputId": "72aa3d96-c08b-4de4-e235-9a21cfc1ab22",
        "colab": {
          "base_uri": "https://localhost:8080/",
          "height": 68
        }
      },
      "source": [
        "!ls -alh drive/'My Drive'/khmer_ulmfit/models_1k_32/\n"
      ],
      "execution_count": 0,
      "outputs": [
        {
          "output_type": "stream",
          "text": [
            "total 204M\n",
            "-rw------- 1 root root 203M Feb  9 03:58 km_wt.pth\n",
            "-rw------- 1 root root 1.4M Feb  9 03:58 km_wt_vocab.pkl\n"
          ],
          "name": "stdout"
        }
      ]
    },
    {
      "cell_type": "markdown",
      "metadata": {
        "id": "zR-BusKhZ5ad",
        "colab_type": "text"
      },
      "source": [
        "## Testing the model"
      ]
    },
    {
      "cell_type": "code",
      "metadata": {
        "id": "t6iBBt1--hpt",
        "colab_type": "code",
        "outputId": "100ce437-fead-46de-de99-22e3228594d8",
        "colab": {
          "base_uri": "https://localhost:8080/",
          "height": 187
        }
      },
      "source": [
        "TEXT = \"ព្រះឣង្គ\"\n",
        "N_WORDS = 20\n",
        "N_SENTENCES = 5\n",
        "print(\"\\n\".join(learn.predict(TEXT, N_WORDS, temperature=0.75) for _ in range(N_SENTENCES)))\n",
        "#ព្រះឣង្គ បាន បង្កើត ឆ្នេរសមុទ្រ ថ្មី មួយ ដែល មាន ទីតាំង នៅ ក្រុង រណប ខេត្ត បន្ទាយមានជ័យ និង ក្រុង ព្រះសីហនុ ។ \n",
        "#ព្រះឣង្គ ទ្រង់ ប្រទាន ព័ត៌មាន មិន ពិត មួយ ស្ថានភាព នៃ ព័ត៌មាន ក្លែងក្លាយ ផ្ទាល់ ព្រមទាំង ព័ត៌មាន ក្លែងក្លាយ និង រូបភាព ដ៏ អាក្រក់ បំផុត \n",
        "#ព្រះឣង្គ ទាំងអស់ ត្រូវ ធ្វើ ការបកស្រាយ និង ទំនុក បំរុង ដល់ ក្បត់ "
      ],
      "execution_count": 0,
      "outputs": [
        {
          "output_type": "stream",
          "text": [
            "ព្រះឣង្គ ទាំងអស់ ត្រូវ ធ្វើ ការបកស្រាយ និង ទំនុក បំរុង ដល់ ក្បត់ \n",
            "  គឺ ក សាង ជិត ២៤ ថ្ងៃ ក្នុង ខែ គីឡូម៉ែត្រ ឆ្នាំ\n",
            "ព្រះឣង្គ ប្រែ ចិត្ត ឲ្យ រួច ពី ការងារ អស់ ហើយ ហើយ ! \n",
            "  ពិតជា ល្អ បើ ប្រៀបធៀប ជាមួយ រឿង ដែល មិន មាន\n",
            "ព្រះឣង្គ មាន ព្រះភាគ របស់ ក្រុម អ្នកជំនាញ ។ \n",
            "  ក្នុង ពេល ដែល មាន ក្រុម មនុស្ស ភាគ ច្រើន ពិគ្រោះ ជាមួយ ក្រុម ពាក់ព័ន្ធ នឹង\n",
            "ព្រះឣង្គ ទ្រង់ ប្រទាន ព័ត៌មាន មិន ពិត មួយ ស្ថានភាព នៃ ព័ត៌មាន ក្លែងក្លាយ ផ្ទាល់ ព្រមទាំង ព័ត៌មាន ក្លែងក្លាយ និង រូបភាព ដ៏ អាក្រក់ បំផុត \n",
            " \n",
            "ព្រះឣង្គ ក្នុង ឱកាស រាជ វិវឌ្ឍ នៃ ប្រទេស ជប៉ុន ពេល ឡាយ បំពេញ បេសកកម្ម និង ចុះហត្ថលេខា លើ កិច្ចព្រមព្រៀង \n",
            "  សៀមរាប ៖ នៅ ថ្ងៃទី\n"
          ],
          "name": "stdout"
        }
      ]
    },
    {
      "cell_type": "code",
      "metadata": {
        "colab_type": "code",
        "outputId": "6aab0fee-a149-4b89-e1b5-70fdd6147886",
        "id": "BuPXcwN5aB0k",
        "colab": {
          "base_uri": "https://localhost:8080/",
          "height": 187
        }
      },
      "source": [
        "TEXT = \"លោក Trump\"\n",
        "N_WORDS = 20\n",
        "N_SENTENCES = 5\n",
        "print(\"\\n\".join(learn.predict(TEXT, N_WORDS, temperature=0.75) for _ in range(N_SENTENCES)))\n",
        "#លោក Trump ប្រើ កងកម្លាំង យោធា មួយ ពាន់ \n",
        "#លោក Trump បង្កើត ក្រុម នៅ ប្រទេស ផ្សេង ៗ ដល់ អាមេរិក ដើម្បី ធ្វើ ប្រតិបត្តិការ ទៅ លើ ពិភពលោក \n",
        "#លោក Trump ត្រៀម ខ្លួន ដើម្បី ទទួល ជោគជ័យ \n",
        "#លោក Trump ឲ្យដឹង ថា ទីក្រុង វ៉ាស៊ីនតោន អាម៉េរិក ភាគ ច្រើន គឺ ស្ថិត នៅក្នុង តំបន់ អឺរ៉ុប ) ។ "
      ],
      "execution_count": 0,
      "outputs": [
        {
          "output_type": "stream",
          "text": [
            "លោក Trump អះអាង ថា ប្រព័ន្ធ ការពារ សន្តិសុខ រដ្ឋ បាន ប្រើប្រាស់ ប្រព័ន្ធ ការពារ កញ្ចក់ Xr \n",
            "  ភ្នំពេញ ៖ នៅ ចុង ខែ នេះ\n",
            "លោក Trump ចុះ ពិនិត្យ ស្ថានភាព សុខភាព របស់ ក្រុមហ៊ុន បរទេស នៅ កម្ពុជា \n",
            "  ( ភ្នំពេញ ) ៖ លោក Charles Peng ប្រធាន\n",
            "លោក Trump ហេង ចំណេញ កំពុង រត់ ពី ហើយនិយាយ ទៅកាន់ សមាជិក ព្រឹទ្ធសភា \n",
            "  លោក Boris Johnson បាន ឱ្យដឹង\n",
            "លោក Trump ឲ្យដឹង ថា ទីក្រុង វ៉ាស៊ីនតោន អាម៉េរិក ភាគ ច្រើន គឺ ស្ថិត នៅក្នុង តំបន់ អឺរ៉ុប ) ។ \n",
            "  ពួកគេ បាន ប្រកាស ថា នឹង\n",
            "លោក Trump ទទួលមរណភាព នៅ ស្វាយរៀង និង ក្តៅ ក្នុង ពិភព ដង្ហើម រន្ទះ នៃ ចលនា អតីត យុទ្ធជន ខ្មែរ ក្រហម \n",
            "  ភ្នំពេញ ៖ លោក ប្រាយុទ្ធ\n"
          ],
          "name": "stdout"
        }
      ]
    },
    {
      "cell_type": "code",
      "metadata": {
        "id": "-FZj2IyU53ur",
        "colab_type": "code",
        "outputId": "80fb601f-aa04-4822-d73a-5885292eff5b",
        "colab": {
          "base_uri": "https://localhost:8080/",
          "height": 153
        }
      },
      "source": [
        "TEXT = \"លោក ​ហ៊ុន សែន​\"\n",
        "N_WORDS = 20\n",
        "N_SENTENCES = 5\n",
        "print(\"\\n\".join(learn.predict(TEXT, N_WORDS, temperature=0.75) for _ in range(N_SENTENCES)))\n",
        "#លោក ​ហ៊ុន សែន​ ឆ រដ្ឋមន្រ្ដី និង ជា ប្រធាន កិត្តិយស នៃ សាលា និង សាកលវិទ្យាល័យ ឯកជន ប្រចាំ តំបន់ រដ្ឋសភា ថា គម្រោង នោះ បាន ចុះ អន់\n",
        "#លោក ​ហ៊ុន សែន​ ជា តារា សម្តែង ម្នាក់ ក្នុង កម្មវិធី Produce Strong Cup \n",
        "#លោក ​ហ៊ុន សែន​ ជា ប្រធាន មន្ទីរ បរិស្ថាន ខេត្ត ព្រះវិហារ នឹង ចូល ជា អនុ ប្រធាន មន្ទីរ បរិស្ថាន ស្រុក និង ពលករ ជនបទ \n",
        "#លោក ​ហ៊ុន សែន​ ប្តូរ លិខិត មក រដ្ឋមន្ត្រី ក្រសួង ការពារ ជាតិ "
      ],
      "execution_count": 0,
      "outputs": [
        {
          "output_type": "stream",
          "text": [
            "លោក ​ហ៊ុន សែន​ ប្តូរ លិខិត មក រដ្ឋមន្ត្រី ក្រសួង ការពារ ជាតិ \n",
            "  ព័ត៌មាន លម្អិត ជុំវិញ ប្រជុំ សារព័ត៌មាន អាមេរិក The Wall Street\n",
            "លោក ​ហ៊ុន សែន​ ៖ លោក ឲ្យ តាមដាន ឡើងវិញ ថា អ្វី ដែល កើតឡើង គឺ កើត ឡើង ដោយ ឥត គិត ថ្លៃ \n",
            "  ( ភ្នំពេញ )\n",
            "លោក ​ហ៊ុន សែន​ ៖ \" អ្នក ដែល មកពី ប្រទេស ស៊ុយអែត ត្រូវ ប្រជុំ សភា ៥ ជាន់ លើក ចុងក្រោយ នៅ កម្ពុជា ហើយ បាន ត្រឹមត្រូវ »\n",
            "លោក ​ហ៊ុន សែន​ ៖ « យើង ឱ្យ ឧប្បត្តិហេតុ ហើយ មាន ប្រយោជន៍ ដល់ គ្រួសារ ក្រីក្រ » \n",
            "  ( ភ្នំពេញ ) ៖ លោក ទេសរដ្ឋមន្ត្រី ៖\n",
            "លោក ​ហ៊ុន សែន​ បាន ជួប ជួបប្រទះ លោក រដ្ឋមន្ត្រី ការបរទេស ចិន លោកស្រី ស្វាយ យ៉ា ដែល កាន់ តំណែង ជា នាយក រដ្ឋមន្ត្រី កម្ពុជា នៅ ថ្ងៃទី ២៣\n"
          ],
          "name": "stdout"
        }
      ]
    },
    {
      "cell_type": "code",
      "metadata": {
        "id": "oAEvZkWFuXcG",
        "colab_type": "code",
        "outputId": "47c91d37-6ede-44c1-c92d-726e2402009a",
        "colab": {
          "base_uri": "https://localhost:8080/",
          "height": 193
        }
      },
      "source": [
        "TEXT = \"អតីត ប្រធាន គណបក្ស ប្រឆាំង លោក សម រង្ស៊ី\"\n",
        "N_WORDS = 20\n",
        "N_SENTENCES = 5\n",
        "print(\"\\n\".join(learn.predict(TEXT, N_WORDS, temperature=0.75) for _ in range(N_SENTENCES)))\n",
        "#អតីត ប្រធាន គណបក្ស ប្រឆាំង លោក សម រង្ស៊ី ត្រូវបាន ចាប់ខ្លួន និង កាត់ទោស និង ឃុំខ្លួន នៅ ភ្នំពេញ \n",
        "#អតីត ប្រធាន គណបក្ស ប្រឆាំង លោក សម រង្ស៊ី និង បក្ខពួក ខ្លះ គាំទ្រ ពលរដ្ឋ ដែល កំពុង រង ការចោទប្រកាន់ ពី បទ ញុះញង់ របស់ អ្នក ខ្វះ ដីធ្លី \n",
        "#អតីត ប្រធាន គណបក្ស ប្រឆាំង លោក សម រង្ស៊ី សម រង្ស៊ី កំពុង បំពេញ ការងារ \n"
      ],
      "execution_count": 0,
      "outputs": [
        {
          "output_type": "stream",
          "text": [
            "អតីត ប្រធាន គណបក្ស ប្រឆាំង លោក សម រង្ស៊ី ត្រូវបាន ចាប់ខ្លួន និង កាត់ទោស និង ឃុំខ្លួន នៅ ភ្នំពេញ \n",
            "  ( ភ្នំពេញ ) ៖ លោក ហ៊ុន សុខា ប្រធាន ការិយាល័យ ប្រឆាំង អំពើពុករលួយ\n",
            "អតីត ប្រធាន គណបក្ស ប្រឆាំង លោក សម រង្ស៊ី កំពុង ច្រៀង និង មាន បទ « No Zone » ក្នុង រឿង « The Cambodian More\n",
            "អតីត ប្រធាន គណបក្ស ប្រឆាំង លោក សម រង្ស៊ី បាន ចុះ ទៅ បំពេញ ទស្សនកិច្ច នៅ កម្ពុជា នៅ ទីក្រុង ភ្នំពេញ ដើម្បី ត្រៀម ខ្លួន ធ្វើជា សមាជិក ក្រុម ធាន អាន ។ \n",
            " \n",
            "អតីត ប្រធាន គណបក្ស ប្រឆាំង លោក សម រង្ស៊ី និង បក្ខពួក ខ្លះ គាំទ្រ ពលរដ្ឋ ដែល កំពុង រង ការចោទប្រកាន់ ពី បទ ញុះញង់ របស់ អ្នក ខ្វះ ដីធ្លី \n",
            "  ភ្នំពេញ ៖ លោក\n",
            "អតីត ប្រធាន គណបក្ស ប្រឆាំង លោក សម រង្ស៊ី សម រង្ស៊ី កំពុង បំពេញ ការងារ \n",
            "  ភ្នំពេញ ៈ គណៈកម្មាធិការ ជាតិ រៀបចំ ការបោះឆ្នោត នៅ ថ្ងៃទី ២៥ ខែកក្កដា ឆ្នាំ ២០១៩ នេះ បាន\n"
          ],
          "name": "stdout"
        }
      ]
    },
    {
      "cell_type": "code",
      "metadata": {
        "id": "PfZkYVeSvCKf",
        "colab_type": "code",
        "outputId": "3af0c16a-d98f-41ae-bbbd-36883cea9176",
        "colab": {
          "base_uri": "https://localhost:8080/",
          "height": 204
        }
      },
      "source": [
        "TEXT = \"​អ្នក ​និពន្ធ​ បទ​ ចម្រៀង\"\n",
        "N_WORDS = 20\n",
        "N_SENTENCES = 5\n",
        "print(\"\\n\".join(learn.predict(TEXT, N_WORDS, temperature=0.75) for _ in range(N_SENTENCES)))\n",
        "#​អ្នក ​និពន្ធ​ បទ​ ចម្រៀង ជើង ចាស់ ឆ្នើម របស់ កម្ពុជា ក្នុង បទ « One United » \n",
        "#​អ្នក ​និពន្ធ​ បទ​ ចម្រៀង សម្ដែង នៅក្នុង ពិធី ខួប ៧ ឆ្នាំ បាន ចប់ ជាស្ថាពរ \n",
        "#​អ្នក ​និពន្ធ​ បទ​ ចម្រៀង ច្រៀង ដោយ លោក ស៊ីន ស៊ី សាមុត ក ក្រើក \n"
      ],
      "execution_count": 0,
      "outputs": [
        {
          "output_type": "stream",
          "text": [
            "​អ្នក ​និពន្ធ​ បទ​ ចម្រៀង Serie Rey ចំនួន ៣០ លាន ឆ្នាំ មុន \n",
            "  ( ភ្នំពេញ ) ៖ តារា កិត្តិយស រូប នេះ បាន ធ្វើ\n",
            "​អ្នក ​និពន្ធ​ បទ​ ចម្រៀង ច្រៀង ដោយ លោក ស៊ីន ស៊ី សាមុត ក ក្រើក \n",
            "  ស៊ុន ចាន់ សាមុត ៖ ជា តារាចម្រៀង ច្រៀង ចម្រៀង \n",
            "  ដោយ ខាង\n",
            "​អ្នក ​និពន្ធ​ បទ​ ចម្រៀង និង ចម្រៀង ថ្មី នេះ ឃើញ ថា ជា លើក ទី ១ ក្នុង ប្រទេស កម្ពុជា \n",
            "  បរទេស ៖ ប្រិយមិត្ត ជាច្រើន បាន សម្តែង\n",
            "​អ្នក ​និពន្ធ​ បទ​ ចម្រៀង បទ មាន សម្លេង ពីរោះ ពីរោះ ពីរោះ ពីរោះ ច្រៀង ពីរោះ លើ លោក \n",
            "  ភ្នំពេញ ៖ និង ស្ងាត់ ៗ ពិតជា ពីរោះ តែម្តង\n",
            "​អ្នក ​និពន្ធ​ បទ​ ចម្រៀង បទ « Time One » \n",
            "  ភ្នំពេញ ៖ Share នឹង ទទួលបាន ការគាំទ្រ ពី អ្នកគាំទ្រ ក្នុង តំបន់ ដែល\n"
          ],
          "name": "stdout"
        }
      ]
    },
    {
      "cell_type": "code",
      "metadata": {
        "id": "Fp66BGfwEmqK",
        "colab_type": "code",
        "outputId": "69b39de9-931d-4297-d037-fb9b5c0265f3",
        "colab": {
          "base_uri": "https://localhost:8080/",
          "height": 170
        }
      },
      "source": [
        "TEXT = \"​លោក ស៊ីន ស៊ី សាមុត\" #bad segmentation\n",
        "N_WORDS = 15\n",
        "N_SENTENCES = 5\n",
        "print(\"\\n\".join(learn.predict(TEXT, N_WORDS, temperature=0.95) for _ in range(N_SENTENCES)))\n",
        "#​លោក ស៊ីន ស៊ី សាមុត មាន អ្នកគាំទ្រ ច្រើន ជាង Facebook Hazard ច្រៀង នៅ ខណៈ តូច ៗ ទាំង ពេល ថ្ងៃ \n",
        "#​លោក ស៊ីន ស៊ី សាមុត ព្យាយាម រក ប្រាក់ ព្យាបាល លើ មន្ទីរពេទ្យ \n",
        "#​លោក ស៊ីន ស៊ី សាមុត ទៅដល់ ខេត្ត ពោធិ៍សាត់ បញ្ជាក់ ពី កម្មវិធី រឿង ភ្ញាក់ផ្អើល ហើយ ! \n",
        "#​លោក ស៊ីន ស៊ី សាមុត ចំណាយ ពេល ត្រឹមតែ ១០០ នាទី ទៀត ទេ ? \n"
      ],
      "execution_count": 0,
      "outputs": [
        {
          "output_type": "stream",
          "text": [
            "​លោក ស៊ីន ស៊ី សាមុត បាញ់ ផ្សែង ៣ គ្រាប់ នៅ ឋាន ព្រះច័ន្ទ .. \n",
            "  ភិក្ខុ នី ប៊ុន ធឿន របស់ សង្កាត់\n",
            "​លោក ស៊ីន ស៊ី សាមុត កំពុង ដាក់ពាក្យបណ្តឹង ប្រកាស ឲ្យ ឃើញ ថា ៖ ផោន ជា ជរា តូច បំផុត រីឯ ម្សៅ\n",
            "​លោក ស៊ីន ស៊ី សាមុត របស់ នាយ ទាហាន សកម្ម ភ័យខ្លាច ទម្ងន់ ទម្ងន់ 110 គីឡូក្រាម \n",
            "  ព្រះវិហារ ៖ នាយ ឧត្តមសេនីយ៍ ឈុំ\n",
            "​លោក ស៊ីន ស៊ី សាមុត ព្រម ទទួល ការលំបាក ជាខ្លាំង ក្នុង កម្មវិធី ជ្រើសរើស សម្ព័ន្ធ ដណ្ដើម ឯករាជ្យ ជាក់ស្តែង ក្នុង ការជ្រើសរើស អចិន្រ្តៃយ៍ \n",
            " \n",
            "​លោក ស៊ីន ស៊ី សាមុត ឃើញ ថា បែប នេះ ពិសេស ! \n",
            "  តារា សម្ដែង ជួរ មុខ ថៃ បច្ចុប្បន្ន កញ្ញា សាន\n"
          ],
          "name": "stdout"
        }
      ]
    },
    {
      "cell_type": "code",
      "metadata": {
        "id": "HXCxrZDOwEGo",
        "colab_type": "code",
        "outputId": "7ed57b51-d879-4ebc-e528-8731383cd6a7",
        "colab": {
          "base_uri": "https://localhost:8080/",
          "height": 187
        }
      },
      "source": [
        "TEXT = \"និសិ្សត បញ្ញាវ័ន្ត ខ្មែរ ចំនួន\"\n",
        "N_WORDS = 20\n",
        "N_SENTENCES = 5\n",
        "print(\"\\n\".join(learn.predict(TEXT, N_WORDS, temperature=0.75) for _ in range(N_SENTENCES)))\n",
        "#និសិ្សត បញ្ញាវ័ន្ត ខ្មែរ ចំនួន ១៣ រូប\n",
        "#និសិ្សត បញ្ញាវ័ន្ត ខ្មែរ ចំនួន ៤ រូប ក្នុង ចំណោម ចំនួន ២៥ នាក់\n",
        "#និសិ្សត បញ្ញាវ័ន្ត ខ្មែរ ចំនួន ៨០ លាន នាក់ ជា ក្រុម អ្នក រួម ជាតិ កម្ពុជា "
      ],
      "execution_count": 0,
      "outputs": [
        {
          "output_type": "stream",
          "text": [
            "និសិ្សត បញ្ញាវ័ន្ត ខ្មែរ ចំនួន វិល មក ចូលរួម ការសិក្សា នៅ សកលវិទ្យាល័យ អាស៊ី អាគ្នេយ៍ \n",
            "  ( ភ្នំពេញ ) ៖ លោក ឧត្តមសេនីយ៍ ឯក ហ៊ុន ម៉ាណែត អគ្គ ស្នងការ\n",
            "និសិ្សត បញ្ញាវ័ន្ត ខ្មែរ ចំនួន ៦ ដែល កំពុង រស់ នៅ សម័យ សង្គ្រាម ត្រជាក់ ចាប់ផ្ដើម ។ \n",
            "  នៅ ថ្ងៃ នេះ លោក បណ្ឌិត អ៊ិត សំហេង បាន ថ្លែង\n",
            "និសិ្សត បញ្ញាវ័ន្ត ខ្មែរ ចំនួន ៤ រូប ក្នុង ចំណោម ចំនួន ២៥ នាក់ \n",
            "  ភ្នំពេញ ៖ នា ព្រឹក ថ្ងៃទី ២៥ ខែ កក្កដា ឆ្នាំ ២០១៩ នេះ ក្រសួង\n",
            "និសិ្សត បញ្ញាវ័ន្ត ខ្មែរ ចំនួន ៨០ លាន នាក់ ជា ក្រុម អ្នក រួម ជាតិ កម្ពុជា \n",
            "  ( ភ្នំពេញ ) ៖ បន្ទាប់ពី ក្រុម ស្ថាបនិក គណៈកម្មាធិការ ចិន នៅ\n",
            "និសិ្សត បញ្ញាវ័ន្ត ខ្មែរ ចំនួន ៦៨ នាក់ ស្មើនឹង ជាង ១០០ នាក់ \n",
            "  ភ្នំពេញ ៖ បន្ទាប់ពី មាន ការរិះគន់ ពី លោក នាយក រដ្ឋមន្រ្តី ហ៊ុន សែន បាន បន្ដ\n"
          ],
          "name": "stdout"
        }
      ]
    },
    {
      "cell_type": "markdown",
      "metadata": {
        "id": "u7OYccb29i1W",
        "colab_type": "text"
      },
      "source": [
        "## Categorization"
      ]
    },
    {
      "cell_type": "markdown",
      "metadata": {
        "id": "ExeT1IBFxlEf",
        "colab_type": "text"
      },
      "source": [
        "### Copy accident data file from github"
      ]
    },
    {
      "cell_type": "code",
      "metadata": {
        "id": "D0beJUa8xsku",
        "colab_type": "code",
        "colab": {}
      },
      "source": [
        "filename = 'accident_docs.pkl';"
      ],
      "execution_count": 0,
      "outputs": []
    },
    {
      "cell_type": "code",
      "metadata": {
        "id": "zU1nTzergwxQ",
        "colab_type": "code",
        "colab": {
          "base_uri": "https://localhost:8080/",
          "height": 52
        },
        "outputId": "a6dfb79e-d080-4bf5-960c-35176b965183"
      },
      "source": [
        "import urllib.request\n",
        "url = 'https://github.com/phylypo/khmer-language-model-ulmfit/blob/master/data/accident_docs.pkl?raw=true'\n",
        "print(\"url\", url)\n",
        "urllib.request.urlretrieve(url, filename)"
      ],
      "execution_count": 15,
      "outputs": [
        {
          "output_type": "stream",
          "text": [
            "url https://github.com/phylypo/khmer-language-model-ulmfit/blob/master/data/accident_docs.pkl?raw=true\n"
          ],
          "name": "stdout"
        },
        {
          "output_type": "execute_result",
          "data": {
            "text/plain": [
              "('accident_docs.pkl', <http.client.HTTPMessage at 0x7f1d78da6eb8>)"
            ]
          },
          "metadata": {
            "tags": []
          },
          "execution_count": 15
        }
      ]
    },
    {
      "cell_type": "code",
      "metadata": {
        "id": "D_jTBX1kC5YT",
        "colab_type": "code",
        "outputId": "9617e9ee-bdee-4efe-8876-4ccc94845948",
        "colab": {
          "base_uri": "https://localhost:8080/",
          "height": 408
        }
      },
      "source": [
        "df2 = pd.read_pickle(filename);\n",
        "df2"
      ],
      "execution_count": 17,
      "outputs": [
        {
          "output_type": "execute_result",
          "data": {
            "text/html": [
              "<div>\n",
              "<style scoped>\n",
              "    .dataframe tbody tr th:only-of-type {\n",
              "        vertical-align: middle;\n",
              "    }\n",
              "\n",
              "    .dataframe tbody tr th {\n",
              "        vertical-align: top;\n",
              "    }\n",
              "\n",
              "    .dataframe thead th {\n",
              "        text-align: right;\n",
              "    }\n",
              "</style>\n",
              "<table border=\"1\" class=\"dataframe\">\n",
              "  <thead>\n",
              "    <tr style=\"text-align: right;\">\n",
              "      <th></th>\n",
              "      <th>&lt;built-in function id&gt;</th>\n",
              "      <th>text</th>\n",
              "      <th>cat</th>\n",
              "    </tr>\n",
              "  </thead>\n",
              "  <tbody>\n",
              "    <tr>\n",
              "      <th>0</th>\n",
              "      <td>5279</td>\n",
              "      <td>ចាប់ពី ថ្ងៃ នេះ តទៅ  YouTube  លែង ឲ្យ បង្ហោះ វ...</td>\n",
              "      <td>no_accident</td>\n",
              "    </tr>\n",
              "    <tr>\n",
              "      <th>1</th>\n",
              "      <td>5831</td>\n",
              "      <td>មក ស្គាល់ រុក្ខជាតិ ម្យ៉ាង  នៅក្នុង សមុទ្រ កម្...</td>\n",
              "      <td>no_accident</td>\n",
              "    </tr>\n",
              "    <tr>\n",
              "      <th>2</th>\n",
              "      <td>6385</td>\n",
              "      <td>មក មើល  កម្មករ ខ្សាច់ សាច់ដុំ ធំ ៗ នៅ កាមេរ៉ូន...</td>\n",
              "      <td>no_accident</td>\n",
              "    </tr>\n",
              "    <tr>\n",
              "      <th>3</th>\n",
              "      <td>7452</td>\n",
              "      <td>ដោយសារតែ បើកបរ លឿន ជិត ៗ គ្នា ពេក  រថយន្ត ៦ គ្...</td>\n",
              "      <td>accident</td>\n",
              "    </tr>\n",
              "    <tr>\n",
              "      <th>4</th>\n",
              "      <td>7474</td>\n",
              "      <td>គ្មាន ទៀត ទេ រថយន្តក្រុង ប្រើ សាំង !  សៀង ហៃ ក...</td>\n",
              "      <td>no_accident</td>\n",
              "    </tr>\n",
              "    <tr>\n",
              "      <th>...</th>\n",
              "      <td>...</td>\n",
              "      <td>...</td>\n",
              "      <td>...</td>\n",
              "    </tr>\n",
              "    <tr>\n",
              "      <th>495</th>\n",
              "      <td>22646</td>\n",
              "      <td>ទម្រង់ ចង្កា អាច បង្ហាញ ពី អត្តចរិត និង ជោគវាស...</td>\n",
              "      <td>no_accident</td>\n",
              "    </tr>\n",
              "    <tr>\n",
              "      <th>496</th>\n",
              "      <td>22647</td>\n",
              "      <td>ជា នារី ដែល គួរឲ្យ ស្រឡាញ់  និង មើលទៅ មាន ទំនុ...</td>\n",
              "      <td>no_accident</td>\n",
              "    </tr>\n",
              "    <tr>\n",
              "      <th>497</th>\n",
              "      <td>22688</td>\n",
              "      <td>Pub  Street  នឹង ប្រែ មុខមាត់ ថ្មី  ជាមួយនឹង ក...</td>\n",
              "      <td>no_accident</td>\n",
              "    </tr>\n",
              "    <tr>\n",
              "      <th>498</th>\n",
              "      <td>22776</td>\n",
              "      <td>អង្គការ អូតង់  រៀបចំ ចំណាត់ការ ទប់ទល់ នឹង ការប...</td>\n",
              "      <td>no_accident</td>\n",
              "    </tr>\n",
              "    <tr>\n",
              "      <th>499</th>\n",
              "      <td>22787</td>\n",
              "      <td>ឪពុក ម្ដាយ ស្រែក យំ !  ពេទ្យ ប្រាប់ ថា ត្រៀម ធ...</td>\n",
              "      <td>no_accident</td>\n",
              "    </tr>\n",
              "  </tbody>\n",
              "</table>\n",
              "<p>500 rows × 3 columns</p>\n",
              "</div>"
            ],
            "text/plain": [
              "     <built-in function id>  ...          cat\n",
              "0                      5279  ...  no_accident\n",
              "1                      5831  ...  no_accident\n",
              "2                      6385  ...  no_accident\n",
              "3                      7452  ...     accident\n",
              "4                      7474  ...  no_accident\n",
              "..                      ...  ...          ...\n",
              "495                   22646  ...  no_accident\n",
              "496                   22647  ...  no_accident\n",
              "497                   22688  ...  no_accident\n",
              "498                   22776  ...  no_accident\n",
              "499                   22787  ...  no_accident\n",
              "\n",
              "[500 rows x 3 columns]"
            ]
          },
          "metadata": {
            "tags": []
          },
          "execution_count": 17
        }
      ]
    },
    {
      "cell_type": "code",
      "metadata": {
        "id": "8qqVpQVkNcx3",
        "colab_type": "code",
        "outputId": "41c54578-9ea3-443e-ea6f-8c104c87fe61",
        "colab": {
          "base_uri": "https://localhost:8080/",
          "height": 419
        }
      },
      "source": [
        "df2['label'] = np.where(df2['cat'] == 'accident', 1, 0)\n",
        "df = df2\n",
        "df"
      ],
      "execution_count": 0,
      "outputs": [
        {
          "output_type": "execute_result",
          "data": {
            "text/html": [
              "<div>\n",
              "<style scoped>\n",
              "    .dataframe tbody tr th:only-of-type {\n",
              "        vertical-align: middle;\n",
              "    }\n",
              "\n",
              "    .dataframe tbody tr th {\n",
              "        vertical-align: top;\n",
              "    }\n",
              "\n",
              "    .dataframe thead th {\n",
              "        text-align: right;\n",
              "    }\n",
              "</style>\n",
              "<table border=\"1\" class=\"dataframe\">\n",
              "  <thead>\n",
              "    <tr style=\"text-align: right;\">\n",
              "      <th></th>\n",
              "      <th>&lt;built-in function id&gt;</th>\n",
              "      <th>text</th>\n",
              "      <th>cat</th>\n",
              "      <th>label</th>\n",
              "    </tr>\n",
              "  </thead>\n",
              "  <tbody>\n",
              "    <tr>\n",
              "      <th>0</th>\n",
              "      <td>5279</td>\n",
              "      <td>ចាប់ពី ថ្ងៃ នេះ តទៅ  YouTube  លែង ឲ្យ បង្ហោះ វ...</td>\n",
              "      <td>no_accident</td>\n",
              "      <td>0</td>\n",
              "    </tr>\n",
              "    <tr>\n",
              "      <th>1</th>\n",
              "      <td>5831</td>\n",
              "      <td>មក ស្គាល់ រុក្ខជាតិ ម្យ៉ាង  នៅក្នុង សមុទ្រ កម្...</td>\n",
              "      <td>no_accident</td>\n",
              "      <td>0</td>\n",
              "    </tr>\n",
              "    <tr>\n",
              "      <th>2</th>\n",
              "      <td>6385</td>\n",
              "      <td>មក មើល  កម្មករ ខ្សាច់ សាច់ដុំ ធំ ៗ នៅ កាមេរ៉ូន...</td>\n",
              "      <td>no_accident</td>\n",
              "      <td>0</td>\n",
              "    </tr>\n",
              "    <tr>\n",
              "      <th>3</th>\n",
              "      <td>7452</td>\n",
              "      <td>ដោយសារតែ បើកបរ លឿន ជិត ៗ គ្នា ពេក  រថយន្ត ៦ គ្...</td>\n",
              "      <td>accident</td>\n",
              "      <td>1</td>\n",
              "    </tr>\n",
              "    <tr>\n",
              "      <th>4</th>\n",
              "      <td>7474</td>\n",
              "      <td>គ្មាន ទៀត ទេ រថយន្តក្រុង ប្រើ សាំង !  សៀង ហៃ ក...</td>\n",
              "      <td>no_accident</td>\n",
              "      <td>0</td>\n",
              "    </tr>\n",
              "    <tr>\n",
              "      <th>...</th>\n",
              "      <td>...</td>\n",
              "      <td>...</td>\n",
              "      <td>...</td>\n",
              "      <td>...</td>\n",
              "    </tr>\n",
              "    <tr>\n",
              "      <th>495</th>\n",
              "      <td>22646</td>\n",
              "      <td>ទម្រង់ ចង្កា អាច បង្ហាញ ពី អត្តចរិត និង ជោគវាស...</td>\n",
              "      <td>no_accident</td>\n",
              "      <td>0</td>\n",
              "    </tr>\n",
              "    <tr>\n",
              "      <th>496</th>\n",
              "      <td>22647</td>\n",
              "      <td>ជា នារី ដែល គួរឲ្យ ស្រឡាញ់  និង មើលទៅ មាន ទំនុ...</td>\n",
              "      <td>no_accident</td>\n",
              "      <td>0</td>\n",
              "    </tr>\n",
              "    <tr>\n",
              "      <th>497</th>\n",
              "      <td>22688</td>\n",
              "      <td>Pub  Street  នឹង ប្រែ មុខមាត់ ថ្មី  ជាមួយនឹង ក...</td>\n",
              "      <td>no_accident</td>\n",
              "      <td>0</td>\n",
              "    </tr>\n",
              "    <tr>\n",
              "      <th>498</th>\n",
              "      <td>22776</td>\n",
              "      <td>អង្គការ អូតង់  រៀបចំ ចំណាត់ការ ទប់ទល់ នឹង ការប...</td>\n",
              "      <td>no_accident</td>\n",
              "      <td>0</td>\n",
              "    </tr>\n",
              "    <tr>\n",
              "      <th>499</th>\n",
              "      <td>22787</td>\n",
              "      <td>ឪពុក ម្ដាយ ស្រែក យំ !  ពេទ្យ ប្រាប់ ថា ត្រៀម ធ...</td>\n",
              "      <td>no_accident</td>\n",
              "      <td>0</td>\n",
              "    </tr>\n",
              "  </tbody>\n",
              "</table>\n",
              "<p>500 rows × 4 columns</p>\n",
              "</div>"
            ],
            "text/plain": [
              "     <built-in function id>  ... label\n",
              "0                      5279  ...     0\n",
              "1                      5831  ...     0\n",
              "2                      6385  ...     0\n",
              "3                      7452  ...     1\n",
              "4                      7474  ...     0\n",
              "..                      ...  ...   ...\n",
              "495                   22646  ...     0\n",
              "496                   22647  ...     0\n",
              "497                   22688  ...     0\n",
              "498                   22776  ...     0\n",
              "499                   22787  ...     0\n",
              "\n",
              "[500 rows x 4 columns]"
            ]
          },
          "metadata": {
            "tags": []
          },
          "execution_count": 61
        }
      ]
    },
    {
      "cell_type": "code",
      "metadata": {
        "id": "WONXWPNnR-lX",
        "colab_type": "code",
        "colab": {}
      },
      "source": [
        "train_df = df[0:400]\n",
        "test_df = df[400:]"
      ],
      "execution_count": 0,
      "outputs": []
    },
    {
      "cell_type": "code",
      "metadata": {
        "id": "Flacnz9WRP1N",
        "colab_type": "code",
        "colab": {}
      },
      "source": [
        "# correct mislabels -- see these info in interpretation section\n",
        "df.at[76, 'label'] = 0\n",
        "df.at[246, 'label'] = 0\n",
        "df.at[140, 'label'] = 1\n",
        "train_df.at[76, 'label'] = 0\n",
        "train_df.at[246, 'label'] = 0\n",
        "train_df.at[140, 'label'] = 1\n",
        "train_df.at[22, 'label'] = 1\n",
        "train_df.at[29, 'label'] = 1"
      ],
      "execution_count": 0,
      "outputs": []
    },
    {
      "cell_type": "code",
      "metadata": {
        "id": "rul7TCT4ZKMD",
        "colab_type": "code",
        "outputId": "525f0057-7eac-4868-85db-b0a280577562",
        "colab": {
          "base_uri": "https://localhost:8080/",
          "height": 71
        }
      },
      "source": [
        "print(train_df['text'][395])\n",
        "print(train_df['label'][395])"
      ],
      "execution_count": 0,
      "outputs": [
        {
          "output_type": "stream",
          "text": [
            "អ្នក ជិះ បញ្ច្រាស រង្វង់ មូល វិមាន ឯករាជ្យ នៅតែ បន្ត មាន ,  ក្នុង យប់ មិញ  សមត្ថកិច្ច ឃាត់ បាន យានយន្ត ចំនួន ៩ គ្រឿង ថែម ទៀត  ( ភ្នំពេញ ) ៖  អ្នក ជិះ បញ្ច្រាស នៅ រង្វង់ មូល វិមាន ឯករាជ្យ  នៅតែ បន្ត កើតមាន ស្ទើរ ជា រៀងរាល់ ថ្ងៃ  បើ ទោះបីជា សមត្ថកិច្ច  និង អាជ្ញាធរ ដាក់ កម្លាំង ប្រចាំ ការស្ទាក់ ចាប់  ទាំង យប់ ទាំង ថ្ងៃ ក្តី  ជាក់ស្តែង នៅ យប់ មិញ ថ្ងៃទី ១០  ខែកុម្ភៈ  ឆ្នាំ ២០១៩  សមត្ថកិច្ច អនុវត្តន៍ ច្បាប់  និង អាជ្ញាធរ បាន ឃាត់ បាន  យានយន្ត ចំនួន ០៩ គ្រឿង  បញ្ជូន ទៅ ស្នងការដ្ឋាន នគរបាល រាជធានី ភ្នំពេញ ។ របាយការណ៍ របស់ អាជ្ញាធរ ខណ្ឌ ដូនពេញ  បាន ឲ្យដឹង ថា  នៅ ថ្ងៃទី ១០  ខែកុម្ភៈ  ឆ្នាំ ២០១៩  ចាប់ពី ម៉ោង ០៧៖០០ នាទី ព្រឹក  ដល់ ម៉ោង ១០៖០០ នាទី យប់  កម្លាំង គណៈ បញ្ជាការ ឯកភាព ខណ្ឌ ដូនពេញ  សហការ ជាមួយ ការិយាល័យ ចរាចរណ៍ ជើង គោក  នៃ ស្នងការដ្ឋាន នគរបាល រាជធានី ភ្នំពេញ  អនុវត្ត យុទ្ធនាការ ឃាត់ ម៉ូតូ  និង រថយន្ត  បើក បញ្ច្រាស ទិសដៅ ចរាចរណ៍  នៅ រង្វង់ មូល ជុំវិញ វិមាន ឯករាជ្យ  និង ផ្លូវ ព្រះសុរាម្រឹត  ស្ថិត ក្នុង សង្កាត់ ចតុមុខ  ខណ្ឌ ដូនពេញ  ឃាត់ យានយន្ត សរុប ចំនួន ០៩ គ្រឿង  ក្នុង នោះ រួមមាន៖  ម៉ូតូ ៨ គ្រឿង  និង រ៉ឺម៉ក ១ គ្រឿង ។ បច្ចុប្បន្ន យានយន្ត ទាំងនោះ  បាន បញ្ជូន ទៅ ការិយាល័យ ចរាចរណ៍  ជើង គោក នៃ ស្នងការដ្ឋាន នគរបាល រាជធានី ភ្នំពេញ  ដើម្បី ធ្វើ កាអប់រំ ណែនាំ បន្ត តាម នីតិវិធី ៕\n",
            "0\n"
          ],
          "name": "stdout"
        }
      ]
    },
    {
      "cell_type": "code",
      "metadata": {
        "id": "F2PHXkEzSU6M",
        "colab_type": "code",
        "outputId": "75a9e6c9-ea16-4ae2-bd4a-7cbce370384b",
        "colab": {
          "base_uri": "https://localhost:8080/",
          "height": 419
        }
      },
      "source": [
        "#train_df\n",
        "train_df.loc[train_df['label'] == 1] #130/400"
      ],
      "execution_count": 0,
      "outputs": [
        {
          "output_type": "execute_result",
          "data": {
            "text/html": [
              "<div>\n",
              "<style scoped>\n",
              "    .dataframe tbody tr th:only-of-type {\n",
              "        vertical-align: middle;\n",
              "    }\n",
              "\n",
              "    .dataframe tbody tr th {\n",
              "        vertical-align: top;\n",
              "    }\n",
              "\n",
              "    .dataframe thead th {\n",
              "        text-align: right;\n",
              "    }\n",
              "</style>\n",
              "<table border=\"1\" class=\"dataframe\">\n",
              "  <thead>\n",
              "    <tr style=\"text-align: right;\">\n",
              "      <th></th>\n",
              "      <th>&lt;built-in function id&gt;</th>\n",
              "      <th>text</th>\n",
              "      <th>cat</th>\n",
              "      <th>label</th>\n",
              "    </tr>\n",
              "  </thead>\n",
              "  <tbody>\n",
              "    <tr>\n",
              "      <th>3</th>\n",
              "      <td>7452</td>\n",
              "      <td>ដោយសារតែ បើកបរ លឿន ជិត ៗ គ្នា ពេក  រថយន្ត ៦ គ្...</td>\n",
              "      <td>accident</td>\n",
              "      <td>1</td>\n",
              "    </tr>\n",
              "    <tr>\n",
              "      <th>5</th>\n",
              "      <td>7513</td>\n",
              "      <td>រថយន្ត តារា កំប្លែង ជើង ចាស់  នាយ កុយ  បែក កង់...</td>\n",
              "      <td>accident</td>\n",
              "      <td>1</td>\n",
              "    </tr>\n",
              "    <tr>\n",
              "      <th>6</th>\n",
              "      <td>7516</td>\n",
              "      <td>ជនជាតិ យូក្រែន ម្នាក់  ក្រឡាប់ រថយន្ត នៅ ស្រុក...</td>\n",
              "      <td>accident</td>\n",
              "      <td>1</td>\n",
              "    </tr>\n",
              "    <tr>\n",
              "      <th>9</th>\n",
              "      <td>7754</td>\n",
              "      <td>បុរស ម្នាក់  បាន ស្លាប់ បាត់បង់ជីវិត ភ្លាម ៗ  ...</td>\n",
              "      <td>accident</td>\n",
              "      <td>1</td>\n",
              "    </tr>\n",
              "    <tr>\n",
              "      <th>10</th>\n",
              "      <td>7765</td>\n",
              "      <td>ឲ្យ ក្មេង មិន ទាន់ គ្រប់ អាយុ បើក ឡាន  បុក គេ ...</td>\n",
              "      <td>accident</td>\n",
              "      <td>1</td>\n",
              "    </tr>\n",
              "    <tr>\n",
              "      <th>...</th>\n",
              "      <td>...</td>\n",
              "      <td>...</td>\n",
              "      <td>...</td>\n",
              "      <td>...</td>\n",
              "    </tr>\n",
              "    <tr>\n",
              "      <th>392</th>\n",
              "      <td>19990</td>\n",
              "      <td>សូម កុំ បើកបរ ហួស ល្បឿន កំណត់ !  ស្លាប់ ១០ នាក...</td>\n",
              "      <td>accident</td>\n",
              "      <td>1</td>\n",
              "    </tr>\n",
              "    <tr>\n",
              "      <th>393</th>\n",
              "      <td>20002</td>\n",
              "      <td>យុទ្ធនាការ រឹតបន្ដឹង ច្បាប់ ចរាចរណ៍ ទូទាំង ប្រ...</td>\n",
              "      <td>accident</td>\n",
              "      <td>1</td>\n",
              "    </tr>\n",
              "    <tr>\n",
              "      <th>394</th>\n",
              "      <td>20004</td>\n",
              "      <td>ស្លាប់ ១០ នាក់  និង របួស ២១ នាក់  ក្នុង គ្រោះថ...</td>\n",
              "      <td>accident</td>\n",
              "      <td>1</td>\n",
              "    </tr>\n",
              "    <tr>\n",
              "      <th>396</th>\n",
              "      <td>20052</td>\n",
              "      <td>ម៉េច ចឹង !  គូស្នេហ៍ មួយ គូ នេះ ឡើង ផ្អើល គេ ឯ...</td>\n",
              "      <td>accident</td>\n",
              "      <td>1</td>\n",
              "    </tr>\n",
              "    <tr>\n",
              "      <th>398</th>\n",
              "      <td>20068</td>\n",
              "      <td>កម្មករ បើក រថយន្ត ចេញ ពី លាង  បុក រុញ គូទ រថយន...</td>\n",
              "      <td>accident</td>\n",
              "      <td>1</td>\n",
              "    </tr>\n",
              "  </tbody>\n",
              "</table>\n",
              "<p>130 rows × 4 columns</p>\n",
              "</div>"
            ],
            "text/plain": [
              "     <built-in function id>  ... label\n",
              "3                      7452  ...     1\n",
              "5                      7513  ...     1\n",
              "6                      7516  ...     1\n",
              "9                      7754  ...     1\n",
              "10                     7765  ...     1\n",
              "..                      ...  ...   ...\n",
              "392                   19990  ...     1\n",
              "393                   20002  ...     1\n",
              "394                   20004  ...     1\n",
              "396                   20052  ...     1\n",
              "398                   20068  ...     1\n",
              "\n",
              "[130 rows x 4 columns]"
            ]
          },
          "metadata": {
            "tags": []
          },
          "execution_count": 64
        }
      ]
    },
    {
      "cell_type": "code",
      "metadata": {
        "id": "cn50f_NdSYO7",
        "colab_type": "code",
        "outputId": "cd549c9a-d196-4063-f2c5-5906eab78a03",
        "colab": {
          "base_uri": "https://localhost:8080/",
          "height": 1000
        }
      },
      "source": [
        "test_df.loc[test_df['label']==1] # 41/100"
      ],
      "execution_count": 0,
      "outputs": [
        {
          "output_type": "execute_result",
          "data": {
            "text/html": [
              "<div>\n",
              "<style scoped>\n",
              "    .dataframe tbody tr th:only-of-type {\n",
              "        vertical-align: middle;\n",
              "    }\n",
              "\n",
              "    .dataframe tbody tr th {\n",
              "        vertical-align: top;\n",
              "    }\n",
              "\n",
              "    .dataframe thead th {\n",
              "        text-align: right;\n",
              "    }\n",
              "</style>\n",
              "<table border=\"1\" class=\"dataframe\">\n",
              "  <thead>\n",
              "    <tr style=\"text-align: right;\">\n",
              "      <th></th>\n",
              "      <th>&lt;built-in function id&gt;</th>\n",
              "      <th>text</th>\n",
              "      <th>cat</th>\n",
              "      <th>label</th>\n",
              "    </tr>\n",
              "  </thead>\n",
              "  <tbody>\n",
              "    <tr>\n",
              "      <th>403</th>\n",
              "      <td>20150</td>\n",
              "      <td>ជិះ ម៉ូតូ ឆ្លងកាត់ ផ្លូវ ខ្វះ ការប្រុងប្រយ័ត្ន...</td>\n",
              "      <td>accident</td>\n",
              "      <td>1</td>\n",
              "    </tr>\n",
              "    <tr>\n",
              "      <th>407</th>\n",
              "      <td>20230</td>\n",
              "      <td>ពន្លះ ឡើង ខ្ទេច ហើយ រត់  មាន អី បងប្អូន ប្រជាព...</td>\n",
              "      <td>accident</td>\n",
              "      <td>1</td>\n",
              "    </tr>\n",
              "    <tr>\n",
              "      <th>409</th>\n",
              "      <td>20301</td>\n",
              "      <td>រថយន្ត បែន ដឹក ដី  បើក បុក រថភ្លើង  ធ្លាក់ ក្ប...</td>\n",
              "      <td>accident</td>\n",
              "      <td>1</td>\n",
              "    </tr>\n",
              "    <tr>\n",
              "      <th>412</th>\n",
              "      <td>20332</td>\n",
              "      <td>អ្នកបើក ឡាន ធំ ត្រូវតែ ដឹង ... ចៀស កើត ហេតុការ...</td>\n",
              "      <td>accident</td>\n",
              "      <td>1</td>\n",
              "    </tr>\n",
              "    <tr>\n",
              "      <th>413</th>\n",
              "      <td>20334</td>\n",
              "      <td>រន្ធត់ !  ជនជាតិ កូរ៉េ បើក រថយន្ត ឡិចស៊ីស  RX3...</td>\n",
              "      <td>accident</td>\n",
              "      <td>1</td>\n",
              "    </tr>\n",
              "    <tr>\n",
              "      <th>414</th>\n",
              "      <td>20376</td>\n",
              "      <td>រថភ្លើង  និង រថយន្ដ បុក គ្នា  នៅ ស្រុក ព្រៃ នប...</td>\n",
              "      <td>accident</td>\n",
              "      <td>1</td>\n",
              "    </tr>\n",
              "    <tr>\n",
              "      <th>415</th>\n",
              "      <td>20386</td>\n",
              "      <td>ទៀត ... រថភ្លើង និង ឡាន ជល់ គ្នា យ៉ាង ញាក់ សាច...</td>\n",
              "      <td>accident</td>\n",
              "      <td>1</td>\n",
              "    </tr>\n",
              "    <tr>\n",
              "      <th>416</th>\n",
              "      <td>20449</td>\n",
              "      <td>រថយន្ត បែន កង់ ១០ មួយ គ្រឿង  បើក ក្នុង ល្បឿន ល...</td>\n",
              "      <td>accident</td>\n",
              "      <td>1</td>\n",
              "    </tr>\n",
              "    <tr>\n",
              "      <th>417</th>\n",
              "      <td>20451</td>\n",
              "      <td>រថយន្ដ បែន ដឹក ដី មួយ គ្រឿង  បុក គ្នា ជាមួយ រថ...</td>\n",
              "      <td>accident</td>\n",
              "      <td>1</td>\n",
              "    </tr>\n",
              "    <tr>\n",
              "      <th>418</th>\n",
              "      <td>20455</td>\n",
              "      <td>រថភ្លើង  និង រថយន្ដ បុក គ្នា  នៅ ស្រុក ព្រៃ នប...</td>\n",
              "      <td>accident</td>\n",
              "      <td>1</td>\n",
              "    </tr>\n",
              "    <tr>\n",
              "      <th>419</th>\n",
              "      <td>20456</td>\n",
              "      <td>មួយ គ្រឿង ពន្លះ ពីក្រោយ រថយន្ត បែន  របួស ធ្ងន់...</td>\n",
              "      <td>accident</td>\n",
              "      <td>1</td>\n",
              "    </tr>\n",
              "    <tr>\n",
              "      <th>420</th>\n",
              "      <td>20459</td>\n",
              "      <td>រន្ធត់ ប៉ុណ្ណា ទៅ នេះ  !  រទេះភ្លើង បាន បុក ប៉...</td>\n",
              "      <td>accident</td>\n",
              "      <td>1</td>\n",
              "    </tr>\n",
              "    <tr>\n",
              "      <th>421</th>\n",
              "      <td>20467</td>\n",
              "      <td>តើ ជា កំហុស អ្នកណា ?  ម៉ូតូ ស្កុប ពី  ២ គ្រឿង ...</td>\n",
              "      <td>accident</td>\n",
              "      <td>1</td>\n",
              "    </tr>\n",
              "    <tr>\n",
              "      <th>422</th>\n",
              "      <td>20469</td>\n",
              "      <td>រន្ធត់ !  ជិះ ម៉ូតូ ឌុប គ្នា  បើក វ៉ា រថយន្ត ម...</td>\n",
              "      <td>accident</td>\n",
              "      <td>1</td>\n",
              "    </tr>\n",
              "    <tr>\n",
              "      <th>425</th>\n",
              "      <td>20587</td>\n",
              "      <td>ចេញពី ការ មិត្តភក្តិ មក ស្រាប់តែ … អូស ទម្លាក់...</td>\n",
              "      <td>accident</td>\n",
              "      <td>1</td>\n",
              "    </tr>\n",
              "    <tr>\n",
              "      <th>426</th>\n",
              "      <td>20593</td>\n",
              "      <td>បើក សុខ ៗ ផ្ទុះ បែក កង់  ខ្ទាត ក្បាល នាគ  ផ្អើ...</td>\n",
              "      <td>accident</td>\n",
              "      <td>1</td>\n",
              "    </tr>\n",
              "    <tr>\n",
              "      <th>427</th>\n",
              "      <td>20595</td>\n",
              "      <td>ជនជាតិ កូរ៉េ បើក ឡិចស៊ីស ពន្លះ ២ គ្រឿង យ៉ាង រន...</td>\n",
              "      <td>accident</td>\n",
              "      <td>1</td>\n",
              "    </tr>\n",
              "    <tr>\n",
              "      <th>429</th>\n",
              "      <td>20608</td>\n",
              "      <td>ជនជាតិ កូរ៉េ  បើក រថយន្ត បុក ម៉ូតូ  រួច បន្ត ប...</td>\n",
              "      <td>accident</td>\n",
              "      <td>1</td>\n",
              "    </tr>\n",
              "    <tr>\n",
              "      <th>435</th>\n",
              "      <td>20637</td>\n",
              "      <td>រថភ្លើង និង រថយន្ដ បុក គ្នា បណ្តាលឲ្យ ធ្លាក់ ក...</td>\n",
              "      <td>accident</td>\n",
              "      <td>1</td>\n",
              "    </tr>\n",
              "    <tr>\n",
              "      <th>436</th>\n",
              "      <td>20667</td>\n",
              "      <td>រថយន្ត បែន ដឹក  បុក ជាមួយ រថភ្លើង នៅ ស្រុក ព្រ...</td>\n",
              "      <td>accident</td>\n",
              "      <td>1</td>\n",
              "    </tr>\n",
              "    <tr>\n",
              "      <th>438</th>\n",
              "      <td>20688</td>\n",
              "      <td>រថយន្ត ធុន ធ្ងន់  បុក រថភ្លើង នៅ ព្រះសីហនុ  តែ...</td>\n",
              "      <td>accident</td>\n",
              "      <td>1</td>\n",
              "    </tr>\n",
              "    <tr>\n",
              "      <th>439</th>\n",
              "      <td>20690</td>\n",
              "      <td>ប្រពន្ធ ខ្លោច ចិត្ត ដូច ស្ល ឈាម ទាំង រស់ ក្រោយ...</td>\n",
              "      <td>accident</td>\n",
              "      <td>1</td>\n",
              "    </tr>\n",
              "    <tr>\n",
              "      <th>442</th>\n",
              "      <td>20892</td>\n",
              "      <td>បើកបរ សូម ប្រុងប្រយ័ត្ន គ្រប់ វិនាទី !  ស្លាប់...</td>\n",
              "      <td>accident</td>\n",
              "      <td>1</td>\n",
              "    </tr>\n",
              "    <tr>\n",
              "      <th>443</th>\n",
              "      <td>20903</td>\n",
              "      <td>ចាញ់ ល្បែង បែក គំនិត យក ម៉ូតូ គេ លក់  ជាប់ ខ្ន...</td>\n",
              "      <td>accident</td>\n",
              "      <td>1</td>\n",
              "    </tr>\n",
              "    <tr>\n",
              "      <th>444</th>\n",
              "      <td>20908</td>\n",
              "      <td>ស្លាប់ ៤ នាក់  និង របួស ១៩ នាក់  ក្នុង គ្រោះថ្...</td>\n",
              "      <td>accident</td>\n",
              "      <td>1</td>\n",
              "    </tr>\n",
              "    <tr>\n",
              "      <th>445</th>\n",
              "      <td>20917</td>\n",
              "      <td>ស្លាប់ ទាំង ព្រឹក ព្រលឹម  !  រថយន្ដ សាលារៀន  B...</td>\n",
              "      <td>accident</td>\n",
              "      <td>1</td>\n",
              "    </tr>\n",
              "    <tr>\n",
              "      <th>449</th>\n",
              "      <td>21019</td>\n",
              "      <td>ជិះ ម៉ូតូ ឡើង វ៉ា រថយន្ត  មិន ប្រយ័ត្ន  ទៅ បុក...</td>\n",
              "      <td>accident</td>\n",
              "      <td>1</td>\n",
              "    </tr>\n",
              "    <tr>\n",
              "      <th>450</th>\n",
              "      <td>21054</td>\n",
              "      <td>គ្រោះថ្នាក់ ក្នុង រយៈពេល ១ ថ្ងៃ  ស្លាប់ ៤ នាក់...</td>\n",
              "      <td>accident</td>\n",
              "      <td>1</td>\n",
              "    </tr>\n",
              "    <tr>\n",
              "      <th>451</th>\n",
              "      <td>21055</td>\n",
              "      <td>ប្តី ឌុប ប្រពន្ធ មាន ផ្ទៃពោះ ជិត គ្រប់ ខែ ជួប ...</td>\n",
              "      <td>accident</td>\n",
              "      <td>1</td>\n",
              "    </tr>\n",
              "    <tr>\n",
              "      <th>452</th>\n",
              "      <td>21057</td>\n",
              "      <td>បុរស ម្នាក់  និង នារី ម្នាក់ បើក សុខ ៗ ស្រាប់ត...</td>\n",
              "      <td>accident</td>\n",
              "      <td>1</td>\n",
              "    </tr>\n",
              "    <tr>\n",
              "      <th>453</th>\n",
              "      <td>21059</td>\n",
              "      <td>ពន្លះ មួយ គ្រឿង រន្ធត់ ទាំង ព្រលឹម អុរ តាម បណ្...</td>\n",
              "      <td>accident</td>\n",
              "      <td>1</td>\n",
              "    </tr>\n",
              "    <tr>\n",
              "      <th>454</th>\n",
              "      <td>21079</td>\n",
              "      <td>ម៉ូតូកង់ បី ឥណ្ឌា  ២ គ្រឿង  បុក គ្នា ពេញ ទំហឹង...</td>\n",
              "      <td>accident</td>\n",
              "      <td>1</td>\n",
              "    </tr>\n",
              "    <tr>\n",
              "      <th>455</th>\n",
              "      <td>21118</td>\n",
              "      <td>រថយន្ត Nissan  ចង្កូត ស្ដាំ  បុក ម៉ូតូ ១ គ្រឿង...</td>\n",
              "      <td>accident</td>\n",
              "      <td>1</td>\n",
              "    </tr>\n",
              "    <tr>\n",
              "      <th>458</th>\n",
              "      <td>21241</td>\n",
              "      <td>តា អាចារ្យ ម្នាក់  កំពុង ជិះ កង់  ត្រូវ រថយន្ត...</td>\n",
              "      <td>accident</td>\n",
              "      <td>1</td>\n",
              "    </tr>\n",
              "    <tr>\n",
              "      <th>459</th>\n",
              "      <td>21270</td>\n",
              "      <td>បើកបរ រថយន្ត  LEXUS ក្នុង ល្បឿន លឿន  គ្រប់គ្រង...</td>\n",
              "      <td>accident</td>\n",
              "      <td>1</td>\n",
              "    </tr>\n",
              "    <tr>\n",
              "      <th>460</th>\n",
              "      <td>21295</td>\n",
              "      <td>រន្ធត់ !  រថយន្ត Nissan  Diesel  បើក បុក ម៉ូតូ...</td>\n",
              "      <td>accident</td>\n",
              "      <td>1</td>\n",
              "    </tr>\n",
              "    <tr>\n",
              "      <th>461</th>\n",
              "      <td>21297</td>\n",
              "      <td>លោកតា អាចារ្យ ម្នាក់  ជិះ កង់ ឆ្លង ផ្លូវ  ត្រូ...</td>\n",
              "      <td>accident</td>\n",
              "      <td>1</td>\n",
              "    </tr>\n",
              "    <tr>\n",
              "      <th>462</th>\n",
              "      <td>21397</td>\n",
              "      <td>រថយន្ត ដឹក ត្រី ១ គ្រឿង បើក ចេញ ពី កំពង់ផែ  ក្...</td>\n",
              "      <td>accident</td>\n",
              "      <td>1</td>\n",
              "    </tr>\n",
              "    <tr>\n",
              "      <th>464</th>\n",
              "      <td>21434</td>\n",
              "      <td>អាសូរ ណាស់ !  លោកតា អាចារ្យ  អាយុ ៨១ ឆ្នាំ  ជិ...</td>\n",
              "      <td>accident</td>\n",
              "      <td>1</td>\n",
              "    </tr>\n",
              "    <tr>\n",
              "      <th>466</th>\n",
              "      <td>21460</td>\n",
              "      <td>( ព័ត៌មាន បឋម )  រថយន្ត សាំ យ៉ុង  ពន្លះ គ្នា ជ...</td>\n",
              "      <td>accident</td>\n",
              "      <td>1</td>\n",
              "    </tr>\n",
              "    <tr>\n",
              "      <th>467</th>\n",
              "      <td>21461</td>\n",
              "      <td>រន្ធត់ !  ម៉ូតូ ២ គ្រឿង បុក គ្នា  ខ្ទាត ចូល រថ...</td>\n",
              "      <td>accident</td>\n",
              "      <td>1</td>\n",
              "    </tr>\n",
              "  </tbody>\n",
              "</table>\n",
              "</div>"
            ],
            "text/plain": [
              "     <built-in function id>  ... label\n",
              "403                   20150  ...     1\n",
              "407                   20230  ...     1\n",
              "409                   20301  ...     1\n",
              "412                   20332  ...     1\n",
              "413                   20334  ...     1\n",
              "414                   20376  ...     1\n",
              "415                   20386  ...     1\n",
              "416                   20449  ...     1\n",
              "417                   20451  ...     1\n",
              "418                   20455  ...     1\n",
              "419                   20456  ...     1\n",
              "420                   20459  ...     1\n",
              "421                   20467  ...     1\n",
              "422                   20469  ...     1\n",
              "425                   20587  ...     1\n",
              "426                   20593  ...     1\n",
              "427                   20595  ...     1\n",
              "429                   20608  ...     1\n",
              "435                   20637  ...     1\n",
              "436                   20667  ...     1\n",
              "438                   20688  ...     1\n",
              "439                   20690  ...     1\n",
              "442                   20892  ...     1\n",
              "443                   20903  ...     1\n",
              "444                   20908  ...     1\n",
              "445                   20917  ...     1\n",
              "449                   21019  ...     1\n",
              "450                   21054  ...     1\n",
              "451                   21055  ...     1\n",
              "452                   21057  ...     1\n",
              "453                   21059  ...     1\n",
              "454                   21079  ...     1\n",
              "455                   21118  ...     1\n",
              "458                   21241  ...     1\n",
              "459                   21270  ...     1\n",
              "460                   21295  ...     1\n",
              "461                   21297  ...     1\n",
              "462                   21397  ...     1\n",
              "464                   21434  ...     1\n",
              "466                   21460  ...     1\n",
              "467                   21461  ...     1\n",
              "\n",
              "[41 rows x 4 columns]"
            ]
          },
          "metadata": {
            "tags": []
          },
          "execution_count": 65
        }
      ]
    },
    {
      "cell_type": "markdown",
      "metadata": {
        "id": "k6gTSZzMrht5",
        "colab_type": "text"
      },
      "source": [
        "## Sentiment analysis"
      ]
    },
    {
      "cell_type": "markdown",
      "metadata": {
        "id": "nMH2IszGrht6",
        "colab_type": "text"
      },
      "source": [
        "### Language model"
      ]
    },
    {
      "cell_type": "code",
      "metadata": {
        "id": "BIiaLvMXrhuA",
        "colab_type": "code",
        "colab": {}
      },
      "source": [
        "df = pd.concat([train_df,test_df], sort=False)"
      ],
      "execution_count": 0,
      "outputs": []
    },
    {
      "cell_type": "code",
      "metadata": {
        "id": "hiwtb-5gQj7R",
        "colab_type": "code",
        "colab": {}
      },
      "source": [
        "path = Path('kmwiki_data')\n",
        "#path = Path('drive/My Drive/khmer_ulmfit')\n",
        "\n",
        "#!ls \"drive/My Drive/khmer_ulmfit/models/km_wt_vocab.pkl\"\n",
        "#data_lm\n",
        "#path.ls()"
      ],
      "execution_count": 0,
      "outputs": []
    },
    {
      "cell_type": "code",
      "metadata": {
        "id": "yBuk_0BgrhuD",
        "colab_type": "code",
        "outputId": "d1b0e64c-68cc-4e17-8feb-26f71af4c2de",
        "colab": {
          "base_uri": "https://localhost:8080/",
          "height": 17
        }
      },
      "source": [
        "data_lm = (TextList.from_df(df, path, cols='text')\n",
        "    .split_by_rand_pct(0.1, seed=42) #0.1 to 0.2\n",
        "    .label_for_lm()           \n",
        "    .databunch(bs=bs, num_workers=1))"
      ],
      "execution_count": 0,
      "outputs": [
        {
          "output_type": "display_data",
          "data": {
            "text/html": [
              ""
            ],
            "text/plain": [
              "<IPython.core.display.HTML object>"
            ]
          },
          "metadata": {
            "tags": []
          }
        },
        {
          "output_type": "display_data",
          "data": {
            "text/html": [
              ""
            ],
            "text/plain": [
              "<IPython.core.display.HTML object>"
            ]
          },
          "metadata": {
            "tags": []
          }
        }
      ]
    },
    {
      "cell_type": "code",
      "metadata": {
        "id": "tBtqq3T_rhuE",
        "colab_type": "code",
        "colab": {}
      },
      "source": [
        "learn_lm = language_model_learner(data_lm, AWD_LSTM, pretrained_fnames=lm_fns, drop_mult=1.0)"
      ],
      "execution_count": 0,
      "outputs": []
    },
    {
      "cell_type": "code",
      "metadata": {
        "id": "jkTUqP8XrhuG",
        "colab_type": "code",
        "colab": {}
      },
      "source": [
        "lr = 1e-3\n",
        "lr *= bs/48"
      ],
      "execution_count": 0,
      "outputs": []
    },
    {
      "cell_type": "code",
      "metadata": {
        "id": "ntNMO6QsrhuI",
        "colab_type": "code",
        "outputId": "86cd4823-e904-463a-a63e-0cf238961f4b",
        "colab": {
          "base_uri": "https://localhost:8080/",
          "height": 111
        }
      },
      "source": [
        "learn_lm.fit_one_cycle(2, lr*10, moms=(0.8,0.7))\n",
        "#0\t5.595953\t4.762003\t0.195926\t00:05\n",
        "#1\t5.117899\t4.595739\t0.206473\t00:05\n",
        "#5k crf\n",
        "#0\t4.323324\t3.677873\t0.313185\t00:03\n",
        "#1\t4.132768\t3.627848\t0.318512\t00:03\n",
        "#1k crf 20% test\n",
        "#0\t4.839848\t4.089501\t0.268036\t00:06\n",
        "#1\t4.562537\t4.006660\t0.276548\t00:06"
      ],
      "execution_count": 0,
      "outputs": [
        {
          "output_type": "display_data",
          "data": {
            "text/html": [
              "<table border=\"1\" class=\"dataframe\">\n",
              "  <thead>\n",
              "    <tr style=\"text-align: left;\">\n",
              "      <th>epoch</th>\n",
              "      <th>train_loss</th>\n",
              "      <th>valid_loss</th>\n",
              "      <th>accuracy</th>\n",
              "      <th>time</th>\n",
              "    </tr>\n",
              "  </thead>\n",
              "  <tbody>\n",
              "    <tr>\n",
              "      <td>0</td>\n",
              "      <td>4.835725</td>\n",
              "      <td>4.126636</td>\n",
              "      <td>0.270893</td>\n",
              "      <td>00:06</td>\n",
              "    </tr>\n",
              "    <tr>\n",
              "      <td>1</td>\n",
              "      <td>4.544458</td>\n",
              "      <td>4.041156</td>\n",
              "      <td>0.276548</td>\n",
              "      <td>00:07</td>\n",
              "    </tr>\n",
              "  </tbody>\n",
              "</table>"
            ],
            "text/plain": [
              "<IPython.core.display.HTML object>"
            ]
          },
          "metadata": {
            "tags": []
          }
        }
      ]
    },
    {
      "cell_type": "code",
      "metadata": {
        "id": "DumuhWSqrhuJ",
        "colab_type": "code",
        "outputId": "6133eeaf-eb04-4abb-ca2a-316336df3e20",
        "colab": {
          "base_uri": "https://localhost:8080/",
          "height": 359
        }
      },
      "source": [
        "learn_lm.unfreeze()\n",
        "learn_lm.fit_one_cycle(10, lr, moms=(0.8,0.7)) #18 total\n",
        "#0\t4.542891\t4.241218\t0.245313\t00:06\n",
        "#7\t3.951082\t3.815118\t0.298493\t00:07\n",
        "#18\t3.416171\t3.504143\t0.335156\t00:06\n",
        "#5k crf\n",
        "#0\t3.974394\t3.611540\t0.322202\t00:04\n",
        "#9\t3.568427\t3.423896\t0.340119\t00:04\n",
        "#1k crf with 20% test\n",
        "#0\t4.371777\t3.981277\t0.277917\t00:08\n",
        "#9\t3.863489\t3.708247\t0.308304\t00:08"
      ],
      "execution_count": 0,
      "outputs": [
        {
          "output_type": "display_data",
          "data": {
            "text/html": [
              "<table border=\"1\" class=\"dataframe\">\n",
              "  <thead>\n",
              "    <tr style=\"text-align: left;\">\n",
              "      <th>epoch</th>\n",
              "      <th>train_loss</th>\n",
              "      <th>valid_loss</th>\n",
              "      <th>accuracy</th>\n",
              "      <th>time</th>\n",
              "    </tr>\n",
              "  </thead>\n",
              "  <tbody>\n",
              "    <tr>\n",
              "      <td>0</td>\n",
              "      <td>4.370144</td>\n",
              "      <td>4.009106</td>\n",
              "      <td>0.279286</td>\n",
              "      <td>00:09</td>\n",
              "    </tr>\n",
              "    <tr>\n",
              "      <td>1</td>\n",
              "      <td>4.326116</td>\n",
              "      <td>3.960132</td>\n",
              "      <td>0.282560</td>\n",
              "      <td>00:09</td>\n",
              "    </tr>\n",
              "    <tr>\n",
              "      <td>2</td>\n",
              "      <td>4.252964</td>\n",
              "      <td>3.903078</td>\n",
              "      <td>0.290536</td>\n",
              "      <td>00:09</td>\n",
              "    </tr>\n",
              "    <tr>\n",
              "      <td>3</td>\n",
              "      <td>4.159999</td>\n",
              "      <td>3.854772</td>\n",
              "      <td>0.297202</td>\n",
              "      <td>00:09</td>\n",
              "    </tr>\n",
              "    <tr>\n",
              "      <td>4</td>\n",
              "      <td>4.070383</td>\n",
              "      <td>3.796848</td>\n",
              "      <td>0.301786</td>\n",
              "      <td>00:08</td>\n",
              "    </tr>\n",
              "    <tr>\n",
              "      <td>5</td>\n",
              "      <td>3.986990</td>\n",
              "      <td>3.763078</td>\n",
              "      <td>0.306845</td>\n",
              "      <td>00:08</td>\n",
              "    </tr>\n",
              "    <tr>\n",
              "      <td>6</td>\n",
              "      <td>3.924317</td>\n",
              "      <td>3.728368</td>\n",
              "      <td>0.308690</td>\n",
              "      <td>00:09</td>\n",
              "    </tr>\n",
              "    <tr>\n",
              "      <td>7</td>\n",
              "      <td>3.880824</td>\n",
              "      <td>3.720660</td>\n",
              "      <td>0.310417</td>\n",
              "      <td>00:09</td>\n",
              "    </tr>\n",
              "    <tr>\n",
              "      <td>8</td>\n",
              "      <td>3.847347</td>\n",
              "      <td>3.724601</td>\n",
              "      <td>0.311548</td>\n",
              "      <td>00:09</td>\n",
              "    </tr>\n",
              "    <tr>\n",
              "      <td>9</td>\n",
              "      <td>3.846570</td>\n",
              "      <td>3.717937</td>\n",
              "      <td>0.311369</td>\n",
              "      <td>00:09</td>\n",
              "    </tr>\n",
              "  </tbody>\n",
              "</table>"
            ],
            "text/plain": [
              "<IPython.core.display.HTML object>"
            ]
          },
          "metadata": {
            "tags": []
          }
        }
      ]
    },
    {
      "cell_type": "code",
      "metadata": {
        "id": "2XSkJJZkrhuM",
        "colab_type": "code",
        "colab": {}
      },
      "source": [
        "learn_lm.save(f'{lang}fine_tuned')\n",
        "learn_lm.save_encoder(f'{lang}fine_tuned_enc')"
      ],
      "execution_count": 0,
      "outputs": []
    },
    {
      "cell_type": "markdown",
      "metadata": {
        "id": "QT9j4Ti1EXzV",
        "colab_type": "text"
      },
      "source": [
        "### Test model"
      ]
    },
    {
      "cell_type": "code",
      "metadata": {
        "id": "yGYT_7R8V67f",
        "colab_type": "code",
        "outputId": "669a6182-ff9f-4bd6-b12b-6eecb35f24dd",
        "colab": {
          "base_uri": "https://localhost:8080/",
          "height": 124
        }
      },
      "source": [
        "TEXT = \"អ្នក ជិះ\"\n",
        "N_WORDS = 20\n",
        "N_SENTENCES = 5\n",
        "print(\"\\n\".join(learn_lm.predict(TEXT, N_WORDS, temperature=0.75) for _ in range(N_SENTENCES)))\n",
        "#អ្នក ជិះ ម៉ូតូ បុក រះ កង់ នោះ ហើយ បង្កឲ្យ មាន គ្រោះថ្នាក់ ចរាចរណ៍ រវាង រថយន្ត បុក គ្នា និង ស្លុតចិត្ត រង ការខូចខាត ។ "
      ],
      "execution_count": 0,
      "outputs": [
        {
          "output_type": "stream",
          "text": [
            "អ្នក ជិះ ពីក្រោយ បើក ទ្វារ ផ្លូវ ជាតិ លេខ ៤ និង ផ្លូវ ជាតិ លេខ ៣ លេខ ២ តាម បណ្តោយ ផ្លូវ ជាតិ លេខ ៧\n",
            "អ្នក ជិះ ម៉ូតូ រត់ តាម ផ្លូវ ជាតិ លេខ ៣ ត្រង់ ចំណុច ស្ពាន ឈើ ៣ ខ្នង បណ្តាលឱ្យ ចាប់ផ្តើម ជិត រកឃើញ បែប នេះ !\n",
            "អ្នក ជិះ ម៉ូតូ មិន តិច ជាង ២ គ.ម និង រថយន្ត ភ្នែក ចាប់ លេខ ២៥ និង ទាញ ត ទៅ តាម ផ្លូវ ច្បាប់ នៃ\n",
            "អ្នក ជិះ ទោ ដែល មាន ទិសដៅ ក្នុង ចំណោម ជន បង្ក ជា អ្នក មាន លទ្ធភាព តិចតួច ក្នុង ការធ្វើ អត្តឃាត ជំនាញ : របាយការណ៍ របស់\n",
            "អ្នក ជិះ ម៉ូតូ ជាន់ ខ្ពស់ ៖ បុរស ម្នាក់ បើក រថយន្ដ ធ្វើអោយ អ្នកបើកបរ ម៉ូតូ ២ គ្រឿង បុក ចូល ផ្លូវ តែ ម្តង ៖ រថយន្ត\n"
          ],
          "name": "stdout"
        }
      ]
    },
    {
      "cell_type": "code",
      "metadata": {
        "id": "cTILW6DFae8v",
        "colab_type": "code",
        "outputId": "45a17e10-f571-4135-acaa-5be6a908fff9",
        "colab": {
          "base_uri": "https://localhost:8080/",
          "height": 124
        }
      },
      "source": [
        "TEXT = \"ស្រែក យំ\"\n",
        "N_WORDS = 20\n",
        "N_SENTENCES = 5\n",
        "print(\"\\n\".join(learn_lm.predict(TEXT, N_WORDS, temperature=0.75) for _ in range(N_SENTENCES)))\n",
        "#ស្រែក យំ រៀបរាប់ ថា អោយ ដី នៅ ឆ្ងាយ អាច ដោះ ចេញ ពី ដី ខ្សាច់ បាន ។"
      ],
      "execution_count": 0,
      "outputs": [
        {
          "output_type": "stream",
          "text": [
            "ស្រែក យំ ថា យក កាំភ្លើង ។ ឃើញ ថា កាំភ្លើង បាញ់ គ្រាប់ កាំភ្លើង តូច មួយ គ្រាប់ តែ ឈានដល់ បាក់ ស្រែ ។ ដោយ មូលហេតុ\n",
            "ស្រែក យំ ខ្លាំង ម្ល៉េះ ! ប្អូន ប្រុស ម្នាក់ ស្លាប់ ទៅ ហើយ ធម្មតា បាន ដួល សន្លប់ ក្នុង ថ្លុក ឈាម ហើយ បណ្តាលឲ្យ ស្លាប់ ភ្លាម\n",
            "ស្រែក យំ ថា « ខ្ញុំ លេង » ក៏ មាន ឈ្មោះ ថា « កម្ពុជា » បាន នាំគ្នា វាយ ខ្នោះ ផ្ទះ ម្នាក់ នៅ ខេត្ត\n",
            "ស្រែក យំ ប៉ូលិស ដេញ តាម មក ពីក្រោយ ក៏ រត់ មិន រួច ស្រាប់តែ មាន ម៉ូតូ ខ្មែរ ដក ទឹក ( លាង របួស ) ហើយ\n",
            "ស្រែក យំ … ស្នាម ជើង សៀមរាប ៖ រង ការខូចខាត យ៉ាង ដំណំ , មិន នឹកស្មាន ថា ករណី ឃាតកម្ម នោះ ត្រូវបាន គេ សម្លាប់ និង\n"
          ],
          "name": "stdout"
        }
      ]
    },
    {
      "cell_type": "code",
      "metadata": {
        "id": "iMpUSIlvazyn",
        "colab_type": "code",
        "outputId": "07db5de8-1ca6-4cb8-b80e-e7eae9149fa8",
        "colab": {
          "base_uri": "https://localhost:8080/",
          "height": 124
        }
      },
      "source": [
        "TEXT = \"ក្រុម ចោរ\"\n",
        "N_WORDS = 20\n",
        "N_SENTENCES = 5\n",
        "print(\"\\n\".join(learn_lm.predict(TEXT, N_WORDS, temperature=0.75) for _ in range(N_SENTENCES)))\n",
        "#ក្រុម ចោរ លួច យក ប្រាក់ ចំណេញ បាន យក ទៅ លក់ នៅ ផ្ទះ ជ្រៃ ឃុំ សង្កែ ស្រុក អង្គរ បូរី ខេត្ត កណ្តាល ។"
      ],
      "execution_count": 0,
      "outputs": [
        {
          "output_type": "stream",
          "text": [
            "ក្រុម ចោរ យក ជញ្ជីង ថ្លឹង លុយ មក លក់ លក់ នៅ កម្ពុជា ទិញ ដី ហើយ ចូល ផ្ទះ ប្រជាពលរដ្ឋ នៅ ក្រុង តាខ្មៅ ខេត្ត កណ្ដាល\n",
            "ក្រុម ចោរ លួច ទ្រព្យសម្បត្តិ យ៉ាង ច្រើន តែ មក ធ្វើ \" លួច ប្លន់ » នៅ ស្រុក សេសាន ខេត្ត ស្វាយរៀង ៖ មន្ត្រី យោធា ម្នាក់\n",
            "ក្រុម ចោរ លួច ១០០ នាក់ រត់ ទៅ វិញ បត់ គឺ ជន គល់ ផ្លូវ ស្រុក ចំនួន ៣ នាក់ បាន ស្លាប់ ដោយសារ អំពើ\n",
            "ក្រុម ចោរ លួច ឡាន នៅក្នុង បន្ទប់ ចង ក ខេត្ត ក្រចេះ ៖ បុរស ម្នាក់ ត្រូវបាន សមត្ថកិច្ច ឃាត់ខ្លួន នៅ ក្លិប កម្សាន្ត « មុខ\n",
            "ក្រុម ចោរ លួច ឃើញ ស្ត្រី ជា ប្ដី ម្នាក់ បាន រត់ ទៅ កាប់ ជាមួយ ស្ត្រី ម្នាក់ បាន ស្លាប់ បង្ក ជា ការភ្ញាក់ផ្អើល នៅ ប៉ុស្តិ៍\n"
          ],
          "name": "stdout"
        }
      ]
    },
    {
      "cell_type": "code",
      "metadata": {
        "id": "tmrEgUxWbMk4",
        "colab_type": "code",
        "outputId": "4841601e-45ea-4cad-c285-db736e41b894",
        "colab": {
          "base_uri": "https://localhost:8080/",
          "height": 122
        }
      },
      "source": [
        "TEXT = \"អត្តសញ្ញាណ\"\n",
        "N_WORDS = 50\n",
        "N_SENTENCES = 5\n",
        "print(\"\\n\".join(learn_lm.predict(TEXT, N_WORDS, temperature=0.2) for _ in range(N_SENTENCES)))"
      ],
      "execution_count": 0,
      "outputs": [
        {
          "output_type": "stream",
          "text": [
            "អត្តសញ្ញាណ របស់ អ្នក មាន ដំណើរ ក្នុង រឿង នេះ ។ បើ អ្នក ចង់ ដឹង ថា អ្នក មាន ចិត្ត ល្អ មែន ទេ អ្នក នឹង អាច ធ្វើ បាន ។ បើ អ្នក ចង់ ដឹង ថា អ្នក ពិតជា មាន ចិត្ត ល្អ មែន ទេ អ្នក នឹង អាច ធ្វើ អ្វី បាន ។ បើ អ្នក ចង់ ធ្វើ អ្វី ៗ\n",
            "អត្តសញ្ញាណ របស់ គាត់ មាន ឈ្មោះ ថា \" ម \" ( ជា ភាសា អង់គ្លេស ) ។ លោក ទោ Sports Cars បាន បញ្ជាក់ ថា នៅ មុនពេល កើត ហេតុ គេ ឃើញ មាន ករណី គ្រោះថ្នាក់ ចរាចរណ៍ មួយ ដែល មាន ឈ្មោះ ថា Beat Cars Team Team Cars\n",
            "អត្តសញ្ញាណ របស់ អ្នក មាន ជំងឺ នេះ មាន ឈ្មោះ ថា ស្រី ស្រី ។ ដោយឡែក អ្នក ទាំង ពីរ មាន ឈ្មោះ ថា ស្រី ស្រី ។ ស្ត្រី ជា ប្តី អាយុ ២០ ឆ្នាំ មាន ផ្ទៃពោះ នៅ ភូមិ តា ធំ ឃុំ ត្រពាំង ភ្លាំង ស្រុក ព្រៃ នប់ ខេត្ត ក្រចេះ ។ ជនរងគ្រោះ ជា ប្តី អាយុ ១៩ ឆ្នាំ មុខរបរ កសិករ\n",
            "អត្តសញ្ញាណ របស់ អ្នក មាន អាយុ ប្រហែល ជាង ១០០ ឆ្នាំ មាន ទីលំនៅ ភូមិ តា ធំ ឃុំ ត្រពាំង ធំ ស្រុក សំបូរ ខេត្ត ក្រចេះ ។ ជនរងគ្រោះ ឈ្មោះ ស៊ន សុខ ភេទ ប្រុស អាយុ ៣៥ ឆ្នាំ មុខរបរ កម្មករ សំណង់ ផ្ទះ ស្នាក់ នៅ ភូមិ ព្រែក ព្នៅ ឃុំ ត្រពាំង វែង ស្រុក ស្នួល ខេត្ត ក្រចេះ ។ ជនរងគ្រោះ ឈ្មោះ សាន\n",
            "អត្តសញ្ញាណ របស់ អ្នក មាន ច្រើន ។ អ្នក ដែល មាន ឈ្មោះ ថា ស្រី ស្រី មាន ន័យ ថា អ្នក មាន អាយុ វែង ។ អ្នក មាន អាយុ ប្រហែល ជាង ១០០ ឆ្នាំ មាន ទីលំនៅ ភូមិ តា ខ្មៅ ឃុំ ត្រពាំង វែង ស្រុក សំបូរ ខេត្ត ក្រចេះ ។ អ្នក មាន ឈ្មោះ ជា ប្តី ឈ្មោះ ពៅ សុខ អាយុ ១៩\n"
          ],
          "name": "stdout"
        }
      ]
    },
    {
      "cell_type": "markdown",
      "metadata": {
        "id": "Lu8W2r_1rhuO",
        "colab_type": "text"
      },
      "source": [
        "### Classifier"
      ]
    },
    {
      "cell_type": "code",
      "metadata": {
        "id": "nnR5QdssrhuP",
        "colab_type": "code",
        "outputId": "e6a749b9-c725-4e4b-8a6d-7299e3bfeca6",
        "colab": {
          "base_uri": "https://localhost:8080/",
          "height": 17
        }
      },
      "source": [
        "data_clas = (TextList.from_df(train_df, path, vocab=data_lm.vocab, cols='text')\n",
        "    .split_by_rand_pct(0.1, seed=42) #0.1 to 0.2\n",
        "    .label_from_df(cols='label')\n",
        "    .databunch(bs=bs, num_workers=1))\n",
        "\n",
        "data_clas.save(f'{lang}_textlist_class')"
      ],
      "execution_count": 0,
      "outputs": [
        {
          "output_type": "display_data",
          "data": {
            "text/html": [
              ""
            ],
            "text/plain": [
              "<IPython.core.display.HTML object>"
            ]
          },
          "metadata": {
            "tags": []
          }
        },
        {
          "output_type": "display_data",
          "data": {
            "text/html": [
              ""
            ],
            "text/plain": [
              "<IPython.core.display.HTML object>"
            ]
          },
          "metadata": {
            "tags": []
          }
        }
      ]
    },
    {
      "cell_type": "code",
      "metadata": {
        "id": "aLlnZs28rhuQ",
        "colab_type": "code",
        "colab": {}
      },
      "source": [
        "data_clas = load_data(path, f'{lang}_textlist_class', bs=bs, num_workers=1)"
      ],
      "execution_count": 0,
      "outputs": []
    },
    {
      "cell_type": "code",
      "metadata": {
        "id": "YvFXAL5WrhuS",
        "colab_type": "code",
        "colab": {}
      },
      "source": [
        "from sklearn.metrics import f1_score\n",
        "\n",
        "@np_func\n",
        "def f1(inp,targ): return f1_score(targ, np.argmax(inp, axis=-1))"
      ],
      "execution_count": 0,
      "outputs": []
    },
    {
      "cell_type": "code",
      "metadata": {
        "id": "Y4tmsIo_rhuT",
        "colab_type": "code",
        "colab": {}
      },
      "source": [
        "learn_c = text_classifier_learner(data_clas, AWD_LSTM, drop_mult=0.5, metrics=[accuracy,f1]).to_fp16()\n",
        "learn_c.load_encoder(f'{lang}fine_tuned_enc')\n",
        "learn_c.freeze()"
      ],
      "execution_count": 0,
      "outputs": []
    },
    {
      "cell_type": "code",
      "metadata": {
        "id": "uWfT9xdSrhuV",
        "colab_type": "code",
        "colab": {}
      },
      "source": [
        "lr=2e-2\n",
        "lr *= bs/48"
      ],
      "execution_count": 0,
      "outputs": []
    },
    {
      "cell_type": "code",
      "metadata": {
        "scrolled": false,
        "id": "24J5lDFLrhuW",
        "colab_type": "code",
        "outputId": "a59ca065-aff7-44ea-eb2b-9deb4523b20a",
        "colab": {
          "base_uri": "https://localhost:8080/",
          "height": 111
        }
      },
      "source": [
        "learn_c.fit_one_cycle(2, lr, moms=(0.8,0.7))\n",
        "#0\t0.602139\t0.537407\t0.675000\t0.315789\t00:01\n",
        "#1\t0.448829\t0.470891\t0.750000\t0.545455\t00:01\n",
        "#5k crf\n",
        "#0\t0.391408\t0.377960\t0.937500\t0.921212\t00:02\n",
        "#1\t0.279988\t0.414496\t0.825000\t0.730769\t00:02\n",
        "#1k crf\n",
        "#0\t0.484861\t0.479978\t0.850000\t0.824242\t00:01\n",
        "#1\t0.378260\t0.499441\t0.750000\t0.573427\t00:01"
      ],
      "execution_count": 0,
      "outputs": [
        {
          "output_type": "display_data",
          "data": {
            "text/html": [
              "<table border=\"1\" class=\"dataframe\">\n",
              "  <thead>\n",
              "    <tr style=\"text-align: left;\">\n",
              "      <th>epoch</th>\n",
              "      <th>train_loss</th>\n",
              "      <th>valid_loss</th>\n",
              "      <th>accuracy</th>\n",
              "      <th>f1</th>\n",
              "      <th>time</th>\n",
              "    </tr>\n",
              "  </thead>\n",
              "  <tbody>\n",
              "    <tr>\n",
              "      <td>0</td>\n",
              "      <td>0.456686</td>\n",
              "      <td>0.351467</td>\n",
              "      <td>0.950000</td>\n",
              "      <td>0.933333</td>\n",
              "      <td>00:01</td>\n",
              "    </tr>\n",
              "    <tr>\n",
              "      <td>1</td>\n",
              "      <td>0.332043</td>\n",
              "      <td>0.347622</td>\n",
              "      <td>0.875000</td>\n",
              "      <td>0.814815</td>\n",
              "      <td>00:01</td>\n",
              "    </tr>\n",
              "  </tbody>\n",
              "</table>"
            ],
            "text/plain": [
              "<IPython.core.display.HTML object>"
            ]
          },
          "metadata": {
            "tags": []
          }
        }
      ]
    },
    {
      "cell_type": "code",
      "metadata": {
        "scrolled": false,
        "id": "BYFDmFZOrhuZ",
        "colab_type": "code",
        "outputId": "98b9a4e1-4614-401d-aa87-202e51a14988",
        "colab": {
          "base_uri": "https://localhost:8080/",
          "height": 111
        }
      },
      "source": [
        "learn_c.fit_one_cycle(2, lr, moms=(0.8,0.7))\n",
        "#0\t0.211190\t0.208395\t0.975000\t0.969697\t00:01\n",
        "#1\t0.215615\t0.378002\t0.750000\t0.545455\t00:01\n",
        "#5k crf\n",
        "#0\t0.168557\t0.346563\t0.887500\t0.848276\t00:02\n",
        "#1\t0.159936\t0.488095\t0.825000\t0.740741\t00:02\n",
        "#1k crf\n",
        "#0\t0.292124\t0.507463\t0.762500\t0.596014\t00:01\n",
        "#1\t0.263080\t0.487999\t0.787500\t0.619048\t00:01"
      ],
      "execution_count": 0,
      "outputs": [
        {
          "output_type": "display_data",
          "data": {
            "text/html": [
              "<table border=\"1\" class=\"dataframe\">\n",
              "  <thead>\n",
              "    <tr style=\"text-align: left;\">\n",
              "      <th>epoch</th>\n",
              "      <th>train_loss</th>\n",
              "      <th>valid_loss</th>\n",
              "      <th>accuracy</th>\n",
              "      <th>f1</th>\n",
              "      <th>time</th>\n",
              "    </tr>\n",
              "  </thead>\n",
              "  <tbody>\n",
              "    <tr>\n",
              "      <td>0</td>\n",
              "      <td>0.200325</td>\n",
              "      <td>0.219820</td>\n",
              "      <td>0.925000</td>\n",
              "      <td>0.903226</td>\n",
              "      <td>00:01</td>\n",
              "    </tr>\n",
              "    <tr>\n",
              "      <td>1</td>\n",
              "      <td>0.195049</td>\n",
              "      <td>0.158604</td>\n",
              "      <td>0.950000</td>\n",
              "      <td>0.933333</td>\n",
              "      <td>00:01</td>\n",
              "    </tr>\n",
              "  </tbody>\n",
              "</table>"
            ],
            "text/plain": [
              "<IPython.core.display.HTML object>"
            ]
          },
          "metadata": {
            "tags": []
          }
        }
      ]
    },
    {
      "cell_type": "code",
      "metadata": {
        "id": "S87__9yzrhuc",
        "colab_type": "code",
        "outputId": "f8d326f7-33fd-48e9-ef2b-bb079f9901ce",
        "colab": {
          "base_uri": "https://localhost:8080/",
          "height": 111
        }
      },
      "source": [
        "learn_c.freeze_to(-2)\n",
        "learn_c.fit_one_cycle(2, slice(lr/(2.6**4),lr), moms=(0.8,0.7))\n",
        "#0\t0.229428\t0.430638\t0.750000\t0.545455\t00:01\n",
        "#1\t0.268126\t0.531731\t0.675000\t0.315789\t00:01\n",
        "#5k crf\n",
        "#0\t0.115307\t0.295327\t0.900000\t0.866071\t00:02\n",
        "#1\t0.135331\t0.383951\t0.887500\t0.848276\t00:02\n",
        "#1k crf datafix\n",
        "#0\t0.201699\t0.054135\t1.000000\t1.000000\t00:01"
      ],
      "execution_count": 0,
      "outputs": [
        {
          "output_type": "display_data",
          "data": {
            "text/html": [
              "<table border=\"1\" class=\"dataframe\">\n",
              "  <thead>\n",
              "    <tr style=\"text-align: left;\">\n",
              "      <th>epoch</th>\n",
              "      <th>train_loss</th>\n",
              "      <th>valid_loss</th>\n",
              "      <th>accuracy</th>\n",
              "      <th>f1</th>\n",
              "      <th>time</th>\n",
              "    </tr>\n",
              "  </thead>\n",
              "  <tbody>\n",
              "    <tr>\n",
              "      <td>0</td>\n",
              "      <td>0.201699</td>\n",
              "      <td>0.054135</td>\n",
              "      <td>1.000000</td>\n",
              "      <td>1.000000</td>\n",
              "      <td>00:01</td>\n",
              "    </tr>\n",
              "    <tr>\n",
              "      <td>1</td>\n",
              "      <td>0.160199</td>\n",
              "      <td>0.039080</td>\n",
              "      <td>1.000000</td>\n",
              "      <td>1.000000</td>\n",
              "      <td>00:01</td>\n",
              "    </tr>\n",
              "  </tbody>\n",
              "</table>"
            ],
            "text/plain": [
              "<IPython.core.display.HTML object>"
            ]
          },
          "metadata": {
            "tags": []
          }
        }
      ]
    },
    {
      "cell_type": "code",
      "metadata": {
        "id": "xM4Hi1l9rhue",
        "colab_type": "code",
        "outputId": "a81e3b81-4954-45f9-8fa9-11973eaf83a7",
        "colab": {
          "base_uri": "https://localhost:8080/",
          "height": 111
        }
      },
      "source": [
        "learn_c.freeze_to(-3)\n",
        "learn_c.fit_one_cycle(2, slice(lr/2/(2.6**4),lr/2), moms=(0.8,0.7))\n",
        "#0\t0.148446\t0.170359\t0.925000\t0.896552\t00:01\n",
        "#1\t0.142438\t0.132280\t0.975000\t0.967742\t00:01\n",
        "#5k crf\n",
        "#0\t0.135274\t0.300655\t0.925000\t0.902821\t00:03\n",
        "#1\t0.089168\t0.309268\t0.925000\t0.902821\t00:03"
      ],
      "execution_count": 0,
      "outputs": [
        {
          "output_type": "display_data",
          "data": {
            "text/html": [
              "<table border=\"1\" class=\"dataframe\">\n",
              "  <thead>\n",
              "    <tr style=\"text-align: left;\">\n",
              "      <th>epoch</th>\n",
              "      <th>train_loss</th>\n",
              "      <th>valid_loss</th>\n",
              "      <th>accuracy</th>\n",
              "      <th>f1</th>\n",
              "      <th>time</th>\n",
              "    </tr>\n",
              "  </thead>\n",
              "  <tbody>\n",
              "    <tr>\n",
              "      <td>0</td>\n",
              "      <td>0.130061</td>\n",
              "      <td>0.033847</td>\n",
              "      <td>1.000000</td>\n",
              "      <td>1.000000</td>\n",
              "      <td>00:02</td>\n",
              "    </tr>\n",
              "    <tr>\n",
              "      <td>1</td>\n",
              "      <td>0.090500</td>\n",
              "      <td>0.044649</td>\n",
              "      <td>0.975000</td>\n",
              "      <td>0.967742</td>\n",
              "      <td>00:02</td>\n",
              "    </tr>\n",
              "  </tbody>\n",
              "</table>"
            ],
            "text/plain": [
              "<IPython.core.display.HTML object>"
            ]
          },
          "metadata": {
            "tags": []
          }
        }
      ]
    },
    {
      "cell_type": "code",
      "metadata": {
        "id": "7nhXFLvGrhug",
        "colab_type": "code",
        "outputId": "2c2511d3-31e7-486d-9001-2c2f45703211",
        "colab": {
          "base_uri": "https://localhost:8080/",
          "height": 359
        }
      },
      "source": [
        "learn_c.unfreeze()\n",
        "learn_c.fit_one_cycle(10, slice(lr/10/(2.6**4),lr/10), moms=(0.8,0.7))\n",
        "#0\t0.063082\t0.238846\t0.920000\t0.894737\t00:02\n",
        "#9\t0.034720\t0.356180\t0.900000\t0.871795\t00:02\n",
        "\n",
        "#0\t0.083462\t0.109984\t0.975000\t0.967742\t00:02\n",
        "#9\t0.053348\t0.073645\t0.975000\t0.967742\t00:02\n",
        "#learn_c.fit_one_cycle(10, slice(lr/(2.6**4),lr), moms=(0.7,0.5))\n",
        "# with fix dataset we can get 100%\n",
        "#0\t0.050068\t0.038671\t1.000000\t1.000000\t00:02\n",
        "#9\t0.033688\t0.017339\t1.000000\t1.000000\t00:02"
      ],
      "execution_count": 0,
      "outputs": [
        {
          "output_type": "display_data",
          "data": {
            "text/html": [
              "<table border=\"1\" class=\"dataframe\">\n",
              "  <thead>\n",
              "    <tr style=\"text-align: left;\">\n",
              "      <th>epoch</th>\n",
              "      <th>train_loss</th>\n",
              "      <th>valid_loss</th>\n",
              "      <th>accuracy</th>\n",
              "      <th>f1</th>\n",
              "      <th>time</th>\n",
              "    </tr>\n",
              "  </thead>\n",
              "  <tbody>\n",
              "    <tr>\n",
              "      <td>0</td>\n",
              "      <td>0.055295</td>\n",
              "      <td>0.039217</td>\n",
              "      <td>0.975000</td>\n",
              "      <td>0.967742</td>\n",
              "      <td>00:02</td>\n",
              "    </tr>\n",
              "    <tr>\n",
              "      <td>1</td>\n",
              "      <td>0.056032</td>\n",
              "      <td>0.038041</td>\n",
              "      <td>0.975000</td>\n",
              "      <td>0.967742</td>\n",
              "      <td>00:02</td>\n",
              "    </tr>\n",
              "    <tr>\n",
              "      <td>2</td>\n",
              "      <td>0.049582</td>\n",
              "      <td>0.042739</td>\n",
              "      <td>0.975000</td>\n",
              "      <td>0.967742</td>\n",
              "      <td>00:02</td>\n",
              "    </tr>\n",
              "    <tr>\n",
              "      <td>3</td>\n",
              "      <td>0.047049</td>\n",
              "      <td>0.021697</td>\n",
              "      <td>1.000000</td>\n",
              "      <td>1.000000</td>\n",
              "      <td>00:02</td>\n",
              "    </tr>\n",
              "    <tr>\n",
              "      <td>4</td>\n",
              "      <td>0.044079</td>\n",
              "      <td>0.018514</td>\n",
              "      <td>1.000000</td>\n",
              "      <td>1.000000</td>\n",
              "      <td>00:02</td>\n",
              "    </tr>\n",
              "    <tr>\n",
              "      <td>5</td>\n",
              "      <td>0.040420</td>\n",
              "      <td>0.013629</td>\n",
              "      <td>1.000000</td>\n",
              "      <td>1.000000</td>\n",
              "      <td>00:02</td>\n",
              "    </tr>\n",
              "    <tr>\n",
              "      <td>6</td>\n",
              "      <td>0.039288</td>\n",
              "      <td>0.023180</td>\n",
              "      <td>1.000000</td>\n",
              "      <td>1.000000</td>\n",
              "      <td>00:02</td>\n",
              "    </tr>\n",
              "    <tr>\n",
              "      <td>7</td>\n",
              "      <td>0.036255</td>\n",
              "      <td>0.030007</td>\n",
              "      <td>0.975000</td>\n",
              "      <td>0.967742</td>\n",
              "      <td>00:02</td>\n",
              "    </tr>\n",
              "    <tr>\n",
              "      <td>8</td>\n",
              "      <td>0.035607</td>\n",
              "      <td>0.024957</td>\n",
              "      <td>0.975000</td>\n",
              "      <td>0.967742</td>\n",
              "      <td>00:02</td>\n",
              "    </tr>\n",
              "    <tr>\n",
              "      <td>9</td>\n",
              "      <td>0.034302</td>\n",
              "      <td>0.026983</td>\n",
              "      <td>0.975000</td>\n",
              "      <td>0.967742</td>\n",
              "      <td>00:02</td>\n",
              "    </tr>\n",
              "  </tbody>\n",
              "</table>"
            ],
            "text/plain": [
              "<IPython.core.display.HTML object>"
            ]
          },
          "metadata": {
            "tags": []
          }
        }
      ]
    },
    {
      "cell_type": "code",
      "metadata": {
        "id": "lnkLwuXOT7cC",
        "colab_type": "code",
        "outputId": "26a0c229-2712-4730-a6c5-217a6e1c5a13",
        "colab": {
          "base_uri": "https://localhost:8080/",
          "height": 204
        }
      },
      "source": [
        "learn_c.unfreeze()\n",
        "learn_c.fit_one_cycle(5, slice(lr/10/(2.6**4),lr/10), moms=(0.9,0.8))\n",
        "#0\t0.030002\t0.314712\t0.937500\t0.918864\t00:02\n",
        "#4\t0.031145\t0.314854\t0.937500\t0.918864\t00:02\n",
        "#5k crf\n",
        "#0\t0.023964\t0.369878\t0.937500\t0.918864\t00:04\n",
        "#4\t0.022802\t0.384393\t0.937500\t0.918864\t00:04\n",
        "#1k crf (Same perf a 5k) - repeat run still same perf (diff moms no effect)\n",
        "#0\t0.030585\t0.357210\t0.937500\t0.918864\t00:02\n",
        "#4\t0.024678\t0.375762\t0.937500\t0.918864\t00:02"
      ],
      "execution_count": 0,
      "outputs": [
        {
          "output_type": "display_data",
          "data": {
            "text/html": [
              "<table border=\"1\" class=\"dataframe\">\n",
              "  <thead>\n",
              "    <tr style=\"text-align: left;\">\n",
              "      <th>epoch</th>\n",
              "      <th>train_loss</th>\n",
              "      <th>valid_loss</th>\n",
              "      <th>accuracy</th>\n",
              "      <th>f1</th>\n",
              "      <th>time</th>\n",
              "    </tr>\n",
              "  </thead>\n",
              "  <tbody>\n",
              "    <tr>\n",
              "      <td>0</td>\n",
              "      <td>0.017855</td>\n",
              "      <td>0.020872</td>\n",
              "      <td>0.975000</td>\n",
              "      <td>0.967742</td>\n",
              "      <td>00:02</td>\n",
              "    </tr>\n",
              "    <tr>\n",
              "      <td>1</td>\n",
              "      <td>0.019455</td>\n",
              "      <td>0.038736</td>\n",
              "      <td>0.975000</td>\n",
              "      <td>0.967742</td>\n",
              "      <td>00:02</td>\n",
              "    </tr>\n",
              "    <tr>\n",
              "      <td>2</td>\n",
              "      <td>0.023084</td>\n",
              "      <td>0.053620</td>\n",
              "      <td>0.975000</td>\n",
              "      <td>0.967742</td>\n",
              "      <td>00:02</td>\n",
              "    </tr>\n",
              "    <tr>\n",
              "      <td>3</td>\n",
              "      <td>0.024937</td>\n",
              "      <td>0.050382</td>\n",
              "      <td>0.975000</td>\n",
              "      <td>0.967742</td>\n",
              "      <td>00:02</td>\n",
              "    </tr>\n",
              "    <tr>\n",
              "      <td>4</td>\n",
              "      <td>0.022781</td>\n",
              "      <td>0.051458</td>\n",
              "      <td>0.975000</td>\n",
              "      <td>0.967742</td>\n",
              "      <td>00:02</td>\n",
              "    </tr>\n",
              "  </tbody>\n",
              "</table>"
            ],
            "text/plain": [
              "<IPython.core.display.HTML object>"
            ]
          },
          "metadata": {
            "tags": []
          }
        }
      ]
    },
    {
      "cell_type": "code",
      "metadata": {
        "id": "eJRmWB8trhui",
        "colab_type": "code",
        "colab": {}
      },
      "source": [
        "learn_c.save(f'{lang}clas')\n",
        "#learn_c\n",
        "#Path: drive/My Drive/khmer_ulmfit; \"km_textlist_class\""
      ],
      "execution_count": 0,
      "outputs": []
    },
    {
      "cell_type": "code",
      "metadata": {
        "id": "zcse6vhl_sMO",
        "colab_type": "code",
        "outputId": "f2653268-cba8-42f6-e05c-f3ba559af89f",
        "colab": {
          "base_uri": "https://localhost:8080/",
          "height": 34
        }
      },
      "source": [
        "preds,targs = learn_c.get_preds(ordered=True)\n",
        "accuracy(preds,targs),f1(preds,targs)\n",
        "# best: (tensor(0.9750), tensor(0.9677)) -- first time on 10% test set\n",
        "#without crf data\n",
        "#(tensor(0.9375), tensor(0.9206)) -- with 5K crf data\n",
        "#(tensor(0.9750), tensor(0.9677))"
      ],
      "execution_count": 0,
      "outputs": [
        {
          "output_type": "display_data",
          "data": {
            "text/html": [
              ""
            ],
            "text/plain": [
              "<IPython.core.display.HTML object>"
            ]
          },
          "metadata": {
            "tags": []
          }
        },
        {
          "output_type": "execute_result",
          "data": {
            "text/plain": [
              "(tensor(1.), tensor(1.))"
            ]
          },
          "metadata": {
            "tags": []
          },
          "execution_count": 226
        }
      ]
    },
    {
      "cell_type": "markdown",
      "metadata": {
        "id": "Nk2addDqNubA",
        "colab_type": "text"
      },
      "source": [
        "### Interpretation"
      ]
    },
    {
      "cell_type": "code",
      "metadata": {
        "id": "Emwi0GF0IKJ6",
        "colab_type": "code",
        "outputId": "a5ebacbb-1bf1-425d-ba01-b3020037b35f",
        "colab": {
          "base_uri": "https://localhost:8080/",
          "height": 122
        }
      },
      "source": [
        "import matplotlib.cm as cm\n",
        "\n",
        "txt_ci = TextClassificationInterpretation.from_learner(learn_c)\n",
        "test_text = \"គ្រោះថ្នាក់ ចរាចរ រវាង រថយន្ត ធុន ធំ និង ម៉ូតូ បណ្តាលឲ្យ បុរស ម្នាក់ ស្លាប់ \" # \"បុរស ម្នាក់ បាន ស្លាប់ បើក បុក រះ រថយន្ត និង ម៉ូតូ ជាច្រើន គ្រឿង\" #\"កម្មករ បើក រថយន្ត ចេញ ពី លាង បុក រុញ គូទ\"\n",
        "txt_ci.show_intrinsic_attention(test_text,cmap=cm.Purples)"
      ],
      "execution_count": 0,
      "outputs": [
        {
          "output_type": "display_data",
          "data": {
            "text/html": [
              ""
            ],
            "text/plain": [
              "<IPython.core.display.HTML object>"
            ]
          },
          "metadata": {
            "tags": []
          }
        },
        {
          "output_type": "stream",
          "text": [
            "/pytorch/aten/src/ATen/native/cuda/LegacyDefinitions.cpp:19: UserWarning: masked_fill_ received a mask with dtype torch.uint8, this behavior is now deprecated,please use a mask with dtype torch.bool instead.\n",
            "/pytorch/aten/src/ATen/native/cuda/LegacyDefinitions.cpp:19: UserWarning: masked_fill_ received a mask with dtype torch.uint8, this behavior is now deprecated,please use a mask with dtype torch.bool instead.\n",
            "/pytorch/aten/src/ATen/native/cuda/LegacyDefinitions.cpp:19: UserWarning: masked_fill_ received a mask with dtype torch.uint8, this behavior is now deprecated,please use a mask with dtype torch.bool instead.\n",
            "/pytorch/aten/src/ATen/native/cuda/LegacyDefinitions.cpp:19: UserWarning: masked_fill_ received a mask with dtype torch.uint8, this behavior is now deprecated,please use a mask with dtype torch.bool instead.\n"
          ],
          "name": "stderr"
        },
        {
          "output_type": "display_data",
          "data": {
            "text/html": [
              "<span style=\"font-family: monospace;\"><span title=\"0.185\" style=\"background-color: rgba(229, 227, 240, 0.5);\">xxbos</span> <span title=\"0.816\" style=\"background-color: rgba(94, 58, 152, 0.5);\">គ្រោះថ្នាក់</span> <span title=\"0.936\" style=\"background-color: rgba(73, 19, 134, 0.5);\">ចរាចរ</span> <span title=\"0.243\" style=\"background-color: rgba(219, 219, 235, 0.5);\">រវាង</span> <span title=\"0.190\" style=\"background-color: rgba(228, 227, 239, 0.5);\">រថយន្ត</span> <span title=\"1.000\" style=\"background-color: rgba(63, 0, 125, 0.5);\">ធុន</span> <span title=\"0.097\" style=\"background-color: rgba(242, 240, 246, 0.5);\">ធំ</span> <span title=\"0.018\" style=\"background-color: rgba(250, 249, 251, 0.5);\">និង</span> <span title=\"0.149\" style=\"background-color: rgba(234, 233, 243, 0.5);\">ម៉ូតូ</span> <span title=\"0.143\" style=\"background-color: rgba(236, 234, 243, 0.5);\">បណ្តាលឲ្យ</span> <span title=\"0.154\" style=\"background-color: rgba(234, 232, 242, 0.5);\">បុរស</span> <span title=\"0.054\" style=\"background-color: rgba(246, 245, 249, 0.5);\">ម្នាក់</span> <span title=\"0.022\" style=\"background-color: rgba(249, 248, 251, 0.5);\">ស្លាប់</span></span>"
            ],
            "text/plain": [
              "<IPython.core.display.HTML object>"
            ]
          },
          "metadata": {
            "tags": []
          }
        }
      ]
    },
    {
      "cell_type": "code",
      "metadata": {
        "id": "vOVcYSdTIYyz",
        "colab_type": "code",
        "outputId": "08e9d345-403f-42bd-af27-eeb0aeaa1392",
        "colab": {
          "base_uri": "https://localhost:8080/",
          "height": 1000
        }
      },
      "source": [
        "txt_ci.show_top_losses(15)"
      ],
      "execution_count": 0,
      "outputs": [
        {
          "output_type": "display_data",
          "data": {
            "text/html": [
              "<table border=\"1\" class=\"dataframe\">\n",
              "  <thead>\n",
              "    <tr style=\"text-align: right;\">\n",
              "      <th>Text</th>\n",
              "      <th>Prediction</th>\n",
              "      <th>Actual</th>\n",
              "      <th>Loss</th>\n",
              "      <th>Probability</th>\n",
              "    </tr>\n",
              "  </thead>\n",
              "  <tbody>\n",
              "    <tr>\n",
              "      <td>xxbos យុវជន ពីរ នាក់ របួស ធ្ងន់ ស្រាល ដោយ ជិះ ម៉ូតូ មិន បាន ប្រុងប្រយ័ត្ន ខេត្ត រតនគិរី ៖ យុវជន ២ នាក់ បាន រងរបួស ធ្ងន់ ស្រាល បន្ទាប់ពី ជិះ ម៉ូតូ បុក គ្នា យ៉ាង ពេញ ទំហឹង ក្នុង ទិសដៅ បញ្ច្រាស គ្នា ។ ករណី គ្រោះថ្នាក់ ចរាចរណ៍ បាន កើតឡើង នៅ វេលា ម៉ោង ១១ និង ២៥ នាទី ព្រឹក ថ្ងៃព្រហស្បតិ៍ ៣ កើត ខែ មាឃ ឆ្នាំ ច សំរឹទ្ធិ ស័ក ព.ស ២៥៦២ ត្រូវ និង ថ្ងៃទី ៧ ខែកុម្ភៈ ឆ្នាំ ២០១៩ នៅ ចំណុច កែង</td>\n",
              "      <td>1</td>\n",
              "      <td>1</td>\n",
              "      <td>0.27</td>\n",
              "      <td>0.77</td>\n",
              "    </tr>\n",
              "    <tr>\n",
              "      <td>xxbos រថយន្ត បើក បុក រ៉ឺម៉ក ម៉ូតូ អេត ចាយ ១ គ្រឿង ពីក្រោយ ក្រឡាប់ កិន ពីលើ ស្លាប់ ម្នាក់ កំពង់ឆ្នាំង ៖ បុរស វ័យ ចំណាស់ ម្នាក់ បាន ស្លាប់ ភ្លាម ៗ ជាប់ ក្រោម រថយន្ត ជាមួយ រ៉ឺម៉ក ម៉ូតូ របស់ គាត់ ខណៈ ដែល មាន រថយន្ត ដឹក កុងតឺន័រ មួយ គ្រឿង បាន បើកបរ ក្នុង xxunk xxunk បុក រ៉ឺម៉ក ម៉ូតូ ពីក្រោយ ក្នុង ទិស ស្រប ទិស គ្នា ហើយ រថយន្ត បាន ក្រឡាប់ កិន ពីលើ រ៉ឺម៉ក ម៉ូតូ ។ ហេតុការណ៍ គ្រោះថ្នាក់ ចរាចរណ៍ ខាង លើ</td>\n",
              "      <td>1</td>\n",
              "      <td>1</td>\n",
              "      <td>0.17</td>\n",
              "      <td>0.85</td>\n",
              "    </tr>\n",
              "    <tr>\n",
              "      <td>xxbos លទ្ធផល ត្រួតពិនិត្យ ការអនុវត្ត ច្បាប់ ចរាចរណ៍ ថ្ងៃទី ៨ កុម្ភៈ យានយន្ត ល្មើស ៨១៧ គ្រឿង ភ្នំពេញ ៖ យោង តាម របាយការណ៍ ពី នាយកដ្ឋាន ចរាចរណ៍ និង សណ្ដាប់ធ្នាប់ សាធារណៈ នៃ អគ្គ ស្នងការដ្ឋាន នគរបាល ជាតិ ប្រាប់ ឲ្យដឹង ថា លទ្ធផល ត្រួតពិនិត្យ ការអនុវត្ត ច្បាប់ ចរាចរណ៍ ផ្លូវគោក គិត ចាប់ វេលា ម៉ោង ១៤ និង ០០ នាទី ថ្ងៃទី ៧ ខែកុម្ភៈ ឆ្នាំ ២០១៩ ដល់ វេលា ម៉ោង ១៤ និង ០០ នាទី ថ្ងៃទី ៨ ខែកុម្ភៈ ឆ្នាំ ២០១៩ xxunk បាយ យានយន្ត ល្មើស សរុប ចំនួន ៨១៧</td>\n",
              "      <td>1</td>\n",
              "      <td>1</td>\n",
              "      <td>0.12</td>\n",
              "      <td>0.89</td>\n",
              "    </tr>\n",
              "    <tr>\n",
              "      <td>xxbos xxmaj xxunk ៖ គ្រោះថ្នាក់ ចរាចរ រថយន្ត បែន ដឹក គ្រួស បើក បុក រះ រថយន្ត និង ម៉ូតូ ជាច្រើន គ្រឿង រួច រ៉េ បុក ចូល ផ្ទះ លក់ ចាប់ ហ៊ួយ បណ្តាលឲ្យ ស្លាប់ មនុស្ស ស្រី ម្នាក់ និង មនុស្ស ប្រុស ស្រី ៤ នាក់ របួស ធ្ងន់ - ព័ត៌មាន - xxup tvfb ក្រុង ព្រះសីហនុ៖ ( ដំណឹង បន្ថែម ហេតុការណ៍ គ្រោះថ្នាក់ ចរាចរណ៍ រថយន្ត ធំ បុក រះ នៅ ក្រុង ព្រះសីហនុ ) លោក ឧត្តមសេនីយ៍ ត្រី អ៊ី សុខា ស្នងការ រង ទទួល ផែន សណ្តាប់ធ្នាប់</td>\n",
              "      <td>1</td>\n",
              "      <td>1</td>\n",
              "      <td>0.11</td>\n",
              "      <td>0.89</td>\n",
              "    </tr>\n",
              "    <tr>\n",
              "      <td>xxbos មើល ម៉ូតូ ចោរ ដ៏ ថ្មី សន្លាង ... ឆក់ xxunk នាំគ្នា រត់ xxunk អាយុ បាត់ រាជធានី ភ្នំពេញ ៖ ម៉ូតូ ហុងដា សេ ១២៥ មួយ គ្រឿង ពណ៌ ខ្មៅ ស៊េរី ឆ្នាំ ២០១៩ មិន ទាន់ មាន ផ្លាកលេខ នៅ ឡើយ គឺ នៅ ថ្មី សន្លាង ដែល ទំនងជា ទើបនឹង ទិញ បាន ត្រូវ សមត្ថកិច្ច ដកហូត យក ទៅ រក្សាទុក ក្រោយពី ម្ចាស់ វា ២ នាក់ ធ្វើ សកម្មភាព ឆក់ កាបូប xxunk ជន បរទេស ម្នាក់ នៅ ម្តុំ xxunk ទួល xxunk តែ មិន</td>\n",
              "      <td>0</td>\n",
              "      <td>0</td>\n",
              "      <td>0.10</td>\n",
              "      <td>0.90</td>\n",
              "    </tr>\n",
              "    <tr>\n",
              "      <td>xxbos គិត អ្វី លែង ចេញ ! អស់ ២០ ម៉ឺន ដុល្លារ ព្រោះ ប្រុស មាន ល្បិច ផ្អើល លើ ស្ពាន ជ្រោយ ចង្វារ រាជធានី ភ្នំពេញ ៖ ស្ត្រី ម្នាក់ ជា អ្នកចង ការលុយ នៅ ចោម ចៅ ២ មាន វិបត្តិ ចាញ់បោក បុរស ម្នាក់ នៅ ក្រៅ ប្រទេស អស់ លុយ ២០ ម៉ឺន ដុល្លារ ក៏ សម្រេចចិត្ត ទៅ លោត ទឹក សម្លាប់ ខ្លួន នៅលើ ស្ពាន ជ្រោយ ចង្វារ ត្រូវ សមត្ថកិច្ច ជួយសង្គ្រោះ ទាន់ ពេលវេលា បង្កឱ្យ មាន ការភ្ញាក់ផ្អើល កាលពី ម៉ោង xxunk និង xxunk នាទី រំលង</td>\n",
              "      <td>0</td>\n",
              "      <td>0</td>\n",
              "      <td>0.07</td>\n",
              "      <td>0.93</td>\n",
              "    </tr>\n",
              "    <tr>\n",
              "      <td>xxbos ជិះ ម៉ូតូ ជិត ២០ គ្រឿង ប្រដាប់ ដោយ កាំបិត និង ដាវ សាម៉ូរ៉ៃ ដេញ កាប់ យុវជន ម្នាក់ រងរបួស ធ្ងន់ ដេក ក្នុង ថ្លុក ឈាម ភ្នំពេញ ៖ យុវជន ម្នាក់ ក្នុង ចំណោម xxunk ចំនួន ៣ នាក់ ត្រូវបាន ស្ទាវ មួយ ក្រុម មាន គ្នា រាប់ សិប នាក់ ជិះ ម៉ូតូ ជិត ២០ គ្រឿង ប្រដាប់ ដោយ កាំបិត និង ដាវ សាម៉ូរ៉ៃ ដេញ កាប់ បណ្តាលឲ្យ រងរបួស ធ្ងន់ ដេក ដួល ក្នុង ថ្លុក ឈាម ហើយ ត្រូវបាន រថយន្ត សាមុយ ដឹក បញ្ជូន ទៅកាន់ មន្ទីរពេទ្យ</td>\n",
              "      <td>0</td>\n",
              "      <td>0</td>\n",
              "      <td>0.07</td>\n",
              "      <td>0.93</td>\n",
              "    </tr>\n",
              "    <tr>\n",
              "      <td>xxbos xxunk មិន ដែល ភ្លេច កុក ! ចូល លួច ទូរស័ព្ទ ដៃ ក្នុង ហាង គេចខ្លួន បាន ៤ ថ្ងៃ នឹកស្មាន គេ មិន ដឹង ចុងក្រោយ ជាប់ ខ្នោះ សមត្ថកិច្ច ! - ព័ត៌មាន - xxup tvfb ភ្នំពេញ៖ ប៉ុស្តិ៍ រដ្ឋបាល ឃ្មួញ បាន ធ្វើ ការឃាត់ខ្លួន ជនសង្ស័យ ចំនួន ០២ នាក់ ពាក់ព័ន្ធ នឹង ករណី អំពើ លួច ( ឆ្កឹះ សោ ចូល លួច យក ទូរស័ព្ទដៃ ) កាលពី ថ្ងៃទី ០៣ ខែកុម្ភ : ឆ្នាំ ២០១៩ នៅ ចំណុច ក្នុង តូប លក់ ទូរសព្ទ័ ដៃ xxunk</td>\n",
              "      <td>0</td>\n",
              "      <td>0</td>\n",
              "      <td>0.07</td>\n",
              "      <td>0.94</td>\n",
              "    </tr>\n",
              "    <tr>\n",
              "      <td>xxbos សូម បើកបរ ដោយ មាន ការប្រុងប្រយ័ត្ន ! បើក រថយន្ត ធ្លាក់ ផ្លូវ បណ្ដាលឲ្យ xxunk របួស ធ្ងន់ ០៤ នាក់ - xxup tvfb ត្បូងឃ្មុំ : មាន ករណី គ្រោះថ្នាក់ ចរាចរណ៍ នៅលើ xxunk ជាតិ លេខ ៧ ចន្លោះ បង្គោល គីឡូម៉ែត្រ លេខ ១៣៥ - ១៣៦ ត្រង់ ចំណុច មុខ ផ្ទះ ឈ្មោះ ឡោ នី ភេទ ប្រុស ស្ថិត នៅ ភូមិ ម្រាម ទាក ឃុំ xxunk ទី ២ ស្រុក ត្បូងឃ្មុំ ខេត្ត ត្បូងឃ្មុំ នៅ វេលា ម៉ោង ០០ និង ២០ នាទី រំលង អធ្រាត្រ ឈានចូល</td>\n",
              "      <td>1</td>\n",
              "      <td>1</td>\n",
              "      <td>0.05</td>\n",
              "      <td>0.95</td>\n",
              "    </tr>\n",
              "    <tr>\n",
              "      <td>xxbos សូម xxunk ! រថយន្ត កុង xxunk ដែក បំពង់ទីប បើក សុខ ៗ របូត ជ្រុះ ធ្លាក់ បុក ចំ អ្នក ជិះ ម៉ូតូ ពីក្រោយ បណ្តាលឱ្យ រងរបួស ធ្ងន់ ( ស្វាយរៀង ) ៖ រថយន្ត កុង xxunk គ្រឿង ខណៈ កំពុង បើកបរ លើ ផ្លូវ ជាតិ លេខ ១ សុខ ៗ ស្រាប់តែ របូត ធ្លាក់ ដែក បំពង់ទីប មួយ ដុំ ធំ ពីលើ រថយន្ត បណ្ដាលឱ្យ ត្រូវ ចំ អ្នក ជិះ ម៉ូតូ ម្នាក់ រងរបួស ធ្ងន់ បាក់ ក ដៃ ខាងឆ្វេង បាន បង្ក ការភ្ញាក់ផ្អើល ដល់ អ្នកធ្វើដំណើរ</td>\n",
              "      <td>1</td>\n",
              "      <td>1</td>\n",
              "      <td>0.05</td>\n",
              "      <td>0.95</td>\n",
              "    </tr>\n",
              "    <tr>\n",
              "      <td>xxbos ពិតជា xxunk ! ២ គ្រឿង ពន្លះ គ្នា ១ គ្រឿង ទៀត មក គេច ជួប គ្រោះ ខ្លួនឯង លើ ផ្លូវ ជាតិ លេខ ៤ ខេត្ត កំពង់ស្ពឺ ៖ បើ តាម សេចក្តីរាយការណ៍ បឋម បាន ឱ្យដឹង ថា យោង តាម ប្រភព ពី ស្នងការដ្ឋាន នគរបាល ខេត្ត កំពង់ស្ពឺ ឱ្យដឹង ថា មុន នេះ បន្តិច មាន ករណី រថយន្ត ៣ គ្រឿង ពន្លះ គ្នា ពេញ ទំហឹង ទាំង ព្រឹក ព្រលឹម នៅ កំណាត់ ផ្លូវ ជាតិ លេខ ៤ ម្តុំ ខាងមុខ រោងចក្រ សាំង xxunk បង្កឱ្យ មាន ការភ្ញាក់ផ្អើល</td>\n",
              "      <td>1</td>\n",
              "      <td>1</td>\n",
              "      <td>0.05</td>\n",
              "      <td>0.96</td>\n",
              "    </tr>\n",
              "    <tr>\n",
              "      <td>xxbos គិត ខ្លី ម្ល៉េះ ! សង្ស័យ មាន វិបត្តិ ក្នុង គ្រួសារ បុរស ម្នាក់ ធ្វើ xxunk ចង .ក សម្លាប់ ខ្លួនឯង - ព័ត៌មាន - xxup tvfb បាត់ដំប ង៖ មាន ករណី ធ្វើ អត្តឃាត ចង .ក សម្លាប់ ខ្លួនឯង នៅ ព្រឹក ថ្ងៃទី ០៨ ខែកុម្ភ : ឆ្នាំ ២០១៩ វេលា ម៉ោង ប្រហែល ៩ នៅ ចំណុច ទឹក ចេញ ធំ ស្ថិត ក្នុង ភូមិ បេង ស្អាត ឃុំ ភ្នំព្រឹក ស្រុក ភ្នំព្រឹក ។ សព ជនរងគ្រោះ ឈ្មោះ xxunk លីន ភេទ ប្រុស អាយុ ២៧ ឆ្នាំ</td>\n",
              "      <td>0</td>\n",
              "      <td>0</td>\n",
              "      <td>0.03</td>\n",
              "      <td>0.97</td>\n",
              "    </tr>\n",
              "    <tr>\n",
              "      <td>xxbos កម្លាំង នគរបាល ស្រុក ប្រាសាទ សំបូរ ជួយសង្គ្រោះ ស្រែ ប្រាំង ជាង ១០០ ហិកតា ដែល ត្រូវ ភ្លើង ឆេះ កំពង់ធំ ៖ កម្លាំង ស្នងការ នគរបាល ខេត្ត កំពង់ធំ នា រសៀល ថ្ងៃទី ៣០ ខែមករា ឆ្នាំ ២០១៩ បាន សហការ ជួយសង្គ្រោះ ស្រូវ ស្រែ ប្រាំង របស់ ប្រជាពលរដ្ឋ ជាង ១០០ ហិកតា ដែល ត្រូវ អគ្គិភ័យ ឆាបឆេះ ក xxunk យ៉ាង សន្ធោ សន្ធៅ ហើយ អាច រាលដាល ដល់ ស្រូវ ស្រែ ប្រាំង របស់ ប្រជាពលរដ្ឋ ដែល ពុំ ទាន់ បាន ប្រមូល ផល ។ សូម ជម្រាប ថា ករណី</td>\n",
              "      <td>0</td>\n",
              "      <td>0</td>\n",
              "      <td>0.03</td>\n",
              "      <td>0.97</td>\n",
              "    </tr>\n",
              "    <tr>\n",
              "      <td>xxbos ខ្ទាត មនុស្ស និង ម៉ូតូ ចូល ក្រោយ រថយន្ត កិន ស្លាប់ ម្នាក់ ភ្លាម ៗ ក្រោយ ជួប គ្រោះថ្នាក់ ចរាចរណ៍ ម៉ូតូ ពីរ គ្រឿង បុក គ្នា តាកែវ ៖ ជនរងគ្រោះ ម្នាក់ បាន ស្លាប់ ភ្លាម ៗ នៅ កន្លែង កើត ហេតុ ដោយឡែក ម្នាក់ ទៀត បាន រងរបួស ធ្ងន់ ក្រោយ ជួប ហេតុការណ៍ គ្រោះថ្នាក់ ចរាចរណ៍ រវាង ម៉ូតូ និង ម៉ូតូ រួច ខ្ទាត ចូល ក្រោម រថយន្ត ដឹក សម្ភារៈ សំណង់ មួយ គ្រឿង ។ ករណី គ្រោះថ្នាក់ ចរាចរណ៍ នេះ បាន កើតឡើង នៅ រសៀល ថ្ងៃទី ០៩</td>\n",
              "      <td>1</td>\n",
              "      <td>1</td>\n",
              "      <td>0.03</td>\n",
              "      <td>0.97</td>\n",
              "    </tr>\n",
              "    <tr>\n",
              "      <td>xxbos កុំ ចេះតែ ហ៊ាន ! ឆ្លៀត ឱកាស ធ្វើ សកម្មភាព លួច ម៉ូតូ ត្រូវ ម្ចាស់ ឃើញ ទាន់ ស្រែក ចាប់ បាន ២ នាក់ ឯ បក្ខពួក ផ្សេង ទៀត គេចខ្លួន បាត់ - ព័ត៌មាន - xxup tvfb កណ្តា ល៖ នគរបាល ស្រុក ស្អាង ដេញ តាម ចាប់ បាន ជនសង្ស័យ ២ នាក់ ក្នុង ចំណោម បក្ខពួក ៤ នាក់ ដល់ ស្រុក កោះ ធំ ពាក់ព័ន្ធ នឹង ករណី លួច កាលពី វេលា ម៉ោង ០៨ និង ១៥ នាទី ថ្ងៃទី ៨ ខែកុម្ភ : ឆ្នាំ ២០១៩ នៅ</td>\n",
              "      <td>0</td>\n",
              "      <td>0</td>\n",
              "      <td>0.03</td>\n",
              "      <td>0.97</td>\n",
              "    </tr>\n",
              "  </tbody>\n",
              "</table>"
            ],
            "text/plain": [
              "<IPython.core.display.HTML object>"
            ]
          },
          "metadata": {
            "tags": []
          }
        }
      ]
    },
    {
      "cell_type": "code",
      "metadata": {
        "id": "rJG1zqc8jhUL",
        "colab_type": "code",
        "outputId": "29c403a7-de72-4649-9e0f-eeec348e24d0",
        "colab": {
          "base_uri": "https://localhost:8080/",
          "height": 54
        }
      },
      "source": [
        "# looking at mislabel records\n",
        "str1 = 'ប្រកាស ថ្ងៃ ចូល បម្រើ កងទ័ព' #label=0, index df[76] train_df\n",
        "str2 = 'ត្រូវ សមត្ថកិច្ច ប៉ុស្តិ៍ នគរបាល ទំនប់ ទឹក' #0 index 246 train_df\n",
        "str3 ='ដោយ ខ្សែ រថភ្លើង' # ពី ខេត្ត បន្ទាយមានជ័យ' #1 index: 140\n",
        "str98 = 'រថយន្ត បើក បុក រ៉ឺម៉ក' # ម៉ូតូ អេត ចាយ'\n",
        "str99 = 'ម៉ូតូ អេត ចាយ' #'អេត ចាយ' #24,29 0 but should be 1, 33 correctly label 1 but model guesses as 0\n",
        "#train_df.at[76, 'label'] = 0\n",
        "#train_df.at[246, 'label'] = 0\n",
        "#train_df.at[140, 'label'] = 1\n",
        "train_df[75:76]\n",
        "train_df[140:141]\n",
        "#train_df[246:247]\n",
        "#train_df[train_df['text'].str.contains(str1)]\n",
        "#df[df['text'].str.contains(str99)]\n",
        "#print(train_df[22:23]['text'])\n",
        "df.loc[29,'text'] "
      ],
      "execution_count": 0,
      "outputs": [
        {
          "output_type": "execute_result",
          "data": {
            "text/plain": [
              "'សមត្ថកិច្ច ស្ទូច រថយន្ត កុងតឺន័រ ដើម្បី យក សព ចេញមក ក្រៅ  ខេត្ត កំពង់ឆ្នាំង  ៖  បុរស វ័យ ចំណាស់ ម្នាក់ បាន ស្លាប់ ភ្លាម ៗ  ជាប់ ក្រោម រថយន្ត  ជាមួយ រ៉ឺម៉ក ម៉ូតូ របស់ គាត់  ខណៈ ដែល មាន រថយន្ត ដឹក កុងតឺន័រ មួយ គ្រឿង បាន បើក បុក ពីក្រោយ  ហើយ ក្រឡាប់ សង្កត់ ពីលើ បុរស រងគ្រោះ  ក្នុង ទិសដៅ ស្រប គ្នា ។ ហេតុការណ៍ គ្រោះថ្នាក់ ចរាចរណ៍ ដ៏ រន្ធត់ នេះ បាន កើតឡើង កាលពី ម៉ោង ៥ និង  ៣០ នាទី ទៀប ភ្លឺ ថ្ងៃទី ២២  ខែមករា  ឆ្នាំ ២០១៩  នៅ ចន្លោះ គីឡូម៉ែត្រ លេខ ៧០  និង ៧១  លើ កំណាត់ ផ្លូវ ជាតិ លេខ ៥  នៅ ចំណុច ត្រពាំង ត្រី រ៉ស់  ស្ថិត ក្នុង ភូមិ រនាម ទទឹង  ឃុំ ទឹកហូត  ស្រុក រលាប្អៀរ  ខេត្ត កំពង់ឆ្នាំង  ។ សមត្ថកិច្ច នគរបាល ចរាចរណ៍  នៅ កន្លែង កើត ហេតុ បាន អោយ ដឹង ថា  មុនពេល កើត ហេតុ  មាន រថយន្ត កុងតឺន័រ មួយ គ្រឿង ម៉ាក ហ្វុ៊យ សូ  ពណ៌ ស  ពាក់ ផ្លាកលេខ  ចង្កូត ស្តាំ  ភ្នំពេញ  PP-2307  បើកបរ ក្នុង ទិសដៅ ជើង ទៅ ត្បូង  លុះ ពេល មកដល់ ចំណុច កើត ហេតុ ក៏ បាន បុក ម៉ូតូ សង់ កូរ៉េ មួយ គ្រឿង មាន សណ្តោង រ៉ឺម៉ក ដឹក អេត ចាយ  ក្នុង ទិសដៅ ស្រប គ្នា  ហើយ រថយន្ត កុងតឺន័រ បាន ក្រឡាប់  និង កិន ពីលើ រ៉ឺម៉ក ម៉ូតូ  ព្រមទាំង អ្នកបើកបរ រ៉ឺម៉ក ម៉ូតូ ដឹក អេត ចាយ  បណ្តាលឱ្យ ស្លាប់ កៀប ជាប់ ក្រោម រថយន្ត តែម្តង  ។  ក្រោយពេល កើត ហេតុ អ្នកបើកបរ រថយន្ត កុងតឺន័រ បាន  រត់គេចខ្លួន បាត់  ។ ករណី គ្រោះថ្នាក់ ចរាចរណ៍ ដ៏ រន្ធត់ នេះ  ក៏ បាន ធ្វើអោយ មាន ការកកស្ទះ ចរាចរណ៍ ផងដែរ  ព្រោះតែ អ្នកបើកបរ រថយន្ត តាម ដងផ្លូវ បាន នាំគ្នា ឈប់ មើល នៅ ចំណុច កើត ហេតុ  រហូតដល់ ម៉ោង ៩ និង ២០ នាទី ព្រឹក ថ្ងៃ ដដែល  ទើប សមត្ថកិច្ច ទំនាក់ទំនង បាន រថយន្ត ស្ទូច ធុន ធំ មក ស្ទូច រថយន្ត កុងតឺន័រ ចេញ  ដើម្បី យក សព បុរស រងគ្រោះ  និង រ៉ឺម៉ក ម៉ូតូ ចេញមក ក្រៅ  ។ នៅជាប់ ខ្លួន បុរស រងគ្រោះ ដែល ស្លាប់  សមត្ថកិច្ច បាន រកឃើញ កាបូប មួយ ដែល មាន លុយ ចំនូន ៣០០០ រៀល  និង អត្តសញ្ញាណប័ណ្ណ សំគាល់ ខ្លួន មួយ សន្លឹក របស់ បុរស រងគ្រោះ ឈ្មោះ  រស់  វុត្ថា  អាយុ ៥២ ឆ្នាំ  មាន ទីលំនៅ ក្នុង ភូមិ ចុង កៅស៊ូ  សង្កាត់ ស្ល ក្រាម  ក្រុង សៀមរាប  ខេត្ត សៀមរាប  និង មាន ស្រុក កំណើត នៅក្នុង ឃុំ បឹង ជ្រះ  ស្រុក បាភ្នំ  ខេត្ត ព្រៃវែង  ។  ប៉ុន្តែ គេ ឃើញ បុរស រងគ្រោះ ដើរ ទិញ អេត ចាយ រាល់ ថ្ងៃ  ដោយ មក ស្នាក់ នៅក្នុង ស្រុក រលាប្អៀរ  ។ តាម ការពិនិត្យ នៅ កន្លែង កើត ហេតុ  សមត្ថកិច្ច បាន បញ្ជាក់ ឲ្យដឹង ថា  ករណី គ្រោះថ្នាក់ នេះ បណ្តាល មកពី អ្នកបើកបរ រថយន្ត កុងតឺន័រ បើកបរ ក្នុង ស្ថានភាព ងងុយដេក  ព្រោះ គេ ឃើញ រថយន្ត នេះ បើក រេ ពេញ ផ្លូវ  ហើយ បន្ទាប់មក ជិត ដល់ គល់ ស្ពាន ត្រពាំង ត្រី រ៉ស់  ក៏ បាន បុក រ៉ឺម៉ក ម៉ូតូ ដឹក អេត ចាយ របស់ ជនរងគ្រោះ តែ ម្តង  ។ សមត្ថកិច្ច អោយ ដឹង ថា  ចំពោះ សព បុរស រងគ្រោះ  សមត្ថកិច្ច នឹង ជូន ដំណឹង អំពី អត្តសញ្ញាណ រប  ស់ គាត់ ទៅកាន់ សមត្ថកិច្ច នគរបាល នៅក្នុង ក្រុង សៀមរាប  ខេត្ត សៀមរាប  ដើម្បី ទំនាក់ទំនង រក ក្រុមគ្រួសារ  អោយ មក ទទួលយក សព ទៅ ធ្វើ បុណ្យ តាម ប្រពៃណី  ។  ចំណែក រ៉ឺម៉ក ម៉ូតូ របស់ ជនរងគ្រោះ  និង រថយន្ត កុងតឺន័រ  សមត្ថកិច្ច នឹង ជួល រថយន្ត ស្ទួច មក ដឹក យក ទៅ រក្សាទុក  នៅក្នុង ការិយាល័យ នគរបាល ចរាចរណ៍ ផ្លូវគោក ខេត្ត កំពង់ឆ្នាំង  ដើម្បី កសាង សំណុំរឿង ចាត់ការ តាម នីតិវិធី ច្បាប់  ៕  ប្រភព  :  កោះសន្តិភាព'"
            ]
          },
          "metadata": {
            "tags": []
          },
          "execution_count": 181
        }
      ]
    },
    {
      "cell_type": "code",
      "metadata": {
        "id": "5Uix5WlO-J3A",
        "colab_type": "code",
        "colab": {}
      },
      "source": [
        "# correct mislabels\n",
        "df.at[76, 'label'] = 0\n",
        "df.at[246, 'label'] = 0\n",
        "df.at[140, 'label'] = 1\n",
        "train_df.at[76, 'label'] = 0\n",
        "train_df.at[246, 'label'] = 0\n",
        "train_df.at[140, 'label'] = 1\n",
        "train_df.at[22, 'label'] = 1\n",
        "train_df.at[29, 'label'] = 1"
      ],
      "execution_count": 0,
      "outputs": []
    },
    {
      "cell_type": "code",
      "metadata": {
        "id": "8rUOK3crGTHL",
        "colab_type": "code",
        "outputId": "eab93834-10ce-417a-8c1c-78a3d284f183",
        "colab": {
          "base_uri": "https://localhost:8080/",
          "height": 34
        }
      },
      "source": [
        "learn_c.predict('កម្មករ បើក រថយន្ត ចេញ ពី លាង បុក រុញ គូទ')"
      ],
      "execution_count": 0,
      "outputs": [
        {
          "output_type": "execute_result",
          "data": {
            "text/plain": [
              "(Category 0, tensor(0), tensor([0.6432, 0.3568]))"
            ]
          },
          "metadata": {
            "tags": []
          },
          "execution_count": 139
        }
      ]
    },
    {
      "cell_type": "code",
      "metadata": {
        "id": "8cKHMaVaGp0V",
        "colab_type": "code",
        "outputId": "8d8ed9f3-f1df-472d-f70f-ab89af970666",
        "colab": {
          "base_uri": "https://localhost:8080/",
          "height": 34
        }
      },
      "source": [
        "learn_c.predict('មក ស្គាល់ រុក្ខជាតិ ម្យ៉ាង នៅក្នុង សមុទ្រ')"
      ],
      "execution_count": 0,
      "outputs": [
        {
          "output_type": "execute_result",
          "data": {
            "text/plain": [
              "(Category 0, tensor(0), tensor([9.9994e-01, 6.2050e-05]))"
            ]
          },
          "metadata": {
            "tags": []
          },
          "execution_count": 68
        }
      ]
    },
    {
      "cell_type": "code",
      "metadata": {
        "id": "TjGOMpJrHDBR",
        "colab_type": "code",
        "outputId": "3123f3e6-9adb-4897-e61e-dd9f5f811732",
        "colab": {
          "base_uri": "https://localhost:8080/",
          "height": 34
        }
      },
      "source": [
        "learn_c.predict('គ្រោះថ្នាក់ ចរាចរ រវាង រថយន្ត ធុន ធំ និង ម៉ូតូ បណ្តាលឲ្យ បុរស ម្នាក់ ស្លាប់ ក្រោម រថយន្ត')"
      ],
      "execution_count": 0,
      "outputs": [
        {
          "output_type": "execute_result",
          "data": {
            "text/plain": [
              "(Category 1, tensor(1), tensor([0.0022, 0.9978]))"
            ]
          },
          "metadata": {
            "tags": []
          },
          "execution_count": 69
        }
      ]
    },
    {
      "cell_type": "code",
      "metadata": {
        "id": "RXHcmYgRHNe9",
        "colab_type": "code",
        "outputId": "e6e079d7-cb0c-4025-9eda-e67cadaf588b",
        "colab": {
          "base_uri": "https://localhost:8080/",
          "height": 34
        }
      },
      "source": [
        "learn_c.predict('គ្រោះថ្នាក់ ចរាចរ រវាង រថយន្ត ធុន ធំ និង ម៉ូតូ បណ្តាលឲ្យ បុរស ម្នាក់ ស្លាប់ ក្រោម រថយន្ត យ៉ាង អាណោច មាន ករណី គ្រោះថ្នាក់ ចរាចរ យ៉ាង រន្ធត់ រវាង ')"
      ],
      "execution_count": 0,
      "outputs": [
        {
          "output_type": "execute_result",
          "data": {
            "text/plain": [
              "(Category 1, tensor(1), tensor([1.1524e-05, 9.9999e-01]))"
            ]
          },
          "metadata": {
            "tags": []
          },
          "execution_count": 70
        }
      ]
    },
    {
      "cell_type": "code",
      "metadata": {
        "id": "A7JLcK2DHWZA",
        "colab_type": "code",
        "outputId": "74cfa859-8c42-47ce-dbfd-3c090ed6fc9a",
        "colab": {
          "base_uri": "https://localhost:8080/",
          "height": 34
        }
      },
      "source": [
        "learn_c.predict('បណ្តាលឲ្យ ស្លាប់ មនុស្ស ស្រី ម្នាក់ និង មនុស្ស ប្រុស ស្រី ៤ នាក់ របួស ធ្ងន់')"
      ],
      "execution_count": 0,
      "outputs": [
        {
          "output_type": "execute_result",
          "data": {
            "text/plain": [
              "(Category 0, tensor(0), tensor([0.9057, 0.0943]))"
            ]
          },
          "metadata": {
            "tags": []
          },
          "execution_count": 71
        }
      ]
    },
    {
      "cell_type": "code",
      "metadata": {
        "id": "GVQP4RYkKX4f",
        "colab_type": "code",
        "outputId": "95b3d257-4bce-4051-9fdd-59e2fb761a00",
        "colab": {
          "base_uri": "https://localhost:8080/",
          "height": 34
        }
      },
      "source": [
        "learn_c.predict('គ្រោះថ្នាក់ ចរាចរ រថយន្ត បែន ដឹក គ្រួស បើក បុក រះ រថយន្ត និង ម៉ូតូ ជាច្រើន គ្រឿង រួច រ៉េ បុក ចូល ផ្ទះ បណ្តាលឲ្យ ស្លាប់ មនុស្ស ស្រី ម្នាក់ និង មនុស្ស ប្រុស ស្រី ៤ នាក់ របួស ធ្ងន់')"
      ],
      "execution_count": 0,
      "outputs": [
        {
          "output_type": "execute_result",
          "data": {
            "text/plain": [
              "(Category 1, tensor(1), tensor([0.0047, 0.9953]))"
            ]
          },
          "metadata": {
            "tags": []
          },
          "execution_count": 72
        }
      ]
    },
    {
      "cell_type": "code",
      "metadata": {
        "id": "nyW0xMAOq7xE",
        "colab_type": "code",
        "outputId": "20870aa8-b7f3-42d4-8bec-33d6de6a5bf9",
        "colab": {
          "base_uri": "https://localhost:8080/",
          "height": 34
        }
      },
      "source": [
        "path"
      ],
      "execution_count": 0,
      "outputs": [
        {
          "output_type": "execute_result",
          "data": {
            "text/plain": [
              "PosixPath('kmwiki_data')"
            ]
          },
          "metadata": {
            "tags": []
          },
          "execution_count": 92
        }
      ]
    },
    {
      "cell_type": "code",
      "metadata": {
        "id": "zUIG2IyXrhul",
        "colab_type": "code",
        "colab": {}
      },
      "source": [
        "data_clas = load_data(path, f'{lang}_textlist_class', bs=bs, num_workers=1)\n",
        "learn_c = text_classifier_learner(data_clas, AWD_LSTM, drop_mult=0.5, metrics=[accuracy,f1]).to_fp16()\n",
        "learn_c.load(f'{lang}clas', purge=False);"
      ],
      "execution_count": 0,
      "outputs": []
    },
    {
      "cell_type": "code",
      "metadata": {
        "id": "7S6GCHUcrhun",
        "colab_type": "code",
        "outputId": "d7551d68-e5b7-4879-ab11-c46ac24b732e",
        "colab": {
          "base_uri": "https://localhost:8080/",
          "height": 34
        }
      },
      "source": [
        "preds,targs = learn_c.get_preds(ordered=True)\n",
        "accuracy(preds,targs),f1(preds,targs)\n",
        "# best: (tensor(0.9750), tensor(0.9677)) -- first time \n",
        "#without crf data\n",
        "#(tensor(0.9375), tensor(0.9206))"
      ],
      "execution_count": 0,
      "outputs": [
        {
          "output_type": "display_data",
          "data": {
            "text/html": [
              ""
            ],
            "text/plain": [
              "<IPython.core.display.HTML object>"
            ]
          },
          "metadata": {
            "tags": []
          }
        },
        {
          "output_type": "execute_result",
          "data": {
            "text/plain": [
              "(tensor(0.9750), tensor(0.9677))"
            ]
          },
          "metadata": {
            "tags": []
          },
          "execution_count": 172
        }
      ]
    },
    {
      "cell_type": "markdown",
      "metadata": {
        "id": "bNUsV44rrhuk",
        "colab_type": "text"
      },
      "source": [
        "## Backward model"
      ]
    },
    {
      "cell_type": "markdown",
      "metadata": {
        "id": "GG9dco9HyXN1",
        "colab_type": "text"
      },
      "source": [
        "### Create backward pretrain model"
      ]
    },
    {
      "cell_type": "markdown",
      "metadata": {
        "id": "PRLcIfXdEitE",
        "colab_type": "text"
      },
      "source": [
        "Run copy segment zip file from gdrive [here](#scrollTo=IAPwj0tBu-QB)"
      ]
    },
    {
      "cell_type": "code",
      "metadata": {
        "id": "C_EM7uNZ50N9",
        "colab_type": "code",
        "colab": {}
      },
      "source": [
        "data_path = Config.data_path()\n",
        "lang = 'km'\n",
        "name = f'{lang}wiki'\n",
        "path = data_path/name\n",
        "lm_fns = [f'{lang}_wt_bwd', f'{lang}_wt_vocab_bwd']"
      ],
      "execution_count": 0,
      "outputs": []
    },
    {
      "cell_type": "code",
      "metadata": {
        "colab_type": "code",
        "outputId": "918c8e1b-b79e-4196-87a1-06c0564ea262",
        "id": "I1DOjSHE51_z",
        "colab": {
          "base_uri": "https://localhost:8080/",
          "height": 34
        }
      },
      "source": [
        "#should set to kmwiki_data --segemented\n",
        "segpath = Path('kmwiki_data')\n",
        "print(segpath)"
      ],
      "execution_count": 0,
      "outputs": [
        {
          "output_type": "stream",
          "text": [
            "kmwiki_data\n"
          ],
          "name": "stdout"
        }
      ]
    },
    {
      "cell_type": "code",
      "metadata": {
        "colab_type": "code",
        "outputId": "b74ebec1-99f4-4c3c-ea12-070fad1c70a6",
        "id": "mD_npFlx51_9",
        "colab": {
          "base_uri": "https://localhost:8080/",
          "height": 34
        }
      },
      "source": [
        "#set backwards=True\n",
        "data = (TextList.from_folder(segpath) # change from dest to segpath\n",
        "            .split_by_rand_pct(0.2, seed=1)# split 0.1 to 0.2\n",
        "            .label_for_lm()           \n",
        "            .databunch(bs=bs, num_workers=1, backwards=True))\n",
        "\n",
        "data.save(f'{lang}_databunch_bwd')\n",
        "len(data.vocab.itos),len(data.train_ds)"
      ],
      "execution_count": 0,
      "outputs": [
        {
          "output_type": "display_data",
          "data": {
            "text/html": [
              ""
            ],
            "text/plain": [
              "<IPython.core.display.HTML object>"
            ]
          },
          "metadata": {
            "tags": []
          }
        },
        {
          "output_type": "display_data",
          "data": {
            "text/html": [
              ""
            ],
            "text/plain": [
              "<IPython.core.display.HTML object>"
            ]
          },
          "metadata": {
            "tags": []
          }
        },
        {
          "output_type": "execute_result",
          "data": {
            "text/plain": [
              "(50912, 2029)"
            ]
          },
          "metadata": {
            "tags": []
          },
          "execution_count": 19
        }
      ]
    },
    {
      "cell_type": "code",
      "metadata": {
        "id": "udPr4pgLOjj4",
        "colab_type": "code",
        "outputId": "1ed65cbd-e861-4b03-9c96-9b8395ab5033",
        "colab": {
          "base_uri": "https://localhost:8080/",
          "height": 34
        }
      },
      "source": [
        "!ls -alh kmwiki_data/'km_databunch_bwd'\n",
        "!cp kmwiki_data/km_databunch_bwd drive/'My Drive'/khmer_ulmfit/"
      ],
      "execution_count": 0,
      "outputs": [
        {
          "output_type": "stream",
          "text": [
            "-rw-r--r-- 1 root root 73M Jan 31 03:22 kmwiki_data/km_databunch_bwd\n"
          ],
          "name": "stdout"
        }
      ]
    },
    {
      "cell_type": "code",
      "metadata": {
        "id": "7EZy46XAPGzU",
        "colab_type": "code",
        "outputId": "332708af-8a35-4a9b-effe-64f2f0d233d7",
        "colab": {
          "base_uri": "https://localhost:8080/",
          "height": 34
        }
      },
      "source": [
        "#copy from gdrive\n",
        "!mkdir kmwiki_data\n",
        "!cp drive/'My Drive'/khmer_ulmfit/km_databunch_bwd kmwiki_data/"
      ],
      "execution_count": 0,
      "outputs": [
        {
          "output_type": "stream",
          "text": [
            "mkdir: cannot create directory ‘kmwiki_data’: File exists\n"
          ],
          "name": "stdout"
        }
      ]
    },
    {
      "cell_type": "code",
      "metadata": {
        "id": "hd7plGgR4TmF",
        "colab_type": "code",
        "colab": {}
      },
      "source": [
        "data = load_data(segpath, f'{lang}_databunch_bwd', bs=bs, backwards=True)"
      ],
      "execution_count": 0,
      "outputs": []
    },
    {
      "cell_type": "code",
      "metadata": {
        "id": "QYyEOIZqG7gQ",
        "colab_type": "code",
        "colab": {}
      },
      "source": [
        "# create learn\n",
        "learn = language_model_learner(data, AWD_LSTM, drop_mult=0.5, pretrained=False).to_fp16()"
      ],
      "execution_count": 0,
      "outputs": []
    },
    {
      "cell_type": "code",
      "metadata": {
        "id": "VcAQxrfqusY5",
        "colab_type": "code",
        "colab": {}
      },
      "source": [
        "lr = 1e-2\n",
        "lr *= bs/48  # Scale learning rate by batch size"
      ],
      "execution_count": 0,
      "outputs": []
    },
    {
      "cell_type": "code",
      "metadata": {
        "id": "tQuPusjhut_I",
        "colab_type": "code",
        "outputId": "65a2f421-67fc-407e-f004-3423c0076d9a",
        "colab": {
          "base_uri": "https://localhost:8080/",
          "height": 359
        }
      },
      "source": [
        "learn.unfreeze()\n",
        "learn.fit_one_cycle(10, lr, moms=(0.8,0.7)) # should be 10 cycle"
      ],
      "execution_count": 0,
      "outputs": [
        {
          "output_type": "display_data",
          "data": {
            "text/html": [
              "<table border=\"1\" class=\"dataframe\">\n",
              "  <thead>\n",
              "    <tr style=\"text-align: left;\">\n",
              "      <th>epoch</th>\n",
              "      <th>train_loss</th>\n",
              "      <th>valid_loss</th>\n",
              "      <th>accuracy</th>\n",
              "      <th>time</th>\n",
              "    </tr>\n",
              "  </thead>\n",
              "  <tbody>\n",
              "    <tr>\n",
              "      <td>0</td>\n",
              "      <td>4.604825</td>\n",
              "      <td>5.202893</td>\n",
              "      <td>0.217026</td>\n",
              "      <td>12:58</td>\n",
              "    </tr>\n",
              "    <tr>\n",
              "      <td>1</td>\n",
              "      <td>4.097242</td>\n",
              "      <td>4.979578</td>\n",
              "      <td>0.232338</td>\n",
              "      <td>13:03</td>\n",
              "    </tr>\n",
              "    <tr>\n",
              "      <td>2</td>\n",
              "      <td>4.402261</td>\n",
              "      <td>4.874829</td>\n",
              "      <td>0.239404</td>\n",
              "      <td>13:05</td>\n",
              "    </tr>\n",
              "    <tr>\n",
              "      <td>3</td>\n",
              "      <td>4.306592</td>\n",
              "      <td>4.736785</td>\n",
              "      <td>0.252603</td>\n",
              "      <td>13:05</td>\n",
              "    </tr>\n",
              "    <tr>\n",
              "      <td>4</td>\n",
              "      <td>3.949404</td>\n",
              "      <td>4.598291</td>\n",
              "      <td>0.268997</td>\n",
              "      <td>13:05</td>\n",
              "    </tr>\n",
              "    <tr>\n",
              "      <td>5</td>\n",
              "      <td>4.141735</td>\n",
              "      <td>4.424586</td>\n",
              "      <td>0.287725</td>\n",
              "      <td>13:05</td>\n",
              "    </tr>\n",
              "    <tr>\n",
              "      <td>6</td>\n",
              "      <td>3.548918</td>\n",
              "      <td>4.251736</td>\n",
              "      <td>0.310711</td>\n",
              "      <td>13:05</td>\n",
              "    </tr>\n",
              "    <tr>\n",
              "      <td>7</td>\n",
              "      <td>3.722378</td>\n",
              "      <td>4.103264</td>\n",
              "      <td>0.331926</td>\n",
              "      <td>13:07</td>\n",
              "    </tr>\n",
              "    <tr>\n",
              "      <td>8</td>\n",
              "      <td>3.325685</td>\n",
              "      <td>4.034877</td>\n",
              "      <td>0.343804</td>\n",
              "      <td>13:07</td>\n",
              "    </tr>\n",
              "    <tr>\n",
              "      <td>9</td>\n",
              "      <td>3.210387</td>\n",
              "      <td>4.020954</td>\n",
              "      <td>0.346292</td>\n",
              "      <td>13:06</td>\n",
              "    </tr>\n",
              "  </tbody>\n",
              "</table>"
            ],
            "text/plain": [
              "<IPython.core.display.HTML object>"
            ]
          },
          "metadata": {
            "tags": []
          }
        }
      ]
    },
    {
      "cell_type": "code",
      "metadata": {
        "id": "NLTl1wVLvFsr",
        "colab_type": "code",
        "colab": {}
      },
      "source": [
        "learn.unfreeze()\n",
        "learn.fit_one_cycle(2, lr, moms=(0.8,0.7))"
      ],
      "execution_count": 0,
      "outputs": []
    },
    {
      "cell_type": "code",
      "metadata": {
        "id": "YXO2fnM26nLR",
        "colab_type": "code",
        "outputId": "8d14cc49-8054-4999-fa2f-787890f07b1e",
        "colab": {
          "base_uri": "https://localhost:8080/",
          "height": 34
        }
      },
      "source": [
        "mdl_path = path/'models'\n",
        "mdl_path.mkdir(exist_ok=True)\n",
        "learn.to_fp32().save(mdl_path/lm_fns[0], with_opt=False)\n",
        "learn.data.vocab.save(mdl_path/(lm_fns[1] + '.pkl'))\n",
        "print(\"File save to:\", mdl_path)"
      ],
      "execution_count": 0,
      "outputs": [
        {
          "output_type": "stream",
          "text": [
            "File save to: /root/.fastai/data/kmwiki/models\n"
          ],
          "name": "stdout"
        }
      ]
    },
    {
      "cell_type": "code",
      "metadata": {
        "id": "ij1LbVlFsvWB",
        "colab_type": "code",
        "outputId": "133886ab-1b8b-4bec-c11a-9b019a0b84a4",
        "colab": {
          "base_uri": "https://localhost:8080/",
          "height": 68
        }
      },
      "source": [
        "# copy dic and pkl file to gdrive\n",
        "!cp {path}/models/km_wt* drive/'My Drive'/khmer_ulmfit/models\n",
        "!ls drive/'My Drive'/khmer_ulmfit/models"
      ],
      "execution_count": 0,
      "outputs": [
        {
          "output_type": "stream",
          "text": [
            "kmclas.pth\t      km_wt_bwd.pth  km_wt_test.pth\n",
            "kmfine_tuned_enc.pth  km_wt.pkl.pth  km_wt_vocab_bwd.pkl\n",
            "kmfine_tuned.pth      km_wt.pth      km_wt_vocab.pkl\n"
          ],
          "name": "stdout"
        }
      ]
    },
    {
      "cell_type": "code",
      "metadata": {
        "id": "5DoFnVoxEsqI",
        "colab_type": "code",
        "outputId": "90b06651-861a-47bd-916a-22ef518578af",
        "colab": {
          "base_uri": "https://localhost:8080/",
          "height": 187
        }
      },
      "source": [
        "!ls -alh drive/'My Drive'/khmer_ulmfit/models"
      ],
      "execution_count": 0,
      "outputs": [
        {
          "output_type": "stream",
          "text": [
            "total 2.0G\n",
            "-rw------- 1 root root 208M Jan 14 00:34 kmclas.pth\n",
            "-rw------- 1 root root 127M Jan 15 00:42 kmfine_tuned_enc.pth\n",
            "-rw------- 1 root root 294M Jan 15 00:42 kmfine_tuned.pth\n",
            "-rw------- 1 root root 156M Jan 31 06:05 km_wt_bwd.pth\n",
            "-rw------- 1 root root 391M Jan 15 21:23 km_wt.pkl.pth\n",
            "-rw------- 1 root root 391M Jan 15 21:24 km_wt.pth\n",
            "-rw------- 1 root root 391M Jan 15 21:25 km_wt_test.pth\n",
            "-rw------- 1 root root 1.3M Jan 31 06:05 km_wt_vocab_bwd.pkl\n",
            "-rw------- 1 root root 1.4M Oct  9 04:52 km_wt_vocab.pkl\n"
          ],
          "name": "stdout"
        }
      ]
    },
    {
      "cell_type": "markdown",
      "metadata": {
        "id": "iVXd_5sy6oTR",
        "colab_type": "text"
      },
      "source": [
        "### Backward Language Model "
      ]
    },
    {
      "cell_type": "markdown",
      "metadata": {
        "id": "mkS01x3MU0Th",
        "colab_type": "text"
      },
      "source": [
        "Load accident data from gdrive [here](#scrollTo=ExeT1IBFxlEf)."
      ]
    },
    {
      "cell_type": "code",
      "metadata": {
        "id": "DYJhSR4z60-A",
        "colab_type": "code",
        "outputId": "a11c973c-b7e1-42b0-8f96-97e342e2a0db",
        "colab": {
          "base_uri": "https://localhost:8080/",
          "height": 204
        }
      },
      "source": [
        "df.head() # make sure it has \"label\" column"
      ],
      "execution_count": 0,
      "outputs": [
        {
          "output_type": "execute_result",
          "data": {
            "text/html": [
              "<div>\n",
              "<style scoped>\n",
              "    .dataframe tbody tr th:only-of-type {\n",
              "        vertical-align: middle;\n",
              "    }\n",
              "\n",
              "    .dataframe tbody tr th {\n",
              "        vertical-align: top;\n",
              "    }\n",
              "\n",
              "    .dataframe thead th {\n",
              "        text-align: right;\n",
              "    }\n",
              "</style>\n",
              "<table border=\"1\" class=\"dataframe\">\n",
              "  <thead>\n",
              "    <tr style=\"text-align: right;\">\n",
              "      <th></th>\n",
              "      <th>&lt;built-in function id&gt;</th>\n",
              "      <th>text</th>\n",
              "      <th>cat</th>\n",
              "      <th>label</th>\n",
              "    </tr>\n",
              "  </thead>\n",
              "  <tbody>\n",
              "    <tr>\n",
              "      <th>0</th>\n",
              "      <td>5279</td>\n",
              "      <td>ចាប់ពី ថ្ងៃ នេះ តទៅ  YouTube  លែង ឲ្យ បង្ហោះ វ...</td>\n",
              "      <td>no_accident</td>\n",
              "      <td>0</td>\n",
              "    </tr>\n",
              "    <tr>\n",
              "      <th>1</th>\n",
              "      <td>5831</td>\n",
              "      <td>មក ស្គាល់ រុក្ខជាតិ ម្យ៉ាង  នៅក្នុង សមុទ្រ កម្...</td>\n",
              "      <td>no_accident</td>\n",
              "      <td>0</td>\n",
              "    </tr>\n",
              "    <tr>\n",
              "      <th>2</th>\n",
              "      <td>6385</td>\n",
              "      <td>មក មើល  កម្មករ ខ្សាច់ សាច់ដុំ ធំ ៗ នៅ កាមេរ៉ូន...</td>\n",
              "      <td>no_accident</td>\n",
              "      <td>0</td>\n",
              "    </tr>\n",
              "    <tr>\n",
              "      <th>3</th>\n",
              "      <td>7452</td>\n",
              "      <td>ដោយសារតែ បើកបរ លឿន ជិត ៗ គ្នា ពេក  រថយន្ត ៦ គ្...</td>\n",
              "      <td>accident</td>\n",
              "      <td>1</td>\n",
              "    </tr>\n",
              "    <tr>\n",
              "      <th>4</th>\n",
              "      <td>7474</td>\n",
              "      <td>គ្មាន ទៀត ទេ រថយន្តក្រុង ប្រើ សាំង !  សៀង ហៃ ក...</td>\n",
              "      <td>no_accident</td>\n",
              "      <td>0</td>\n",
              "    </tr>\n",
              "  </tbody>\n",
              "</table>\n",
              "</div>"
            ],
            "text/plain": [
              "   <built-in function id>  ... label\n",
              "0                    5279  ...     0\n",
              "1                    5831  ...     0\n",
              "2                    6385  ...     0\n",
              "3                    7452  ...     1\n",
              "4                    7474  ...     0\n",
              "\n",
              "[5 rows x 4 columns]"
            ]
          },
          "metadata": {
            "tags": []
          },
          "execution_count": 22
        }
      ]
    },
    {
      "cell_type": "code",
      "metadata": {
        "id": "_q-qEF-ioHy9",
        "colab_type": "code",
        "outputId": "8beb9b10-0446-4fa5-e2b2-5f7b0ec6e68d",
        "colab": {
          "base_uri": "https://localhost:8080/",
          "height": 153
        }
      },
      "source": [
        "print(path) #/root/.fastai/data/kmwiki\n",
        "!mkdir {path}/models\n",
        "print(bs)\n",
        "!cp drive/'My Drive'/khmer_ulmfit/models/km_wt_*bwd.* {path}/models\n",
        "!ls -alh {path}/models"
      ],
      "execution_count": 0,
      "outputs": [
        {
          "output_type": "stream",
          "text": [
            "/root/.fastai/data/kmwiki\n",
            "mkdir: cannot create directory ‘/root/.fastai/data/kmwiki/models’: File exists\n",
            "48\n",
            "total 157M\n",
            "drwxr-xr-x 2 root root 4.0K Jan 31 14:54 .\n",
            "drwxr-xr-x 3 root root 4.0K Jan 31 14:54 ..\n",
            "-rw------- 1 root root 156M Jan 31 15:03 km_wt_bwd.pth\n",
            "-rw------- 1 root root 1.3M Jan 31 15:03 km_wt_vocab_bwd.pkl\n"
          ],
          "name": "stdout"
        }
      ]
    },
    {
      "cell_type": "code",
      "metadata": {
        "id": "mn_g4igYox4p",
        "colab_type": "code",
        "colab": {}
      },
      "source": [
        "lm_fns = [f'km_wt_bwd', f'km_wt_vocab_bwd']"
      ],
      "execution_count": 0,
      "outputs": []
    },
    {
      "cell_type": "code",
      "metadata": {
        "id": "o0LGv2JR67ui",
        "colab_type": "code",
        "outputId": "a61e32da-6abe-4054-931d-35c259cd61f8",
        "colab": {
          "base_uri": "https://localhost:8080/",
          "height": 17
        }
      },
      "source": [
        "data_lm = (TextList.from_df(df, path, cols='text')\n",
        "    .split_by_rand_pct(0.2, seed=1)\n",
        "    .label_for_lm()           \n",
        "    .databunch(bs=bs, num_workers=1, backwards=True))\n",
        "# need lm_fns pretrain files (km_wt_bwd.pth, km_wt_vocab_bwd.pkl without the extention)\n",
        "learn_lm = language_model_learner(data_lm, AWD_LSTM, config={**awd_lstm_lm_config, 'n_hid': 1152},\n",
        "                                  pretrained_fnames=lm_fns, drop_mult=1.0)"
      ],
      "execution_count": 0,
      "outputs": [
        {
          "output_type": "display_data",
          "data": {
            "text/html": [
              ""
            ],
            "text/plain": [
              "<IPython.core.display.HTML object>"
            ]
          },
          "metadata": {
            "tags": []
          }
        },
        {
          "output_type": "display_data",
          "data": {
            "text/html": [
              ""
            ],
            "text/plain": [
              "<IPython.core.display.HTML object>"
            ]
          },
          "metadata": {
            "tags": []
          }
        }
      ]
    },
    {
      "cell_type": "code",
      "metadata": {
        "hidden": true,
        "id": "f4JnQfvk4Tml",
        "colab_type": "code",
        "colab": {}
      },
      "source": [
        "lr = 1e-3\n",
        "lr *= bs/48"
      ],
      "execution_count": 0,
      "outputs": []
    },
    {
      "cell_type": "code",
      "metadata": {
        "hidden": true,
        "id": "O5rXzMxD4Tmr",
        "colab_type": "code",
        "outputId": "f74c0be2-98d3-45b0-f832-7ecdfdbb4990",
        "colab": {
          "base_uri": "https://localhost:8080/",
          "height": 111
        }
      },
      "source": [
        "learn_lm.fit_one_cycle(2, lr*10, moms=(0.8,0.7))"
      ],
      "execution_count": 0,
      "outputs": [
        {
          "output_type": "display_data",
          "data": {
            "text/html": [
              "<table border=\"1\" class=\"dataframe\">\n",
              "  <thead>\n",
              "    <tr style=\"text-align: left;\">\n",
              "      <th>epoch</th>\n",
              "      <th>train_loss</th>\n",
              "      <th>valid_loss</th>\n",
              "      <th>accuracy</th>\n",
              "      <th>time</th>\n",
              "    </tr>\n",
              "  </thead>\n",
              "  <tbody>\n",
              "    <tr>\n",
              "      <td>0</td>\n",
              "      <td>5.558992</td>\n",
              "      <td>4.484405</td>\n",
              "      <td>0.237054</td>\n",
              "      <td>00:03</td>\n",
              "    </tr>\n",
              "    <tr>\n",
              "      <td>1</td>\n",
              "      <td>5.029195</td>\n",
              "      <td>4.271654</td>\n",
              "      <td>0.257381</td>\n",
              "      <td>00:03</td>\n",
              "    </tr>\n",
              "  </tbody>\n",
              "</table>"
            ],
            "text/plain": [
              "<IPython.core.display.HTML object>"
            ]
          },
          "metadata": {
            "tags": []
          }
        }
      ]
    },
    {
      "cell_type": "code",
      "metadata": {
        "hidden": true,
        "id": "lwvoDtOM4Tmv",
        "colab_type": "code",
        "outputId": "0e4bd740-8286-4dd9-894e-cf1c73cd829e",
        "colab": {
          "base_uri": "https://localhost:8080/",
          "height": 297
        }
      },
      "source": [
        "learn_lm.unfreeze()\n",
        "learn_lm.fit_one_cycle(8, lr, moms=(0.8,0.7))\n",
        "#0\t4.678388\t4.229544\t0.262500\t00:04\n",
        "#7\t4.090632\t3.793665\t0.314970\t00:04\n",
        "#rerun again\n",
        "#0\t4.050783\t3.784492\t0.315804\t00:04\n",
        "#7\t3.708633\t3.576459\t0.342292\t00:04"
      ],
      "execution_count": 0,
      "outputs": [
        {
          "output_type": "display_data",
          "data": {
            "text/html": [
              "<table border=\"1\" class=\"dataframe\">\n",
              "  <thead>\n",
              "    <tr style=\"text-align: left;\">\n",
              "      <th>epoch</th>\n",
              "      <th>train_loss</th>\n",
              "      <th>valid_loss</th>\n",
              "      <th>accuracy</th>\n",
              "      <th>time</th>\n",
              "    </tr>\n",
              "  </thead>\n",
              "  <tbody>\n",
              "    <tr>\n",
              "      <td>0</td>\n",
              "      <td>4.050783</td>\n",
              "      <td>3.784492</td>\n",
              "      <td>0.315804</td>\n",
              "      <td>00:04</td>\n",
              "    </tr>\n",
              "    <tr>\n",
              "      <td>1</td>\n",
              "      <td>4.029990</td>\n",
              "      <td>3.740085</td>\n",
              "      <td>0.321607</td>\n",
              "      <td>00:04</td>\n",
              "    </tr>\n",
              "    <tr>\n",
              "      <td>2</td>\n",
              "      <td>3.978343</td>\n",
              "      <td>3.686088</td>\n",
              "      <td>0.327321</td>\n",
              "      <td>00:04</td>\n",
              "    </tr>\n",
              "    <tr>\n",
              "      <td>3</td>\n",
              "      <td>3.911218</td>\n",
              "      <td>3.639030</td>\n",
              "      <td>0.335298</td>\n",
              "      <td>00:04</td>\n",
              "    </tr>\n",
              "    <tr>\n",
              "      <td>4</td>\n",
              "      <td>3.846062</td>\n",
              "      <td>3.606670</td>\n",
              "      <td>0.339286</td>\n",
              "      <td>00:04</td>\n",
              "    </tr>\n",
              "    <tr>\n",
              "      <td>5</td>\n",
              "      <td>3.781395</td>\n",
              "      <td>3.585652</td>\n",
              "      <td>0.341131</td>\n",
              "      <td>00:04</td>\n",
              "    </tr>\n",
              "    <tr>\n",
              "      <td>6</td>\n",
              "      <td>3.733664</td>\n",
              "      <td>3.575690</td>\n",
              "      <td>0.342470</td>\n",
              "      <td>00:04</td>\n",
              "    </tr>\n",
              "    <tr>\n",
              "      <td>7</td>\n",
              "      <td>3.708633</td>\n",
              "      <td>3.576459</td>\n",
              "      <td>0.342292</td>\n",
              "      <td>00:04</td>\n",
              "    </tr>\n",
              "  </tbody>\n",
              "</table>"
            ],
            "text/plain": [
              "<IPython.core.display.HTML object>"
            ]
          },
          "metadata": {
            "tags": []
          }
        }
      ]
    },
    {
      "cell_type": "code",
      "metadata": {
        "hidden": true,
        "id": "aKPHyrqL4Tmz",
        "colab_type": "code",
        "colab": {}
      },
      "source": [
        "learn_lm.save(f'{lang}fine_tuned_bwd')\n",
        "learn_lm.save_encoder(f'{lang}fine_tuned_enc_bwd')"
      ],
      "execution_count": 0,
      "outputs": []
    },
    {
      "cell_type": "code",
      "metadata": {
        "id": "PUi-sjTYI67c",
        "colab_type": "code",
        "outputId": "4b005c30-434f-4d23-87ee-cec61dc583d6",
        "colab": {
          "base_uri": "https://localhost:8080/",
          "height": 34
        }
      },
      "source": [
        "!find /root/.fastai/data/ -name *fine_tuned_bwd*"
      ],
      "execution_count": 0,
      "outputs": [
        {
          "output_type": "stream",
          "text": [
            "/root/.fastai/data/kmwiki/models/kmfine_tuned_bwd.pth\n"
          ],
          "name": "stdout"
        }
      ]
    },
    {
      "cell_type": "code",
      "metadata": {
        "id": "RX0r90AiERD7",
        "colab_type": "code",
        "outputId": "b7e953f2-facc-444e-85d5-0a849f1d0ce8",
        "colab": {
          "base_uri": "https://localhost:8080/",
          "height": 51
        }
      },
      "source": [
        "!ls /root/.fastai/data/kmwiki/models/"
      ],
      "execution_count": 0,
      "outputs": [
        {
          "output_type": "stream",
          "text": [
            "kmfine_tuned_bwd.pth\t  km_wt_bwd.pth\n",
            "kmfine_tuned_enc_bwd.pth  km_wt_vocab_bwd.pkl\n"
          ],
          "name": "stdout"
        }
      ]
    },
    {
      "cell_type": "markdown",
      "metadata": {
        "id": "d9MvRfl6CBwg",
        "colab_type": "text"
      },
      "source": [
        "#### Backward classifier"
      ]
    },
    {
      "cell_type": "code",
      "metadata": {
        "id": "-FSo52q6FVNz",
        "colab_type": "code",
        "outputId": "b913a22c-63c7-4140-ae7b-3668142bf30e",
        "colab": {
          "base_uri": "https://localhost:8080/",
          "height": 34
        }
      },
      "source": [
        "print(path)"
      ],
      "execution_count": 0,
      "outputs": [
        {
          "output_type": "stream",
          "text": [
            "/root/.fastai/data/kmwiki\n"
          ],
          "name": "stdout"
        }
      ]
    },
    {
      "cell_type": "code",
      "metadata": {
        "id": "NbF0ddEv4Tm3",
        "colab_type": "code",
        "outputId": "b3798ecb-486f-4605-a171-cf02828e4d30",
        "colab": {
          "base_uri": "https://localhost:8080/",
          "height": 34
        }
      },
      "source": [
        "# need df from above\n",
        "data_clas = (TextList.from_df(df, path, vocab=data_lm.vocab, cols='text')\n",
        "    .split_by_rand_pct(0.1, seed=40)\n",
        "    .label_from_df(cols='label')\n",
        "    .databunch(bs=bs, num_workers=1, backwards=True))\n",
        "\n",
        "data_clas.save(f'{lang}_textlist_class_bwd') # todo add pth ext, so don't need rename, still need move\n",
        "print(path)\n",
        "\n",
        "#rerun with 0.1 split get warning in fit_one_cycle\n",
        "#/usr/local/lib/python3.6/dist-packages/sklearn/metrics/_classification.py:1515: UndefinedMetricWarning: F-score is ill-defined and being set to 0.0 due to no true nor predicted samples. Use `zero_division` parameter to control this behavior.\n",
        "#  average, \"true nor predicted\", 'F-score is', len(true_sum)"
      ],
      "execution_count": 0,
      "outputs": [
        {
          "output_type": "display_data",
          "data": {
            "text/html": [
              ""
            ],
            "text/plain": [
              "<IPython.core.display.HTML object>"
            ]
          },
          "metadata": {
            "tags": []
          }
        },
        {
          "output_type": "display_data",
          "data": {
            "text/html": [
              ""
            ],
            "text/plain": [
              "<IPython.core.display.HTML object>"
            ]
          },
          "metadata": {
            "tags": []
          }
        },
        {
          "output_type": "stream",
          "text": [
            "/root/.fastai/data/kmwiki\n"
          ],
          "name": "stdout"
        }
      ]
    },
    {
      "cell_type": "code",
      "metadata": {
        "id": "HEzpLF0TG7PP",
        "colab_type": "code",
        "outputId": "51c7e1e7-653d-4e6d-da66-9b6dae871ded",
        "colab": {
          "base_uri": "https://localhost:8080/",
          "height": 119
        }
      },
      "source": [
        "!cp /root/.fastai/data/kmwiki/km_textlist_class_bwd /root/.fastai/data/kmwiki/models/km_textlist_class_bwd.pth\n",
        "!ls /root/.fastai/data/kmwiki/models/*bwd*"
      ],
      "execution_count": 0,
      "outputs": [
        {
          "output_type": "stream",
          "text": [
            "/root/.fastai/data/kmwiki/models/kmclas_bwd.pth\n",
            "/root/.fastai/data/kmwiki/models/kmfine_tuned_bwd.pth\n",
            "/root/.fastai/data/kmwiki/models/kmfine_tuned_enc_bwd.pth\n",
            "/root/.fastai/data/kmwiki/models/km_textlist_class_bwd.pth\n",
            "/root/.fastai/data/kmwiki/models/km_wt_bwd.pth\n",
            "/root/.fastai/data/kmwiki/models/km_wt_vocab_bwd.pkl\n"
          ],
          "name": "stdout"
        }
      ]
    },
    {
      "cell_type": "code",
      "metadata": {
        "id": "ZRZh2RO04Tm6",
        "colab_type": "code",
        "colab": {}
      },
      "source": [
        "data_clas = load_data(path, 'models/km_textlist_class_bwd.pth', bs=bs, num_workers=1, backwards=True)"
      ],
      "execution_count": 0,
      "outputs": []
    },
    {
      "cell_type": "code",
      "metadata": {
        "id": "l__qbe1h4Tm9",
        "colab_type": "code",
        "colab": {}
      },
      "source": [
        "from sklearn.metrics import f1_score\n",
        "\n",
        "@np_func\n",
        "def f1(inp,targ): return f1_score(targ, np.argmax(inp, axis=-1))"
      ],
      "execution_count": 0,
      "outputs": []
    },
    {
      "cell_type": "code",
      "metadata": {
        "id": "lHDUZyBT4TnB",
        "colab_type": "code",
        "colab": {}
      },
      "source": [
        "learn_c = text_classifier_learner(data_clas, AWD_LSTM, drop_mult=0.5, metrics=[accuracy,f1]).to_fp16()\n",
        "learn_c.load_encoder(f'{lang}fine_tuned_enc_bwd')\n",
        "learn_c.freeze()"
      ],
      "execution_count": 0,
      "outputs": []
    },
    {
      "cell_type": "code",
      "metadata": {
        "id": "g3sfZtnl4TnI",
        "colab_type": "code",
        "colab": {}
      },
      "source": [
        "lr=2e-2\n",
        "lr *= bs/48"
      ],
      "execution_count": 0,
      "outputs": []
    },
    {
      "cell_type": "code",
      "metadata": {
        "scrolled": false,
        "id": "Noq7wiB74TnM",
        "colab_type": "code",
        "outputId": "f1e9459b-d372-4b4e-fbca-40e6929930f5",
        "colab": {
          "base_uri": "https://localhost:8080/",
          "height": 199
        }
      },
      "source": [
        "learn_c.fit_one_cycle(2, lr, moms=(0.8,0.7))\n",
        "#0\t0.447624\t0.559497\t0.710000\t0.641640\t00:02\n",
        "#1\t0.348235\t0.439373\t0.780000\t0.438857\t00:02"
      ],
      "execution_count": 0,
      "outputs": [
        {
          "output_type": "display_data",
          "data": {
            "text/html": [
              "<table border=\"1\" class=\"dataframe\">\n",
              "  <thead>\n",
              "    <tr style=\"text-align: left;\">\n",
              "      <th>epoch</th>\n",
              "      <th>train_loss</th>\n",
              "      <th>valid_loss</th>\n",
              "      <th>accuracy</th>\n",
              "      <th>f1</th>\n",
              "      <th>time</th>\n",
              "    </tr>\n",
              "  </thead>\n",
              "  <tbody>\n",
              "    <tr>\n",
              "      <td>0</td>\n",
              "      <td>0.369247</td>\n",
              "      <td>0.395085</td>\n",
              "      <td>0.740000</td>\n",
              "      <td>0.128000</td>\n",
              "      <td>00:02</td>\n",
              "    </tr>\n",
              "    <tr>\n",
              "      <td>1</td>\n",
              "      <td>0.267210</td>\n",
              "      <td>0.312172</td>\n",
              "      <td>0.800000</td>\n",
              "      <td>0.426667</td>\n",
              "      <td>00:02</td>\n",
              "    </tr>\n",
              "  </tbody>\n",
              "</table>"
            ],
            "text/plain": [
              "<IPython.core.display.HTML object>"
            ]
          },
          "metadata": {
            "tags": []
          }
        },
        {
          "output_type": "stream",
          "text": [
            "/usr/local/lib/python3.6/dist-packages/sklearn/metrics/_classification.py:1515: UndefinedMetricWarning: F-score is ill-defined and being set to 0.0 due to no true nor predicted samples. Use `zero_division` parameter to control this behavior.\n",
            "  average, \"true nor predicted\", 'F-score is', len(true_sum)\n",
            "/usr/local/lib/python3.6/dist-packages/sklearn/metrics/_classification.py:1515: UndefinedMetricWarning: F-score is ill-defined and being set to 0.0 due to no true nor predicted samples. Use `zero_division` parameter to control this behavior.\n",
            "  average, \"true nor predicted\", 'F-score is', len(true_sum)\n"
          ],
          "name": "stderr"
        }
      ]
    },
    {
      "cell_type": "code",
      "metadata": {
        "id": "sMGewYbP4TnP",
        "colab_type": "code",
        "outputId": "0ef16f1f-d404-45e5-f3b8-a1f036388928",
        "colab": {
          "base_uri": "https://localhost:8080/",
          "height": 199
        }
      },
      "source": [
        "learn_c.freeze_to(-2)\n",
        "learn_c.fit_one_cycle(2, slice(lr/(2.6**4),lr), moms=(0.8,0.7))"
      ],
      "execution_count": 0,
      "outputs": [
        {
          "output_type": "display_data",
          "data": {
            "text/html": [
              "<table border=\"1\" class=\"dataframe\">\n",
              "  <thead>\n",
              "    <tr style=\"text-align: left;\">\n",
              "      <th>epoch</th>\n",
              "      <th>train_loss</th>\n",
              "      <th>valid_loss</th>\n",
              "      <th>accuracy</th>\n",
              "      <th>f1</th>\n",
              "      <th>time</th>\n",
              "    </tr>\n",
              "  </thead>\n",
              "  <tbody>\n",
              "    <tr>\n",
              "      <td>0</td>\n",
              "      <td>0.234500</td>\n",
              "      <td>0.184478</td>\n",
              "      <td>0.940000</td>\n",
              "      <td>0.860690</td>\n",
              "      <td>00:03</td>\n",
              "    </tr>\n",
              "    <tr>\n",
              "      <td>1</td>\n",
              "      <td>0.200544</td>\n",
              "      <td>0.185770</td>\n",
              "      <td>0.960000</td>\n",
              "      <td>0.886154</td>\n",
              "      <td>00:02</td>\n",
              "    </tr>\n",
              "  </tbody>\n",
              "</table>"
            ],
            "text/plain": [
              "<IPython.core.display.HTML object>"
            ]
          },
          "metadata": {
            "tags": []
          }
        },
        {
          "output_type": "stream",
          "text": [
            "/usr/local/lib/python3.6/dist-packages/sklearn/metrics/_classification.py:1515: UndefinedMetricWarning: F-score is ill-defined and being set to 0.0 due to no true nor predicted samples. Use `zero_division` parameter to control this behavior.\n",
            "  average, \"true nor predicted\", 'F-score is', len(true_sum)\n",
            "/usr/local/lib/python3.6/dist-packages/sklearn/metrics/_classification.py:1515: UndefinedMetricWarning: F-score is ill-defined and being set to 0.0 due to no true nor predicted samples. Use `zero_division` parameter to control this behavior.\n",
            "  average, \"true nor predicted\", 'F-score is', len(true_sum)\n"
          ],
          "name": "stderr"
        }
      ]
    },
    {
      "cell_type": "code",
      "metadata": {
        "id": "mI-O-Dpn4TnS",
        "colab_type": "code",
        "outputId": "18db660b-2a5e-45ef-f7b2-d4be73362b98",
        "colab": {
          "base_uri": "https://localhost:8080/",
          "height": 199
        }
      },
      "source": [
        "learn_c.freeze_to(-3)\n",
        "learn_c.fit_one_cycle(2, slice(lr/2/(2.6**4),lr/2), moms=(0.8,0.7))\n",
        "#0\t0.166710\t0.149070\t0.940000\t0.875294\t00:04\n",
        "#1\t0.145192\t0.150277\t0.940000\t0.873333\t00:04"
      ],
      "execution_count": 0,
      "outputs": [
        {
          "output_type": "display_data",
          "data": {
            "text/html": [
              "<table border=\"1\" class=\"dataframe\">\n",
              "  <thead>\n",
              "    <tr style=\"text-align: left;\">\n",
              "      <th>epoch</th>\n",
              "      <th>train_loss</th>\n",
              "      <th>valid_loss</th>\n",
              "      <th>accuracy</th>\n",
              "      <th>f1</th>\n",
              "      <th>time</th>\n",
              "    </tr>\n",
              "  </thead>\n",
              "  <tbody>\n",
              "    <tr>\n",
              "      <td>0</td>\n",
              "      <td>0.155800</td>\n",
              "      <td>0.115062</td>\n",
              "      <td>0.960000</td>\n",
              "      <td>0.891429</td>\n",
              "      <td>00:04</td>\n",
              "    </tr>\n",
              "    <tr>\n",
              "      <td>1</td>\n",
              "      <td>0.130948</td>\n",
              "      <td>0.098630</td>\n",
              "      <td>0.960000</td>\n",
              "      <td>0.891429</td>\n",
              "      <td>00:04</td>\n",
              "    </tr>\n",
              "  </tbody>\n",
              "</table>"
            ],
            "text/plain": [
              "<IPython.core.display.HTML object>"
            ]
          },
          "metadata": {
            "tags": []
          }
        },
        {
          "output_type": "stream",
          "text": [
            "/usr/local/lib/python3.6/dist-packages/sklearn/metrics/_classification.py:1515: UndefinedMetricWarning: F-score is ill-defined and being set to 0.0 due to no true nor predicted samples. Use `zero_division` parameter to control this behavior.\n",
            "  average, \"true nor predicted\", 'F-score is', len(true_sum)\n",
            "/usr/local/lib/python3.6/dist-packages/sklearn/metrics/_classification.py:1515: UndefinedMetricWarning: F-score is ill-defined and being set to 0.0 due to no true nor predicted samples. Use `zero_division` parameter to control this behavior.\n",
            "  average, \"true nor predicted\", 'F-score is', len(true_sum)\n"
          ],
          "name": "stderr"
        }
      ]
    },
    {
      "cell_type": "code",
      "metadata": {
        "id": "AG3BjE15YLcS",
        "colab_type": "code",
        "outputId": "9803af62-bcc7-4678-cbc8-c73e3c2d80ed",
        "colab": {
          "base_uri": "https://localhost:8080/",
          "height": 719
        }
      },
      "source": [
        "learn_c.unfreeze()\n",
        "learn_c.fit_one_cycle(10, slice(lr/10/(2.6**4),lr/10), moms=(0.8,0.7)) # get at most 0.975 --with 0.2 testset max 0.937"
      ],
      "execution_count": 0,
      "outputs": [
        {
          "output_type": "display_data",
          "data": {
            "text/html": [
              "<table border=\"1\" class=\"dataframe\">\n",
              "  <thead>\n",
              "    <tr style=\"text-align: left;\">\n",
              "      <th>epoch</th>\n",
              "      <th>train_loss</th>\n",
              "      <th>valid_loss</th>\n",
              "      <th>accuracy</th>\n",
              "      <th>f1</th>\n",
              "      <th>time</th>\n",
              "    </tr>\n",
              "  </thead>\n",
              "  <tbody>\n",
              "    <tr>\n",
              "      <td>0</td>\n",
              "      <td>0.088257</td>\n",
              "      <td>0.104818</td>\n",
              "      <td>0.980000</td>\n",
              "      <td>0.926897</td>\n",
              "      <td>00:05</td>\n",
              "    </tr>\n",
              "    <tr>\n",
              "      <td>1</td>\n",
              "      <td>0.092945</td>\n",
              "      <td>0.130413</td>\n",
              "      <td>0.960000</td>\n",
              "      <td>0.896000</td>\n",
              "      <td>00:05</td>\n",
              "    </tr>\n",
              "    <tr>\n",
              "      <td>2</td>\n",
              "      <td>0.097039</td>\n",
              "      <td>0.125772</td>\n",
              "      <td>0.980000</td>\n",
              "      <td>0.926897</td>\n",
              "      <td>00:05</td>\n",
              "    </tr>\n",
              "    <tr>\n",
              "      <td>3</td>\n",
              "      <td>0.090649</td>\n",
              "      <td>0.131307</td>\n",
              "      <td>0.980000</td>\n",
              "      <td>0.926897</td>\n",
              "      <td>00:05</td>\n",
              "    </tr>\n",
              "    <tr>\n",
              "      <td>4</td>\n",
              "      <td>0.087074</td>\n",
              "      <td>0.139555</td>\n",
              "      <td>0.980000</td>\n",
              "      <td>0.926897</td>\n",
              "      <td>00:05</td>\n",
              "    </tr>\n",
              "    <tr>\n",
              "      <td>5</td>\n",
              "      <td>0.082950</td>\n",
              "      <td>0.122387</td>\n",
              "      <td>0.980000</td>\n",
              "      <td>0.926897</td>\n",
              "      <td>00:05</td>\n",
              "    </tr>\n",
              "    <tr>\n",
              "      <td>6</td>\n",
              "      <td>0.078888</td>\n",
              "      <td>0.125744</td>\n",
              "      <td>0.980000</td>\n",
              "      <td>0.926897</td>\n",
              "      <td>00:05</td>\n",
              "    </tr>\n",
              "    <tr>\n",
              "      <td>7</td>\n",
              "      <td>0.078793</td>\n",
              "      <td>0.127568</td>\n",
              "      <td>0.980000</td>\n",
              "      <td>0.926897</td>\n",
              "      <td>00:05</td>\n",
              "    </tr>\n",
              "    <tr>\n",
              "      <td>8</td>\n",
              "      <td>0.074976</td>\n",
              "      <td>0.134815</td>\n",
              "      <td>0.980000</td>\n",
              "      <td>0.926897</td>\n",
              "      <td>00:05</td>\n",
              "    </tr>\n",
              "    <tr>\n",
              "      <td>9</td>\n",
              "      <td>0.072815</td>\n",
              "      <td>0.132644</td>\n",
              "      <td>0.980000</td>\n",
              "      <td>0.926897</td>\n",
              "      <td>00:05</td>\n",
              "    </tr>\n",
              "  </tbody>\n",
              "</table>"
            ],
            "text/plain": [
              "<IPython.core.display.HTML object>"
            ]
          },
          "metadata": {
            "tags": []
          }
        },
        {
          "output_type": "stream",
          "text": [
            "/usr/local/lib/python3.6/dist-packages/sklearn/metrics/_classification.py:1515: UndefinedMetricWarning: F-score is ill-defined and being set to 0.0 due to no true nor predicted samples. Use `zero_division` parameter to control this behavior.\n",
            "  average, \"true nor predicted\", 'F-score is', len(true_sum)\n",
            "/usr/local/lib/python3.6/dist-packages/sklearn/metrics/_classification.py:1515: UndefinedMetricWarning: F-score is ill-defined and being set to 0.0 due to no true nor predicted samples. Use `zero_division` parameter to control this behavior.\n",
            "  average, \"true nor predicted\", 'F-score is', len(true_sum)\n",
            "/usr/local/lib/python3.6/dist-packages/sklearn/metrics/_classification.py:1515: UndefinedMetricWarning: F-score is ill-defined and being set to 0.0 due to no true nor predicted samples. Use `zero_division` parameter to control this behavior.\n",
            "  average, \"true nor predicted\", 'F-score is', len(true_sum)\n",
            "/usr/local/lib/python3.6/dist-packages/sklearn/metrics/_classification.py:1515: UndefinedMetricWarning: F-score is ill-defined and being set to 0.0 due to no true nor predicted samples. Use `zero_division` parameter to control this behavior.\n",
            "  average, \"true nor predicted\", 'F-score is', len(true_sum)\n",
            "/usr/local/lib/python3.6/dist-packages/sklearn/metrics/_classification.py:1515: UndefinedMetricWarning: F-score is ill-defined and being set to 0.0 due to no true nor predicted samples. Use `zero_division` parameter to control this behavior.\n",
            "  average, \"true nor predicted\", 'F-score is', len(true_sum)\n",
            "/usr/local/lib/python3.6/dist-packages/sklearn/metrics/_classification.py:1515: UndefinedMetricWarning: F-score is ill-defined and being set to 0.0 due to no true nor predicted samples. Use `zero_division` parameter to control this behavior.\n",
            "  average, \"true nor predicted\", 'F-score is', len(true_sum)\n",
            "/usr/local/lib/python3.6/dist-packages/sklearn/metrics/_classification.py:1515: UndefinedMetricWarning: F-score is ill-defined and being set to 0.0 due to no true nor predicted samples. Use `zero_division` parameter to control this behavior.\n",
            "  average, \"true nor predicted\", 'F-score is', len(true_sum)\n",
            "/usr/local/lib/python3.6/dist-packages/sklearn/metrics/_classification.py:1515: UndefinedMetricWarning: F-score is ill-defined and being set to 0.0 due to no true nor predicted samples. Use `zero_division` parameter to control this behavior.\n",
            "  average, \"true nor predicted\", 'F-score is', len(true_sum)\n",
            "/usr/local/lib/python3.6/dist-packages/sklearn/metrics/_classification.py:1515: UndefinedMetricWarning: F-score is ill-defined and being set to 0.0 due to no true nor predicted samples. Use `zero_division` parameter to control this behavior.\n",
            "  average, \"true nor predicted\", 'F-score is', len(true_sum)\n",
            "/usr/local/lib/python3.6/dist-packages/sklearn/metrics/_classification.py:1515: UndefinedMetricWarning: F-score is ill-defined and being set to 0.0 due to no true nor predicted samples. Use `zero_division` parameter to control this behavior.\n",
            "  average, \"true nor predicted\", 'F-score is', len(true_sum)\n"
          ],
          "name": "stderr"
        }
      ]
    },
    {
      "cell_type": "code",
      "metadata": {
        "id": "SSMkPd2d4TnV",
        "colab_type": "code",
        "outputId": "148303e6-d420-4fb8-e67c-018f12d5dfe3",
        "colab": {
          "base_uri": "https://localhost:8080/",
          "height": 719
        }
      },
      "source": [
        "learn_c.unfreeze()\n",
        "learn_c.fit_one_cycle(10, slice(lr/10/(2.6**4),lr/10), moms=(0.5,0.4)) # lower the momentum and run several time get 100%\n",
        "# with 0.2 test \n",
        "#0\t0.059526\t0.175025\t0.950000\t0.904762\t00:05\n",
        "#9\t0.050669\t0.187786\t0.960000\t0.925333\t00:05\n",
        "# with 0.1 test\n",
        "#0\t0.058575\t0.124074\t0.980000\t0.926897\t00:05\n",
        "#9\t0.046329\t0.129178\t0.980000\t0.926897\t00:05"
      ],
      "execution_count": 0,
      "outputs": [
        {
          "output_type": "display_data",
          "data": {
            "text/html": [
              "<table border=\"1\" class=\"dataframe\">\n",
              "  <thead>\n",
              "    <tr style=\"text-align: left;\">\n",
              "      <th>epoch</th>\n",
              "      <th>train_loss</th>\n",
              "      <th>valid_loss</th>\n",
              "      <th>accuracy</th>\n",
              "      <th>f1</th>\n",
              "      <th>time</th>\n",
              "    </tr>\n",
              "  </thead>\n",
              "  <tbody>\n",
              "    <tr>\n",
              "      <td>0</td>\n",
              "      <td>0.058575</td>\n",
              "      <td>0.124074</td>\n",
              "      <td>0.980000</td>\n",
              "      <td>0.926897</td>\n",
              "      <td>00:05</td>\n",
              "    </tr>\n",
              "    <tr>\n",
              "      <td>1</td>\n",
              "      <td>0.053043</td>\n",
              "      <td>0.125374</td>\n",
              "      <td>0.980000</td>\n",
              "      <td>0.926897</td>\n",
              "      <td>00:05</td>\n",
              "    </tr>\n",
              "    <tr>\n",
              "      <td>2</td>\n",
              "      <td>0.059490</td>\n",
              "      <td>0.132165</td>\n",
              "      <td>0.980000</td>\n",
              "      <td>0.926897</td>\n",
              "      <td>00:05</td>\n",
              "    </tr>\n",
              "    <tr>\n",
              "      <td>3</td>\n",
              "      <td>0.057090</td>\n",
              "      <td>0.114599</td>\n",
              "      <td>0.980000</td>\n",
              "      <td>0.926897</td>\n",
              "      <td>00:05</td>\n",
              "    </tr>\n",
              "    <tr>\n",
              "      <td>4</td>\n",
              "      <td>0.061594</td>\n",
              "      <td>0.138356</td>\n",
              "      <td>0.980000</td>\n",
              "      <td>0.926897</td>\n",
              "      <td>00:05</td>\n",
              "    </tr>\n",
              "    <tr>\n",
              "      <td>5</td>\n",
              "      <td>0.057663</td>\n",
              "      <td>0.122756</td>\n",
              "      <td>0.980000</td>\n",
              "      <td>0.926897</td>\n",
              "      <td>00:05</td>\n",
              "    </tr>\n",
              "    <tr>\n",
              "      <td>6</td>\n",
              "      <td>0.055327</td>\n",
              "      <td>0.126418</td>\n",
              "      <td>0.980000</td>\n",
              "      <td>0.926897</td>\n",
              "      <td>00:05</td>\n",
              "    </tr>\n",
              "    <tr>\n",
              "      <td>7</td>\n",
              "      <td>0.051005</td>\n",
              "      <td>0.133922</td>\n",
              "      <td>0.980000</td>\n",
              "      <td>0.926897</td>\n",
              "      <td>00:05</td>\n",
              "    </tr>\n",
              "    <tr>\n",
              "      <td>8</td>\n",
              "      <td>0.047676</td>\n",
              "      <td>0.130120</td>\n",
              "      <td>0.980000</td>\n",
              "      <td>0.926897</td>\n",
              "      <td>00:05</td>\n",
              "    </tr>\n",
              "    <tr>\n",
              "      <td>9</td>\n",
              "      <td>0.046329</td>\n",
              "      <td>0.129178</td>\n",
              "      <td>0.980000</td>\n",
              "      <td>0.926897</td>\n",
              "      <td>00:05</td>\n",
              "    </tr>\n",
              "  </tbody>\n",
              "</table>"
            ],
            "text/plain": [
              "<IPython.core.display.HTML object>"
            ]
          },
          "metadata": {
            "tags": []
          }
        },
        {
          "output_type": "stream",
          "text": [
            "/usr/local/lib/python3.6/dist-packages/sklearn/metrics/_classification.py:1515: UndefinedMetricWarning: F-score is ill-defined and being set to 0.0 due to no true nor predicted samples. Use `zero_division` parameter to control this behavior.\n",
            "  average, \"true nor predicted\", 'F-score is', len(true_sum)\n",
            "/usr/local/lib/python3.6/dist-packages/sklearn/metrics/_classification.py:1515: UndefinedMetricWarning: F-score is ill-defined and being set to 0.0 due to no true nor predicted samples. Use `zero_division` parameter to control this behavior.\n",
            "  average, \"true nor predicted\", 'F-score is', len(true_sum)\n",
            "/usr/local/lib/python3.6/dist-packages/sklearn/metrics/_classification.py:1515: UndefinedMetricWarning: F-score is ill-defined and being set to 0.0 due to no true nor predicted samples. Use `zero_division` parameter to control this behavior.\n",
            "  average, \"true nor predicted\", 'F-score is', len(true_sum)\n",
            "/usr/local/lib/python3.6/dist-packages/sklearn/metrics/_classification.py:1515: UndefinedMetricWarning: F-score is ill-defined and being set to 0.0 due to no true nor predicted samples. Use `zero_division` parameter to control this behavior.\n",
            "  average, \"true nor predicted\", 'F-score is', len(true_sum)\n",
            "/usr/local/lib/python3.6/dist-packages/sklearn/metrics/_classification.py:1515: UndefinedMetricWarning: F-score is ill-defined and being set to 0.0 due to no true nor predicted samples. Use `zero_division` parameter to control this behavior.\n",
            "  average, \"true nor predicted\", 'F-score is', len(true_sum)\n",
            "/usr/local/lib/python3.6/dist-packages/sklearn/metrics/_classification.py:1515: UndefinedMetricWarning: F-score is ill-defined and being set to 0.0 due to no true nor predicted samples. Use `zero_division` parameter to control this behavior.\n",
            "  average, \"true nor predicted\", 'F-score is', len(true_sum)\n",
            "/usr/local/lib/python3.6/dist-packages/sklearn/metrics/_classification.py:1515: UndefinedMetricWarning: F-score is ill-defined and being set to 0.0 due to no true nor predicted samples. Use `zero_division` parameter to control this behavior.\n",
            "  average, \"true nor predicted\", 'F-score is', len(true_sum)\n",
            "/usr/local/lib/python3.6/dist-packages/sklearn/metrics/_classification.py:1515: UndefinedMetricWarning: F-score is ill-defined and being set to 0.0 due to no true nor predicted samples. Use `zero_division` parameter to control this behavior.\n",
            "  average, \"true nor predicted\", 'F-score is', len(true_sum)\n",
            "/usr/local/lib/python3.6/dist-packages/sklearn/metrics/_classification.py:1515: UndefinedMetricWarning: F-score is ill-defined and being set to 0.0 due to no true nor predicted samples. Use `zero_division` parameter to control this behavior.\n",
            "  average, \"true nor predicted\", 'F-score is', len(true_sum)\n",
            "/usr/local/lib/python3.6/dist-packages/sklearn/metrics/_classification.py:1515: UndefinedMetricWarning: F-score is ill-defined and being set to 0.0 due to no true nor predicted samples. Use `zero_division` parameter to control this behavior.\n",
            "  average, \"true nor predicted\", 'F-score is', len(true_sum)\n"
          ],
          "name": "stderr"
        }
      ]
    },
    {
      "cell_type": "code",
      "metadata": {
        "id": "yv1JLwTU4TnY",
        "colab_type": "code",
        "colab": {}
      },
      "source": [
        "learn_c.save(f'{lang}clas_bwd')"
      ],
      "execution_count": 0,
      "outputs": []
    },
    {
      "cell_type": "markdown",
      "metadata": {
        "id": "rO7PRH8DBWh9",
        "colab_type": "text"
      },
      "source": [
        "### Load BWD model and predict"
      ]
    },
    {
      "cell_type": "code",
      "metadata": {
        "id": "xHMGQNxorhur",
        "colab_type": "code",
        "colab": {}
      },
      "source": [
        "data_clas_bwd = load_data(path, f'{lang}_textlist_class_bwd', bs=bs, num_workers=1, backwards=True)\n",
        "learn_c_bwd = text_classifier_learner(data_clas_bwd, AWD_LSTM, drop_mult=0.5, metrics=[accuracy,f1]).to_fp16()\n",
        "learn_c_bwd.load(f'{lang}clas_bwd', purge=False);"
      ],
      "execution_count": 0,
      "outputs": []
    },
    {
      "cell_type": "code",
      "metadata": {
        "id": "WLOq2muhrhut",
        "colab_type": "code",
        "outputId": "db09c99b-bf91-40db-8dc5-9bc6e2d34aa1",
        "colab": {
          "base_uri": "https://localhost:8080/",
          "height": 34
        }
      },
      "source": [
        "#preds_b,targs_b = learn_c_bwd.get_preds(ordered=True)\n",
        "preds_b,targs_b = learn_c_bwd.get_preds(ordered=True)\n",
        "accuracy(preds_b,targs_b),f1(preds_b,targs_b)"
      ],
      "execution_count": 0,
      "outputs": [
        {
          "output_type": "display_data",
          "data": {
            "text/html": [
              ""
            ],
            "text/plain": [
              "<IPython.core.display.HTML object>"
            ]
          },
          "metadata": {
            "tags": []
          }
        },
        {
          "output_type": "execute_result",
          "data": {
            "text/plain": [
              "(tensor(0.9800), tensor(0.9655))"
            ]
          },
          "metadata": {
            "tags": []
          },
          "execution_count": 66
        }
      ]
    },
    {
      "cell_type": "markdown",
      "metadata": {
        "id": "sOB_F8W1F-x7",
        "colab_type": "text"
      },
      "source": [
        "## Ensemble"
      ]
    },
    {
      "cell_type": "code",
      "metadata": {
        "id": "0B5kdZeLrhuv",
        "colab_type": "code",
        "colab": {}
      },
      "source": [
        "preds_avg = (preds*0.35+preds_b*0.65)/2"
      ],
      "execution_count": 0,
      "outputs": []
    },
    {
      "cell_type": "code",
      "metadata": {
        "id": "PbRwbZ52SFps",
        "colab_type": "code",
        "outputId": "60b65315-5b67-4caf-df17-743e0d974d26",
        "colab": {
          "base_uri": "https://localhost:8080/",
          "height": 323
        }
      },
      "source": [
        "print(preds[0:9])\n",
        "print(preds_b[0:9])"
      ],
      "execution_count": 0,
      "outputs": [
        {
          "output_type": "stream",
          "text": [
            "tensor([[1.0000e+00, 4.7293e-06],\n",
            "        [9.9863e-01, 1.3670e-03],\n",
            "        [9.9563e-01, 4.3653e-03],\n",
            "        [9.9975e-01, 2.5266e-04],\n",
            "        [1.0000e+00, 5.1229e-07],\n",
            "        [1.2603e-07, 1.0000e+00],\n",
            "        [3.2358e-10, 1.0000e+00],\n",
            "        [1.9282e-11, 1.0000e+00],\n",
            "        [9.9999e-01, 7.7065e-06]])\n",
            "tensor([[9.9988e-01, 1.1774e-04],\n",
            "        [9.9905e-01, 9.4546e-04],\n",
            "        [2.2593e-01, 7.7407e-01],\n",
            "        [9.9664e-01, 3.3635e-03],\n",
            "        [9.9998e-01, 2.3278e-05],\n",
            "        [7.4986e-06, 9.9999e-01],\n",
            "        [1.8699e-07, 1.0000e+00],\n",
            "        [2.2685e-08, 1.0000e+00],\n",
            "        [9.9992e-01, 8.0455e-05]])\n"
          ],
          "name": "stdout"
        }
      ]
    },
    {
      "cell_type": "code",
      "metadata": {
        "id": "jfyVkw4Irhuz",
        "colab_type": "code",
        "outputId": "01d5a7dc-e4c4-4c07-c967-c38881d4a95d",
        "colab": {
          "base_uri": "https://localhost:8080/",
          "height": 34
        }
      },
      "source": [
        "accuracy(preds_avg,targs_b),f1(preds_avg,targs_b)"
      ],
      "execution_count": 0,
      "outputs": [
        {
          "output_type": "execute_result",
          "data": {
            "text/plain": [
              "(tensor(1.), tensor(1.))"
            ]
          },
          "metadata": {
            "tags": []
          },
          "execution_count": 204
        }
      ]
    },
    {
      "cell_type": "markdown",
      "metadata": {
        "id": "pElVF6QpXG35",
        "colab_type": "text"
      },
      "source": [
        "### Test using bwd model"
      ]
    },
    {
      "cell_type": "code",
      "metadata": {
        "colab_type": "code",
        "outputId": "a0347b2b-c918-4e18-d4d7-f98fb7c5134e",
        "id": "G2j-MTPwXSFX",
        "colab": {
          "base_uri": "https://localhost:8080/",
          "height": 34
        }
      },
      "source": [
        "learn_c_bwd.predict('កម្មករ បើក រថយន្ត ចេញ ពី លាង បុក រុញ គូទ')"
      ],
      "execution_count": 0,
      "outputs": [
        {
          "output_type": "execute_result",
          "data": {
            "text/plain": [
              "(Category 0, tensor(0), tensor([1.0000e+00, 2.0104e-06]))"
            ]
          },
          "metadata": {
            "tags": []
          },
          "execution_count": 67
        }
      ]
    },
    {
      "cell_type": "code",
      "metadata": {
        "colab_type": "code",
        "outputId": "a11051d4-1771-410e-ec05-01d1f801889e",
        "id": "F7qoe43bXSFg",
        "colab": {
          "base_uri": "https://localhost:8080/",
          "height": 34
        }
      },
      "source": [
        "learn_c_bwd.predict('មក ស្គាល់ រុក្ខជាតិ ម្យ៉ាង នៅក្នុង សមុទ្រ')"
      ],
      "execution_count": 0,
      "outputs": [
        {
          "output_type": "execute_result",
          "data": {
            "text/plain": [
              "(Category 0, tensor(0), tensor([1.0000e+00, 2.9251e-06]))"
            ]
          },
          "metadata": {
            "tags": []
          },
          "execution_count": 68
        }
      ]
    },
    {
      "cell_type": "code",
      "metadata": {
        "colab_type": "code",
        "outputId": "8bfd4675-c231-49ed-c0ee-78c9a28f8f3e",
        "id": "QsdL7oSlXSFj",
        "colab": {
          "base_uri": "https://localhost:8080/",
          "height": 34
        }
      },
      "source": [
        "learn_c_bwd.predict('គ្រោះថ្នាក់ ចរាចរ រវាង រថយន្ត ធុន ធំ និង ម៉ូតូ បណ្តាលឲ្យ បុរស ម្នាក់ ស្លាប់ ក្រោម រថយន្ត')"
      ],
      "execution_count": 0,
      "outputs": [
        {
          "output_type": "execute_result",
          "data": {
            "text/plain": [
              "(Category 1, tensor(1), tensor([3.7043e-07, 1.0000e+00]))"
            ]
          },
          "metadata": {
            "tags": []
          },
          "execution_count": 69
        }
      ]
    },
    {
      "cell_type": "code",
      "metadata": {
        "colab_type": "code",
        "outputId": "5138ca6e-6ab9-4e94-be41-c34080d23244",
        "id": "5aCptSUwXSFn",
        "colab": {
          "base_uri": "https://localhost:8080/",
          "height": 34
        }
      },
      "source": [
        "learn_c_bwd.predict('គ្រោះថ្នាក់ ចរាចរ រវាង រថយន្ត ធុន ធំ និង ម៉ូតូ បណ្តាលឲ្យ បុរស ម្នាក់ ស្លាប់ ក្រោម រថយន្ត យ៉ាង អាណោច មាន ករណី គ្រោះថ្នាក់ ចរាចរ យ៉ាង រន្ធត់ រវាង ')"
      ],
      "execution_count": 0,
      "outputs": [
        {
          "output_type": "execute_result",
          "data": {
            "text/plain": [
              "(Category 1, tensor(1), tensor([6.8543e-06, 9.9999e-01]))"
            ]
          },
          "metadata": {
            "tags": []
          },
          "execution_count": 70
        }
      ]
    },
    {
      "cell_type": "code",
      "metadata": {
        "colab_type": "code",
        "outputId": "f7484a83-0c26-4f13-c55e-c026b33fd326",
        "id": "usBVulZWXSFp",
        "colab": {
          "base_uri": "https://localhost:8080/",
          "height": 34
        }
      },
      "source": [
        "learn_c_bwd.predict('បណ្តាលឲ្យ ស្លាប់ មនុស្ស ស្រី ម្នាក់ និង មនុស្ស ប្រុស ស្រី ៤ នាក់ របួស ធ្ងន់')"
      ],
      "execution_count": 0,
      "outputs": [
        {
          "output_type": "execute_result",
          "data": {
            "text/plain": [
              "(Category 1, tensor(1), tensor([0.0044, 0.9956]))"
            ]
          },
          "metadata": {
            "tags": []
          },
          "execution_count": 216
        }
      ]
    },
    {
      "cell_type": "code",
      "metadata": {
        "colab_type": "code",
        "outputId": "3cb3d969-4d6f-4e03-a470-2d759fa5a90b",
        "id": "cAboAkzaXSFt",
        "colab": {
          "base_uri": "https://localhost:8080/",
          "height": 34
        }
      },
      "source": [
        "learn_c_bwd.predict('គ្រោះថ្នាក់ ចរាចរ រថយន្ត បែន ដឹក គ្រួស បើក បុក ')"
      ],
      "execution_count": 0,
      "outputs": [
        {
          "output_type": "execute_result",
          "data": {
            "text/plain": [
              "(Category 0, tensor(0), tensor([0.7569, 0.2431]))"
            ]
          },
          "metadata": {
            "tags": []
          },
          "execution_count": 217
        }
      ]
    }
  ]
}